{
 "cells": [
  {
   "cell_type": "code",
   "execution_count": 1,
   "id": "3c4edb5c",
   "metadata": {
    "_cell_guid": "1cf5ba40-3941-48e8-a51e-e8109448edc9",
    "_uuid": "fee72f23-4c1b-4c1a-830a-3e52c9f61a25",
    "collapsed": false,
    "execution": {
     "iopub.execute_input": "2023-11-07T09:04:09.882781Z",
     "iopub.status.busy": "2023-11-07T09:04:09.882394Z",
     "iopub.status.idle": "2023-11-07T09:04:33.365534Z",
     "shell.execute_reply": "2023-11-07T09:04:33.364519Z"
    },
    "jupyter": {
     "outputs_hidden": false
    },
    "papermill": {
     "duration": 23.490198,
     "end_time": "2023-11-07T09:04:33.368021",
     "exception": false,
     "start_time": "2023-11-07T09:04:09.877823",
     "status": "completed"
    },
    "tags": []
   },
   "outputs": [
    {
     "name": "stdout",
     "output_type": "stream",
     "text": [
      "Collecting gdown\r\n",
      "  Downloading gdown-4.7.1-py3-none-any.whl (15 kB)\r\n",
      "Requirement already satisfied: filelock in /opt/conda/lib/python3.10/site-packages (from gdown) (3.12.2)\r\n",
      "Requirement already satisfied: requests[socks] in /opt/conda/lib/python3.10/site-packages (from gdown) (2.31.0)\r\n",
      "Requirement already satisfied: six in /opt/conda/lib/python3.10/site-packages (from gdown) (1.16.0)\r\n",
      "Requirement already satisfied: tqdm in /opt/conda/lib/python3.10/site-packages (from gdown) (4.66.1)\r\n",
      "Requirement already satisfied: beautifulsoup4 in /opt/conda/lib/python3.10/site-packages (from gdown) (4.12.2)\r\n",
      "Requirement already satisfied: soupsieve>1.2 in /opt/conda/lib/python3.10/site-packages (from beautifulsoup4->gdown) (2.3.2.post1)\r\n",
      "Requirement already satisfied: charset-normalizer<4,>=2 in /opt/conda/lib/python3.10/site-packages (from requests[socks]->gdown) (3.1.0)\r\n",
      "Requirement already satisfied: idna<4,>=2.5 in /opt/conda/lib/python3.10/site-packages (from requests[socks]->gdown) (3.4)\r\n",
      "Requirement already satisfied: urllib3<3,>=1.21.1 in /opt/conda/lib/python3.10/site-packages (from requests[socks]->gdown) (1.26.15)\r\n",
      "Requirement already satisfied: certifi>=2017.4.17 in /opt/conda/lib/python3.10/site-packages (from requests[socks]->gdown) (2023.7.22)\r\n",
      "Requirement already satisfied: PySocks!=1.5.7,>=1.5.6 in /opt/conda/lib/python3.10/site-packages (from requests[socks]->gdown) (1.7.1)\r\n",
      "Installing collected packages: gdown\r\n",
      "Successfully installed gdown-4.7.1\r\n",
      "/opt/conda/lib/python3.10/site-packages/gdown/cli.py:126: FutureWarning: Option `--id` was deprecated in version 4.3.1 and will be removed in 5.0. You don't need to pass it anymore to use a file ID.\r\n",
      "  warnings.warn(\r\n",
      "Downloading...\r\n",
      "From (uriginal): https://drive.google.com/uc?id=1-1EjRHAq-4nhXIJ9-OobWmMXavl1B4zn\r\n",
      "From (redirected): https://drive.google.com/uc?id=1-1EjRHAq-4nhXIJ9-OobWmMXavl1B4zn&confirm=t&uuid=b1bb20bb-a2ff-410b-bf89-4b2f2b1be6b4\r\n",
      "To: /kaggle/working/data.pkl\r\n",
      "100%|███████████████████████████████████████| 1.24G/1.24G [00:08<00:00, 152MB/s]\r\n"
     ]
    }
   ],
   "source": [
    "!pip install gdown\n",
    "!gdown --id 1-1EjRHAq-4nhXIJ9-OobWmMXavl1B4zn"
   ]
  },
  {
   "cell_type": "code",
   "execution_count": 2,
   "id": "f3177c4f",
   "metadata": {
    "execution": {
     "iopub.execute_input": "2023-11-07T09:04:33.386056Z",
     "iopub.status.busy": "2023-11-07T09:04:33.385315Z",
     "iopub.status.idle": "2023-11-07T09:04:43.828499Z",
     "shell.execute_reply": "2023-11-07T09:04:43.827641Z"
    },
    "papermill": {
     "duration": 10.454908,
     "end_time": "2023-11-07T09:04:43.830977",
     "exception": false,
     "start_time": "2023-11-07T09:04:33.376069",
     "status": "completed"
    },
    "tags": []
   },
   "outputs": [
    {
     "name": "stderr",
     "output_type": "stream",
     "text": [
      "/opt/conda/lib/python3.10/site-packages/scipy/__init__.py:146: UserWarning: A NumPy version >=1.16.5 and <1.23.0 is required for this version of SciPy (detected version 1.23.5\n",
      "  warnings.warn(f\"A NumPy version >={np_minversion} and <{np_maxversion}\"\n"
     ]
    }
   ],
   "source": [
    "import pickle\n",
    "from tqdm import tqdm\n",
    "import tensorflow as tf\n",
    "import numpy as np\n",
    "\n",
    "from preprocess import data_preparation\n",
    "from preprocess import signal_cutter\n",
    "from preprocess import data_filtering\n",
    "from preprocess import resampling\n",
    "from preprocess import RP_3D\n",
    "from preprocess import resize_volume\n",
    "from preprocess import RP_final_data\n",
    "from preprocess import label_creator\n",
    "from preprocess import including_data\n",
    "from models import model_arch\n",
    "from models import CompModel"
   ]
  },
  {
   "cell_type": "code",
   "execution_count": 3,
   "id": "0f978410",
   "metadata": {
    "execution": {
     "iopub.execute_input": "2023-11-07T09:04:43.848711Z",
     "iopub.status.busy": "2023-11-07T09:04:43.847709Z",
     "iopub.status.idle": "2023-11-07T09:04:44.675591Z",
     "shell.execute_reply": "2023-11-07T09:04:44.674712Z"
    },
    "papermill": {
     "duration": 0.839075,
     "end_time": "2023-11-07T09:04:44.677937",
     "exception": false,
     "start_time": "2023-11-07T09:04:43.838862",
     "status": "completed"
    },
    "tags": []
   },
   "outputs": [],
   "source": [
    "# Read dictionary pkl file\n",
    "with open('/kaggle/working/data.pkl', 'rb') as fp:\n",
    "    dataset = pickle.load(fp)"
   ]
  },
  {
   "cell_type": "code",
   "execution_count": 4,
   "id": "8f5cbe3c",
   "metadata": {
    "execution": {
     "iopub.execute_input": "2023-11-07T09:04:44.695021Z",
     "iopub.status.busy": "2023-11-07T09:04:44.694697Z",
     "iopub.status.idle": "2023-11-07T09:06:04.941800Z",
     "shell.execute_reply": "2023-11-07T09:06:04.940928Z"
    },
    "papermill": {
     "duration": 80.258316,
     "end_time": "2023-11-07T09:06:04.944110",
     "exception": false,
     "start_time": "2023-11-07T09:04:44.685794",
     "status": "completed"
    },
    "tags": []
   },
   "outputs": [
    {
     "name": "stderr",
     "output_type": "stream",
     "text": [
      "100%|██████████| 10344/10344 [00:00<00:00, 1048652.03it/s]\n",
      "100%|██████████| 10344/10344 [00:00<00:00, 586660.36it/s]\n",
      "100%|██████████| 10344/10344 [01:18<00:00, 131.95it/s]\n",
      "100%|██████████| 10344/10344 [00:01<00:00, 7691.38it/s]\n"
     ]
    }
   ],
   "source": [
    "ds = data_preparation(dataset)\n",
    "\n",
    "# shortening\n",
    "ds = signal_cutter(ds, d_length=1000)\n",
    "\n",
    "# denoising\n",
    "ds = data_filtering(ds)\n",
    "\n",
    "# resampling\n",
    "ds = resampling(ds, desired_points = 100)"
   ]
  },
  {
   "cell_type": "code",
   "execution_count": 5,
   "id": "faf2a111",
   "metadata": {
    "execution": {
     "iopub.execute_input": "2023-11-07T09:06:05.072480Z",
     "iopub.status.busy": "2023-11-07T09:06:05.072110Z",
     "iopub.status.idle": "2023-11-07T09:31:04.633264Z",
     "shell.execute_reply": "2023-11-07T09:31:04.632430Z"
    },
    "papermill": {
     "duration": 1499.627733,
     "end_time": "2023-11-07T09:31:04.635609",
     "exception": false,
     "start_time": "2023-11-07T09:06:05.007876",
     "status": "completed"
    },
    "tags": []
   },
   "outputs": [
    {
     "name": "stderr",
     "output_type": "stream",
     "text": [
      "100%|██████████| 10344/10344 [00:00<00:00, 948470.38it/s]\n",
      "10344it [00:08, 1219.34it/s]\n",
      "10344it [00:04, 2157.03it/s]\n",
      "100%|██████████| 5000/5000 [24:44<00:00,  3.37it/s]\n"
     ]
    }
   ],
   "source": [
    "arr = {'NSR':'426783006', 'AF':'164889003', 'IAVB':'270492004', 'LBBB':'164909002', 'RBBB':'59118001', 'SB':'426177001', 'STach':'427084000'}\n",
    "labels = label_creator(data_preparation(dataset), arr)\n",
    "x_train, y_train, x_test, y_test = including_data(labels, ds)\n",
    "# transformation and resizing\n",
    "x_train = RP_final_data(x_train)"
   ]
  },
  {
   "cell_type": "code",
   "execution_count": 6,
   "id": "96a162dd",
   "metadata": {
    "execution": {
     "iopub.execute_input": "2023-11-07T09:31:05.529243Z",
     "iopub.status.busy": "2023-11-07T09:31:05.528895Z",
     "iopub.status.idle": "2023-11-07T09:31:05.535675Z",
     "shell.execute_reply": "2023-11-07T09:31:05.534846Z"
    },
    "papermill": {
     "duration": 0.455422,
     "end_time": "2023-11-07T09:31:05.537499",
     "exception": false,
     "start_time": "2023-11-07T09:31:05.082077",
     "status": "completed"
    },
    "tags": []
   },
   "outputs": [],
   "source": [
    "# five-folds preparation\n",
    "\n",
    "idx_lst = list(range(len(x_train)))\n",
    "\n",
    "v1 = idx_lst[:1000]\n",
    "t1 = idx_lst[1000:]\n",
    "\n",
    "v2 = idx_lst[1000:2000]\n",
    "t2 = idx_lst[:1000] + idx_lst[2000:]\n",
    "\n",
    "v3 = idx_lst[2000:3000]\n",
    "t3 = idx_lst[:2000] + idx_lst[3000:]\n",
    "\n",
    "v4 = idx_lst[3000:4000]\n",
    "t4 = idx_lst[:3000] + idx_lst[4000:]\n",
    "\n",
    "v5 = idx_lst[4000:]\n",
    "t5 = idx_lst[:4000]"
   ]
  },
  {
   "cell_type": "code",
   "execution_count": 7,
   "id": "f479aeb9",
   "metadata": {
    "execution": {
     "iopub.execute_input": "2023-11-07T09:31:06.434064Z",
     "iopub.status.busy": "2023-11-07T09:31:06.433403Z",
     "iopub.status.idle": "2023-11-07T14:30:35.562949Z",
     "shell.execute_reply": "2023-11-07T14:30:35.561896Z"
    },
    "papermill": {
     "duration": 17970.998246,
     "end_time": "2023-11-07T14:30:36.978877",
     "exception": false,
     "start_time": "2023-11-07T09:31:05.980631",
     "status": "completed"
    },
    "tags": []
   },
   "outputs": [
    {
     "name": "stdout",
     "output_type": "stream",
     "text": [
      "Epoch 1/100\n"
     ]
    },
    {
     "name": "stderr",
     "output_type": "stream",
     "text": [
      "2023-11-07 09:31:21.212592: E tensorflow/core/grappler/optimizers/meta_optimizer.cc:954] layout failed: INVALID_ARGUMENT: MutableGraphView::SortTopologically error: detected edge(s) creating cycle(s) {'Func/gradient_tape/model_3/conv_lstm2d_1/while/model_3/conv_lstm2d_1/while_grad/body/_367/input/_1025' -> 'gradient_tape/model_3/conv_lstm2d_1/while/model_3/conv_lstm2d_1/while_grad/body/_367/gradient_tape/model_3/conv_lstm2d_1/while/gradients/AddN', 'Func/gradient_tape/model_3/conv_lstm2d/while/model_3/conv_lstm2d/while_grad/body/_562/input/_1141' -> 'gradient_tape/model_3/conv_lstm2d/while/model_3/conv_lstm2d/while_grad/body/_562/gradient_tape/model_3/conv_lstm2d/while/gradients/AddN', 'model_3/conv_lstm2d_1/while/body/_179/model_3/conv_lstm2d_1/while/mul_2' -> 'model_3/conv_lstm2d_1/while/body/_179/model_3/conv_lstm2d_1/while/add_5', 'model_3/conv_lstm2d_1/while/body/_179/model_3/conv_lstm2d_1/while/convolution_6' -> 'model_3/conv_lstm2d_1/while/body/_179/model_3/conv_lstm2d_1/while/add_4', 'model_3/conv_lstm2d_1/while/body/_179/model_3/conv_lstm2d_1/while/clip_by_value_2' -> 'model_3/conv_lstm2d_1/while/body/_179/model_3/conv_lstm2d_1/while/mul_5', 'model_3/conv_lstm2d_1/while/body/_179/model_3/conv_lstm2d_1/while/clip_by_value' -> 'model_3/conv_lstm2d_1/while/body/_179/model_3/conv_lstm2d_1/while/mul_3'}.\n"
     ]
    },
    {
     "name": "stdout",
     "output_type": "stream",
     "text": [
      "125/125 [==============================] - 207s 1s/step - loss: 0.4375 - acc: 0.3960 - val_loss: 0.4925 - val_acc: 0.2690 - lr: 0.0010\n",
      "Epoch 2/100\n",
      "125/125 [==============================] - 179s 1s/step - loss: 0.2883 - acc: 0.6022 - val_loss: 0.3633 - val_acc: 0.4070 - lr: 9.7724e-04\n",
      "Epoch 3/100\n",
      "125/125 [==============================] - 179s 1s/step - loss: 0.2532 - acc: 0.6465 - val_loss: 0.3295 - val_acc: 0.5050 - lr: 9.5499e-04\n",
      "Epoch 4/100\n",
      "125/125 [==============================] - 179s 1s/step - loss: 0.2299 - acc: 0.6670 - val_loss: 0.2147 - val_acc: 0.7070 - lr: 9.3325e-04\n",
      "Epoch 5/100\n",
      "125/125 [==============================] - 179s 1s/step - loss: 0.2133 - acc: 0.6957 - val_loss: 0.2089 - val_acc: 0.6980 - lr: 9.1201e-04\n",
      "Epoch 6/100\n",
      "125/125 [==============================] - 179s 1s/step - loss: 0.1950 - acc: 0.7185 - val_loss: 0.1842 - val_acc: 0.7310 - lr: 8.9125e-04\n",
      "Epoch 7/100\n",
      "125/125 [==============================] - 179s 1s/step - loss: 0.1805 - acc: 0.7470 - val_loss: 0.1905 - val_acc: 0.7250 - lr: 8.7096e-04\n",
      "Epoch 8/100\n",
      "125/125 [==============================] - 179s 1s/step - loss: 0.1727 - acc: 0.7613 - val_loss: 0.1753 - val_acc: 0.7690 - lr: 8.5114e-04\n",
      "Epoch 9/100\n",
      "125/125 [==============================] - 179s 1s/step - loss: 0.1600 - acc: 0.7640 - val_loss: 0.1946 - val_acc: 0.7550 - lr: 8.3176e-04\n",
      "Epoch 10/100\n",
      "125/125 [==============================] - 179s 1s/step - loss: 0.1512 - acc: 0.7878 - val_loss: 0.1800 - val_acc: 0.7610 - lr: 8.1283e-04\n",
      "Epoch 11/100\n",
      "125/125 [==============================] - 179s 1s/step - loss: 0.1416 - acc: 0.7897 - val_loss: 0.1836 - val_acc: 0.7730 - lr: 7.9433e-04\n",
      "Epoch 12/100\n",
      "125/125 [==============================] - 179s 1s/step - loss: 0.1309 - acc: 0.7987 - val_loss: 0.2033 - val_acc: 0.7360 - lr: 7.7625e-04\n",
      "Epoch 13/100\n",
      "125/125 [==============================] - 179s 1s/step - loss: 0.1197 - acc: 0.8170 - val_loss: 0.2149 - val_acc: 0.7510 - lr: 7.5858e-04\n",
      "Epoch 14/100\n",
      "125/125 [==============================] - 179s 1s/step - loss: 0.1111 - acc: 0.8257 - val_loss: 0.1842 - val_acc: 0.7830 - lr: 7.4131e-04\n",
      "Epoch 15/100\n",
      "125/125 [==============================] - 179s 1s/step - loss: 0.1008 - acc: 0.8372 - val_loss: 0.1790 - val_acc: 0.7880 - lr: 7.2444e-04\n",
      "Epoch 16/100\n",
      "125/125 [==============================] - 179s 1s/step - loss: 0.1032 - acc: 0.8298 - val_loss: 0.1855 - val_acc: 0.7840 - lr: 7.0795e-04\n",
      "Epoch 17/100\n",
      "125/125 [==============================] - 179s 1s/step - loss: 0.0942 - acc: 0.8432 - val_loss: 0.2047 - val_acc: 0.7810 - lr: 6.9183e-04\n",
      "Epoch 18/100\n",
      "125/125 [==============================] - 179s 1s/step - loss: 0.0863 - acc: 0.8537 - val_loss: 0.2085 - val_acc: 0.7820 - lr: 6.7608e-04\n",
      "Epoch 19/100\n",
      "125/125 [==============================] - 179s 1s/step - loss: 0.0815 - acc: 0.8565 - val_loss: 0.2069 - val_acc: 0.8010 - lr: 6.6069e-04\n",
      "Epoch 20/100\n",
      "125/125 [==============================] - 179s 1s/step - loss: 0.0733 - acc: 0.8662 - val_loss: 0.2400 - val_acc: 0.7840 - lr: 6.4565e-04\n",
      "Epoch 21/100\n",
      "125/125 [==============================] - 179s 1s/step - loss: 0.0747 - acc: 0.8595 - val_loss: 0.2125 - val_acc: 0.7940 - lr: 6.3096e-04\n",
      "Epoch 22/100\n",
      "125/125 [==============================] - 179s 1s/step - loss: 0.0665 - acc: 0.8733 - val_loss: 0.2352 - val_acc: 0.7820 - lr: 6.1659e-04\n",
      "Epoch 23/100\n",
      "125/125 [==============================] - 179s 1s/step - loss: 0.0631 - acc: 0.8730 - val_loss: 0.2648 - val_acc: 0.7930 - lr: 6.0256e-04\n",
      "Epoch 24/100\n",
      "125/125 [==============================] - 179s 1s/step - loss: 0.0621 - acc: 0.8790 - val_loss: 0.2780 - val_acc: 0.7430 - lr: 5.8884e-04\n",
      "Epoch 25/100\n",
      "125/125 [==============================] - 179s 1s/step - loss: 0.0625 - acc: 0.8875 - val_loss: 0.2256 - val_acc: 0.7950 - lr: 5.7544e-04\n",
      "Epoch 26/100\n",
      "125/125 [==============================] - 179s 1s/step - loss: 0.0557 - acc: 0.8857 - val_loss: 0.2684 - val_acc: 0.7960 - lr: 5.6234e-04\n",
      "Epoch 27/100\n",
      "125/125 [==============================] - 179s 1s/step - loss: 0.0585 - acc: 0.8880 - val_loss: 0.2920 - val_acc: 0.7890 - lr: 5.4954e-04\n",
      "Epoch 28/100\n",
      "125/125 [==============================] - 179s 1s/step - loss: 0.0520 - acc: 0.8898 - val_loss: 0.2755 - val_acc: 0.7900 - lr: 5.3703e-04\n",
      "Epoch 29/100\n",
      "125/125 [==============================] - 179s 1s/step - loss: 0.0487 - acc: 0.8955 - val_loss: 0.2478 - val_acc: 0.8020 - lr: 5.2481e-04\n",
      "Epoch 30/100\n",
      "125/125 [==============================] - 179s 1s/step - loss: 0.0457 - acc: 0.8985 - val_loss: 0.2801 - val_acc: 0.8020 - lr: 5.1286e-04\n",
      "Epoch 31/100\n",
      "125/125 [==============================] - 179s 1s/step - loss: 0.0421 - acc: 0.8942 - val_loss: 0.2974 - val_acc: 0.8080 - lr: 5.0119e-04\n",
      "Epoch 32/100\n",
      "125/125 [==============================] - 179s 1s/step - loss: 0.0417 - acc: 0.9000 - val_loss: 0.2787 - val_acc: 0.7880 - lr: 4.8978e-04\n",
      "Epoch 33/100\n",
      "125/125 [==============================] - 179s 1s/step - loss: 0.0459 - acc: 0.8967 - val_loss: 0.2884 - val_acc: 0.7740 - lr: 4.7863e-04\n",
      "Epoch 34/100\n",
      "125/125 [==============================] - 179s 1s/step - loss: 0.0476 - acc: 0.8932 - val_loss: 0.2929 - val_acc: 0.8030 - lr: 4.6774e-04\n",
      "Epoch 35/100\n",
      "125/125 [==============================] - 179s 1s/step - loss: 0.0386 - acc: 0.8997 - val_loss: 0.3270 - val_acc: 0.8020 - lr: 4.5709e-04\n",
      "Epoch 36/100\n",
      "125/125 [==============================] - 179s 1s/step - loss: 0.0383 - acc: 0.9028 - val_loss: 0.3131 - val_acc: 0.7890 - lr: 4.4668e-04\n",
      "Epoch 37/100\n",
      "125/125 [==============================] - 179s 1s/step - loss: 0.0407 - acc: 0.9022 - val_loss: 0.3045 - val_acc: 0.7960 - lr: 4.3652e-04\n",
      "Epoch 38/100\n",
      "125/125 [==============================] - 179s 1s/step - loss: 0.0347 - acc: 0.9050 - val_loss: 0.3559 - val_acc: 0.7960 - lr: 4.2658e-04\n",
      "Epoch 39/100\n",
      "125/125 [==============================] - 179s 1s/step - loss: 0.0299 - acc: 0.9040 - val_loss: 0.3090 - val_acc: 0.7960 - lr: 4.1687e-04\n",
      "Epoch 40/100\n",
      "125/125 [==============================] - 179s 1s/step - loss: 0.0312 - acc: 0.9050 - val_loss: 0.3364 - val_acc: 0.7990 - lr: 4.0738e-04\n",
      "Epoch 41/100\n",
      "125/125 [==============================] - 179s 1s/step - loss: 0.0306 - acc: 0.9097 - val_loss: 0.3467 - val_acc: 0.8030 - lr: 3.9811e-04\n",
      "Epoch 42/100\n",
      "125/125 [==============================] - 179s 1s/step - loss: 0.0293 - acc: 0.9082 - val_loss: 0.3606 - val_acc: 0.8060 - lr: 3.8905e-04\n",
      "Epoch 43/100\n",
      "125/125 [==============================] - 179s 1s/step - loss: 0.0320 - acc: 0.9070 - val_loss: 0.3377 - val_acc: 0.8000 - lr: 3.8019e-04\n",
      "Epoch 44/100\n",
      "125/125 [==============================] - 179s 1s/step - loss: 0.0313 - acc: 0.9057 - val_loss: 0.3529 - val_acc: 0.7980 - lr: 3.7154e-04\n",
      "Epoch 45/100\n",
      "125/125 [==============================] - 179s 1s/step - loss: 0.0325 - acc: 0.9053 - val_loss: 0.3316 - val_acc: 0.8070 - lr: 3.6308e-04\n",
      "Epoch 46/100\n",
      "125/125 [==============================] - 179s 1s/step - loss: 0.0401 - acc: 0.8970 - val_loss: 0.3623 - val_acc: 0.7790 - lr: 3.5481e-04\n",
      "Epoch 47/100\n",
      "125/125 [==============================] - 179s 1s/step - loss: 0.0364 - acc: 0.9050 - val_loss: 0.3727 - val_acc: 0.7990 - lr: 3.4674e-04\n",
      "Epoch 48/100\n",
      "125/125 [==============================] - 179s 1s/step - loss: 0.0312 - acc: 0.9045 - val_loss: 0.3712 - val_acc: 0.8040 - lr: 3.3884e-04\n",
      "Epoch 49/100\n",
      "125/125 [==============================] - 179s 1s/step - loss: 0.0262 - acc: 0.9060 - val_loss: 0.3736 - val_acc: 0.8030 - lr: 3.3113e-04\n",
      "Epoch 50/100\n",
      "125/125 [==============================] - 179s 1s/step - loss: 0.0257 - acc: 0.9100 - val_loss: 0.3670 - val_acc: 0.8100 - lr: 3.2359e-04\n",
      "Epoch 51/100\n",
      "125/125 [==============================] - 179s 1s/step - loss: 0.0261 - acc: 0.9090 - val_loss: 0.3451 - val_acc: 0.7930 - lr: 3.1623e-04\n",
      "Epoch 52/100\n",
      "125/125 [==============================] - 179s 1s/step - loss: 0.0284 - acc: 0.9078 - val_loss: 0.3357 - val_acc: 0.8070 - lr: 3.0903e-04\n",
      "Epoch 53/100\n",
      "125/125 [==============================] - 179s 1s/step - loss: 0.0242 - acc: 0.9107 - val_loss: 0.3954 - val_acc: 0.7960 - lr: 3.0200e-04\n",
      "Epoch 54/100\n",
      "125/125 [==============================] - 179s 1s/step - loss: 0.0232 - acc: 0.9120 - val_loss: 0.3907 - val_acc: 0.8090 - lr: 2.9512e-04\n",
      "Epoch 55/100\n",
      "125/125 [==============================] - 179s 1s/step - loss: 0.0249 - acc: 0.9103 - val_loss: 0.4090 - val_acc: 0.7910 - lr: 2.8840e-04\n",
      "Epoch 56/100\n",
      "125/125 [==============================] - 179s 1s/step - loss: 0.0236 - acc: 0.9130 - val_loss: 0.4011 - val_acc: 0.8050 - lr: 2.8184e-04\n",
      "Epoch 57/100\n",
      "125/125 [==============================] - 179s 1s/step - loss: 0.0232 - acc: 0.9078 - val_loss: 0.3859 - val_acc: 0.8000 - lr: 2.7542e-04\n",
      "Epoch 58/100\n",
      "125/125 [==============================] - 179s 1s/step - loss: 0.0224 - acc: 0.9100 - val_loss: 0.4217 - val_acc: 0.8030 - lr: 2.6915e-04\n",
      "Epoch 59/100\n",
      "125/125 [==============================] - 179s 1s/step - loss: 0.0250 - acc: 0.9082 - val_loss: 0.4031 - val_acc: 0.8130 - lr: 2.6303e-04\n",
      "Epoch 60/100\n",
      "125/125 [==============================] - 179s 1s/step - loss: 0.0221 - acc: 0.9090 - val_loss: 0.4484 - val_acc: 0.7970 - lr: 2.5704e-04\n",
      "Epoch 61/100\n",
      "125/125 [==============================] - 179s 1s/step - loss: 0.0227 - acc: 0.9130 - val_loss: 0.3992 - val_acc: 0.8040 - lr: 2.5119e-04\n",
      "Epoch 62/100\n",
      "125/125 [==============================] - 179s 1s/step - loss: 0.0233 - acc: 0.9107 - val_loss: 0.4498 - val_acc: 0.8010 - lr: 2.4547e-04\n",
      "Epoch 63/100\n",
      "125/125 [==============================] - 179s 1s/step - loss: 0.0235 - acc: 0.9103 - val_loss: 0.4231 - val_acc: 0.8030 - lr: 2.3988e-04\n",
      "Epoch 64/100\n",
      "125/125 [==============================] - 179s 1s/step - loss: 0.0206 - acc: 0.9128 - val_loss: 0.4261 - val_acc: 0.8000 - lr: 2.3442e-04\n",
      "Epoch 65/100\n",
      "125/125 [==============================] - 179s 1s/step - loss: 0.0224 - acc: 0.9100 - val_loss: 0.4873 - val_acc: 0.7930 - lr: 2.2909e-04\n",
      "Epoch 66/100\n",
      "125/125 [==============================] - 179s 1s/step - loss: 0.0208 - acc: 0.9150 - val_loss: 0.4771 - val_acc: 0.8030 - lr: 2.2387e-04\n",
      "Epoch 67/100\n",
      "125/125 [==============================] - 179s 1s/step - loss: 0.0239 - acc: 0.9085 - val_loss: 0.4788 - val_acc: 0.7920 - lr: 2.1878e-04\n",
      "Epoch 68/100\n",
      "125/125 [==============================] - 179s 1s/step - loss: 0.0234 - acc: 0.9107 - val_loss: 0.3985 - val_acc: 0.8000 - lr: 2.1380e-04\n",
      "Epoch 69/100\n",
      "125/125 [==============================] - 179s 1s/step - loss: 0.0226 - acc: 0.9110 - val_loss: 0.4646 - val_acc: 0.8060 - lr: 2.0893e-04\n",
      "Epoch 70/100\n",
      "125/125 [==============================] - 179s 1s/step - loss: 0.0196 - acc: 0.9100 - val_loss: 0.4772 - val_acc: 0.8050 - lr: 2.0417e-04\n",
      "Epoch 71/100\n",
      "125/125 [==============================] - 179s 1s/step - loss: 0.0212 - acc: 0.9090 - val_loss: 0.4424 - val_acc: 0.8090 - lr: 1.9953e-04\n",
      "Epoch 72/100\n",
      "125/125 [==============================] - 179s 1s/step - loss: 0.0193 - acc: 0.9122 - val_loss: 0.4638 - val_acc: 0.8000 - lr: 1.9498e-04\n",
      "Epoch 73/100\n",
      "125/125 [==============================] - 179s 1s/step - loss: 0.0205 - acc: 0.9112 - val_loss: 0.4128 - val_acc: 0.8040 - lr: 1.9055e-04\n",
      "Epoch 74/100\n",
      "125/125 [==============================] - 179s 1s/step - loss: 0.0201 - acc: 0.9112 - val_loss: 0.4595 - val_acc: 0.8000 - lr: 1.8621e-04\n",
      "Epoch 75/100\n",
      "125/125 [==============================] - 179s 1s/step - loss: 0.0195 - acc: 0.9110 - val_loss: 0.4688 - val_acc: 0.8060 - lr: 1.8197e-04\n",
      "Epoch 76/100\n",
      "125/125 [==============================] - 179s 1s/step - loss: 0.0182 - acc: 0.9128 - val_loss: 0.4952 - val_acc: 0.8050 - lr: 1.7783e-04\n",
      "Epoch 77/100\n",
      "125/125 [==============================] - 179s 1s/step - loss: 0.0202 - acc: 0.9120 - val_loss: 0.5307 - val_acc: 0.8080 - lr: 1.7378e-04\n",
      "Epoch 78/100\n",
      "125/125 [==============================] - 179s 1s/step - loss: 0.0195 - acc: 0.9125 - val_loss: 0.5189 - val_acc: 0.8010 - lr: 1.6982e-04\n",
      "Epoch 79/100\n",
      "125/125 [==============================] - 179s 1s/step - loss: 0.0197 - acc: 0.9145 - val_loss: 0.5132 - val_acc: 0.8040 - lr: 1.6596e-04\n",
      "Epoch 80/100\n",
      "125/125 [==============================] - 179s 1s/step - loss: 0.0213 - acc: 0.9130 - val_loss: 0.4826 - val_acc: 0.8030 - lr: 1.6218e-04\n",
      "Epoch 81/100\n",
      "125/125 [==============================] - 179s 1s/step - loss: 0.0198 - acc: 0.9100 - val_loss: 0.4996 - val_acc: 0.7970 - lr: 1.5849e-04\n",
      "Epoch 82/100\n",
      "125/125 [==============================] - 179s 1s/step - loss: 0.0191 - acc: 0.9110 - val_loss: 0.4963 - val_acc: 0.8050 - lr: 1.5488e-04\n",
      "Epoch 83/100\n",
      "125/125 [==============================] - 179s 1s/step - loss: 0.0188 - acc: 0.9097 - val_loss: 0.5099 - val_acc: 0.8070 - lr: 1.5136e-04\n",
      "Epoch 84/100\n",
      "125/125 [==============================] - 179s 1s/step - loss: 0.0198 - acc: 0.9137 - val_loss: 0.4791 - val_acc: 0.7990 - lr: 1.4791e-04\n",
      "Epoch 85/100\n",
      "125/125 [==============================] - 179s 1s/step - loss: 0.0181 - acc: 0.9155 - val_loss: 0.5209 - val_acc: 0.8010 - lr: 1.4454e-04\n",
      "Epoch 86/100\n",
      "125/125 [==============================] - 179s 1s/step - loss: 0.0194 - acc: 0.9125 - val_loss: 0.5329 - val_acc: 0.8090 - lr: 1.4125e-04\n",
      "Epoch 87/100\n",
      "125/125 [==============================] - 179s 1s/step - loss: 0.0197 - acc: 0.9135 - val_loss: 0.5157 - val_acc: 0.8110 - lr: 1.3804e-04\n",
      "Epoch 88/100\n",
      "125/125 [==============================] - 179s 1s/step - loss: 0.0182 - acc: 0.9140 - val_loss: 0.5434 - val_acc: 0.8010 - lr: 1.3490e-04\n",
      "Epoch 89/100\n",
      "125/125 [==============================] - 179s 1s/step - loss: 0.0168 - acc: 0.9115 - val_loss: 0.5119 - val_acc: 0.7850 - lr: 1.3183e-04\n",
      "Epoch 90/100\n",
      "125/125 [==============================] - 179s 1s/step - loss: 0.0204 - acc: 0.9120 - val_loss: 0.5370 - val_acc: 0.7960 - lr: 1.2882e-04\n",
      "Epoch 91/100\n",
      "125/125 [==============================] - 179s 1s/step - loss: 0.0191 - acc: 0.9115 - val_loss: 0.5401 - val_acc: 0.7980 - lr: 1.2589e-04\n",
      "Epoch 92/100\n",
      "125/125 [==============================] - 179s 1s/step - loss: 0.0185 - acc: 0.9172 - val_loss: 0.5709 - val_acc: 0.7970 - lr: 1.2303e-04\n",
      "Epoch 93/100\n",
      "125/125 [==============================] - 179s 1s/step - loss: 0.0187 - acc: 0.9120 - val_loss: 0.5767 - val_acc: 0.8020 - lr: 1.2023e-04\n",
      "Epoch 94/100\n",
      "125/125 [==============================] - 179s 1s/step - loss: 0.0193 - acc: 0.9125 - val_loss: 0.5051 - val_acc: 0.8070 - lr: 1.1749e-04\n",
      "Epoch 95/100\n",
      "125/125 [==============================] - 179s 1s/step - loss: 0.0172 - acc: 0.9118 - val_loss: 0.5273 - val_acc: 0.8130 - lr: 1.1482e-04\n",
      "Epoch 96/100\n",
      "125/125 [==============================] - 179s 1s/step - loss: 0.0167 - acc: 0.9112 - val_loss: 0.5698 - val_acc: 0.8090 - lr: 1.1220e-04\n",
      "Epoch 97/100\n",
      "125/125 [==============================] - 179s 1s/step - loss: 0.0181 - acc: 0.9137 - val_loss: 0.5349 - val_acc: 0.8060 - lr: 1.0965e-04\n",
      "Epoch 98/100\n",
      "125/125 [==============================] - 179s 1s/step - loss: 0.0171 - acc: 0.9143 - val_loss: 0.5916 - val_acc: 0.8130 - lr: 1.0715e-04\n",
      "Epoch 99/100\n",
      "125/125 [==============================] - 179s 1s/step - loss: 0.0177 - acc: 0.9140 - val_loss: 0.5604 - val_acc: 0.8140 - lr: 1.0471e-04\n",
      "Epoch 100/100\n",
      "125/125 [==============================] - 179s 1s/step - loss: 0.0188 - acc: 0.9137 - val_loss: 0.5630 - val_acc: 0.8050 - lr: 1.0233e-04\n"
     ]
    }
   ],
   "source": [
    "model = model_arch()\n",
    "model, lr_sch = CompModel(model)\n",
    "\n",
    "history = model.fit(x_train[t4], y_train.values[t4],\n",
    "            epochs=100,\n",
    "            validation_data = (x_train[v4], y_train.values[v4]),\n",
    "            callbacks = [lr_sch],\n",
    "            verbose = 1)"
   ]
  },
  {
   "cell_type": "code",
   "execution_count": 8,
   "id": "d6aa601c",
   "metadata": {
    "execution": {
     "iopub.execute_input": "2023-11-07T14:30:39.903121Z",
     "iopub.status.busy": "2023-11-07T14:30:39.902755Z",
     "iopub.status.idle": "2023-11-07T14:30:40.100842Z",
     "shell.execute_reply": "2023-11-07T14:30:40.100058Z"
    },
    "papermill": {
     "duration": 1.615069,
     "end_time": "2023-11-07T14:30:40.103096",
     "exception": false,
     "start_time": "2023-11-07T14:30:38.488027",
     "status": "completed"
    },
    "tags": []
   },
   "outputs": [],
   "source": [
    "model.save('/kaggle/working/RP_ECGNet_Fold4.h5')"
   ]
  }
 ],
 "metadata": {
  "kernelspec": {
   "display_name": "Python 3",
   "language": "python",
   "name": "python3"
  },
  "language_info": {
   "codemirror_mode": {
    "name": "ipython",
    "version": 3
   },
   "file_extension": ".py",
   "mimetype": "text/x-python",
   "name": "python",
   "nbconvert_exporter": "python",
   "pygments_lexer": "ipython3",
   "version": "3.10.12"
  },
  "papermill": {
   "default_parameters": {},
   "duration": 19598.319897,
   "end_time": "2023-11-07T14:30:44.719719",
   "environment_variables": {},
   "exception": null,
   "input_path": "__notebook__.ipynb",
   "output_path": "__notebook__.ipynb",
   "parameters": {},
   "start_time": "2023-11-07T09:04:06.399822",
   "version": "2.4.0"
  }
 },
 "nbformat": 4,
 "nbformat_minor": 5
}
