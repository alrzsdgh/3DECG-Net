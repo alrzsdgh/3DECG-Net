{
 "cells": [
  {
   "cell_type": "code",
   "execution_count": 1,
   "id": "b1f224d5",
   "metadata": {
    "execution": {
     "iopub.execute_input": "2024-01-12T22:17:29.711409Z",
     "iopub.status.busy": "2024-01-12T22:17:29.711100Z",
     "iopub.status.idle": "2024-01-12T22:17:41.985101Z",
     "shell.execute_reply": "2024-01-12T22:17:41.984126Z"
    },
    "papermill": {
     "duration": 12.282285,
     "end_time": "2024-01-12T22:17:41.987785",
     "exception": false,
     "start_time": "2024-01-12T22:17:29.705500",
     "status": "completed"
    },
    "tags": []
   },
   "outputs": [
    {
     "name": "stderr",
     "output_type": "stream",
     "text": [
      "/opt/conda/lib/python3.10/site-packages/scipy/__init__.py:146: UserWarning: A NumPy version >=1.16.5 and <1.23.0 is required for this version of SciPy (detected version 1.24.3\n",
      "  warnings.warn(f\"A NumPy version >={np_minversion} and <{np_maxversion}\"\n"
     ]
    }
   ],
   "source": [
    "import pickle\n",
    "from tqdm import tqdm\n",
    "import tensorflow as tf\n",
    "import numpy as np\n",
    "\n",
    "from preprocess import data_preparation\n",
    "from preprocess import signal_cutter\n",
    "from preprocess import data_filtering\n",
    "from preprocess import resampling\n",
    "from preprocess import RP_3D\n",
    "from preprocess import resize_volume\n",
    "from preprocess import RP_final_data\n",
    "from preprocess import label_creator\n",
    "from preprocess import including_data\n",
    "from lime_utils import tp_finder\n",
    "from lime_utils import lead_replacing\n",
    "from lime_utils import weight_bars"
   ]
  },
  {
   "cell_type": "code",
   "execution_count": 2,
   "id": "4baa1262",
   "metadata": {
    "execution": {
     "iopub.execute_input": "2024-01-12T22:17:41.997845Z",
     "iopub.status.busy": "2024-01-12T22:17:41.997294Z",
     "iopub.status.idle": "2024-01-12T22:17:51.928898Z",
     "shell.execute_reply": "2024-01-12T22:17:51.928058Z"
    },
    "papermill": {
     "duration": 9.938894,
     "end_time": "2024-01-12T22:17:51.931140",
     "exception": false,
     "start_time": "2024-01-12T22:17:41.992246",
     "status": "completed"
    },
    "tags": []
   },
   "outputs": [],
   "source": [
    "# Read dictionary pkl file\n",
    "with open('/kaggle/input/georgia-dataset/data.pkl', 'rb') as fp:\n",
    "    dataset = pickle.load(fp)"
   ]
  },
  {
   "cell_type": "code",
   "execution_count": 3,
   "id": "23aa999d",
   "metadata": {
    "execution": {
     "iopub.execute_input": "2024-01-12T22:17:51.941076Z",
     "iopub.status.busy": "2024-01-12T22:17:51.940765Z",
     "iopub.status.idle": "2024-01-12T22:19:13.081139Z",
     "shell.execute_reply": "2024-01-12T22:19:13.079905Z"
    },
    "papermill": {
     "duration": 81.147833,
     "end_time": "2024-01-12T22:19:13.083494",
     "exception": false,
     "start_time": "2024-01-12T22:17:51.935661",
     "status": "completed"
    },
    "tags": []
   },
   "outputs": [
    {
     "name": "stderr",
     "output_type": "stream",
     "text": [
      "100%|██████████| 10344/10344 [00:00<00:00, 977467.68it/s]\n",
      "100%|██████████| 10344/10344 [00:00<00:00, 624589.79it/s]\n",
      "100%|██████████| 10344/10344 [01:19<00:00, 130.74it/s]\n",
      "100%|██████████| 10344/10344 [00:01<00:00, 7022.84it/s]\n"
     ]
    }
   ],
   "source": [
    "ds = data_preparation(dataset)\n",
    "\n",
    "# shortening\n",
    "ds = signal_cutter(ds, d_length=1000)\n",
    "\n",
    "# denoising\n",
    "ds = data_filtering(ds)\n",
    "\n",
    "# resampling\n",
    "ds = resampling(ds, desired_points = 100)"
   ]
  },
  {
   "cell_type": "code",
   "execution_count": 4,
   "id": "620a57d0",
   "metadata": {
    "execution": {
     "iopub.execute_input": "2024-01-12T22:19:13.214108Z",
     "iopub.status.busy": "2024-01-12T22:19:13.213380Z",
     "iopub.status.idle": "2024-01-12T22:24:59.242964Z",
     "shell.execute_reply": "2024-01-12T22:24:59.242138Z"
    },
    "papermill": {
     "duration": 346.097395,
     "end_time": "2024-01-12T22:24:59.245303",
     "exception": false,
     "start_time": "2024-01-12T22:19:13.147908",
     "status": "completed"
    },
    "tags": []
   },
   "outputs": [
    {
     "name": "stderr",
     "output_type": "stream",
     "text": [
      "100%|██████████| 10344/10344 [00:00<00:00, 949258.96it/s]\n",
      "10344it [00:07, 1314.07it/s]\n",
      "10344it [00:04, 2118.81it/s]\n",
      "100%|██████████| 1126/1126 [05:32<00:00,  3.38it/s]\n"
     ]
    }
   ],
   "source": [
    "arr = {'NSR':'426783006', 'AF':'164889003', 'IAVB':'270492004', 'LBBB':'164909002', 'RBBB':'59118001', 'SB':'426177001', 'STach':'427084000'}\n",
    "labels = label_creator(data_preparation(dataset), arr)\n",
    "x_train, y_train, x_test, y_test = including_data(labels, ds)\n",
    "# transformation and resizing\n",
    "tmp_x_test = RP_final_data(x_test)"
   ]
  },
  {
   "cell_type": "code",
   "execution_count": 5,
   "id": "186023c3",
   "metadata": {
    "execution": {
     "iopub.execute_input": "2024-01-12T22:24:59.563597Z",
     "iopub.status.busy": "2024-01-12T22:24:59.562824Z",
     "iopub.status.idle": "2024-01-12T22:25:17.696365Z",
     "shell.execute_reply": "2024-01-12T22:25:17.695405Z"
    },
    "papermill": {
     "duration": 18.293953,
     "end_time": "2024-01-12T22:25:17.698374",
     "exception": false,
     "start_time": "2024-01-12T22:24:59.404421",
     "status": "completed"
    },
    "tags": []
   },
   "outputs": [
    {
     "name": "stdout",
     "output_type": "stream",
     "text": [
      "36/36 [==============================] - 15s 337ms/step\n"
     ]
    }
   ],
   "source": [
    "model = tf.keras.models.load_model('/kaggle/input/3decgnet/3DECGNet.h5')\n",
    "pred_proba = model.predict(tmp_x_test)\n",
    "prediction = np.zeros(np.shape(pred_proba))\n",
    "prediction[pred_proba > 0.5] = 1"
   ]
  },
  {
   "cell_type": "code",
   "execution_count": 6,
   "id": "7adf67b3",
   "metadata": {
    "execution": {
     "iopub.execute_input": "2024-01-12T22:25:18.025820Z",
     "iopub.status.busy": "2024-01-12T22:25:18.025119Z",
     "iopub.status.idle": "2024-01-12T22:25:18.039002Z",
     "shell.execute_reply": "2024-01-12T22:25:18.038083Z"
    },
    "papermill": {
     "duration": 0.179714,
     "end_time": "2024-01-12T22:25:18.040919",
     "exception": false,
     "start_time": "2024-01-12T22:25:17.861205",
     "status": "completed"
    },
    "tags": []
   },
   "outputs": [],
   "source": [
    "neigh_mx = lead_replacing()\n",
    "\n",
    "# !!!!!!Change arrhythmia\n",
    "tp_samples = tp_finder(prediction, y_test, 'STach', arr)"
   ]
  },
  {
   "cell_type": "code",
   "execution_count": 7,
   "id": "8e283258",
   "metadata": {
    "execution": {
     "iopub.execute_input": "2024-01-12T22:25:18.364019Z",
     "iopub.status.busy": "2024-01-12T22:25:18.363096Z",
     "iopub.status.idle": "2024-01-12T22:25:18.368192Z",
     "shell.execute_reply": "2024-01-12T22:25:18.367237Z"
    },
    "papermill": {
     "duration": 0.168568,
     "end_time": "2024-01-12T22:25:18.370442",
     "exception": false,
     "start_time": "2024-01-12T22:25:18.201874",
     "status": "completed"
    },
    "tags": []
   },
   "outputs": [
    {
     "name": "stdout",
     "output_type": "stream",
     "text": [
      "N of Samples: 210\n"
     ]
    }
   ],
   "source": [
    "print('N of Samples:', len(tp_samples))"
   ]
  },
  {
   "cell_type": "code",
   "execution_count": 8,
   "id": "7d0b611b",
   "metadata": {
    "execution": {
     "iopub.execute_input": "2024-01-12T22:25:18.692474Z",
     "iopub.status.busy": "2024-01-12T22:25:18.692092Z",
     "iopub.status.idle": "2024-01-13T05:51:55.452195Z",
     "shell.execute_reply": "2024-01-13T05:51:55.450764Z"
    },
    "papermill": {
     "duration": 26796.924013,
     "end_time": "2024-01-13T05:51:55.454599",
     "exception": false,
     "start_time": "2024-01-12T22:25:18.530586",
     "status": "completed"
    },
    "tags": []
   },
   "outputs": [
    {
     "name": "stdout",
     "output_type": "stream",
     "text": [
      "sample numbet 101\n"
     ]
    },
    {
     "name": "stderr",
     "output_type": "stream",
     "text": [
      "100%|██████████| 793/793 [03:53<00:00,  3.40it/s]\n"
     ]
    },
    {
     "name": "stdout",
     "output_type": "stream",
     "text": [
      "25/25 [==============================] - 9s 356ms/step\n",
      "sample numbet 102\n"
     ]
    },
    {
     "name": "stderr",
     "output_type": "stream",
     "text": [
      "100%|██████████| 793/793 [03:54<00:00,  3.39it/s]\n"
     ]
    },
    {
     "name": "stdout",
     "output_type": "stream",
     "text": [
      "25/25 [==============================] - 8s 337ms/step\n",
      "sample numbet 103\n"
     ]
    },
    {
     "name": "stderr",
     "output_type": "stream",
     "text": [
      "100%|██████████| 793/793 [03:54<00:00,  3.39it/s]\n"
     ]
    },
    {
     "name": "stdout",
     "output_type": "stream",
     "text": [
      "25/25 [==============================] - 8s 338ms/step\n",
      "sample numbet 104\n"
     ]
    },
    {
     "name": "stderr",
     "output_type": "stream",
     "text": [
      "100%|██████████| 793/793 [03:53<00:00,  3.40it/s]\n"
     ]
    },
    {
     "name": "stdout",
     "output_type": "stream",
     "text": [
      "25/25 [==============================] - 8s 337ms/step\n",
      "sample numbet 105\n"
     ]
    },
    {
     "name": "stderr",
     "output_type": "stream",
     "text": [
      "100%|██████████| 793/793 [03:53<00:00,  3.40it/s]\n"
     ]
    },
    {
     "name": "stdout",
     "output_type": "stream",
     "text": [
      "25/25 [==============================] - 8s 337ms/step\n",
      "sample numbet 106\n"
     ]
    },
    {
     "name": "stderr",
     "output_type": "stream",
     "text": [
      "100%|██████████| 793/793 [03:53<00:00,  3.39it/s]\n"
     ]
    },
    {
     "name": "stdout",
     "output_type": "stream",
     "text": [
      "25/25 [==============================] - 8s 337ms/step\n",
      "sample numbet 107\n"
     ]
    },
    {
     "name": "stderr",
     "output_type": "stream",
     "text": [
      "100%|██████████| 793/793 [03:54<00:00,  3.39it/s]\n"
     ]
    },
    {
     "name": "stdout",
     "output_type": "stream",
     "text": [
      "25/25 [==============================] - 8s 337ms/step\n",
      "sample numbet 108\n"
     ]
    },
    {
     "name": "stderr",
     "output_type": "stream",
     "text": [
      "100%|██████████| 793/793 [03:54<00:00,  3.38it/s]\n"
     ]
    },
    {
     "name": "stdout",
     "output_type": "stream",
     "text": [
      "25/25 [==============================] - 8s 337ms/step\n",
      "sample numbet 109\n"
     ]
    },
    {
     "name": "stderr",
     "output_type": "stream",
     "text": [
      "100%|██████████| 793/793 [03:53<00:00,  3.39it/s]\n"
     ]
    },
    {
     "name": "stdout",
     "output_type": "stream",
     "text": [
      "25/25 [==============================] - 8s 338ms/step\n",
      "sample numbet 110\n"
     ]
    },
    {
     "name": "stderr",
     "output_type": "stream",
     "text": [
      "100%|██████████| 793/793 [03:54<00:00,  3.39it/s]\n"
     ]
    },
    {
     "name": "stdout",
     "output_type": "stream",
     "text": [
      "25/25 [==============================] - 8s 337ms/step\n",
      "sample numbet 111\n"
     ]
    },
    {
     "name": "stderr",
     "output_type": "stream",
     "text": [
      "100%|██████████| 793/793 [03:54<00:00,  3.39it/s]\n"
     ]
    },
    {
     "name": "stdout",
     "output_type": "stream",
     "text": [
      "25/25 [==============================] - 8s 337ms/step\n",
      "sample numbet 112\n"
     ]
    },
    {
     "name": "stderr",
     "output_type": "stream",
     "text": [
      "100%|██████████| 793/793 [03:53<00:00,  3.40it/s]\n"
     ]
    },
    {
     "name": "stdout",
     "output_type": "stream",
     "text": [
      "25/25 [==============================] - 8s 337ms/step\n",
      "sample numbet 113\n"
     ]
    },
    {
     "name": "stderr",
     "output_type": "stream",
     "text": [
      "100%|██████████| 793/793 [03:54<00:00,  3.38it/s]\n"
     ]
    },
    {
     "name": "stdout",
     "output_type": "stream",
     "text": [
      "25/25 [==============================] - 8s 337ms/step\n",
      "sample numbet 114\n"
     ]
    },
    {
     "name": "stderr",
     "output_type": "stream",
     "text": [
      "100%|██████████| 793/793 [03:54<00:00,  3.39it/s]\n"
     ]
    },
    {
     "name": "stdout",
     "output_type": "stream",
     "text": [
      "25/25 [==============================] - 8s 338ms/step\n",
      "sample numbet 115\n"
     ]
    },
    {
     "name": "stderr",
     "output_type": "stream",
     "text": [
      "100%|██████████| 793/793 [03:53<00:00,  3.40it/s]\n"
     ]
    },
    {
     "name": "stdout",
     "output_type": "stream",
     "text": [
      "25/25 [==============================] - 8s 337ms/step\n",
      "sample numbet 116\n"
     ]
    },
    {
     "name": "stderr",
     "output_type": "stream",
     "text": [
      "100%|██████████| 793/793 [03:53<00:00,  3.39it/s]\n"
     ]
    },
    {
     "name": "stdout",
     "output_type": "stream",
     "text": [
      "25/25 [==============================] - 8s 338ms/step\n",
      "sample numbet 117\n"
     ]
    },
    {
     "name": "stderr",
     "output_type": "stream",
     "text": [
      "100%|██████████| 793/793 [03:53<00:00,  3.40it/s]\n"
     ]
    },
    {
     "name": "stdout",
     "output_type": "stream",
     "text": [
      "25/25 [==============================] - 8s 337ms/step\n",
      "sample numbet 118\n"
     ]
    },
    {
     "name": "stderr",
     "output_type": "stream",
     "text": [
      "100%|██████████| 793/793 [03:52<00:00,  3.40it/s]\n"
     ]
    },
    {
     "name": "stdout",
     "output_type": "stream",
     "text": [
      "25/25 [==============================] - 8s 338ms/step\n",
      "sample numbet 119\n"
     ]
    },
    {
     "name": "stderr",
     "output_type": "stream",
     "text": [
      "100%|██████████| 793/793 [03:53<00:00,  3.39it/s]\n"
     ]
    },
    {
     "name": "stdout",
     "output_type": "stream",
     "text": [
      "25/25 [==============================] - 8s 337ms/step\n",
      "sample numbet 120\n"
     ]
    },
    {
     "name": "stderr",
     "output_type": "stream",
     "text": [
      "100%|██████████| 793/793 [03:54<00:00,  3.39it/s]\n"
     ]
    },
    {
     "name": "stdout",
     "output_type": "stream",
     "text": [
      "25/25 [==============================] - 8s 337ms/step\n",
      "sample numbet 121\n"
     ]
    },
    {
     "name": "stderr",
     "output_type": "stream",
     "text": [
      "100%|██████████| 793/793 [03:54<00:00,  3.39it/s]\n"
     ]
    },
    {
     "name": "stdout",
     "output_type": "stream",
     "text": [
      "25/25 [==============================] - 8s 337ms/step\n",
      "sample numbet 122\n"
     ]
    },
    {
     "name": "stderr",
     "output_type": "stream",
     "text": [
      "100%|██████████| 793/793 [03:54<00:00,  3.38it/s]\n"
     ]
    },
    {
     "name": "stdout",
     "output_type": "stream",
     "text": [
      "25/25 [==============================] - 8s 337ms/step\n",
      "sample numbet 123\n"
     ]
    },
    {
     "name": "stderr",
     "output_type": "stream",
     "text": [
      "100%|██████████| 793/793 [03:55<00:00,  3.37it/s]\n"
     ]
    },
    {
     "name": "stdout",
     "output_type": "stream",
     "text": [
      "25/25 [==============================] - 8s 338ms/step\n",
      "sample numbet 124\n"
     ]
    },
    {
     "name": "stderr",
     "output_type": "stream",
     "text": [
      "100%|██████████| 793/793 [03:53<00:00,  3.39it/s]\n"
     ]
    },
    {
     "name": "stdout",
     "output_type": "stream",
     "text": [
      "25/25 [==============================] - 8s 337ms/step\n",
      "sample numbet 125\n"
     ]
    },
    {
     "name": "stderr",
     "output_type": "stream",
     "text": [
      "100%|██████████| 793/793 [03:53<00:00,  3.39it/s]\n"
     ]
    },
    {
     "name": "stdout",
     "output_type": "stream",
     "text": [
      "25/25 [==============================] - 8s 337ms/step\n",
      "sample numbet 126\n"
     ]
    },
    {
     "name": "stderr",
     "output_type": "stream",
     "text": [
      "100%|██████████| 793/793 [03:53<00:00,  3.39it/s]\n"
     ]
    },
    {
     "name": "stdout",
     "output_type": "stream",
     "text": [
      "25/25 [==============================] - 8s 337ms/step\n",
      "sample numbet 127\n"
     ]
    },
    {
     "name": "stderr",
     "output_type": "stream",
     "text": [
      "100%|██████████| 793/793 [03:54<00:00,  3.39it/s]\n"
     ]
    },
    {
     "name": "stdout",
     "output_type": "stream",
     "text": [
      "25/25 [==============================] - 8s 337ms/step\n",
      "sample numbet 128\n"
     ]
    },
    {
     "name": "stderr",
     "output_type": "stream",
     "text": [
      "100%|██████████| 793/793 [03:54<00:00,  3.38it/s]\n"
     ]
    },
    {
     "name": "stdout",
     "output_type": "stream",
     "text": [
      "25/25 [==============================] - 8s 337ms/step\n",
      "sample numbet 129\n"
     ]
    },
    {
     "name": "stderr",
     "output_type": "stream",
     "text": [
      "100%|██████████| 793/793 [03:53<00:00,  3.39it/s]\n"
     ]
    },
    {
     "name": "stdout",
     "output_type": "stream",
     "text": [
      "25/25 [==============================] - 8s 337ms/step\n",
      "sample numbet 130\n"
     ]
    },
    {
     "name": "stderr",
     "output_type": "stream",
     "text": [
      "100%|██████████| 793/793 [03:54<00:00,  3.38it/s]\n"
     ]
    },
    {
     "name": "stdout",
     "output_type": "stream",
     "text": [
      "25/25 [==============================] - 8s 337ms/step\n",
      "sample numbet 131\n"
     ]
    },
    {
     "name": "stderr",
     "output_type": "stream",
     "text": [
      "100%|██████████| 793/793 [03:53<00:00,  3.39it/s]\n"
     ]
    },
    {
     "name": "stdout",
     "output_type": "stream",
     "text": [
      "25/25 [==============================] - 8s 337ms/step\n",
      "sample numbet 132\n"
     ]
    },
    {
     "name": "stderr",
     "output_type": "stream",
     "text": [
      "100%|██████████| 793/793 [03:55<00:00,  3.36it/s]\n"
     ]
    },
    {
     "name": "stdout",
     "output_type": "stream",
     "text": [
      "25/25 [==============================] - 8s 337ms/step\n",
      "sample numbet 133\n"
     ]
    },
    {
     "name": "stderr",
     "output_type": "stream",
     "text": [
      "100%|██████████| 793/793 [03:53<00:00,  3.40it/s]\n"
     ]
    },
    {
     "name": "stdout",
     "output_type": "stream",
     "text": [
      "25/25 [==============================] - 8s 338ms/step\n",
      "sample numbet 134\n"
     ]
    },
    {
     "name": "stderr",
     "output_type": "stream",
     "text": [
      "100%|██████████| 793/793 [03:53<00:00,  3.39it/s]\n"
     ]
    },
    {
     "name": "stdout",
     "output_type": "stream",
     "text": [
      "25/25 [==============================] - 8s 337ms/step\n",
      "sample numbet 135\n"
     ]
    },
    {
     "name": "stderr",
     "output_type": "stream",
     "text": [
      "100%|██████████| 793/793 [03:54<00:00,  3.37it/s]\n"
     ]
    },
    {
     "name": "stdout",
     "output_type": "stream",
     "text": [
      "25/25 [==============================] - 8s 337ms/step\n",
      "sample numbet 136\n"
     ]
    },
    {
     "name": "stderr",
     "output_type": "stream",
     "text": [
      "100%|██████████| 793/793 [03:53<00:00,  3.40it/s]\n"
     ]
    },
    {
     "name": "stdout",
     "output_type": "stream",
     "text": [
      "25/25 [==============================] - 8s 338ms/step\n",
      "sample numbet 137\n"
     ]
    },
    {
     "name": "stderr",
     "output_type": "stream",
     "text": [
      "100%|██████████| 793/793 [03:53<00:00,  3.39it/s]\n"
     ]
    },
    {
     "name": "stdout",
     "output_type": "stream",
     "text": [
      "25/25 [==============================] - 8s 337ms/step\n",
      "sample numbet 138\n"
     ]
    },
    {
     "name": "stderr",
     "output_type": "stream",
     "text": [
      "100%|██████████| 793/793 [03:53<00:00,  3.39it/s]\n"
     ]
    },
    {
     "name": "stdout",
     "output_type": "stream",
     "text": [
      "25/25 [==============================] - 8s 337ms/step\n",
      "sample numbet 139\n"
     ]
    },
    {
     "name": "stderr",
     "output_type": "stream",
     "text": [
      "100%|██████████| 793/793 [03:53<00:00,  3.40it/s]\n"
     ]
    },
    {
     "name": "stdout",
     "output_type": "stream",
     "text": [
      "25/25 [==============================] - 8s 337ms/step\n",
      "sample numbet 140\n"
     ]
    },
    {
     "name": "stderr",
     "output_type": "stream",
     "text": [
      "100%|██████████| 793/793 [03:53<00:00,  3.39it/s]\n"
     ]
    },
    {
     "name": "stdout",
     "output_type": "stream",
     "text": [
      "25/25 [==============================] - 8s 337ms/step\n",
      "sample numbet 141\n"
     ]
    },
    {
     "name": "stderr",
     "output_type": "stream",
     "text": [
      "100%|██████████| 793/793 [03:54<00:00,  3.39it/s]\n"
     ]
    },
    {
     "name": "stdout",
     "output_type": "stream",
     "text": [
      "25/25 [==============================] - 8s 337ms/step\n",
      "sample numbet 142\n"
     ]
    },
    {
     "name": "stderr",
     "output_type": "stream",
     "text": [
      "100%|██████████| 793/793 [03:55<00:00,  3.37it/s]\n"
     ]
    },
    {
     "name": "stdout",
     "output_type": "stream",
     "text": [
      "25/25 [==============================] - 8s 337ms/step\n",
      "sample numbet 143\n"
     ]
    },
    {
     "name": "stderr",
     "output_type": "stream",
     "text": [
      "100%|██████████| 793/793 [03:53<00:00,  3.39it/s]\n"
     ]
    },
    {
     "name": "stdout",
     "output_type": "stream",
     "text": [
      "25/25 [==============================] - 8s 337ms/step\n",
      "sample numbet 144\n"
     ]
    },
    {
     "name": "stderr",
     "output_type": "stream",
     "text": [
      "100%|██████████| 793/793 [03:53<00:00,  3.39it/s]\n"
     ]
    },
    {
     "name": "stdout",
     "output_type": "stream",
     "text": [
      "25/25 [==============================] - 8s 337ms/step\n",
      "sample numbet 145\n"
     ]
    },
    {
     "name": "stderr",
     "output_type": "stream",
     "text": [
      "100%|██████████| 793/793 [03:54<00:00,  3.38it/s]\n"
     ]
    },
    {
     "name": "stdout",
     "output_type": "stream",
     "text": [
      "25/25 [==============================] - 8s 337ms/step\n",
      "sample numbet 146\n"
     ]
    },
    {
     "name": "stderr",
     "output_type": "stream",
     "text": [
      "100%|██████████| 793/793 [03:53<00:00,  3.39it/s]\n"
     ]
    },
    {
     "name": "stdout",
     "output_type": "stream",
     "text": [
      "25/25 [==============================] - 8s 337ms/step\n",
      "sample numbet 147\n"
     ]
    },
    {
     "name": "stderr",
     "output_type": "stream",
     "text": [
      "100%|██████████| 793/793 [03:53<00:00,  3.39it/s]\n"
     ]
    },
    {
     "name": "stdout",
     "output_type": "stream",
     "text": [
      "25/25 [==============================] - 8s 338ms/step\n",
      "sample numbet 148\n"
     ]
    },
    {
     "name": "stderr",
     "output_type": "stream",
     "text": [
      "100%|██████████| 793/793 [03:53<00:00,  3.39it/s]\n"
     ]
    },
    {
     "name": "stdout",
     "output_type": "stream",
     "text": [
      "25/25 [==============================] - 8s 338ms/step\n",
      "sample numbet 149\n"
     ]
    },
    {
     "name": "stderr",
     "output_type": "stream",
     "text": [
      "100%|██████████| 793/793 [03:53<00:00,  3.40it/s]\n"
     ]
    },
    {
     "name": "stdout",
     "output_type": "stream",
     "text": [
      "25/25 [==============================] - 8s 337ms/step\n",
      "sample numbet 150\n"
     ]
    },
    {
     "name": "stderr",
     "output_type": "stream",
     "text": [
      "100%|██████████| 793/793 [03:54<00:00,  3.39it/s]\n"
     ]
    },
    {
     "name": "stdout",
     "output_type": "stream",
     "text": [
      "25/25 [==============================] - 8s 337ms/step\n",
      "sample numbet 151\n"
     ]
    },
    {
     "name": "stderr",
     "output_type": "stream",
     "text": [
      "100%|██████████| 793/793 [03:53<00:00,  3.39it/s]\n"
     ]
    },
    {
     "name": "stdout",
     "output_type": "stream",
     "text": [
      "25/25 [==============================] - 8s 337ms/step\n",
      "sample numbet 152\n"
     ]
    },
    {
     "name": "stderr",
     "output_type": "stream",
     "text": [
      "100%|██████████| 793/793 [03:54<00:00,  3.38it/s]\n"
     ]
    },
    {
     "name": "stdout",
     "output_type": "stream",
     "text": [
      "25/25 [==============================] - 8s 337ms/step\n",
      "sample numbet 153\n"
     ]
    },
    {
     "name": "stderr",
     "output_type": "stream",
     "text": [
      "100%|██████████| 793/793 [03:53<00:00,  3.40it/s]\n"
     ]
    },
    {
     "name": "stdout",
     "output_type": "stream",
     "text": [
      "25/25 [==============================] - 8s 337ms/step\n",
      "sample numbet 154\n"
     ]
    },
    {
     "name": "stderr",
     "output_type": "stream",
     "text": [
      "100%|██████████| 793/793 [03:53<00:00,  3.39it/s]\n"
     ]
    },
    {
     "name": "stdout",
     "output_type": "stream",
     "text": [
      "25/25 [==============================] - 8s 337ms/step\n",
      "sample numbet 155\n"
     ]
    },
    {
     "name": "stderr",
     "output_type": "stream",
     "text": [
      "100%|██████████| 793/793 [03:54<00:00,  3.38it/s]\n"
     ]
    },
    {
     "name": "stdout",
     "output_type": "stream",
     "text": [
      "25/25 [==============================] - 8s 337ms/step\n",
      "sample numbet 156\n"
     ]
    },
    {
     "name": "stderr",
     "output_type": "stream",
     "text": [
      "100%|██████████| 793/793 [03:54<00:00,  3.39it/s]\n"
     ]
    },
    {
     "name": "stdout",
     "output_type": "stream",
     "text": [
      "25/25 [==============================] - 8s 337ms/step\n",
      "sample numbet 157\n"
     ]
    },
    {
     "name": "stderr",
     "output_type": "stream",
     "text": [
      "100%|██████████| 793/793 [03:53<00:00,  3.40it/s]\n"
     ]
    },
    {
     "name": "stdout",
     "output_type": "stream",
     "text": [
      "25/25 [==============================] - 8s 337ms/step\n",
      "sample numbet 158\n"
     ]
    },
    {
     "name": "stderr",
     "output_type": "stream",
     "text": [
      "100%|██████████| 793/793 [03:57<00:00,  3.34it/s]\n"
     ]
    },
    {
     "name": "stdout",
     "output_type": "stream",
     "text": [
      "25/25 [==============================] - 8s 338ms/step\n",
      "sample numbet 159\n"
     ]
    },
    {
     "name": "stderr",
     "output_type": "stream",
     "text": [
      "100%|██████████| 793/793 [03:53<00:00,  3.40it/s]\n"
     ]
    },
    {
     "name": "stdout",
     "output_type": "stream",
     "text": [
      "25/25 [==============================] - 8s 337ms/step\n",
      "sample numbet 160\n"
     ]
    },
    {
     "name": "stderr",
     "output_type": "stream",
     "text": [
      "100%|██████████| 793/793 [03:53<00:00,  3.40it/s]\n"
     ]
    },
    {
     "name": "stdout",
     "output_type": "stream",
     "text": [
      "25/25 [==============================] - 8s 337ms/step\n",
      "sample numbet 161\n"
     ]
    },
    {
     "name": "stderr",
     "output_type": "stream",
     "text": [
      "100%|██████████| 793/793 [03:54<00:00,  3.38it/s]\n"
     ]
    },
    {
     "name": "stdout",
     "output_type": "stream",
     "text": [
      "25/25 [==============================] - 8s 337ms/step\n",
      "sample numbet 162\n"
     ]
    },
    {
     "name": "stderr",
     "output_type": "stream",
     "text": [
      "100%|██████████| 793/793 [03:54<00:00,  3.39it/s]\n"
     ]
    },
    {
     "name": "stdout",
     "output_type": "stream",
     "text": [
      "25/25 [==============================] - 8s 337ms/step\n",
      "sample numbet 163\n"
     ]
    },
    {
     "name": "stderr",
     "output_type": "stream",
     "text": [
      "100%|██████████| 793/793 [03:53<00:00,  3.40it/s]\n"
     ]
    },
    {
     "name": "stdout",
     "output_type": "stream",
     "text": [
      "25/25 [==============================] - 8s 337ms/step\n",
      "sample numbet 164\n"
     ]
    },
    {
     "name": "stderr",
     "output_type": "stream",
     "text": [
      "100%|██████████| 793/793 [03:54<00:00,  3.38it/s]\n"
     ]
    },
    {
     "name": "stdout",
     "output_type": "stream",
     "text": [
      "25/25 [==============================] - 8s 337ms/step\n",
      "sample numbet 165\n"
     ]
    },
    {
     "name": "stderr",
     "output_type": "stream",
     "text": [
      "100%|██████████| 793/793 [03:54<00:00,  3.38it/s]\n"
     ]
    },
    {
     "name": "stdout",
     "output_type": "stream",
     "text": [
      "25/25 [==============================] - 8s 337ms/step\n",
      "sample numbet 166\n"
     ]
    },
    {
     "name": "stderr",
     "output_type": "stream",
     "text": [
      "100%|██████████| 793/793 [03:55<00:00,  3.37it/s]\n"
     ]
    },
    {
     "name": "stdout",
     "output_type": "stream",
     "text": [
      "25/25 [==============================] - 8s 337ms/step\n",
      "sample numbet 167\n"
     ]
    },
    {
     "name": "stderr",
     "output_type": "stream",
     "text": [
      "100%|██████████| 793/793 [03:53<00:00,  3.39it/s]\n"
     ]
    },
    {
     "name": "stdout",
     "output_type": "stream",
     "text": [
      "25/25 [==============================] - 8s 337ms/step\n",
      "sample numbet 168\n"
     ]
    },
    {
     "name": "stderr",
     "output_type": "stream",
     "text": [
      "100%|██████████| 793/793 [03:53<00:00,  3.40it/s]\n"
     ]
    },
    {
     "name": "stdout",
     "output_type": "stream",
     "text": [
      "25/25 [==============================] - 8s 337ms/step\n",
      "sample numbet 169\n"
     ]
    },
    {
     "name": "stderr",
     "output_type": "stream",
     "text": [
      "100%|██████████| 793/793 [03:54<00:00,  3.38it/s]\n"
     ]
    },
    {
     "name": "stdout",
     "output_type": "stream",
     "text": [
      "25/25 [==============================] - 8s 337ms/step\n",
      "sample numbet 170\n"
     ]
    },
    {
     "name": "stderr",
     "output_type": "stream",
     "text": [
      "100%|██████████| 793/793 [03:55<00:00,  3.37it/s]\n"
     ]
    },
    {
     "name": "stdout",
     "output_type": "stream",
     "text": [
      "25/25 [==============================] - 8s 337ms/step\n",
      "sample numbet 171\n"
     ]
    },
    {
     "name": "stderr",
     "output_type": "stream",
     "text": [
      "100%|██████████| 793/793 [03:53<00:00,  3.39it/s]\n"
     ]
    },
    {
     "name": "stdout",
     "output_type": "stream",
     "text": [
      "25/25 [==============================] - 8s 337ms/step\n",
      "sample numbet 172\n"
     ]
    },
    {
     "name": "stderr",
     "output_type": "stream",
     "text": [
      "100%|██████████| 793/793 [03:54<00:00,  3.39it/s]\n"
     ]
    },
    {
     "name": "stdout",
     "output_type": "stream",
     "text": [
      "25/25 [==============================] - 8s 337ms/step\n",
      "sample numbet 173\n"
     ]
    },
    {
     "name": "stderr",
     "output_type": "stream",
     "text": [
      "100%|██████████| 793/793 [03:53<00:00,  3.39it/s]\n"
     ]
    },
    {
     "name": "stdout",
     "output_type": "stream",
     "text": [
      "25/25 [==============================] - 8s 337ms/step\n",
      "sample numbet 174\n"
     ]
    },
    {
     "name": "stderr",
     "output_type": "stream",
     "text": [
      "100%|██████████| 793/793 [03:54<00:00,  3.38it/s]\n"
     ]
    },
    {
     "name": "stdout",
     "output_type": "stream",
     "text": [
      "25/25 [==============================] - 8s 338ms/step\n",
      "sample numbet 175\n"
     ]
    },
    {
     "name": "stderr",
     "output_type": "stream",
     "text": [
      "100%|██████████| 793/793 [03:54<00:00,  3.39it/s]\n"
     ]
    },
    {
     "name": "stdout",
     "output_type": "stream",
     "text": [
      "25/25 [==============================] - 8s 337ms/step\n",
      "sample numbet 176\n"
     ]
    },
    {
     "name": "stderr",
     "output_type": "stream",
     "text": [
      "100%|██████████| 793/793 [03:53<00:00,  3.40it/s]\n"
     ]
    },
    {
     "name": "stdout",
     "output_type": "stream",
     "text": [
      "25/25 [==============================] - 8s 337ms/step\n",
      "sample numbet 177\n"
     ]
    },
    {
     "name": "stderr",
     "output_type": "stream",
     "text": [
      "100%|██████████| 793/793 [03:53<00:00,  3.40it/s]\n"
     ]
    },
    {
     "name": "stdout",
     "output_type": "stream",
     "text": [
      "25/25 [==============================] - 8s 337ms/step\n",
      "sample numbet 178\n"
     ]
    },
    {
     "name": "stderr",
     "output_type": "stream",
     "text": [
      "100%|██████████| 793/793 [03:53<00:00,  3.40it/s]\n"
     ]
    },
    {
     "name": "stdout",
     "output_type": "stream",
     "text": [
      "25/25 [==============================] - 8s 337ms/step\n",
      "sample numbet 179\n"
     ]
    },
    {
     "name": "stderr",
     "output_type": "stream",
     "text": [
      "100%|██████████| 793/793 [03:53<00:00,  3.39it/s]\n"
     ]
    },
    {
     "name": "stdout",
     "output_type": "stream",
     "text": [
      "25/25 [==============================] - 8s 337ms/step\n",
      "sample numbet 180\n"
     ]
    },
    {
     "name": "stderr",
     "output_type": "stream",
     "text": [
      "100%|██████████| 793/793 [03:53<00:00,  3.40it/s]\n"
     ]
    },
    {
     "name": "stdout",
     "output_type": "stream",
     "text": [
      "25/25 [==============================] - 8s 337ms/step\n",
      "sample numbet 181\n"
     ]
    },
    {
     "name": "stderr",
     "output_type": "stream",
     "text": [
      "100%|██████████| 793/793 [03:53<00:00,  3.40it/s]\n"
     ]
    },
    {
     "name": "stdout",
     "output_type": "stream",
     "text": [
      "25/25 [==============================] - 8s 338ms/step\n",
      "sample numbet 182\n"
     ]
    },
    {
     "name": "stderr",
     "output_type": "stream",
     "text": [
      "100%|██████████| 793/793 [03:53<00:00,  3.40it/s]\n"
     ]
    },
    {
     "name": "stdout",
     "output_type": "stream",
     "text": [
      "25/25 [==============================] - 8s 337ms/step\n",
      "sample numbet 183\n"
     ]
    },
    {
     "name": "stderr",
     "output_type": "stream",
     "text": [
      "100%|██████████| 793/793 [03:53<00:00,  3.40it/s]\n"
     ]
    },
    {
     "name": "stdout",
     "output_type": "stream",
     "text": [
      "25/25 [==============================] - 8s 337ms/step\n",
      "sample numbet 184\n"
     ]
    },
    {
     "name": "stderr",
     "output_type": "stream",
     "text": [
      "100%|██████████| 793/793 [03:54<00:00,  3.39it/s]\n"
     ]
    },
    {
     "name": "stdout",
     "output_type": "stream",
     "text": [
      "25/25 [==============================] - 8s 337ms/step\n",
      "sample numbet 185\n"
     ]
    },
    {
     "name": "stderr",
     "output_type": "stream",
     "text": [
      "100%|██████████| 793/793 [03:54<00:00,  3.38it/s]\n"
     ]
    },
    {
     "name": "stdout",
     "output_type": "stream",
     "text": [
      "25/25 [==============================] - 8s 338ms/step\n",
      "sample numbet 186\n"
     ]
    },
    {
     "name": "stderr",
     "output_type": "stream",
     "text": [
      "100%|██████████| 793/793 [03:58<00:00,  3.33it/s]\n"
     ]
    },
    {
     "name": "stdout",
     "output_type": "stream",
     "text": [
      "25/25 [==============================] - 8s 338ms/step\n",
      "sample numbet 187\n"
     ]
    },
    {
     "name": "stderr",
     "output_type": "stream",
     "text": [
      "100%|██████████| 793/793 [03:55<00:00,  3.37it/s]\n"
     ]
    },
    {
     "name": "stdout",
     "output_type": "stream",
     "text": [
      "25/25 [==============================] - 8s 337ms/step\n",
      "sample numbet 188\n"
     ]
    },
    {
     "name": "stderr",
     "output_type": "stream",
     "text": [
      "100%|██████████| 793/793 [03:54<00:00,  3.38it/s]\n"
     ]
    },
    {
     "name": "stdout",
     "output_type": "stream",
     "text": [
      "25/25 [==============================] - 8s 338ms/step\n",
      "sample numbet 189\n"
     ]
    },
    {
     "name": "stderr",
     "output_type": "stream",
     "text": [
      "100%|██████████| 793/793 [03:53<00:00,  3.39it/s]\n"
     ]
    },
    {
     "name": "stdout",
     "output_type": "stream",
     "text": [
      "25/25 [==============================] - 8s 337ms/step\n",
      "sample numbet 190\n"
     ]
    },
    {
     "name": "stderr",
     "output_type": "stream",
     "text": [
      "100%|██████████| 793/793 [03:54<00:00,  3.39it/s]\n"
     ]
    },
    {
     "name": "stdout",
     "output_type": "stream",
     "text": [
      "25/25 [==============================] - 8s 337ms/step\n",
      "sample numbet 191\n"
     ]
    },
    {
     "name": "stderr",
     "output_type": "stream",
     "text": [
      "100%|██████████| 793/793 [03:53<00:00,  3.40it/s]\n"
     ]
    },
    {
     "name": "stdout",
     "output_type": "stream",
     "text": [
      "25/25 [==============================] - 8s 337ms/step\n",
      "sample numbet 192\n"
     ]
    },
    {
     "name": "stderr",
     "output_type": "stream",
     "text": [
      "100%|██████████| 793/793 [03:54<00:00,  3.39it/s]\n"
     ]
    },
    {
     "name": "stdout",
     "output_type": "stream",
     "text": [
      "25/25 [==============================] - 8s 338ms/step\n",
      "sample numbet 193\n"
     ]
    },
    {
     "name": "stderr",
     "output_type": "stream",
     "text": [
      "100%|██████████| 793/793 [03:53<00:00,  3.39it/s]\n"
     ]
    },
    {
     "name": "stdout",
     "output_type": "stream",
     "text": [
      "25/25 [==============================] - 8s 337ms/step\n",
      "sample numbet 194\n"
     ]
    },
    {
     "name": "stderr",
     "output_type": "stream",
     "text": [
      "100%|██████████| 793/793 [03:54<00:00,  3.38it/s]\n"
     ]
    },
    {
     "name": "stdout",
     "output_type": "stream",
     "text": [
      "25/25 [==============================] - 8s 337ms/step\n",
      "sample numbet 195\n"
     ]
    },
    {
     "name": "stderr",
     "output_type": "stream",
     "text": [
      "100%|██████████| 793/793 [03:53<00:00,  3.39it/s]\n"
     ]
    },
    {
     "name": "stdout",
     "output_type": "stream",
     "text": [
      "25/25 [==============================] - 8s 337ms/step\n",
      "sample numbet 196\n"
     ]
    },
    {
     "name": "stderr",
     "output_type": "stream",
     "text": [
      "100%|██████████| 793/793 [03:54<00:00,  3.38it/s]\n"
     ]
    },
    {
     "name": "stdout",
     "output_type": "stream",
     "text": [
      "25/25 [==============================] - 8s 337ms/step\n",
      "sample numbet 197\n"
     ]
    },
    {
     "name": "stderr",
     "output_type": "stream",
     "text": [
      "100%|██████████| 793/793 [03:55<00:00,  3.36it/s]\n"
     ]
    },
    {
     "name": "stdout",
     "output_type": "stream",
     "text": [
      "25/25 [==============================] - 8s 337ms/step\n",
      "sample numbet 198\n"
     ]
    },
    {
     "name": "stderr",
     "output_type": "stream",
     "text": [
      "100%|██████████| 793/793 [03:55<00:00,  3.37it/s]\n"
     ]
    },
    {
     "name": "stdout",
     "output_type": "stream",
     "text": [
      "25/25 [==============================] - 8s 337ms/step\n",
      "sample numbet 199\n"
     ]
    },
    {
     "name": "stderr",
     "output_type": "stream",
     "text": [
      "100%|██████████| 793/793 [03:54<00:00,  3.38it/s]\n"
     ]
    },
    {
     "name": "stdout",
     "output_type": "stream",
     "text": [
      "25/25 [==============================] - 8s 337ms/step\n",
      "sample numbet 200\n"
     ]
    },
    {
     "name": "stderr",
     "output_type": "stream",
     "text": [
      "100%|██████████| 793/793 [03:53<00:00,  3.40it/s]\n"
     ]
    },
    {
     "name": "stdout",
     "output_type": "stream",
     "text": [
      "25/25 [==============================] - 8s 337ms/step\n",
      "sample numbet 201\n"
     ]
    },
    {
     "name": "stderr",
     "output_type": "stream",
     "text": [
      "100%|██████████| 793/793 [03:54<00:00,  3.38it/s]\n"
     ]
    },
    {
     "name": "stdout",
     "output_type": "stream",
     "text": [
      "25/25 [==============================] - 8s 337ms/step\n",
      "sample numbet 202\n"
     ]
    },
    {
     "name": "stderr",
     "output_type": "stream",
     "text": [
      "100%|██████████| 793/793 [03:53<00:00,  3.39it/s]\n"
     ]
    },
    {
     "name": "stdout",
     "output_type": "stream",
     "text": [
      "25/25 [==============================] - 8s 337ms/step\n",
      "sample numbet 203\n"
     ]
    },
    {
     "name": "stderr",
     "output_type": "stream",
     "text": [
      "100%|██████████| 793/793 [03:54<00:00,  3.39it/s]\n"
     ]
    },
    {
     "name": "stdout",
     "output_type": "stream",
     "text": [
      "25/25 [==============================] - 8s 337ms/step\n",
      "sample numbet 204\n"
     ]
    },
    {
     "name": "stderr",
     "output_type": "stream",
     "text": [
      "100%|██████████| 793/793 [03:53<00:00,  3.40it/s]\n"
     ]
    },
    {
     "name": "stdout",
     "output_type": "stream",
     "text": [
      "25/25 [==============================] - 8s 337ms/step\n",
      "sample numbet 205\n"
     ]
    },
    {
     "name": "stderr",
     "output_type": "stream",
     "text": [
      "100%|██████████| 793/793 [03:53<00:00,  3.40it/s]\n"
     ]
    },
    {
     "name": "stdout",
     "output_type": "stream",
     "text": [
      "25/25 [==============================] - 8s 337ms/step\n",
      "sample numbet 206\n"
     ]
    },
    {
     "name": "stderr",
     "output_type": "stream",
     "text": [
      "100%|██████████| 793/793 [03:56<00:00,  3.35it/s]\n"
     ]
    },
    {
     "name": "stdout",
     "output_type": "stream",
     "text": [
      "25/25 [==============================] - 8s 338ms/step\n",
      "sample numbet 207\n"
     ]
    },
    {
     "name": "stderr",
     "output_type": "stream",
     "text": [
      "100%|██████████| 793/793 [03:53<00:00,  3.39it/s]\n"
     ]
    },
    {
     "name": "stdout",
     "output_type": "stream",
     "text": [
      "25/25 [==============================] - 8s 337ms/step\n",
      "sample numbet 208\n"
     ]
    },
    {
     "name": "stderr",
     "output_type": "stream",
     "text": [
      "100%|██████████| 793/793 [03:53<00:00,  3.40it/s]\n"
     ]
    },
    {
     "name": "stdout",
     "output_type": "stream",
     "text": [
      "25/25 [==============================] - 8s 337ms/step\n",
      "sample numbet 209\n"
     ]
    },
    {
     "name": "stderr",
     "output_type": "stream",
     "text": [
      "100%|██████████| 793/793 [03:53<00:00,  3.40it/s]\n"
     ]
    },
    {
     "name": "stdout",
     "output_type": "stream",
     "text": [
      "25/25 [==============================] - 8s 337ms/step\n",
      "sample numbet 210\n"
     ]
    },
    {
     "name": "stderr",
     "output_type": "stream",
     "text": [
      "100%|██████████| 793/793 [03:53<00:00,  3.40it/s]\n"
     ]
    },
    {
     "name": "stdout",
     "output_type": "stream",
     "text": [
      "25/25 [==============================] - 8s 337ms/step\n"
     ]
    }
   ],
   "source": [
    "from sklearn.linear_model import LogisticRegression\n",
    "cof = []\n",
    "counter = 101\n",
    "\n",
    "for i in tp_samples[100:]:\n",
    "    print('sample numbet', counter)\n",
    "    counter = counter + 1\n",
    "    neighbors = []\n",
    "    for j in neigh_mx:\n",
    "        neighbors.append(j * x_test[i])\n",
    "    neighbor_tr = RP_final_data(neighbors)\n",
    "    p = model.predict(neighbor_tr)\n",
    "    pp = np.zeros(np.shape(p))\n",
    "    pp[p > 0.5] = 1\n",
    "    wei = []\n",
    "    for k in np.squeeze(neigh_mx):\n",
    "        wei.append(sum(k)/12)\n",
    "    lr = LogisticRegression()\n",
    "    \n",
    "    # !!!!!!Change arrhythmia\n",
    "    lr.fit(np.squeeze(neigh_mx), pp[:,6], sample_weight = wei)\n",
    "    \n",
    "    cof.append(lr.coef_)"
   ]
  },
  {
   "cell_type": "code",
   "execution_count": 9,
   "id": "a2f98456",
   "metadata": {
    "execution": {
     "iopub.execute_input": "2024-01-13T05:52:10.833432Z",
     "iopub.status.busy": "2024-01-13T05:52:10.833035Z",
     "iopub.status.idle": "2024-01-13T05:52:10.837932Z",
     "shell.execute_reply": "2024-01-13T05:52:10.837185Z"
    },
    "papermill": {
     "duration": 7.531614,
     "end_time": "2024-01-13T05:52:10.839840",
     "exception": false,
     "start_time": "2024-01-13T05:52:03.308226",
     "status": "completed"
    },
    "tags": []
   },
   "outputs": [],
   "source": [
    "cf2 = np.squeeze(cof)"
   ]
  },
  {
   "cell_type": "code",
   "execution_count": 10,
   "id": "d6fe8afa",
   "metadata": {
    "execution": {
     "iopub.execute_input": "2024-01-13T05:52:25.892484Z",
     "iopub.status.busy": "2024-01-13T05:52:25.892089Z",
     "iopub.status.idle": "2024-01-13T05:52:25.898138Z",
     "shell.execute_reply": "2024-01-13T05:52:25.897312Z"
    },
    "papermill": {
     "duration": 7.43867,
     "end_time": "2024-01-13T05:52:25.899966",
     "exception": false,
     "start_time": "2024-01-13T05:52:18.461296",
     "status": "completed"
    },
    "tags": []
   },
   "outputs": [],
   "source": [
    "my_dict = {\n",
    "    'Lead I':cf2[:,0],\n",
    "    'Lead II':cf2[:,1],\n",
    "    'Lead III':cf2[:,2],\n",
    "    'Lead avF':cf2[:,3],\n",
    "    'Lead avR':cf2[:,4],\n",
    "    'Lead avL':cf2[:,5],\n",
    "    'Lead V1':cf2[:,6],\n",
    "    'Lead V2':cf2[:,7],\n",
    "    'Lead V3':cf2[:,8],\n",
    "    'Lead V4':cf2[:,9],\n",
    "    'Lead V5':cf2[:,10],\n",
    "    'Lead V6':cf2[:,11]\n",
    "}"
   ]
  },
  {
   "cell_type": "code",
   "execution_count": 11,
   "id": "c2039020",
   "metadata": {
    "execution": {
     "iopub.execute_input": "2024-01-13T05:52:41.115258Z",
     "iopub.status.busy": "2024-01-13T05:52:41.114893Z",
     "iopub.status.idle": "2024-01-13T05:52:41.571723Z",
     "shell.execute_reply": "2024-01-13T05:52:41.570796Z"
    },
    "papermill": {
     "duration": 8.19234,
     "end_time": "2024-01-13T05:52:41.573679",
     "exception": false,
     "start_time": "2024-01-13T05:52:33.381339",
     "status": "completed"
    },
    "tags": []
   },
   "outputs": [
    {
     "data": {
      "image/png": "[encoded data removed]",
      "text/plain": [
       "<Figure size 640x480 with 1 Axes>"
      ]
     },
     "metadata": {},
     "output_type": "display_data"
    }
   ],
   "source": [
    "import matplotlib.pyplot as plt\n",
    "fig, ax = plt.subplots()\n",
    "ax.boxplot(my_dict.values())\n",
    "plt.axline((0,0),(11,0),color='black')\n",
    "ax.set_xticklabels(my_dict.keys())\n",
    "plt.xticks(rotation=90)\n",
    "plt.show()"
   ]
  },
  {
   "cell_type": "code",
   "execution_count": 12,
   "id": "2346975e",
   "metadata": {
    "execution": {
     "iopub.execute_input": "2024-01-13T05:52:56.614154Z",
     "iopub.status.busy": "2024-01-13T05:52:56.613788Z",
     "iopub.status.idle": "2024-01-13T05:52:56.619071Z",
     "shell.execute_reply": "2024-01-13T05:52:56.618153Z"
    },
    "papermill": {
     "duration": 7.610051,
     "end_time": "2024-01-13T05:52:56.620983",
     "exception": false,
     "start_time": "2024-01-13T05:52:49.010932",
     "status": "completed"
    },
    "tags": []
   },
   "outputs": [],
   "source": [
    "np.savez('/kaggle/working/Stachweights_2' , cf2)"
   ]
  }
 ],
 "metadata": {
  "kaggle": {
   "accelerator": "gpu",
   "dataSources": [
    {
     "datasetId": 4297291,
     "sourceId": 7392037,
     "sourceType": "datasetVersion"
    },
    {
     "datasetId": 4297302,
     "sourceId": 7392058,
     "sourceType": "datasetVersion"
    },
    {
     "sourceId": 158657780,
     "sourceType": "kernelVersion"
    },
    {
     "sourceId": 158658001,
     "sourceType": "kernelVersion"
    }
   ],
   "dockerImageVersionId": 30636,
   "isGpuEnabled": true,
   "isInternetEnabled": true,
   "language": "python",
   "sourceType": "notebook"
  },
  "kernelspec": {
   "display_name": "Python 3",
   "language": "python",
   "name": "python3"
  },
  "language_info": {
   "codemirror_mode": {
    "name": "ipython",
    "version": 3
   },
   "file_extension": ".py",
   "mimetype": "text/x-python",
   "name": "python",
   "nbconvert_exporter": "python",
   "pygments_lexer": "ipython3",
   "version": "3.10.12"
  },
  "papermill": {
   "default_parameters": {},
   "duration": 27341.056273,
   "end_time": "2024-01-13T05:53:07.357260",
   "environment_variables": {},
   "exception": null,
   "input_path": "__notebook__.ipynb",
   "output_path": "__notebook__.ipynb",
   "parameters": {},
   "start_time": "2024-01-12T22:17:26.300987",
   "version": "2.4.0"
  }
 },
 "nbformat": 4,
 "nbformat_minor": 5
}
