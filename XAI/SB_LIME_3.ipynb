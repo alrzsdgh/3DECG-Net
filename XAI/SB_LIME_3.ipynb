{
 "cells": [
  {
   "cell_type": "code",
   "execution_count": 1,
   "id": "9a7ef2a4",
   "metadata": {
    "_cell_guid": "5c54567a-4670-482f-801e-fbc60d182288",
    "_uuid": "3d34b6d4-d377-44cb-99e0-87f237aaf922",
    "collapsed": false,
    "execution": {
     "iopub.execute_input": "2024-01-10T01:13:20.582053Z",
     "iopub.status.busy": "2024-01-10T01:13:20.581727Z",
     "iopub.status.idle": "2024-01-10T01:13:50.153977Z",
     "shell.execute_reply": "2024-01-10T01:13:50.153043Z"
    },
    "jupyter": {
     "outputs_hidden": false
    },
    "papermill": {
     "duration": 29.580378,
     "end_time": "2024-01-10T01:13:50.156207",
     "exception": false,
     "start_time": "2024-01-10T01:13:20.575829",
     "status": "completed"
    },
    "tags": []
   },
   "outputs": [
    {
     "name": "stdout",
     "output_type": "stream",
     "text": [
      "Collecting gdown\r\n",
      "  Downloading gdown-4.7.1-py3-none-any.whl (15 kB)\r\n",
      "Requirement already satisfied: filelock in /opt/conda/lib/python3.10/site-packages (from gdown) (3.12.2)\r\n",
      "Requirement already satisfied: requests[socks] in /opt/conda/lib/python3.10/site-packages (from gdown) (2.31.0)\r\n",
      "Requirement already satisfied: six in /opt/conda/lib/python3.10/site-packages (from gdown) (1.16.0)\r\n",
      "Requirement already satisfied: tqdm in /opt/conda/lib/python3.10/site-packages (from gdown) (4.66.1)\r\n",
      "Requirement already satisfied: beautifulsoup4 in /opt/conda/lib/python3.10/site-packages (from gdown) (4.12.2)\r\n",
      "Requirement already satisfied: soupsieve>1.2 in /opt/conda/lib/python3.10/site-packages (from beautifulsoup4->gdown) (2.3.2.post1)\r\n",
      "Requirement already satisfied: charset-normalizer<4,>=2 in /opt/conda/lib/python3.10/site-packages (from requests[socks]->gdown) (3.2.0)\r\n",
      "Requirement already satisfied: idna<4,>=2.5 in /opt/conda/lib/python3.10/site-packages (from requests[socks]->gdown) (3.4)\r\n",
      "Requirement already satisfied: urllib3<3,>=1.21.1 in /opt/conda/lib/python3.10/site-packages (from requests[socks]->gdown) (1.26.15)\r\n",
      "Requirement already satisfied: certifi>=2017.4.17 in /opt/conda/lib/python3.10/site-packages (from requests[socks]->gdown) (2023.11.17)\r\n",
      "Requirement already satisfied: PySocks!=1.5.7,>=1.5.6 in /opt/conda/lib/python3.10/site-packages (from requests[socks]->gdown) (1.7.1)\r\n",
      "Installing collected packages: gdown\r\n",
      "Successfully installed gdown-4.7.1\r\n",
      "/opt/conda/lib/python3.10/site-packages/gdown/cli.py:126: FutureWarning: Option `--id` was deprecated in version 4.3.1 and will be removed in 5.0. You don't need to pass it anymore to use a file ID.\r\n",
      "  warnings.warn(\r\n",
      "Downloading...\r\n",
      "From (uriginal): https://drive.google.com/uc?id=1-1EjRHAq-4nhXIJ9-OobWmMXavl1B4zn\r\n",
      "From (redirected): https://drive.google.com/uc?id=1-1EjRHAq-4nhXIJ9-OobWmMXavl1B4zn&confirm=t&uuid=084c9a4b-7d7b-4696-9b41-ac70327466ab\r\n",
      "To: /kaggle/working/data.pkl\r\n",
      "100%|███████████████████████████████████████| 1.24G/1.24G [00:10<00:00, 113MB/s]\r\n",
      "/opt/conda/lib/python3.10/site-packages/gdown/cli.py:126: FutureWarning: Option `--id` was deprecated in version 4.3.1 and will be removed in 5.0. You don't need to pass it anymore to use a file ID.\r\n",
      "  warnings.warn(\r\n",
      "Downloading...\r\n",
      "From: https://drive.google.com/uc?id=1uiL-O3EtAholf9qrtR8TlppjrGHW10Rh\r\n",
      "To: /kaggle/working/3DECGNet.h5\r\n",
      "100%|███████████████████████████████████████| 3.57M/3.57M [00:00<00:00, 201MB/s]\r\n"
     ]
    }
   ],
   "source": [
    "!pip install gdown\n",
    "!gdown --id 1-1EjRHAq-4nhXIJ9-OobWmMXavl1B4zn\n",
    "!gdown --id 1uiL-O3EtAholf9qrtR8TlppjrGHW10Rh"
   ]
  },
  {
   "cell_type": "code",
   "execution_count": 2,
   "id": "bddddaad",
   "metadata": {
    "execution": {
     "iopub.execute_input": "2024-01-10T01:13:50.178573Z",
     "iopub.status.busy": "2024-01-10T01:13:50.178278Z",
     "iopub.status.idle": "2024-01-10T01:14:02.520640Z",
     "shell.execute_reply": "2024-01-10T01:14:02.519821Z"
    },
    "papermill": {
     "duration": 12.356035,
     "end_time": "2024-01-10T01:14:02.522975",
     "exception": false,
     "start_time": "2024-01-10T01:13:50.166940",
     "status": "completed"
    },
    "tags": []
   },
   "outputs": [
    {
     "name": "stderr",
     "output_type": "stream",
     "text": [
      "/opt/conda/lib/python3.10/site-packages/scipy/__init__.py:146: UserWarning: A NumPy version >=1.16.5 and <1.23.0 is required for this version of SciPy (detected version 1.24.3\n",
      "  warnings.warn(f\"A NumPy version >={np_minversion} and <{np_maxversion}\"\n"
     ]
    }
   ],
   "source": [
    "import pickle\n",
    "from tqdm import tqdm\n",
    "import tensorflow as tf\n",
    "import numpy as np\n",
    "\n",
    "from preprocess import data_preparation\n",
    "from preprocess import signal_cutter\n",
    "from preprocess import data_filtering\n",
    "from preprocess import resampling\n",
    "from preprocess import RP_3D\n",
    "from preprocess import resize_volume\n",
    "from preprocess import RP_final_data\n",
    "from preprocess import label_creator\n",
    "from preprocess import including_data\n",
    "from lime_utils import tp_finder\n",
    "from lime_utils import lead_replacing\n",
    "from lime_utils import weight_bars"
   ]
  },
  {
   "cell_type": "code",
   "execution_count": 3,
   "id": "d98f21e3",
   "metadata": {
    "execution": {
     "iopub.execute_input": "2024-01-10T01:14:02.546452Z",
     "iopub.status.busy": "2024-01-10T01:14:02.545425Z",
     "iopub.status.idle": "2024-01-10T01:14:03.566893Z",
     "shell.execute_reply": "2024-01-10T01:14:03.566061Z"
    },
    "papermill": {
     "duration": 1.035466,
     "end_time": "2024-01-10T01:14:03.569172",
     "exception": false,
     "start_time": "2024-01-10T01:14:02.533706",
     "status": "completed"
    },
    "tags": []
   },
   "outputs": [],
   "source": [
    "# Read dictionary pkl file\n",
    "with open('/kaggle/working/data.pkl', 'rb') as fp:\n",
    "    dataset = pickle.load(fp)"
   ]
  },
  {
   "cell_type": "code",
   "execution_count": 4,
   "id": "01812570",
   "metadata": {
    "execution": {
     "iopub.execute_input": "2024-01-10T01:14:03.591353Z",
     "iopub.status.busy": "2024-01-10T01:14:03.591023Z",
     "iopub.status.idle": "2024-01-10T01:15:23.406650Z",
     "shell.execute_reply": "2024-01-10T01:15:23.405675Z"
    },
    "papermill": {
     "duration": 79.829239,
     "end_time": "2024-01-10T01:15:23.409024",
     "exception": false,
     "start_time": "2024-01-10T01:14:03.579785",
     "status": "completed"
    },
    "tags": []
   },
   "outputs": [
    {
     "name": "stderr",
     "output_type": "stream",
     "text": [
      "100%|██████████| 10344/10344 [00:00<00:00, 1050810.90it/s]\n",
      "100%|██████████| 10344/10344 [00:00<00:00, 612985.40it/s]\n",
      "100%|██████████| 10344/10344 [01:17<00:00, 132.66it/s]\n",
      "100%|██████████| 10344/10344 [00:01<00:00, 7702.54it/s]\n"
     ]
    }
   ],
   "source": [
    "ds = data_preparation(dataset)\n",
    "\n",
    "# shortening\n",
    "ds = signal_cutter(ds, d_length=1000)\n",
    "\n",
    "# denoising\n",
    "ds = data_filtering(ds)\n",
    "\n",
    "# resampling\n",
    "ds = resampling(ds, desired_points = 100)"
   ]
  },
  {
   "cell_type": "code",
   "execution_count": 5,
   "id": "95cd69b8",
   "metadata": {
    "execution": {
     "iopub.execute_input": "2024-01-10T01:15:23.546046Z",
     "iopub.status.busy": "2024-01-10T01:15:23.545685Z",
     "iopub.status.idle": "2024-01-10T01:21:08.746047Z",
     "shell.execute_reply": "2024-01-10T01:21:08.745179Z"
    },
    "papermill": {
     "duration": 345.271246,
     "end_time": "2024-01-10T01:21:08.748474",
     "exception": false,
     "start_time": "2024-01-10T01:15:23.477228",
     "status": "completed"
    },
    "tags": []
   },
   "outputs": [
    {
     "name": "stderr",
     "output_type": "stream",
     "text": [
      "100%|██████████| 10344/10344 [00:00<00:00, 983405.43it/s]\n",
      "10344it [00:07, 1324.04it/s]\n",
      "10344it [00:04, 2227.84it/s]\n",
      "100%|██████████| 1126/1126 [05:32<00:00,  3.39it/s]\n"
     ]
    }
   ],
   "source": [
    "arr = {'NSR':'426783006', 'AF':'164889003', 'IAVB':'270492004', 'LBBB':'164909002', 'RBBB':'59118001', 'SB':'426177001', 'STach':'427084000'}\n",
    "labels = label_creator(data_preparation(dataset), arr)\n",
    "x_train, y_train, x_test, y_test = including_data(labels, ds)\n",
    "# transformation and resizing\n",
    "tmp_x_test = RP_final_data(x_test)"
   ]
  },
  {
   "cell_type": "code",
   "execution_count": 6,
   "id": "3ea86440",
   "metadata": {
    "execution": {
     "iopub.execute_input": "2024-01-10T01:21:09.079937Z",
     "iopub.status.busy": "2024-01-10T01:21:09.079549Z",
     "iopub.status.idle": "2024-01-10T01:21:27.371711Z",
     "shell.execute_reply": "2024-01-10T01:21:27.370909Z"
    },
    "papermill": {
     "duration": 18.46001,
     "end_time": "2024-01-10T01:21:27.373845",
     "exception": false,
     "start_time": "2024-01-10T01:21:08.913835",
     "status": "completed"
    },
    "tags": []
   },
   "outputs": [
    {
     "name": "stdout",
     "output_type": "stream",
     "text": [
      "36/36 [==============================] - 15s 347ms/step\n"
     ]
    }
   ],
   "source": [
    "model = tf.keras.models.load_model('/kaggle/working/3DECGNet.h5')\n",
    "pred_proba = model.predict(tmp_x_test)\n",
    "prediction = np.zeros(np.shape(pred_proba))\n",
    "prediction[pred_proba > 0.5] = 1"
   ]
  },
  {
   "cell_type": "code",
   "execution_count": 7,
   "id": "36a32695",
   "metadata": {
    "execution": {
     "iopub.execute_input": "2024-01-10T01:21:27.713845Z",
     "iopub.status.busy": "2024-01-10T01:21:27.713106Z",
     "iopub.status.idle": "2024-01-10T01:21:27.727260Z",
     "shell.execute_reply": "2024-01-10T01:21:27.726533Z"
    },
    "papermill": {
     "duration": 0.184437,
     "end_time": "2024-01-10T01:21:27.729111",
     "exception": false,
     "start_time": "2024-01-10T01:21:27.544674",
     "status": "completed"
    },
    "tags": []
   },
   "outputs": [],
   "source": [
    "neigh_mx = lead_replacing()\n",
    "\n",
    "# !!!!!!Change arrhythmia\n",
    "tp_samples = tp_finder(prediction, y_test, 'SB', arr)"
   ]
  },
  {
   "cell_type": "code",
   "execution_count": 8,
   "id": "6e500bc6",
   "metadata": {
    "execution": {
     "iopub.execute_input": "2024-01-10T01:21:28.109026Z",
     "iopub.status.busy": "2024-01-10T01:21:28.108322Z",
     "iopub.status.idle": "2024-01-10T01:21:28.115285Z",
     "shell.execute_reply": "2024-01-10T01:21:28.114396Z"
    },
    "papermill": {
     "duration": 0.177526,
     "end_time": "2024-01-10T01:21:28.117177",
     "exception": false,
     "start_time": "2024-01-10T01:21:27.939651",
     "status": "completed"
    },
    "tags": []
   },
   "outputs": [
    {
     "data": {
      "text/plain": [
       "252"
      ]
     },
     "execution_count": 8,
     "metadata": {},
     "output_type": "execute_result"
    }
   ],
   "source": [
    "len(tp_samples)"
   ]
  },
  {
   "cell_type": "code",
   "execution_count": 9,
   "id": "3e5d229c",
   "metadata": {
    "execution": {
     "iopub.execute_input": "2024-01-10T01:21:28.451006Z",
     "iopub.status.busy": "2024-01-10T01:21:28.450115Z",
     "iopub.status.idle": "2024-01-10T08:17:46.377260Z",
     "shell.execute_reply": "2024-01-10T08:17:46.375681Z"
    },
    "papermill": {
     "duration": 24978.098267,
     "end_time": "2024-01-10T08:17:46.381332",
     "exception": false,
     "start_time": "2024-01-10T01:21:28.283065",
     "status": "completed"
    },
    "tags": []
   },
   "outputs": [
    {
     "name": "stdout",
     "output_type": "stream",
     "text": [
      "sample numbet 151\n"
     ]
    },
    {
     "name": "stderr",
     "output_type": "stream",
     "text": [
      "100%|██████████| 793/793 [03:53<00:00,  3.39it/s]\n"
     ]
    },
    {
     "name": "stdout",
     "output_type": "stream",
     "text": [
      "25/25 [==============================] - 9s 366ms/step\n",
      "sample numbet 152\n"
     ]
    },
    {
     "name": "stderr",
     "output_type": "stream",
     "text": [
      "100%|██████████| 793/793 [03:53<00:00,  3.39it/s]\n"
     ]
    },
    {
     "name": "stdout",
     "output_type": "stream",
     "text": [
      "25/25 [==============================] - 9s 347ms/step\n",
      "sample numbet 153\n"
     ]
    },
    {
     "name": "stderr",
     "output_type": "stream",
     "text": [
      "100%|██████████| 793/793 [03:53<00:00,  3.39it/s]\n"
     ]
    },
    {
     "name": "stdout",
     "output_type": "stream",
     "text": [
      "25/25 [==============================] - 9s 347ms/step\n",
      "sample numbet 154\n"
     ]
    },
    {
     "name": "stderr",
     "output_type": "stream",
     "text": [
      "100%|██████████| 793/793 [03:53<00:00,  3.39it/s]\n"
     ]
    },
    {
     "name": "stdout",
     "output_type": "stream",
     "text": [
      "25/25 [==============================] - 9s 347ms/step\n",
      "sample numbet 155\n"
     ]
    },
    {
     "name": "stderr",
     "output_type": "stream",
     "text": [
      "100%|██████████| 793/793 [03:53<00:00,  3.39it/s]\n"
     ]
    },
    {
     "name": "stdout",
     "output_type": "stream",
     "text": [
      "25/25 [==============================] - 9s 347ms/step\n",
      "sample numbet 156\n"
     ]
    },
    {
     "name": "stderr",
     "output_type": "stream",
     "text": [
      "100%|██████████| 793/793 [03:54<00:00,  3.38it/s]\n"
     ]
    },
    {
     "name": "stdout",
     "output_type": "stream",
     "text": [
      "25/25 [==============================] - 9s 347ms/step\n",
      "sample numbet 157\n"
     ]
    },
    {
     "name": "stderr",
     "output_type": "stream",
     "text": [
      "100%|██████████| 793/793 [03:54<00:00,  3.39it/s]\n"
     ]
    },
    {
     "name": "stdout",
     "output_type": "stream",
     "text": [
      "25/25 [==============================] - 9s 347ms/step\n",
      "sample numbet 158\n"
     ]
    },
    {
     "name": "stderr",
     "output_type": "stream",
     "text": [
      "100%|██████████| 793/793 [03:54<00:00,  3.39it/s]\n"
     ]
    },
    {
     "name": "stdout",
     "output_type": "stream",
     "text": [
      "25/25 [==============================] - 9s 348ms/step\n",
      "sample numbet 159\n"
     ]
    },
    {
     "name": "stderr",
     "output_type": "stream",
     "text": [
      "100%|██████████| 793/793 [03:53<00:00,  3.39it/s]\n"
     ]
    },
    {
     "name": "stdout",
     "output_type": "stream",
     "text": [
      "25/25 [==============================] - 9s 348ms/step\n",
      "sample numbet 160\n"
     ]
    },
    {
     "name": "stderr",
     "output_type": "stream",
     "text": [
      "100%|██████████| 793/793 [03:54<00:00,  3.38it/s]\n"
     ]
    },
    {
     "name": "stdout",
     "output_type": "stream",
     "text": [
      "25/25 [==============================] - 9s 347ms/step\n",
      "sample numbet 161\n"
     ]
    },
    {
     "name": "stderr",
     "output_type": "stream",
     "text": [
      "100%|██████████| 793/793 [03:53<00:00,  3.39it/s]\n"
     ]
    },
    {
     "name": "stdout",
     "output_type": "stream",
     "text": [
      "25/25 [==============================] - 9s 347ms/step\n",
      "sample numbet 162\n"
     ]
    },
    {
     "name": "stderr",
     "output_type": "stream",
     "text": [
      "100%|██████████| 793/793 [03:54<00:00,  3.39it/s]\n"
     ]
    },
    {
     "name": "stdout",
     "output_type": "stream",
     "text": [
      "25/25 [==============================] - 9s 347ms/step\n",
      "sample numbet 163\n"
     ]
    },
    {
     "name": "stderr",
     "output_type": "stream",
     "text": [
      "100%|██████████| 793/793 [03:54<00:00,  3.38it/s]\n"
     ]
    },
    {
     "name": "stdout",
     "output_type": "stream",
     "text": [
      "25/25 [==============================] - 9s 347ms/step\n",
      "sample numbet 164\n"
     ]
    },
    {
     "name": "stderr",
     "output_type": "stream",
     "text": [
      "100%|██████████| 793/793 [03:54<00:00,  3.38it/s]\n"
     ]
    },
    {
     "name": "stdout",
     "output_type": "stream",
     "text": [
      "25/25 [==============================] - 9s 347ms/step\n",
      "sample numbet 165\n"
     ]
    },
    {
     "name": "stderr",
     "output_type": "stream",
     "text": [
      "100%|██████████| 793/793 [03:54<00:00,  3.39it/s]\n"
     ]
    },
    {
     "name": "stdout",
     "output_type": "stream",
     "text": [
      "25/25 [==============================] - 9s 347ms/step\n",
      "sample numbet 166\n"
     ]
    },
    {
     "name": "stderr",
     "output_type": "stream",
     "text": [
      "100%|██████████| 793/793 [03:53<00:00,  3.39it/s]\n"
     ]
    },
    {
     "name": "stdout",
     "output_type": "stream",
     "text": [
      "25/25 [==============================] - 9s 347ms/step\n",
      "sample numbet 167\n"
     ]
    },
    {
     "name": "stderr",
     "output_type": "stream",
     "text": [
      "100%|██████████| 793/793 [03:53<00:00,  3.40it/s]\n"
     ]
    },
    {
     "name": "stdout",
     "output_type": "stream",
     "text": [
      "25/25 [==============================] - 9s 347ms/step\n",
      "sample numbet 168\n"
     ]
    },
    {
     "name": "stderr",
     "output_type": "stream",
     "text": [
      "100%|██████████| 793/793 [03:53<00:00,  3.40it/s]\n"
     ]
    },
    {
     "name": "stdout",
     "output_type": "stream",
     "text": [
      "25/25 [==============================] - 9s 348ms/step\n",
      "sample numbet 169\n"
     ]
    },
    {
     "name": "stderr",
     "output_type": "stream",
     "text": [
      "100%|██████████| 793/793 [03:54<00:00,  3.39it/s]\n"
     ]
    },
    {
     "name": "stdout",
     "output_type": "stream",
     "text": [
      "25/25 [==============================] - 9s 347ms/step\n",
      "sample numbet 170\n"
     ]
    },
    {
     "name": "stderr",
     "output_type": "stream",
     "text": [
      "100%|██████████| 793/793 [03:53<00:00,  3.40it/s]\n"
     ]
    },
    {
     "name": "stdout",
     "output_type": "stream",
     "text": [
      "25/25 [==============================] - 9s 347ms/step\n",
      "sample numbet 171\n"
     ]
    },
    {
     "name": "stderr",
     "output_type": "stream",
     "text": [
      "100%|██████████| 793/793 [03:54<00:00,  3.39it/s]\n"
     ]
    },
    {
     "name": "stdout",
     "output_type": "stream",
     "text": [
      "25/25 [==============================] - 9s 347ms/step\n",
      "sample numbet 172\n"
     ]
    },
    {
     "name": "stderr",
     "output_type": "stream",
     "text": [
      "100%|██████████| 793/793 [03:53<00:00,  3.39it/s]\n"
     ]
    },
    {
     "name": "stdout",
     "output_type": "stream",
     "text": [
      "25/25 [==============================] - 9s 347ms/step\n",
      "sample numbet 173\n"
     ]
    },
    {
     "name": "stderr",
     "output_type": "stream",
     "text": [
      "100%|██████████| 793/793 [03:54<00:00,  3.39it/s]\n"
     ]
    },
    {
     "name": "stdout",
     "output_type": "stream",
     "text": [
      "25/25 [==============================] - 9s 347ms/step\n",
      "sample numbet 174\n"
     ]
    },
    {
     "name": "stderr",
     "output_type": "stream",
     "text": [
      "100%|██████████| 793/793 [03:53<00:00,  3.39it/s]\n"
     ]
    },
    {
     "name": "stdout",
     "output_type": "stream",
     "text": [
      "25/25 [==============================] - 9s 347ms/step\n",
      "sample numbet 175\n"
     ]
    },
    {
     "name": "stderr",
     "output_type": "stream",
     "text": [
      "100%|██████████| 793/793 [03:55<00:00,  3.36it/s]\n"
     ]
    },
    {
     "name": "stdout",
     "output_type": "stream",
     "text": [
      "25/25 [==============================] - 9s 347ms/step\n",
      "sample numbet 176\n"
     ]
    },
    {
     "name": "stderr",
     "output_type": "stream",
     "text": [
      "100%|██████████| 793/793 [03:53<00:00,  3.40it/s]\n"
     ]
    },
    {
     "name": "stdout",
     "output_type": "stream",
     "text": [
      "25/25 [==============================] - 9s 348ms/step\n",
      "sample numbet 177\n"
     ]
    },
    {
     "name": "stderr",
     "output_type": "stream",
     "text": [
      "100%|██████████| 793/793 [03:56<00:00,  3.35it/s]\n"
     ]
    },
    {
     "name": "stdout",
     "output_type": "stream",
     "text": [
      "25/25 [==============================] - 9s 347ms/step\n",
      "sample numbet 178\n"
     ]
    },
    {
     "name": "stderr",
     "output_type": "stream",
     "text": [
      "100%|██████████| 793/793 [03:54<00:00,  3.38it/s]\n"
     ]
    },
    {
     "name": "stdout",
     "output_type": "stream",
     "text": [
      "25/25 [==============================] - 9s 347ms/step\n",
      "sample numbet 179\n"
     ]
    },
    {
     "name": "stderr",
     "output_type": "stream",
     "text": [
      "100%|██████████| 793/793 [03:54<00:00,  3.39it/s]\n"
     ]
    },
    {
     "name": "stdout",
     "output_type": "stream",
     "text": [
      "25/25 [==============================] - 9s 347ms/step\n",
      "sample numbet 180\n"
     ]
    },
    {
     "name": "stderr",
     "output_type": "stream",
     "text": [
      "100%|██████████| 793/793 [03:54<00:00,  3.38it/s]\n"
     ]
    },
    {
     "name": "stdout",
     "output_type": "stream",
     "text": [
      "25/25 [==============================] - 9s 347ms/step\n",
      "sample numbet 181\n"
     ]
    },
    {
     "name": "stderr",
     "output_type": "stream",
     "text": [
      "100%|██████████| 793/793 [03:53<00:00,  3.40it/s]\n"
     ]
    },
    {
     "name": "stdout",
     "output_type": "stream",
     "text": [
      "25/25 [==============================] - 9s 347ms/step\n",
      "sample numbet 182\n"
     ]
    },
    {
     "name": "stderr",
     "output_type": "stream",
     "text": [
      "100%|██████████| 793/793 [03:53<00:00,  3.39it/s]\n"
     ]
    },
    {
     "name": "stdout",
     "output_type": "stream",
     "text": [
      "25/25 [==============================] - 9s 347ms/step\n",
      "sample numbet 183\n"
     ]
    },
    {
     "name": "stderr",
     "output_type": "stream",
     "text": [
      "100%|██████████| 793/793 [03:53<00:00,  3.39it/s]\n"
     ]
    },
    {
     "name": "stdout",
     "output_type": "stream",
     "text": [
      "25/25 [==============================] - 9s 347ms/step\n",
      "sample numbet 184\n"
     ]
    },
    {
     "name": "stderr",
     "output_type": "stream",
     "text": [
      "100%|██████████| 793/793 [03:53<00:00,  3.39it/s]\n"
     ]
    },
    {
     "name": "stdout",
     "output_type": "stream",
     "text": [
      "25/25 [==============================] - 9s 346ms/step\n",
      "sample numbet 185\n"
     ]
    },
    {
     "name": "stderr",
     "output_type": "stream",
     "text": [
      "100%|██████████| 793/793 [03:53<00:00,  3.39it/s]\n"
     ]
    },
    {
     "name": "stdout",
     "output_type": "stream",
     "text": [
      "25/25 [==============================] - 9s 347ms/step\n",
      "sample numbet 186\n"
     ]
    },
    {
     "name": "stderr",
     "output_type": "stream",
     "text": [
      "100%|██████████| 793/793 [03:54<00:00,  3.39it/s]\n"
     ]
    },
    {
     "name": "stdout",
     "output_type": "stream",
     "text": [
      "25/25 [==============================] - 9s 347ms/step\n",
      "sample numbet 187\n"
     ]
    },
    {
     "name": "stderr",
     "output_type": "stream",
     "text": [
      "100%|██████████| 793/793 [03:53<00:00,  3.39it/s]\n"
     ]
    },
    {
     "name": "stdout",
     "output_type": "stream",
     "text": [
      "25/25 [==============================] - 9s 347ms/step\n",
      "sample numbet 188\n"
     ]
    },
    {
     "name": "stderr",
     "output_type": "stream",
     "text": [
      "100%|██████████| 793/793 [03:53<00:00,  3.39it/s]\n"
     ]
    },
    {
     "name": "stdout",
     "output_type": "stream",
     "text": [
      "25/25 [==============================] - 9s 347ms/step\n",
      "sample numbet 189\n"
     ]
    },
    {
     "name": "stderr",
     "output_type": "stream",
     "text": [
      "100%|██████████| 793/793 [03:53<00:00,  3.39it/s]\n"
     ]
    },
    {
     "name": "stdout",
     "output_type": "stream",
     "text": [
      "25/25 [==============================] - 9s 347ms/step\n",
      "sample numbet 190\n"
     ]
    },
    {
     "name": "stderr",
     "output_type": "stream",
     "text": [
      "100%|██████████| 793/793 [03:53<00:00,  3.40it/s]\n"
     ]
    },
    {
     "name": "stdout",
     "output_type": "stream",
     "text": [
      "25/25 [==============================] - 9s 347ms/step\n",
      "sample numbet 191\n"
     ]
    },
    {
     "name": "stderr",
     "output_type": "stream",
     "text": [
      "100%|██████████| 793/793 [03:54<00:00,  3.39it/s]\n"
     ]
    },
    {
     "name": "stdout",
     "output_type": "stream",
     "text": [
      "25/25 [==============================] - 9s 347ms/step\n",
      "sample numbet 192\n"
     ]
    },
    {
     "name": "stderr",
     "output_type": "stream",
     "text": [
      "100%|██████████| 793/793 [03:53<00:00,  3.39it/s]\n"
     ]
    },
    {
     "name": "stdout",
     "output_type": "stream",
     "text": [
      "25/25 [==============================] - 9s 348ms/step\n",
      "sample numbet 193\n"
     ]
    },
    {
     "name": "stderr",
     "output_type": "stream",
     "text": [
      "100%|██████████| 793/793 [03:53<00:00,  3.39it/s]\n"
     ]
    },
    {
     "name": "stdout",
     "output_type": "stream",
     "text": [
      "25/25 [==============================] - 9s 347ms/step\n",
      "sample numbet 194\n"
     ]
    },
    {
     "name": "stderr",
     "output_type": "stream",
     "text": [
      "100%|██████████| 793/793 [03:54<00:00,  3.38it/s]\n"
     ]
    },
    {
     "name": "stdout",
     "output_type": "stream",
     "text": [
      "25/25 [==============================] - 9s 347ms/step\n",
      "sample numbet 195\n"
     ]
    },
    {
     "name": "stderr",
     "output_type": "stream",
     "text": [
      "100%|██████████| 793/793 [03:54<00:00,  3.38it/s]\n"
     ]
    },
    {
     "name": "stdout",
     "output_type": "stream",
     "text": [
      "25/25 [==============================] - 9s 347ms/step\n",
      "sample numbet 196\n"
     ]
    },
    {
     "name": "stderr",
     "output_type": "stream",
     "text": [
      "100%|██████████| 793/793 [03:55<00:00,  3.37it/s]\n"
     ]
    },
    {
     "name": "stdout",
     "output_type": "stream",
     "text": [
      "25/25 [==============================] - 9s 347ms/step\n",
      "sample numbet 197\n"
     ]
    },
    {
     "name": "stderr",
     "output_type": "stream",
     "text": [
      "100%|██████████| 793/793 [03:54<00:00,  3.38it/s]\n"
     ]
    },
    {
     "name": "stdout",
     "output_type": "stream",
     "text": [
      "25/25 [==============================] - 9s 348ms/step\n",
      "sample numbet 198\n"
     ]
    },
    {
     "name": "stderr",
     "output_type": "stream",
     "text": [
      "100%|██████████| 793/793 [03:54<00:00,  3.38it/s]\n"
     ]
    },
    {
     "name": "stdout",
     "output_type": "stream",
     "text": [
      "25/25 [==============================] - 9s 347ms/step\n",
      "sample numbet 199\n"
     ]
    },
    {
     "name": "stderr",
     "output_type": "stream",
     "text": [
      "100%|██████████| 793/793 [03:53<00:00,  3.39it/s]\n"
     ]
    },
    {
     "name": "stdout",
     "output_type": "stream",
     "text": [
      "25/25 [==============================] - 9s 348ms/step\n",
      "sample numbet 200\n"
     ]
    },
    {
     "name": "stderr",
     "output_type": "stream",
     "text": [
      "100%|██████████| 793/793 [03:57<00:00,  3.33it/s]\n"
     ]
    },
    {
     "name": "stdout",
     "output_type": "stream",
     "text": [
      "25/25 [==============================] - 9s 347ms/step\n",
      "sample numbet 201\n"
     ]
    },
    {
     "name": "stderr",
     "output_type": "stream",
     "text": [
      "100%|██████████| 793/793 [03:53<00:00,  3.39it/s]\n"
     ]
    },
    {
     "name": "stdout",
     "output_type": "stream",
     "text": [
      "25/25 [==============================] - 9s 347ms/step\n",
      "sample numbet 202\n"
     ]
    },
    {
     "name": "stderr",
     "output_type": "stream",
     "text": [
      "100%|██████████| 793/793 [03:54<00:00,  3.39it/s]\n"
     ]
    },
    {
     "name": "stdout",
     "output_type": "stream",
     "text": [
      "25/25 [==============================] - 9s 347ms/step\n",
      "sample numbet 203\n"
     ]
    },
    {
     "name": "stderr",
     "output_type": "stream",
     "text": [
      "100%|██████████| 793/793 [03:54<00:00,  3.38it/s]\n"
     ]
    },
    {
     "name": "stdout",
     "output_type": "stream",
     "text": [
      "25/25 [==============================] - 9s 347ms/step\n",
      "sample numbet 204\n"
     ]
    },
    {
     "name": "stderr",
     "output_type": "stream",
     "text": [
      "100%|██████████| 793/793 [03:54<00:00,  3.38it/s]\n"
     ]
    },
    {
     "name": "stdout",
     "output_type": "stream",
     "text": [
      "25/25 [==============================] - 9s 347ms/step\n",
      "sample numbet 205\n"
     ]
    },
    {
     "name": "stderr",
     "output_type": "stream",
     "text": [
      "100%|██████████| 793/793 [03:57<00:00,  3.34it/s]\n"
     ]
    },
    {
     "name": "stdout",
     "output_type": "stream",
     "text": [
      "25/25 [==============================] - 9s 347ms/step\n",
      "sample numbet 206\n"
     ]
    },
    {
     "name": "stderr",
     "output_type": "stream",
     "text": [
      "100%|██████████| 793/793 [03:54<00:00,  3.38it/s]\n"
     ]
    },
    {
     "name": "stdout",
     "output_type": "stream",
     "text": [
      "25/25 [==============================] - 9s 347ms/step\n",
      "sample numbet 207\n"
     ]
    },
    {
     "name": "stderr",
     "output_type": "stream",
     "text": [
      "100%|██████████| 793/793 [03:54<00:00,  3.38it/s]\n"
     ]
    },
    {
     "name": "stdout",
     "output_type": "stream",
     "text": [
      "25/25 [==============================] - 9s 347ms/step\n",
      "sample numbet 208\n"
     ]
    },
    {
     "name": "stderr",
     "output_type": "stream",
     "text": [
      "100%|██████████| 793/793 [03:54<00:00,  3.38it/s]\n"
     ]
    },
    {
     "name": "stdout",
     "output_type": "stream",
     "text": [
      "25/25 [==============================] - 9s 347ms/step\n",
      "sample numbet 209\n"
     ]
    },
    {
     "name": "stderr",
     "output_type": "stream",
     "text": [
      "100%|██████████| 793/793 [03:54<00:00,  3.38it/s]\n"
     ]
    },
    {
     "name": "stdout",
     "output_type": "stream",
     "text": [
      "25/25 [==============================] - 9s 348ms/step\n",
      "sample numbet 210\n"
     ]
    },
    {
     "name": "stderr",
     "output_type": "stream",
     "text": [
      "100%|██████████| 793/793 [03:55<00:00,  3.37it/s]\n"
     ]
    },
    {
     "name": "stdout",
     "output_type": "stream",
     "text": [
      "25/25 [==============================] - 9s 348ms/step\n",
      "sample numbet 211\n"
     ]
    },
    {
     "name": "stderr",
     "output_type": "stream",
     "text": [
      "100%|██████████| 793/793 [03:56<00:00,  3.35it/s]\n"
     ]
    },
    {
     "name": "stdout",
     "output_type": "stream",
     "text": [
      "25/25 [==============================] - 9s 348ms/step\n",
      "sample numbet 212\n"
     ]
    },
    {
     "name": "stderr",
     "output_type": "stream",
     "text": [
      "100%|██████████| 793/793 [03:55<00:00,  3.36it/s]\n"
     ]
    },
    {
     "name": "stdout",
     "output_type": "stream",
     "text": [
      "25/25 [==============================] - 9s 347ms/step\n",
      "sample numbet 213\n"
     ]
    },
    {
     "name": "stderr",
     "output_type": "stream",
     "text": [
      "100%|██████████| 793/793 [03:55<00:00,  3.37it/s]\n"
     ]
    },
    {
     "name": "stdout",
     "output_type": "stream",
     "text": [
      "25/25 [==============================] - 9s 347ms/step\n",
      "sample numbet 214\n"
     ]
    },
    {
     "name": "stderr",
     "output_type": "stream",
     "text": [
      "100%|██████████| 793/793 [03:54<00:00,  3.38it/s]\n"
     ]
    },
    {
     "name": "stdout",
     "output_type": "stream",
     "text": [
      "25/25 [==============================] - 9s 348ms/step\n",
      "sample numbet 215\n"
     ]
    },
    {
     "name": "stderr",
     "output_type": "stream",
     "text": [
      "100%|██████████| 793/793 [03:56<00:00,  3.36it/s]\n"
     ]
    },
    {
     "name": "stdout",
     "output_type": "stream",
     "text": [
      "25/25 [==============================] - 9s 347ms/step\n",
      "sample numbet 216\n"
     ]
    },
    {
     "name": "stderr",
     "output_type": "stream",
     "text": [
      "100%|██████████| 793/793 [03:55<00:00,  3.37it/s]\n"
     ]
    },
    {
     "name": "stdout",
     "output_type": "stream",
     "text": [
      "25/25 [==============================] - 9s 347ms/step\n",
      "sample numbet 217\n"
     ]
    },
    {
     "name": "stderr",
     "output_type": "stream",
     "text": [
      "100%|██████████| 793/793 [03:55<00:00,  3.37it/s]\n"
     ]
    },
    {
     "name": "stdout",
     "output_type": "stream",
     "text": [
      "25/25 [==============================] - 9s 348ms/step\n",
      "sample numbet 218\n"
     ]
    },
    {
     "name": "stderr",
     "output_type": "stream",
     "text": [
      "100%|██████████| 793/793 [03:55<00:00,  3.36it/s]\n"
     ]
    },
    {
     "name": "stdout",
     "output_type": "stream",
     "text": [
      "25/25 [==============================] - 9s 347ms/step\n",
      "sample numbet 219\n"
     ]
    },
    {
     "name": "stderr",
     "output_type": "stream",
     "text": [
      "100%|██████████| 793/793 [03:55<00:00,  3.37it/s]\n"
     ]
    },
    {
     "name": "stdout",
     "output_type": "stream",
     "text": [
      "25/25 [==============================] - 9s 347ms/step\n",
      "sample numbet 220\n"
     ]
    },
    {
     "name": "stderr",
     "output_type": "stream",
     "text": [
      "100%|██████████| 793/793 [03:55<00:00,  3.36it/s]\n"
     ]
    },
    {
     "name": "stdout",
     "output_type": "stream",
     "text": [
      "25/25 [==============================] - 9s 348ms/step\n",
      "sample numbet 221\n"
     ]
    },
    {
     "name": "stderr",
     "output_type": "stream",
     "text": [
      "100%|██████████| 793/793 [03:55<00:00,  3.37it/s]\n"
     ]
    },
    {
     "name": "stdout",
     "output_type": "stream",
     "text": [
      "25/25 [==============================] - 9s 347ms/step\n",
      "sample numbet 222\n"
     ]
    },
    {
     "name": "stderr",
     "output_type": "stream",
     "text": [
      "100%|██████████| 793/793 [03:55<00:00,  3.36it/s]\n"
     ]
    },
    {
     "name": "stdout",
     "output_type": "stream",
     "text": [
      "25/25 [==============================] - 9s 347ms/step\n",
      "sample numbet 223\n"
     ]
    },
    {
     "name": "stderr",
     "output_type": "stream",
     "text": [
      "100%|██████████| 793/793 [03:55<00:00,  3.37it/s]\n"
     ]
    },
    {
     "name": "stdout",
     "output_type": "stream",
     "text": [
      "25/25 [==============================] - 9s 348ms/step\n",
      "sample numbet 224\n"
     ]
    },
    {
     "name": "stderr",
     "output_type": "stream",
     "text": [
      "100%|██████████| 793/793 [03:55<00:00,  3.36it/s]\n"
     ]
    },
    {
     "name": "stdout",
     "output_type": "stream",
     "text": [
      "25/25 [==============================] - 9s 348ms/step\n",
      "sample numbet 225\n"
     ]
    },
    {
     "name": "stderr",
     "output_type": "stream",
     "text": [
      "100%|██████████| 793/793 [03:55<00:00,  3.36it/s]\n"
     ]
    },
    {
     "name": "stdout",
     "output_type": "stream",
     "text": [
      "25/25 [==============================] - 9s 348ms/step\n",
      "sample numbet 226\n"
     ]
    },
    {
     "name": "stderr",
     "output_type": "stream",
     "text": [
      "100%|██████████| 793/793 [03:55<00:00,  3.37it/s]\n"
     ]
    },
    {
     "name": "stdout",
     "output_type": "stream",
     "text": [
      "25/25 [==============================] - 9s 348ms/step\n",
      "sample numbet 227\n"
     ]
    },
    {
     "name": "stderr",
     "output_type": "stream",
     "text": [
      "100%|██████████| 793/793 [03:56<00:00,  3.35it/s]\n"
     ]
    },
    {
     "name": "stdout",
     "output_type": "stream",
     "text": [
      "25/25 [==============================] - 9s 348ms/step\n",
      "sample numbet 228\n"
     ]
    },
    {
     "name": "stderr",
     "output_type": "stream",
     "text": [
      "100%|██████████| 793/793 [03:56<00:00,  3.36it/s]\n"
     ]
    },
    {
     "name": "stdout",
     "output_type": "stream",
     "text": [
      "25/25 [==============================] - 9s 348ms/step\n",
      "sample numbet 229\n"
     ]
    },
    {
     "name": "stderr",
     "output_type": "stream",
     "text": [
      "100%|██████████| 793/793 [03:56<00:00,  3.35it/s]\n"
     ]
    },
    {
     "name": "stdout",
     "output_type": "stream",
     "text": [
      "25/25 [==============================] - 9s 347ms/step\n",
      "sample numbet 230\n"
     ]
    },
    {
     "name": "stderr",
     "output_type": "stream",
     "text": [
      "100%|██████████| 793/793 [03:55<00:00,  3.37it/s]\n"
     ]
    },
    {
     "name": "stdout",
     "output_type": "stream",
     "text": [
      "25/25 [==============================] - 9s 347ms/step\n",
      "sample numbet 231\n"
     ]
    },
    {
     "name": "stderr",
     "output_type": "stream",
     "text": [
      "100%|██████████| 793/793 [03:55<00:00,  3.37it/s]\n"
     ]
    },
    {
     "name": "stdout",
     "output_type": "stream",
     "text": [
      "25/25 [==============================] - 9s 347ms/step\n",
      "sample numbet 232\n"
     ]
    },
    {
     "name": "stderr",
     "output_type": "stream",
     "text": [
      "100%|██████████| 793/793 [03:55<00:00,  3.37it/s]\n"
     ]
    },
    {
     "name": "stdout",
     "output_type": "stream",
     "text": [
      "25/25 [==============================] - 9s 348ms/step\n",
      "sample numbet 233\n"
     ]
    },
    {
     "name": "stderr",
     "output_type": "stream",
     "text": [
      "100%|██████████| 793/793 [03:55<00:00,  3.37it/s]\n"
     ]
    },
    {
     "name": "stdout",
     "output_type": "stream",
     "text": [
      "25/25 [==============================] - 9s 347ms/step\n",
      "sample numbet 234\n"
     ]
    },
    {
     "name": "stderr",
     "output_type": "stream",
     "text": [
      "100%|██████████| 793/793 [03:56<00:00,  3.35it/s]\n"
     ]
    },
    {
     "name": "stdout",
     "output_type": "stream",
     "text": [
      "25/25 [==============================] - 9s 347ms/step\n",
      "sample numbet 235\n"
     ]
    },
    {
     "name": "stderr",
     "output_type": "stream",
     "text": [
      "100%|██████████| 793/793 [03:55<00:00,  3.37it/s]\n"
     ]
    },
    {
     "name": "stdout",
     "output_type": "stream",
     "text": [
      "25/25 [==============================] - 9s 348ms/step\n",
      "sample numbet 236\n"
     ]
    },
    {
     "name": "stderr",
     "output_type": "stream",
     "text": [
      "100%|██████████| 793/793 [03:58<00:00,  3.33it/s]\n"
     ]
    },
    {
     "name": "stdout",
     "output_type": "stream",
     "text": [
      "25/25 [==============================] - 9s 347ms/step\n",
      "sample numbet 237\n"
     ]
    },
    {
     "name": "stderr",
     "output_type": "stream",
     "text": [
      "100%|██████████| 793/793 [03:56<00:00,  3.35it/s]\n"
     ]
    },
    {
     "name": "stdout",
     "output_type": "stream",
     "text": [
      "25/25 [==============================] - 9s 348ms/step\n",
      "sample numbet 238\n"
     ]
    },
    {
     "name": "stderr",
     "output_type": "stream",
     "text": [
      "100%|██████████| 793/793 [03:56<00:00,  3.36it/s]\n"
     ]
    },
    {
     "name": "stdout",
     "output_type": "stream",
     "text": [
      "25/25 [==============================] - 9s 347ms/step\n",
      "sample numbet 239\n"
     ]
    },
    {
     "name": "stderr",
     "output_type": "stream",
     "text": [
      "100%|██████████| 793/793 [03:56<00:00,  3.35it/s]\n"
     ]
    },
    {
     "name": "stdout",
     "output_type": "stream",
     "text": [
      "25/25 [==============================] - 9s 348ms/step\n",
      "sample numbet 240\n"
     ]
    },
    {
     "name": "stderr",
     "output_type": "stream",
     "text": [
      "100%|██████████| 793/793 [03:55<00:00,  3.36it/s]\n"
     ]
    },
    {
     "name": "stdout",
     "output_type": "stream",
     "text": [
      "25/25 [==============================] - 9s 348ms/step\n",
      "sample numbet 241\n"
     ]
    },
    {
     "name": "stderr",
     "output_type": "stream",
     "text": [
      "100%|██████████| 793/793 [03:56<00:00,  3.36it/s]\n"
     ]
    },
    {
     "name": "stdout",
     "output_type": "stream",
     "text": [
      "25/25 [==============================] - 9s 348ms/step\n",
      "sample numbet 242\n"
     ]
    },
    {
     "name": "stderr",
     "output_type": "stream",
     "text": [
      "100%|██████████| 793/793 [03:56<00:00,  3.35it/s]\n"
     ]
    },
    {
     "name": "stdout",
     "output_type": "stream",
     "text": [
      "25/25 [==============================] - 9s 348ms/step\n",
      "sample numbet 243\n"
     ]
    },
    {
     "name": "stderr",
     "output_type": "stream",
     "text": [
      "100%|██████████| 793/793 [03:56<00:00,  3.36it/s]\n"
     ]
    },
    {
     "name": "stdout",
     "output_type": "stream",
     "text": [
      "25/25 [==============================] - 9s 347ms/step\n",
      "sample numbet 244\n"
     ]
    },
    {
     "name": "stderr",
     "output_type": "stream",
     "text": [
      "100%|██████████| 793/793 [03:56<00:00,  3.35it/s]\n"
     ]
    },
    {
     "name": "stdout",
     "output_type": "stream",
     "text": [
      "25/25 [==============================] - 9s 348ms/step\n",
      "sample numbet 245\n"
     ]
    },
    {
     "name": "stderr",
     "output_type": "stream",
     "text": [
      "100%|██████████| 793/793 [03:56<00:00,  3.35it/s]\n"
     ]
    },
    {
     "name": "stdout",
     "output_type": "stream",
     "text": [
      "25/25 [==============================] - 9s 348ms/step\n",
      "sample numbet 246\n"
     ]
    },
    {
     "name": "stderr",
     "output_type": "stream",
     "text": [
      "100%|██████████| 793/793 [03:55<00:00,  3.36it/s]\n"
     ]
    },
    {
     "name": "stdout",
     "output_type": "stream",
     "text": [
      "25/25 [==============================] - 9s 348ms/step\n",
      "sample numbet 247\n"
     ]
    },
    {
     "name": "stderr",
     "output_type": "stream",
     "text": [
      "100%|██████████| 793/793 [03:55<00:00,  3.36it/s]\n"
     ]
    },
    {
     "name": "stdout",
     "output_type": "stream",
     "text": [
      "25/25 [==============================] - 9s 348ms/step\n",
      "sample numbet 248\n"
     ]
    },
    {
     "name": "stderr",
     "output_type": "stream",
     "text": [
      "100%|██████████| 793/793 [03:56<00:00,  3.35it/s]\n"
     ]
    },
    {
     "name": "stdout",
     "output_type": "stream",
     "text": [
      "25/25 [==============================] - 9s 348ms/step\n",
      "sample numbet 249\n"
     ]
    },
    {
     "name": "stderr",
     "output_type": "stream",
     "text": [
      "100%|██████████| 793/793 [03:57<00:00,  3.34it/s]\n"
     ]
    },
    {
     "name": "stdout",
     "output_type": "stream",
     "text": [
      "25/25 [==============================] - 9s 347ms/step\n",
      "sample numbet 250\n"
     ]
    },
    {
     "name": "stderr",
     "output_type": "stream",
     "text": [
      "100%|██████████| 793/793 [03:56<00:00,  3.35it/s]\n"
     ]
    },
    {
     "name": "stdout",
     "output_type": "stream",
     "text": [
      "25/25 [==============================] - 9s 348ms/step\n",
      "sample numbet 251\n"
     ]
    },
    {
     "name": "stderr",
     "output_type": "stream",
     "text": [
      "100%|██████████| 793/793 [03:57<00:00,  3.34it/s]\n"
     ]
    },
    {
     "name": "stdout",
     "output_type": "stream",
     "text": [
      "25/25 [==============================] - 9s 347ms/step\n",
      "sample numbet 252\n"
     ]
    },
    {
     "name": "stderr",
     "output_type": "stream",
     "text": [
      "100%|██████████| 793/793 [03:56<00:00,  3.36it/s]\n"
     ]
    },
    {
     "name": "stdout",
     "output_type": "stream",
     "text": [
      "25/25 [==============================] - 9s 348ms/step\n"
     ]
    }
   ],
   "source": [
    "from sklearn.linear_model import LogisticRegression\n",
    "cof = []\n",
    "counter = 151\n",
    "\n",
    "for i in tp_samples[150:]:\n",
    "    print('sample numbet', counter)\n",
    "    counter = counter + 1\n",
    "    neighbors = []\n",
    "    for j in neigh_mx:\n",
    "        neighbors.append(j * x_test[i])\n",
    "    neighbor_tr = RP_final_data(neighbors)\n",
    "    p = model.predict(neighbor_tr)\n",
    "    pp = np.zeros(np.shape(p))\n",
    "    pp[p > 0.5] = 1\n",
    "    wei = []\n",
    "    for k in np.squeeze(neigh_mx):\n",
    "        wei.append(sum(k)/12)\n",
    "    lr = LogisticRegression()\n",
    "    \n",
    "    # !!!!!!Change arrhythmia\n",
    "    lr.fit(np.squeeze(neigh_mx), pp[:,5], sample_weight = wei)\n",
    "    \n",
    "    cof.append(lr.coef_)"
   ]
  },
  {
   "cell_type": "code",
   "execution_count": 10,
   "id": "ed980dfa",
   "metadata": {
    "execution": {
     "iopub.execute_input": "2024-01-10T08:18:00.705524Z",
     "iopub.status.busy": "2024-01-10T08:18:00.704605Z",
     "iopub.status.idle": "2024-01-10T08:18:00.710672Z",
     "shell.execute_reply": "2024-01-10T08:18:00.709579Z"
    },
    "papermill": {
     "duration": 7.054448,
     "end_time": "2024-01-10T08:18:00.712586",
     "exception": false,
     "start_time": "2024-01-10T08:17:53.658138",
     "status": "completed"
    },
    "tags": []
   },
   "outputs": [],
   "source": [
    "cf2 = np.squeeze(cof)"
   ]
  },
  {
   "cell_type": "code",
   "execution_count": 11,
   "id": "fc375eaa",
   "metadata": {
    "execution": {
     "iopub.execute_input": "2024-01-10T08:18:15.086336Z",
     "iopub.status.busy": "2024-01-10T08:18:15.085736Z",
     "iopub.status.idle": "2024-01-10T08:18:15.094526Z",
     "shell.execute_reply": "2024-01-10T08:18:15.093183Z"
    },
    "papermill": {
     "duration": 7.248729,
     "end_time": "2024-01-10T08:18:15.096861",
     "exception": false,
     "start_time": "2024-01-10T08:18:07.848132",
     "status": "completed"
    },
    "tags": []
   },
   "outputs": [],
   "source": [
    "my_dict = {\n",
    "    'Lead I':cf2[:,0],\n",
    "    'Lead II':cf2[:,1],\n",
    "    'Lead III':cf2[:,2],\n",
    "    'Lead avF':cf2[:,3],\n",
    "    'Lead avR':cf2[:,4],\n",
    "    'Lead avL':cf2[:,5],\n",
    "    'Lead V1':cf2[:,6],\n",
    "    'Lead V2':cf2[:,7],\n",
    "    'Lead V3':cf2[:,8],\n",
    "    'Lead V4':cf2[:,9],\n",
    "    'Lead V5':cf2[:,10],\n",
    "    'Lead V6':cf2[:,11]\n",
    "}"
   ]
  },
  {
   "cell_type": "code",
   "execution_count": 12,
   "id": "12ca0f80",
   "metadata": {
    "execution": {
     "iopub.execute_input": "2024-01-10T08:18:29.480849Z",
     "iopub.status.busy": "2024-01-10T08:18:29.480459Z",
     "iopub.status.idle": "2024-01-10T08:18:29.897311Z",
     "shell.execute_reply": "2024-01-10T08:18:29.896412Z"
    },
    "papermill": {
     "duration": 7.7547,
     "end_time": "2024-01-10T08:18:29.899326",
     "exception": false,
     "start_time": "2024-01-10T08:18:22.144626",
     "status": "completed"
    },
    "tags": []
   },
   "outputs": [
    {
     "data": {
      "image/png": "[encoded data removed]",
      "text/plain": [
       "<Figure size 640x480 with 1 Axes>"
      ]
     },
     "metadata": {},
     "output_type": "display_data"
    }
   ],
   "source": [
    "import matplotlib.pyplot as plt\n",
    "fig, ax = plt.subplots()\n",
    "ax.boxplot(my_dict.values())\n",
    "plt.axline((0,0),(11,0),color='black')\n",
    "ax.set_xticklabels(my_dict.keys())\n",
    "plt.xticks(rotation=90)\n",
    "plt.show()"
   ]
  },
  {
   "cell_type": "code",
   "execution_count": 13,
   "id": "ca31290c",
   "metadata": {
    "execution": {
     "iopub.execute_input": "2024-01-10T08:18:44.318831Z",
     "iopub.status.busy": "2024-01-10T08:18:44.317981Z",
     "iopub.status.idle": "2024-01-10T08:18:44.323478Z",
     "shell.execute_reply": "2024-01-10T08:18:44.322570Z"
    },
    "papermill": {
     "duration": 7.258191,
     "end_time": "2024-01-10T08:18:44.325501",
     "exception": false,
     "start_time": "2024-01-10T08:18:37.067310",
     "status": "completed"
    },
    "tags": []
   },
   "outputs": [],
   "source": [
    "np.savez('/kaggle/working/SBweights_3' , cf2)"
   ]
  }
 ],
 "metadata": {
  "kaggle": {
   "accelerator": "gpu",
   "dataSources": [
    {
     "sourceId": 149588685,
     "sourceType": "kernelVersion"
    },
    {
     "sourceId": 158351418,
     "sourceType": "kernelVersion"
    }
   ],
   "dockerImageVersionId": 30627,
   "isGpuEnabled": true,
   "isInternetEnabled": true,
   "language": "python",
   "sourceType": "notebook"
  },
  "kernelspec": {
   "display_name": "Python 3",
   "language": "python",
   "name": "python3"
  },
  "language_info": {
   "codemirror_mode": {
    "name": "ipython",
    "version": 3
   },
   "file_extension": ".py",
   "mimetype": "text/x-python",
   "name": "python",
   "nbconvert_exporter": "python",
   "pygments_lexer": "ipython3",
   "version": "3.10.12"
  },
  "papermill": {
   "default_parameters": {},
   "duration": 25537.862895,
   "end_time": "2024-01-10T08:18:55.108628",
   "environment_variables": {},
   "exception": null,
   "input_path": "__notebook__.ipynb",
   "output_path": "__notebook__.ipynb",
   "parameters": {},
   "start_time": "2024-01-10T01:13:17.245733",
   "version": "2.4.0"
  }
 },
 "nbformat": 4,
 "nbformat_minor": 5
}
