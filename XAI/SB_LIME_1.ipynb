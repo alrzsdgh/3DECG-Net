{
 "cells": [
  {
   "cell_type": "code",
   "execution_count": 1,
   "id": "2a6a0365",
   "metadata": {
    "_cell_guid": "d2d86f06-e1f1-46a6-a8f7-0bf456c1ebda",
    "_uuid": "9e7624e2-877b-458c-b633-d96947d9e7ba",
    "collapsed": false,
    "execution": {
     "iopub.execute_input": "2024-01-09T19:14:36.176288Z",
     "iopub.status.busy": "2024-01-09T19:14:36.175607Z",
     "iopub.status.idle": "2024-01-09T19:15:02.906659Z",
     "shell.execute_reply": "2024-01-09T19:15:02.905632Z"
    },
    "jupyter": {
     "outputs_hidden": false
    },
    "papermill": {
     "duration": 26.739367,
     "end_time": "2024-01-09T19:15:02.908966",
     "exception": false,
     "start_time": "2024-01-09T19:14:36.169599",
     "status": "completed"
    },
    "tags": []
   },
   "outputs": [
    {
     "name": "stdout",
     "output_type": "stream",
     "text": [
      "Collecting gdown\r\n",
      "  Downloading gdown-4.7.1-py3-none-any.whl (15 kB)\r\n",
      "Requirement already satisfied: filelock in /opt/conda/lib/python3.10/site-packages (from gdown) (3.12.2)\r\n",
      "Requirement already satisfied: requests[socks] in /opt/conda/lib/python3.10/site-packages (from gdown) (2.31.0)\r\n",
      "Requirement already satisfied: six in /opt/conda/lib/python3.10/site-packages (from gdown) (1.16.0)\r\n",
      "Requirement already satisfied: tqdm in /opt/conda/lib/python3.10/site-packages (from gdown) (4.66.1)\r\n",
      "Requirement already satisfied: beautifulsoup4 in /opt/conda/lib/python3.10/site-packages (from gdown) (4.12.2)\r\n",
      "Requirement already satisfied: soupsieve>1.2 in /opt/conda/lib/python3.10/site-packages (from beautifulsoup4->gdown) (2.3.2.post1)\r\n",
      "Requirement already satisfied: charset-normalizer<4,>=2 in /opt/conda/lib/python3.10/site-packages (from requests[socks]->gdown) (3.2.0)\r\n",
      "Requirement already satisfied: idna<4,>=2.5 in /opt/conda/lib/python3.10/site-packages (from requests[socks]->gdown) (3.4)\r\n",
      "Requirement already satisfied: urllib3<3,>=1.21.1 in /opt/conda/lib/python3.10/site-packages (from requests[socks]->gdown) (1.26.15)\r\n",
      "Requirement already satisfied: certifi>=2017.4.17 in /opt/conda/lib/python3.10/site-packages (from requests[socks]->gdown) (2023.11.17)\r\n",
      "Requirement already satisfied: PySocks!=1.5.7,>=1.5.6 in /opt/conda/lib/python3.10/site-packages (from requests[socks]->gdown) (1.7.1)\r\n",
      "Installing collected packages: gdown\r\n",
      "Successfully installed gdown-4.7.1\r\n",
      "/opt/conda/lib/python3.10/site-packages/gdown/cli.py:126: FutureWarning: Option `--id` was deprecated in version 4.3.1 and will be removed in 5.0. You don't need to pass it anymore to use a file ID.\r\n",
      "  warnings.warn(\r\n",
      "Downloading...\r\n",
      "From (uriginal): https://drive.google.com/uc?id=1-1EjRHAq-4nhXIJ9-OobWmMXavl1B4zn\r\n",
      "From (redirected): https://drive.google.com/uc?id=1-1EjRHAq-4nhXIJ9-OobWmMXavl1B4zn&confirm=t&uuid=87cadf77-3040-47cf-be7d-ec028328a69c\r\n",
      "To: /kaggle/working/data.pkl\r\n",
      "100%|███████████████████████████████████████| 1.24G/1.24G [00:07<00:00, 165MB/s]\r\n",
      "/opt/conda/lib/python3.10/site-packages/gdown/cli.py:126: FutureWarning: Option `--id` was deprecated in version 4.3.1 and will be removed in 5.0. You don't need to pass it anymore to use a file ID.\r\n",
      "  warnings.warn(\r\n",
      "Downloading...\r\n",
      "From: https://drive.google.com/uc?id=1uiL-O3EtAholf9qrtR8TlppjrGHW10Rh\r\n",
      "To: /kaggle/working/3DECGNet.h5\r\n",
      "100%|███████████████████████████████████████| 3.57M/3.57M [00:00<00:00, 245MB/s]\r\n"
     ]
    }
   ],
   "source": [
    "!pip install gdown\n",
    "!gdown --id 1-1EjRHAq-4nhXIJ9-OobWmMXavl1B4zn\n",
    "!gdown --id 1uiL-O3EtAholf9qrtR8TlppjrGHW10Rh"
   ]
  },
  {
   "cell_type": "code",
   "execution_count": 2,
   "id": "85565c9b",
   "metadata": {
    "execution": {
     "iopub.execute_input": "2024-01-09T19:15:02.930760Z",
     "iopub.status.busy": "2024-01-09T19:15:02.930423Z",
     "iopub.status.idle": "2024-01-09T19:15:16.255345Z",
     "shell.execute_reply": "2024-01-09T19:15:16.254455Z"
    },
    "papermill": {
     "duration": 13.338468,
     "end_time": "2024-01-09T19:15:16.257708",
     "exception": false,
     "start_time": "2024-01-09T19:15:02.919240",
     "status": "completed"
    },
    "tags": []
   },
   "outputs": [
    {
     "name": "stderr",
     "output_type": "stream",
     "text": [
      "/opt/conda/lib/python3.10/site-packages/scipy/__init__.py:146: UserWarning: A NumPy version >=1.16.5 and <1.23.0 is required for this version of SciPy (detected version 1.24.3\n",
      "  warnings.warn(f\"A NumPy version >={np_minversion} and <{np_maxversion}\"\n"
     ]
    }
   ],
   "source": [
    "import pickle\n",
    "from tqdm import tqdm\n",
    "import tensorflow as tf\n",
    "import numpy as np\n",
    "\n",
    "from preprocess import data_preparation\n",
    "from preprocess import signal_cutter\n",
    "from preprocess import data_filtering\n",
    "from preprocess import resampling\n",
    "from preprocess import RP_3D\n",
    "from preprocess import resize_volume\n",
    "from preprocess import RP_final_data\n",
    "from preprocess import label_creator\n",
    "from preprocess import including_data\n",
    "from lime_utils import tp_finder\n",
    "from lime_utils import lead_replacing\n",
    "from lime_utils import weight_bars"
   ]
  },
  {
   "cell_type": "code",
   "execution_count": 3,
   "id": "24797b91",
   "metadata": {
    "execution": {
     "iopub.execute_input": "2024-01-09T19:15:16.279217Z",
     "iopub.status.busy": "2024-01-09T19:15:16.278676Z",
     "iopub.status.idle": "2024-01-09T19:15:17.277508Z",
     "shell.execute_reply": "2024-01-09T19:15:17.276478Z"
    },
    "papermill": {
     "duration": 1.012016,
     "end_time": "2024-01-09T19:15:17.279969",
     "exception": false,
     "start_time": "2024-01-09T19:15:16.267953",
     "status": "completed"
    },
    "tags": []
   },
   "outputs": [],
   "source": [
    "# Read dictionary pkl file\n",
    "with open('/kaggle/working/data.pkl', 'rb') as fp:\n",
    "    dataset = pickle.load(fp)"
   ]
  },
  {
   "cell_type": "code",
   "execution_count": 4,
   "id": "d15456ec",
   "metadata": {
    "execution": {
     "iopub.execute_input": "2024-01-09T19:15:17.301046Z",
     "iopub.status.busy": "2024-01-09T19:15:17.300745Z",
     "iopub.status.idle": "2024-01-09T19:16:34.847226Z",
     "shell.execute_reply": "2024-01-09T19:16:34.846254Z"
    },
    "papermill": {
     "duration": 77.5592,
     "end_time": "2024-01-09T19:16:34.849287",
     "exception": false,
     "start_time": "2024-01-09T19:15:17.290087",
     "status": "completed"
    },
    "tags": []
   },
   "outputs": [
    {
     "name": "stderr",
     "output_type": "stream",
     "text": [
      "100%|██████████| 10344/10344 [00:00<00:00, 1047942.82it/s]\n",
      "100%|██████████| 10344/10344 [00:00<00:00, 669710.89it/s]\n",
      "100%|██████████| 10344/10344 [01:15<00:00, 136.45it/s]\n",
      "100%|██████████| 10344/10344 [00:01<00:00, 8293.66it/s]\n"
     ]
    }
   ],
   "source": [
    "ds = data_preparation(dataset)\n",
    "\n",
    "# shortening\n",
    "ds = signal_cutter(ds, d_length=1000)\n",
    "\n",
    "# denoising\n",
    "ds = data_filtering(ds)\n",
    "\n",
    "# resampling\n",
    "ds = resampling(ds, desired_points = 100)"
   ]
  },
  {
   "cell_type": "code",
   "execution_count": 5,
   "id": "4afe63e3",
   "metadata": {
    "execution": {
     "iopub.execute_input": "2024-01-09T19:16:34.984443Z",
     "iopub.status.busy": "2024-01-09T19:16:34.983615Z",
     "iopub.status.idle": "2024-01-09T19:22:20.284915Z",
     "shell.execute_reply": "2024-01-09T19:22:20.284088Z"
    },
    "papermill": {
     "duration": 345.371015,
     "end_time": "2024-01-09T19:22:20.287260",
     "exception": false,
     "start_time": "2024-01-09T19:16:34.916245",
     "status": "completed"
    },
    "tags": []
   },
   "outputs": [
    {
     "name": "stderr",
     "output_type": "stream",
     "text": [
      "100%|██████████| 10344/10344 [00:00<00:00, 1033120.15it/s]\n",
      "10344it [00:07, 1333.18it/s]\n",
      "10344it [00:04, 2266.52it/s]\n",
      "100%|██████████| 1126/1126 [05:32<00:00,  3.38it/s]\n"
     ]
    }
   ],
   "source": [
    "arr = {'NSR':'426783006', 'AF':'164889003', 'IAVB':'270492004', 'LBBB':'164909002', 'RBBB':'59118001', 'SB':'426177001', 'STach':'427084000'}\n",
    "labels = label_creator(data_preparation(dataset), arr)\n",
    "x_train, y_train, x_test, y_test = including_data(labels, ds)\n",
    "# transformation and resizing\n",
    "tmp_x_test = RP_final_data(x_test)"
   ]
  },
  {
   "cell_type": "code",
   "execution_count": 6,
   "id": "156a4a11",
   "metadata": {
    "execution": {
     "iopub.execute_input": "2024-01-09T19:22:20.617877Z",
     "iopub.status.busy": "2024-01-09T19:22:20.616991Z",
     "iopub.status.idle": "2024-01-09T19:22:38.518746Z",
     "shell.execute_reply": "2024-01-09T19:22:38.517871Z"
    },
    "papermill": {
     "duration": 18.069205,
     "end_time": "2024-01-09T19:22:38.520810",
     "exception": false,
     "start_time": "2024-01-09T19:22:20.451605",
     "status": "completed"
    },
    "tags": []
   },
   "outputs": [
    {
     "name": "stdout",
     "output_type": "stream",
     "text": [
      "36/36 [==============================] - 15s 338ms/step\n"
     ]
    }
   ],
   "source": [
    "model = tf.keras.models.load_model('/kaggle/working/3DECGNet.h5')\n",
    "pred_proba = model.predict(tmp_x_test)\n",
    "prediction = np.zeros(np.shape(pred_proba))\n",
    "prediction[pred_proba > 0.5] = 1"
   ]
  },
  {
   "cell_type": "code",
   "execution_count": 7,
   "id": "17443ec8",
   "metadata": {
    "execution": {
     "iopub.execute_input": "2024-01-09T19:22:38.857213Z",
     "iopub.status.busy": "2024-01-09T19:22:38.856819Z",
     "iopub.status.idle": "2024-01-09T19:22:38.871382Z",
     "shell.execute_reply": "2024-01-09T19:22:38.870513Z"
    },
    "papermill": {
     "duration": 0.184951,
     "end_time": "2024-01-09T19:22:38.873418",
     "exception": false,
     "start_time": "2024-01-09T19:22:38.688467",
     "status": "completed"
    },
    "tags": []
   },
   "outputs": [],
   "source": [
    "neigh_mx = lead_replacing()\n",
    "\n",
    "# !!!!!!Change arrhythmia\n",
    "tp_samples = tp_finder(prediction, y_test, 'SB', arr)"
   ]
  },
  {
   "cell_type": "code",
   "execution_count": 8,
   "id": "453eca3f",
   "metadata": {
    "execution": {
     "iopub.execute_input": "2024-01-09T19:22:39.206694Z",
     "iopub.status.busy": "2024-01-09T19:22:39.205862Z",
     "iopub.status.idle": "2024-01-09T19:22:39.213007Z",
     "shell.execute_reply": "2024-01-09T19:22:39.212163Z"
    },
    "papermill": {
     "duration": 0.175075,
     "end_time": "2024-01-09T19:22:39.214928",
     "exception": false,
     "start_time": "2024-01-09T19:22:39.039853",
     "status": "completed"
    },
    "tags": []
   },
   "outputs": [
    {
     "data": {
      "text/plain": [
       "252"
      ]
     },
     "execution_count": 8,
     "metadata": {},
     "output_type": "execute_result"
    }
   ],
   "source": [
    "len(tp_samples)"
   ]
  },
  {
   "cell_type": "code",
   "execution_count": 9,
   "id": "fc62528e",
   "metadata": {
    "execution": {
     "iopub.execute_input": "2024-01-09T19:22:39.549097Z",
     "iopub.status.busy": "2024-01-09T19:22:39.548711Z",
     "iopub.status.idle": "2024-01-09T22:46:13.035117Z",
     "shell.execute_reply": "2024-01-09T22:46:13.033635Z"
    },
    "papermill": {
     "duration": 12213.655879,
     "end_time": "2024-01-09T22:46:13.038015",
     "exception": false,
     "start_time": "2024-01-09T19:22:39.382136",
     "status": "completed"
    },
    "tags": []
   },
   "outputs": [
    {
     "name": "stdout",
     "output_type": "stream",
     "text": [
      "sample numbet 1\n"
     ]
    },
    {
     "name": "stderr",
     "output_type": "stream",
     "text": [
      "100%|██████████| 793/793 [03:54<00:00,  3.38it/s]\n"
     ]
    },
    {
     "name": "stdout",
     "output_type": "stream",
     "text": [
      "25/25 [==============================] - 9s 356ms/step\n",
      "sample numbet 2\n"
     ]
    },
    {
     "name": "stderr",
     "output_type": "stream",
     "text": [
      "100%|██████████| 793/793 [03:54<00:00,  3.38it/s]\n"
     ]
    },
    {
     "name": "stdout",
     "output_type": "stream",
     "text": [
      "25/25 [==============================] - 8s 337ms/step\n",
      "sample numbet 3\n"
     ]
    },
    {
     "name": "stderr",
     "output_type": "stream",
     "text": [
      "100%|██████████| 793/793 [03:54<00:00,  3.38it/s]\n"
     ]
    },
    {
     "name": "stdout",
     "output_type": "stream",
     "text": [
      "25/25 [==============================] - 8s 337ms/step\n",
      "sample numbet 4\n"
     ]
    },
    {
     "name": "stderr",
     "output_type": "stream",
     "text": [
      "100%|██████████| 793/793 [03:54<00:00,  3.38it/s]\n"
     ]
    },
    {
     "name": "stdout",
     "output_type": "stream",
     "text": [
      "25/25 [==============================] - 8s 338ms/step\n",
      "sample numbet 5\n"
     ]
    },
    {
     "name": "stderr",
     "output_type": "stream",
     "text": [
      "100%|██████████| 793/793 [03:54<00:00,  3.38it/s]\n"
     ]
    },
    {
     "name": "stdout",
     "output_type": "stream",
     "text": [
      "25/25 [==============================] - 8s 337ms/step\n",
      "sample numbet 6\n"
     ]
    },
    {
     "name": "stderr",
     "output_type": "stream",
     "text": [
      "100%|██████████| 793/793 [03:54<00:00,  3.38it/s]\n"
     ]
    },
    {
     "name": "stdout",
     "output_type": "stream",
     "text": [
      "25/25 [==============================] - 8s 337ms/step\n",
      "sample numbet 7\n"
     ]
    },
    {
     "name": "stderr",
     "output_type": "stream",
     "text": [
      "100%|██████████| 793/793 [03:54<00:00,  3.38it/s]\n"
     ]
    },
    {
     "name": "stdout",
     "output_type": "stream",
     "text": [
      "25/25 [==============================] - 8s 337ms/step\n",
      "sample numbet 8\n"
     ]
    },
    {
     "name": "stderr",
     "output_type": "stream",
     "text": [
      "100%|██████████| 793/793 [03:54<00:00,  3.38it/s]\n"
     ]
    },
    {
     "name": "stdout",
     "output_type": "stream",
     "text": [
      "25/25 [==============================] - 8s 337ms/step\n",
      "sample numbet 9\n"
     ]
    },
    {
     "name": "stderr",
     "output_type": "stream",
     "text": [
      "100%|██████████| 793/793 [03:54<00:00,  3.39it/s]\n"
     ]
    },
    {
     "name": "stdout",
     "output_type": "stream",
     "text": [
      "25/25 [==============================] - 8s 337ms/step\n",
      "sample numbet 10\n"
     ]
    },
    {
     "name": "stderr",
     "output_type": "stream",
     "text": [
      "100%|██████████| 793/793 [03:54<00:00,  3.38it/s]\n"
     ]
    },
    {
     "name": "stdout",
     "output_type": "stream",
     "text": [
      "25/25 [==============================] - 8s 337ms/step\n",
      "sample numbet 11\n"
     ]
    },
    {
     "name": "stderr",
     "output_type": "stream",
     "text": [
      "100%|██████████| 793/793 [03:54<00:00,  3.38it/s]\n"
     ]
    },
    {
     "name": "stdout",
     "output_type": "stream",
     "text": [
      "25/25 [==============================] - 8s 337ms/step\n",
      "sample numbet 12\n"
     ]
    },
    {
     "name": "stderr",
     "output_type": "stream",
     "text": [
      "100%|██████████| 793/793 [03:54<00:00,  3.38it/s]\n"
     ]
    },
    {
     "name": "stdout",
     "output_type": "stream",
     "text": [
      "25/25 [==============================] - 8s 337ms/step\n",
      "sample numbet 13\n"
     ]
    },
    {
     "name": "stderr",
     "output_type": "stream",
     "text": [
      "100%|██████████| 793/793 [03:54<00:00,  3.38it/s]\n"
     ]
    },
    {
     "name": "stdout",
     "output_type": "stream",
     "text": [
      "25/25 [==============================] - 8s 337ms/step\n",
      "sample numbet 14\n"
     ]
    },
    {
     "name": "stderr",
     "output_type": "stream",
     "text": [
      "100%|██████████| 793/793 [03:54<00:00,  3.38it/s]\n"
     ]
    },
    {
     "name": "stdout",
     "output_type": "stream",
     "text": [
      "25/25 [==============================] - 8s 337ms/step\n",
      "sample numbet 15\n"
     ]
    },
    {
     "name": "stderr",
     "output_type": "stream",
     "text": [
      "100%|██████████| 793/793 [03:54<00:00,  3.38it/s]\n"
     ]
    },
    {
     "name": "stdout",
     "output_type": "stream",
     "text": [
      "25/25 [==============================] - 8s 336ms/step\n",
      "sample numbet 16\n"
     ]
    },
    {
     "name": "stderr",
     "output_type": "stream",
     "text": [
      "100%|██████████| 793/793 [03:54<00:00,  3.39it/s]\n"
     ]
    },
    {
     "name": "stdout",
     "output_type": "stream",
     "text": [
      "25/25 [==============================] - 8s 337ms/step\n",
      "sample numbet 17\n"
     ]
    },
    {
     "name": "stderr",
     "output_type": "stream",
     "text": [
      "100%|██████████| 793/793 [03:54<00:00,  3.38it/s]\n"
     ]
    },
    {
     "name": "stdout",
     "output_type": "stream",
     "text": [
      "25/25 [==============================] - 8s 337ms/step\n",
      "sample numbet 18\n"
     ]
    },
    {
     "name": "stderr",
     "output_type": "stream",
     "text": [
      "100%|██████████| 793/793 [03:54<00:00,  3.38it/s]\n"
     ]
    },
    {
     "name": "stdout",
     "output_type": "stream",
     "text": [
      "25/25 [==============================] - 8s 337ms/step\n",
      "sample numbet 19\n"
     ]
    },
    {
     "name": "stderr",
     "output_type": "stream",
     "text": [
      "100%|██████████| 793/793 [03:54<00:00,  3.38it/s]\n"
     ]
    },
    {
     "name": "stdout",
     "output_type": "stream",
     "text": [
      "25/25 [==============================] - 8s 337ms/step\n",
      "sample numbet 20\n"
     ]
    },
    {
     "name": "stderr",
     "output_type": "stream",
     "text": [
      "100%|██████████| 793/793 [03:56<00:00,  3.35it/s]\n"
     ]
    },
    {
     "name": "stdout",
     "output_type": "stream",
     "text": [
      "25/25 [==============================] - 8s 337ms/step\n",
      "sample numbet 21\n"
     ]
    },
    {
     "name": "stderr",
     "output_type": "stream",
     "text": [
      "100%|██████████| 793/793 [03:54<00:00,  3.38it/s]\n"
     ]
    },
    {
     "name": "stdout",
     "output_type": "stream",
     "text": [
      "25/25 [==============================] - 8s 337ms/step\n",
      "sample numbet 22\n"
     ]
    },
    {
     "name": "stderr",
     "output_type": "stream",
     "text": [
      "100%|██████████| 793/793 [03:54<00:00,  3.38it/s]\n"
     ]
    },
    {
     "name": "stdout",
     "output_type": "stream",
     "text": [
      "25/25 [==============================] - 8s 338ms/step\n",
      "sample numbet 23\n"
     ]
    },
    {
     "name": "stderr",
     "output_type": "stream",
     "text": [
      "100%|██████████| 793/793 [03:54<00:00,  3.38it/s]\n"
     ]
    },
    {
     "name": "stdout",
     "output_type": "stream",
     "text": [
      "25/25 [==============================] - 8s 337ms/step\n",
      "sample numbet 24\n"
     ]
    },
    {
     "name": "stderr",
     "output_type": "stream",
     "text": [
      "100%|██████████| 793/793 [03:54<00:00,  3.38it/s]\n"
     ]
    },
    {
     "name": "stdout",
     "output_type": "stream",
     "text": [
      "25/25 [==============================] - 8s 337ms/step\n",
      "sample numbet 25\n"
     ]
    },
    {
     "name": "stderr",
     "output_type": "stream",
     "text": [
      "100%|██████████| 793/793 [03:54<00:00,  3.38it/s]\n"
     ]
    },
    {
     "name": "stdout",
     "output_type": "stream",
     "text": [
      "25/25 [==============================] - 8s 337ms/step\n",
      "sample numbet 26\n"
     ]
    },
    {
     "name": "stderr",
     "output_type": "stream",
     "text": [
      "100%|██████████| 793/793 [03:55<00:00,  3.37it/s]\n"
     ]
    },
    {
     "name": "stdout",
     "output_type": "stream",
     "text": [
      "25/25 [==============================] - 8s 337ms/step\n",
      "sample numbet 27\n"
     ]
    },
    {
     "name": "stderr",
     "output_type": "stream",
     "text": [
      "100%|██████████| 793/793 [03:54<00:00,  3.38it/s]\n"
     ]
    },
    {
     "name": "stdout",
     "output_type": "stream",
     "text": [
      "25/25 [==============================] - 8s 337ms/step\n",
      "sample numbet 28\n"
     ]
    },
    {
     "name": "stderr",
     "output_type": "stream",
     "text": [
      "100%|██████████| 793/793 [03:54<00:00,  3.39it/s]\n"
     ]
    },
    {
     "name": "stdout",
     "output_type": "stream",
     "text": [
      "25/25 [==============================] - 8s 337ms/step\n",
      "sample numbet 29\n"
     ]
    },
    {
     "name": "stderr",
     "output_type": "stream",
     "text": [
      "100%|██████████| 793/793 [03:54<00:00,  3.38it/s]\n"
     ]
    },
    {
     "name": "stdout",
     "output_type": "stream",
     "text": [
      "25/25 [==============================] - 8s 338ms/step\n",
      "sample numbet 30\n"
     ]
    },
    {
     "name": "stderr",
     "output_type": "stream",
     "text": [
      "100%|██████████| 793/793 [03:55<00:00,  3.37it/s]\n"
     ]
    },
    {
     "name": "stdout",
     "output_type": "stream",
     "text": [
      "25/25 [==============================] - 8s 337ms/step\n",
      "sample numbet 31\n"
     ]
    },
    {
     "name": "stderr",
     "output_type": "stream",
     "text": [
      "100%|██████████| 793/793 [03:54<00:00,  3.39it/s]\n"
     ]
    },
    {
     "name": "stdout",
     "output_type": "stream",
     "text": [
      "25/25 [==============================] - 8s 337ms/step\n",
      "sample numbet 32\n"
     ]
    },
    {
     "name": "stderr",
     "output_type": "stream",
     "text": [
      "100%|██████████| 793/793 [03:54<00:00,  3.38it/s]\n"
     ]
    },
    {
     "name": "stdout",
     "output_type": "stream",
     "text": [
      "25/25 [==============================] - 8s 337ms/step\n",
      "sample numbet 33\n"
     ]
    },
    {
     "name": "stderr",
     "output_type": "stream",
     "text": [
      "100%|██████████| 793/793 [03:54<00:00,  3.38it/s]\n"
     ]
    },
    {
     "name": "stdout",
     "output_type": "stream",
     "text": [
      "25/25 [==============================] - 8s 337ms/step\n",
      "sample numbet 34\n"
     ]
    },
    {
     "name": "stderr",
     "output_type": "stream",
     "text": [
      "100%|██████████| 793/793 [03:54<00:00,  3.38it/s]\n"
     ]
    },
    {
     "name": "stdout",
     "output_type": "stream",
     "text": [
      "25/25 [==============================] - 8s 337ms/step\n",
      "sample numbet 35\n"
     ]
    },
    {
     "name": "stderr",
     "output_type": "stream",
     "text": [
      "100%|██████████| 793/793 [03:54<00:00,  3.38it/s]\n"
     ]
    },
    {
     "name": "stdout",
     "output_type": "stream",
     "text": [
      "25/25 [==============================] - 8s 338ms/step\n",
      "sample numbet 36\n"
     ]
    },
    {
     "name": "stderr",
     "output_type": "stream",
     "text": [
      "100%|██████████| 793/793 [03:55<00:00,  3.37it/s]\n"
     ]
    },
    {
     "name": "stdout",
     "output_type": "stream",
     "text": [
      "25/25 [==============================] - 8s 338ms/step\n",
      "sample numbet 37\n"
     ]
    },
    {
     "name": "stderr",
     "output_type": "stream",
     "text": [
      "100%|██████████| 793/793 [03:54<00:00,  3.39it/s]\n"
     ]
    },
    {
     "name": "stdout",
     "output_type": "stream",
     "text": [
      "25/25 [==============================] - 8s 337ms/step\n",
      "sample numbet 38\n"
     ]
    },
    {
     "name": "stderr",
     "output_type": "stream",
     "text": [
      "100%|██████████| 793/793 [03:55<00:00,  3.36it/s]\n"
     ]
    },
    {
     "name": "stdout",
     "output_type": "stream",
     "text": [
      "25/25 [==============================] - 8s 337ms/step\n",
      "sample numbet 39\n"
     ]
    },
    {
     "name": "stderr",
     "output_type": "stream",
     "text": [
      "100%|██████████| 793/793 [03:54<00:00,  3.38it/s]\n"
     ]
    },
    {
     "name": "stdout",
     "output_type": "stream",
     "text": [
      "25/25 [==============================] - 8s 337ms/step\n",
      "sample numbet 40\n"
     ]
    },
    {
     "name": "stderr",
     "output_type": "stream",
     "text": [
      "100%|██████████| 793/793 [03:54<00:00,  3.38it/s]\n"
     ]
    },
    {
     "name": "stdout",
     "output_type": "stream",
     "text": [
      "25/25 [==============================] - 8s 338ms/step\n",
      "sample numbet 41\n"
     ]
    },
    {
     "name": "stderr",
     "output_type": "stream",
     "text": [
      "100%|██████████| 793/793 [03:55<00:00,  3.37it/s]\n"
     ]
    },
    {
     "name": "stdout",
     "output_type": "stream",
     "text": [
      "25/25 [==============================] - 8s 337ms/step\n",
      "sample numbet 42\n"
     ]
    },
    {
     "name": "stderr",
     "output_type": "stream",
     "text": [
      "100%|██████████| 793/793 [03:54<00:00,  3.38it/s]\n"
     ]
    },
    {
     "name": "stdout",
     "output_type": "stream",
     "text": [
      "25/25 [==============================] - 8s 338ms/step\n",
      "sample numbet 43\n"
     ]
    },
    {
     "name": "stderr",
     "output_type": "stream",
     "text": [
      "100%|██████████| 793/793 [03:54<00:00,  3.38it/s]\n"
     ]
    },
    {
     "name": "stdout",
     "output_type": "stream",
     "text": [
      "25/25 [==============================] - 8s 337ms/step\n",
      "sample numbet 44\n"
     ]
    },
    {
     "name": "stderr",
     "output_type": "stream",
     "text": [
      "100%|██████████| 793/793 [03:54<00:00,  3.38it/s]\n"
     ]
    },
    {
     "name": "stdout",
     "output_type": "stream",
     "text": [
      "25/25 [==============================] - 8s 337ms/step\n",
      "sample numbet 45\n"
     ]
    },
    {
     "name": "stderr",
     "output_type": "stream",
     "text": [
      "100%|██████████| 793/793 [03:54<00:00,  3.38it/s]\n"
     ]
    },
    {
     "name": "stdout",
     "output_type": "stream",
     "text": [
      "25/25 [==============================] - 8s 337ms/step\n",
      "sample numbet 46\n"
     ]
    },
    {
     "name": "stderr",
     "output_type": "stream",
     "text": [
      "100%|██████████| 793/793 [03:54<00:00,  3.38it/s]\n"
     ]
    },
    {
     "name": "stdout",
     "output_type": "stream",
     "text": [
      "25/25 [==============================] - 8s 337ms/step\n",
      "sample numbet 47\n"
     ]
    },
    {
     "name": "stderr",
     "output_type": "stream",
     "text": [
      "100%|██████████| 793/793 [03:55<00:00,  3.37it/s]\n"
     ]
    },
    {
     "name": "stdout",
     "output_type": "stream",
     "text": [
      "25/25 [==============================] - 8s 337ms/step\n",
      "sample numbet 48\n"
     ]
    },
    {
     "name": "stderr",
     "output_type": "stream",
     "text": [
      "100%|██████████| 793/793 [03:55<00:00,  3.37it/s]\n"
     ]
    },
    {
     "name": "stdout",
     "output_type": "stream",
     "text": [
      "25/25 [==============================] - 8s 338ms/step\n",
      "sample numbet 49\n"
     ]
    },
    {
     "name": "stderr",
     "output_type": "stream",
     "text": [
      "100%|██████████| 793/793 [03:54<00:00,  3.38it/s]\n"
     ]
    },
    {
     "name": "stdout",
     "output_type": "stream",
     "text": [
      "25/25 [==============================] - 8s 337ms/step\n",
      "sample numbet 50\n"
     ]
    },
    {
     "name": "stderr",
     "output_type": "stream",
     "text": [
      "100%|██████████| 793/793 [03:55<00:00,  3.37it/s]\n"
     ]
    },
    {
     "name": "stdout",
     "output_type": "stream",
     "text": [
      "25/25 [==============================] - 8s 337ms/step\n"
     ]
    }
   ],
   "source": [
    "from sklearn.linear_model import LogisticRegression\n",
    "cof = []\n",
    "counter = 1\n",
    "\n",
    "for i in tp_samples[:50]:\n",
    "    print('sample numbet', counter)\n",
    "    counter = counter + 1\n",
    "    neighbors = []\n",
    "    for j in neigh_mx:\n",
    "        neighbors.append(j * x_test[i])\n",
    "    neighbor_tr = RP_final_data(neighbors)\n",
    "    p = model.predict(neighbor_tr)\n",
    "    pp = np.zeros(np.shape(p))\n",
    "    pp[p > 0.5] = 1\n",
    "    wei = []\n",
    "    for k in np.squeeze(neigh_mx):\n",
    "        wei.append(sum(k)/12)\n",
    "    lr = LogisticRegression()\n",
    "    \n",
    "    # !!!!!!Change arrhythmia\n",
    "    lr.fit(np.squeeze(neigh_mx), pp[:,5], sample_weight = wei)\n",
    "    \n",
    "    cof.append(lr.coef_)"
   ]
  },
  {
   "cell_type": "code",
   "execution_count": 10,
   "id": "c076aa4f",
   "metadata": {
    "execution": {
     "iopub.execute_input": "2024-01-09T22:46:20.209241Z",
     "iopub.status.busy": "2024-01-09T22:46:20.208634Z",
     "iopub.status.idle": "2024-01-09T22:46:20.214955Z",
     "shell.execute_reply": "2024-01-09T22:46:20.213836Z"
    },
    "papermill": {
     "duration": 3.715173,
     "end_time": "2024-01-09T22:46:20.217416",
     "exception": false,
     "start_time": "2024-01-09T22:46:16.502243",
     "status": "completed"
    },
    "tags": []
   },
   "outputs": [],
   "source": [
    "cf2 = np.squeeze(cof)"
   ]
  },
  {
   "cell_type": "code",
   "execution_count": 11,
   "id": "68ef5b80",
   "metadata": {
    "execution": {
     "iopub.execute_input": "2024-01-09T22:46:27.207104Z",
     "iopub.status.busy": "2024-01-09T22:46:27.206714Z",
     "iopub.status.idle": "2024-01-09T22:46:27.212820Z",
     "shell.execute_reply": "2024-01-09T22:46:27.212006Z"
    },
    "papermill": {
     "duration": 3.610298,
     "end_time": "2024-01-09T22:46:27.214659",
     "exception": false,
     "start_time": "2024-01-09T22:46:23.604361",
     "status": "completed"
    },
    "tags": []
   },
   "outputs": [],
   "source": [
    "my_dict = {\n",
    "    'Lead I':cf2[:,0],\n",
    "    'Lead II':cf2[:,1],\n",
    "    'Lead III':cf2[:,2],\n",
    "    'Lead avF':cf2[:,3],\n",
    "    'Lead avR':cf2[:,4],\n",
    "    'Lead avL':cf2[:,5],\n",
    "    'Lead V1':cf2[:,6],\n",
    "    'Lead V2':cf2[:,7],\n",
    "    'Lead V3':cf2[:,8],\n",
    "    'Lead V4':cf2[:,9],\n",
    "    'Lead V5':cf2[:,10],\n",
    "    'Lead V6':cf2[:,11]\n",
    "}"
   ]
  },
  {
   "cell_type": "code",
   "execution_count": 12,
   "id": "9c444d1b",
   "metadata": {
    "execution": {
     "iopub.execute_input": "2024-01-09T22:46:34.130426Z",
     "iopub.status.busy": "2024-01-09T22:46:34.129977Z",
     "iopub.status.idle": "2024-01-09T22:46:34.557745Z",
     "shell.execute_reply": "2024-01-09T22:46:34.556881Z"
    },
    "papermill": {
     "duration": 3.826126,
     "end_time": "2024-01-09T22:46:34.559818",
     "exception": false,
     "start_time": "2024-01-09T22:46:30.733692",
     "status": "completed"
    },
    "tags": []
   },
   "outputs": [
    {
     "data": {
      "image/png": "[encoded data removed]",
      "text/plain": [
       "<Figure size 640x480 with 1 Axes>"
      ]
     },
     "metadata": {},
     "output_type": "display_data"
    }
   ],
   "source": [
    "import matplotlib.pyplot as plt\n",
    "fig, ax = plt.subplots()\n",
    "ax.boxplot(my_dict.values())\n",
    "plt.axline((0,0),(11,0),color='black')\n",
    "ax.set_xticklabels(my_dict.keys())\n",
    "plt.xticks(rotation=90)\n",
    "plt.show()"
   ]
  },
  {
   "cell_type": "code",
   "execution_count": 13,
   "id": "d41a13d3",
   "metadata": {
    "execution": {
     "iopub.execute_input": "2024-01-09T22:46:41.700807Z",
     "iopub.status.busy": "2024-01-09T22:46:41.700389Z",
     "iopub.status.idle": "2024-01-09T22:46:41.705908Z",
     "shell.execute_reply": "2024-01-09T22:46:41.704965Z"
    },
    "papermill": {
     "duration": 3.525619,
     "end_time": "2024-01-09T22:46:41.707793",
     "exception": false,
     "start_time": "2024-01-09T22:46:38.182174",
     "status": "completed"
    },
    "tags": []
   },
   "outputs": [],
   "source": [
    "np.savez('/kaggle/working/SBweights_1' , cf2)"
   ]
  }
 ],
 "metadata": {
  "kaggle": {
   "accelerator": "gpu",
   "dataSources": [
    {
     "sourceId": 149841127,
     "sourceType": "kernelVersion"
    },
    {
     "sourceId": 158251037,
     "sourceType": "kernelVersion"
    }
   ],
   "dockerImageVersionId": 30627,
   "isGpuEnabled": true,
   "isInternetEnabled": true,
   "language": "python",
   "sourceType": "notebook"
  },
  "kernelspec": {
   "display_name": "Python 3",
   "language": "python",
   "name": "python3"
  },
  "language_info": {
   "codemirror_mode": {
    "name": "ipython",
    "version": 3
   },
   "file_extension": ".py",
   "mimetype": "text/x-python",
   "name": "python",
   "nbconvert_exporter": "python",
   "pygments_lexer": "ipython3",
   "version": "3.10.12"
  },
  "papermill": {
   "default_parameters": {},
   "duration": 12735.831183,
   "end_time": "2024-01-09T22:46:48.606072",
   "environment_variables": {},
   "exception": null,
   "input_path": "__notebook__.ipynb",
   "output_path": "__notebook__.ipynb",
   "parameters": {},
   "start_time": "2024-01-09T19:14:32.774889",
   "version": "2.4.0"
  }
 },
 "nbformat": 4,
 "nbformat_minor": 5
}
