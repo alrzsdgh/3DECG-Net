{
 "cells": [
  {
   "cell_type": "code",
   "execution_count": 1,
   "id": "69536ed6",
   "metadata": {
    "_cell_guid": "b1076dfc-b9ad-4769-8c92-a6c4dae69d19",
    "_uuid": "8f2839f25d086af736a60e9eeb907d3b93b6e0e5",
    "execution": {
     "iopub.execute_input": "2024-01-08T17:01:27.386981Z",
     "iopub.status.busy": "2024-01-08T17:01:27.386302Z",
     "iopub.status.idle": "2024-01-08T17:01:50.915178Z",
     "shell.execute_reply": "2024-01-08T17:01:50.914068Z"
    },
    "papermill": {
     "duration": 23.53749,
     "end_time": "2024-01-08T17:01:50.917813",
     "exception": false,
     "start_time": "2024-01-08T17:01:27.380323",
     "status": "completed"
    },
    "tags": []
   },
   "outputs": [
    {
     "name": "stdout",
     "output_type": "stream",
     "text": [
      "Collecting gdown\r\n",
      "  Downloading gdown-4.7.1-py3-none-any.whl (15 kB)\r\n",
      "Requirement already satisfied: filelock in /opt/conda/lib/python3.10/site-packages (from gdown) (3.12.2)\r\n",
      "Requirement already satisfied: requests[socks] in /opt/conda/lib/python3.10/site-packages (from gdown) (2.31.0)\r\n",
      "Requirement already satisfied: six in /opt/conda/lib/python3.10/site-packages (from gdown) (1.16.0)\r\n",
      "Requirement already satisfied: tqdm in /opt/conda/lib/python3.10/site-packages (from gdown) (4.66.1)\r\n",
      "Requirement already satisfied: beautifulsoup4 in /opt/conda/lib/python3.10/site-packages (from gdown) (4.12.2)\r\n",
      "Requirement already satisfied: soupsieve>1.2 in /opt/conda/lib/python3.10/site-packages (from beautifulsoup4->gdown) (2.3.2.post1)\r\n",
      "Requirement already satisfied: charset-normalizer<4,>=2 in /opt/conda/lib/python3.10/site-packages (from requests[socks]->gdown) (3.2.0)\r\n",
      "Requirement already satisfied: idna<4,>=2.5 in /opt/conda/lib/python3.10/site-packages (from requests[socks]->gdown) (3.4)\r\n",
      "Requirement already satisfied: urllib3<3,>=1.21.1 in /opt/conda/lib/python3.10/site-packages (from requests[socks]->gdown) (1.26.15)\r\n",
      "Requirement already satisfied: certifi>=2017.4.17 in /opt/conda/lib/python3.10/site-packages (from requests[socks]->gdown) (2023.11.17)\r\n",
      "Requirement already satisfied: PySocks!=1.5.7,>=1.5.6 in /opt/conda/lib/python3.10/site-packages (from requests[socks]->gdown) (1.7.1)\r\n",
      "Installing collected packages: gdown\r\n",
      "Successfully installed gdown-4.7.1\r\n",
      "/opt/conda/lib/python3.10/site-packages/gdown/cli.py:126: FutureWarning: Option `--id` was deprecated in version 4.3.1 and will be removed in 5.0. You don't need to pass it anymore to use a file ID.\r\n",
      "  warnings.warn(\r\n",
      "Downloading...\r\n",
      "From (uriginal): https://drive.google.com/uc?id=1-1EjRHAq-4nhXIJ9-OobWmMXavl1B4zn\r\n",
      "From (redirected): https://drive.google.com/uc?id=1-1EjRHAq-4nhXIJ9-OobWmMXavl1B4zn&confirm=t&uuid=8a1c9eb9-9090-43d4-9781-a4b0332c74e7\r\n",
      "To: /kaggle/working/data.pkl\r\n",
      "100%|███████████████████████████████████████| 1.24G/1.24G [00:04<00:00, 260MB/s]\r\n",
      "/opt/conda/lib/python3.10/site-packages/gdown/cli.py:126: FutureWarning: Option `--id` was deprecated in version 4.3.1 and will be removed in 5.0. You don't need to pass it anymore to use a file ID.\r\n",
      "  warnings.warn(\r\n",
      "Downloading...\r\n",
      "From: https://drive.google.com/uc?id=1uiL-O3EtAholf9qrtR8TlppjrGHW10Rh\r\n",
      "To: /kaggle/working/3DECGNet.h5\r\n",
      "100%|███████████████████████████████████████| 3.57M/3.57M [00:00<00:00, 143MB/s]\r\n"
     ]
    }
   ],
   "source": [
    "!pip install gdown\n",
    "!gdown --id 1-1EjRHAq-4nhXIJ9-OobWmMXavl1B4zn\n",
    "!gdown --id 1uiL-O3EtAholf9qrtR8TlppjrGHW10Rh"
   ]
  },
  {
   "cell_type": "code",
   "execution_count": 2,
   "id": "2dd48828",
   "metadata": {
    "execution": {
     "iopub.execute_input": "2024-01-08T17:01:50.937860Z",
     "iopub.status.busy": "2024-01-08T17:01:50.936919Z",
     "iopub.status.idle": "2024-01-08T17:02:04.657250Z",
     "shell.execute_reply": "2024-01-08T17:02:04.656266Z"
    },
    "papermill": {
     "duration": 13.732953,
     "end_time": "2024-01-08T17:02:04.659599",
     "exception": false,
     "start_time": "2024-01-08T17:01:50.926646",
     "status": "completed"
    },
    "tags": []
   },
   "outputs": [
    {
     "name": "stderr",
     "output_type": "stream",
     "text": [
      "/opt/conda/lib/python3.10/site-packages/scipy/__init__.py:146: UserWarning: A NumPy version >=1.16.5 and <1.23.0 is required for this version of SciPy (detected version 1.24.3\n",
      "  warnings.warn(f\"A NumPy version >={np_minversion} and <{np_maxversion}\"\n"
     ]
    }
   ],
   "source": [
    "import pickle\n",
    "from tqdm import tqdm\n",
    "import tensorflow as tf\n",
    "import numpy as np\n",
    "\n",
    "from preprocess import data_preparation\n",
    "from preprocess import signal_cutter\n",
    "from preprocess import data_filtering\n",
    "from preprocess import resampling\n",
    "from preprocess import RP_3D\n",
    "from preprocess import resize_volume\n",
    "from preprocess import RP_final_data\n",
    "from preprocess import label_creator\n",
    "from preprocess import including_data\n",
    "from lime_utils import tp_finder\n",
    "from lime_utils import lead_replacing\n",
    "from lime_utils import weight_bars"
   ]
  },
  {
   "cell_type": "code",
   "execution_count": 3,
   "id": "c3b55ffb",
   "metadata": {
    "execution": {
     "iopub.execute_input": "2024-01-08T17:02:04.677581Z",
     "iopub.status.busy": "2024-01-08T17:02:04.677031Z",
     "iopub.status.idle": "2024-01-08T17:02:05.701757Z",
     "shell.execute_reply": "2024-01-08T17:02:05.700966Z"
    },
    "papermill": {
     "duration": 1.03598,
     "end_time": "2024-01-08T17:02:05.704003",
     "exception": false,
     "start_time": "2024-01-08T17:02:04.668023",
     "status": "completed"
    },
    "tags": []
   },
   "outputs": [],
   "source": [
    "# Read dictionary pkl file\n",
    "with open('/kaggle/working/data.pkl', 'rb') as fp:\n",
    "    dataset = pickle.load(fp)"
   ]
  },
  {
   "cell_type": "code",
   "execution_count": 4,
   "id": "60fb5f78",
   "metadata": {
    "execution": {
     "iopub.execute_input": "2024-01-08T17:02:05.722018Z",
     "iopub.status.busy": "2024-01-08T17:02:05.721731Z",
     "iopub.status.idle": "2024-01-08T17:03:28.064105Z",
     "shell.execute_reply": "2024-01-08T17:03:28.063098Z"
    },
    "papermill": {
     "duration": 82.353513,
     "end_time": "2024-01-08T17:03:28.066146",
     "exception": false,
     "start_time": "2024-01-08T17:02:05.712633",
     "status": "completed"
    },
    "tags": []
   },
   "outputs": [
    {
     "name": "stderr",
     "output_type": "stream",
     "text": [
      "100%|██████████| 10344/10344 [00:00<00:00, 950819.21it/s]\n",
      "100%|██████████| 10344/10344 [00:00<00:00, 664337.37it/s]\n",
      "100%|██████████| 10344/10344 [01:20<00:00, 128.53it/s]\n",
      "100%|██████████| 10344/10344 [00:01<00:00, 7603.53it/s]\n"
     ]
    }
   ],
   "source": [
    "ds = data_preparation(dataset)\n",
    "\n",
    "# shortening\n",
    "ds = signal_cutter(ds, d_length=1000)\n",
    "\n",
    "# denoising\n",
    "ds = data_filtering(ds)\n",
    "\n",
    "# resampling\n",
    "ds = resampling(ds, desired_points = 100)"
   ]
  },
  {
   "cell_type": "code",
   "execution_count": 5,
   "id": "0735710a",
   "metadata": {
    "execution": {
     "iopub.execute_input": "2024-01-08T17:03:28.202746Z",
     "iopub.status.busy": "2024-01-08T17:03:28.202119Z",
     "iopub.status.idle": "2024-01-08T17:09:15.917090Z",
     "shell.execute_reply": "2024-01-08T17:09:15.916223Z"
    },
    "papermill": {
     "duration": 347.785817,
     "end_time": "2024-01-08T17:09:15.919404",
     "exception": false,
     "start_time": "2024-01-08T17:03:28.133587",
     "status": "completed"
    },
    "tags": []
   },
   "outputs": [
    {
     "name": "stderr",
     "output_type": "stream",
     "text": [
      "100%|██████████| 10344/10344 [00:00<00:00, 961928.93it/s]\n",
      "10344it [00:07, 1308.54it/s]\n",
      "10344it [00:04, 2190.92it/s]\n",
      "100%|██████████| 1126/1126 [05:34<00:00,  3.36it/s]\n"
     ]
    }
   ],
   "source": [
    "arr = {'NSR':'426783006', 'AF':'164889003', 'IAVB':'270492004', 'LBBB':'164909002', 'RBBB':'59118001', 'SB':'426177001', 'STach':'427084000'}\n",
    "labels = label_creator(data_preparation(dataset), arr)\n",
    "x_train, y_train, x_test, y_test = including_data(labels, ds)\n",
    "# transformation and resizing\n",
    "tmp_x_test = RP_final_data(x_test)"
   ]
  },
  {
   "cell_type": "code",
   "execution_count": 6,
   "id": "e57aec3d",
   "metadata": {
    "execution": {
     "iopub.execute_input": "2024-01-08T17:09:16.256385Z",
     "iopub.status.busy": "2024-01-08T17:09:16.255987Z",
     "iopub.status.idle": "2024-01-08T17:09:34.279834Z",
     "shell.execute_reply": "2024-01-08T17:09:34.278868Z"
    },
    "papermill": {
     "duration": 18.198704,
     "end_time": "2024-01-08T17:09:34.282067",
     "exception": false,
     "start_time": "2024-01-08T17:09:16.083363",
     "status": "completed"
    },
    "tags": []
   },
   "outputs": [
    {
     "name": "stdout",
     "output_type": "stream",
     "text": [
      "36/36 [==============================] - 15s 338ms/step\n"
     ]
    }
   ],
   "source": [
    "model = tf.keras.models.load_model('/kaggle/working/3DECGNet.h5')\n",
    "pred_proba = model.predict(tmp_x_test)\n",
    "prediction = np.zeros(np.shape(pred_proba))\n",
    "prediction[pred_proba > 0.5] = 1"
   ]
  },
  {
   "cell_type": "code",
   "execution_count": 7,
   "id": "4babbeae",
   "metadata": {
    "execution": {
     "iopub.execute_input": "2024-01-08T17:09:34.614818Z",
     "iopub.status.busy": "2024-01-08T17:09:34.614428Z",
     "iopub.status.idle": "2024-01-08T17:09:34.628704Z",
     "shell.execute_reply": "2024-01-08T17:09:34.627986Z"
    },
    "papermill": {
     "duration": 0.183637,
     "end_time": "2024-01-08T17:09:34.630688",
     "exception": false,
     "start_time": "2024-01-08T17:09:34.447051",
     "status": "completed"
    },
    "tags": []
   },
   "outputs": [],
   "source": [
    "neigh_mx = lead_replacing()\n",
    "\n",
    "# !!!!!!Change arrhythmia\n",
    "tp_samples = tp_finder(prediction, y_test, 'RBBB', arr)"
   ]
  },
  {
   "cell_type": "code",
   "execution_count": 8,
   "id": "8833e597",
   "metadata": {
    "execution": {
     "iopub.execute_input": "2024-01-08T17:09:34.969988Z",
     "iopub.status.busy": "2024-01-08T17:09:34.969225Z",
     "iopub.status.idle": "2024-01-08T17:09:34.976125Z",
     "shell.execute_reply": "2024-01-08T17:09:34.975263Z"
    },
    "papermill": {
     "duration": 0.177272,
     "end_time": "2024-01-08T17:09:34.978087",
     "exception": false,
     "start_time": "2024-01-08T17:09:34.800815",
     "status": "completed"
    },
    "tags": []
   },
   "outputs": [
    {
     "data": {
      "text/plain": [
       "47"
      ]
     },
     "execution_count": 8,
     "metadata": {},
     "output_type": "execute_result"
    }
   ],
   "source": [
    "len(tp_samples)"
   ]
  },
  {
   "cell_type": "code",
   "execution_count": 9,
   "id": "f04439f5",
   "metadata": {
    "execution": {
     "iopub.execute_input": "2024-01-08T17:09:35.311233Z",
     "iopub.status.busy": "2024-01-08T17:09:35.310600Z",
     "iopub.status.idle": "2024-01-08T20:20:46.930318Z",
     "shell.execute_reply": "2024-01-08T20:20:46.928918Z"
    },
    "papermill": {
     "duration": 11471.789855,
     "end_time": "2024-01-08T20:20:46.934127",
     "exception": false,
     "start_time": "2024-01-08T17:09:35.144272",
     "status": "completed"
    },
    "tags": []
   },
   "outputs": [
    {
     "name": "stdout",
     "output_type": "stream",
     "text": [
      "sample numbet 1\n"
     ]
    },
    {
     "name": "stderr",
     "output_type": "stream",
     "text": [
      "100%|██████████| 793/793 [03:55<00:00,  3.37it/s]\n"
     ]
    },
    {
     "name": "stdout",
     "output_type": "stream",
     "text": [
      "25/25 [==============================] - 9s 357ms/step\n",
      "sample numbet 2\n"
     ]
    },
    {
     "name": "stderr",
     "output_type": "stream",
     "text": [
      "100%|██████████| 793/793 [03:55<00:00,  3.37it/s]\n"
     ]
    },
    {
     "name": "stdout",
     "output_type": "stream",
     "text": [
      "25/25 [==============================] - 8s 338ms/step\n",
      "sample numbet 3\n"
     ]
    },
    {
     "name": "stderr",
     "output_type": "stream",
     "text": [
      "100%|██████████| 793/793 [03:54<00:00,  3.38it/s]\n"
     ]
    },
    {
     "name": "stdout",
     "output_type": "stream",
     "text": [
      "25/25 [==============================] - 8s 338ms/step\n",
      "sample numbet 4\n"
     ]
    },
    {
     "name": "stderr",
     "output_type": "stream",
     "text": [
      "100%|██████████| 793/793 [03:53<00:00,  3.39it/s]\n"
     ]
    },
    {
     "name": "stdout",
     "output_type": "stream",
     "text": [
      "25/25 [==============================] - 8s 338ms/step\n",
      "sample numbet 5\n"
     ]
    },
    {
     "name": "stderr",
     "output_type": "stream",
     "text": [
      "100%|██████████| 793/793 [03:54<00:00,  3.38it/s]\n"
     ]
    },
    {
     "name": "stdout",
     "output_type": "stream",
     "text": [
      "25/25 [==============================] - 8s 338ms/step\n",
      "sample numbet 6\n"
     ]
    },
    {
     "name": "stderr",
     "output_type": "stream",
     "text": [
      "100%|██████████| 793/793 [03:55<00:00,  3.37it/s]\n"
     ]
    },
    {
     "name": "stdout",
     "output_type": "stream",
     "text": [
      "25/25 [==============================] - 8s 337ms/step\n",
      "sample numbet 7\n"
     ]
    },
    {
     "name": "stderr",
     "output_type": "stream",
     "text": [
      "100%|██████████| 793/793 [03:55<00:00,  3.37it/s]\n"
     ]
    },
    {
     "name": "stdout",
     "output_type": "stream",
     "text": [
      "25/25 [==============================] - 8s 338ms/step\n",
      "sample numbet 8\n"
     ]
    },
    {
     "name": "stderr",
     "output_type": "stream",
     "text": [
      "100%|██████████| 793/793 [03:54<00:00,  3.38it/s]\n"
     ]
    },
    {
     "name": "stdout",
     "output_type": "stream",
     "text": [
      "25/25 [==============================] - 8s 338ms/step\n",
      "sample numbet 9\n"
     ]
    },
    {
     "name": "stderr",
     "output_type": "stream",
     "text": [
      "100%|██████████| 793/793 [03:55<00:00,  3.37it/s]\n"
     ]
    },
    {
     "name": "stdout",
     "output_type": "stream",
     "text": [
      "25/25 [==============================] - 8s 338ms/step\n",
      "sample numbet 10\n"
     ]
    },
    {
     "name": "stderr",
     "output_type": "stream",
     "text": [
      "100%|██████████| 793/793 [03:55<00:00,  3.37it/s]\n"
     ]
    },
    {
     "name": "stdout",
     "output_type": "stream",
     "text": [
      "25/25 [==============================] - 8s 338ms/step\n",
      "sample numbet 11\n"
     ]
    },
    {
     "name": "stderr",
     "output_type": "stream",
     "text": [
      "100%|██████████| 793/793 [03:55<00:00,  3.37it/s]\n"
     ]
    },
    {
     "name": "stdout",
     "output_type": "stream",
     "text": [
      "25/25 [==============================] - 8s 338ms/step\n",
      "sample numbet 12\n"
     ]
    },
    {
     "name": "stderr",
     "output_type": "stream",
     "text": [
      "100%|██████████| 793/793 [03:54<00:00,  3.38it/s]\n"
     ]
    },
    {
     "name": "stdout",
     "output_type": "stream",
     "text": [
      "25/25 [==============================] - 9s 339ms/step\n",
      "sample numbet 13\n"
     ]
    },
    {
     "name": "stderr",
     "output_type": "stream",
     "text": [
      "100%|██████████| 793/793 [03:54<00:00,  3.38it/s]\n"
     ]
    },
    {
     "name": "stdout",
     "output_type": "stream",
     "text": [
      "25/25 [==============================] - 8s 338ms/step\n",
      "sample numbet 14\n"
     ]
    },
    {
     "name": "stderr",
     "output_type": "stream",
     "text": [
      "100%|██████████| 793/793 [03:55<00:00,  3.36it/s]\n"
     ]
    },
    {
     "name": "stdout",
     "output_type": "stream",
     "text": [
      "25/25 [==============================] - 8s 338ms/step\n",
      "sample numbet 15\n"
     ]
    },
    {
     "name": "stderr",
     "output_type": "stream",
     "text": [
      "100%|██████████| 793/793 [03:55<00:00,  3.37it/s]\n"
     ]
    },
    {
     "name": "stdout",
     "output_type": "stream",
     "text": [
      "25/25 [==============================] - 8s 338ms/step\n",
      "sample numbet 16\n"
     ]
    },
    {
     "name": "stderr",
     "output_type": "stream",
     "text": [
      "100%|██████████| 793/793 [03:54<00:00,  3.38it/s]\n"
     ]
    },
    {
     "name": "stdout",
     "output_type": "stream",
     "text": [
      "25/25 [==============================] - 8s 337ms/step\n",
      "sample numbet 17\n"
     ]
    },
    {
     "name": "stderr",
     "output_type": "stream",
     "text": [
      "100%|██████████| 793/793 [03:54<00:00,  3.39it/s]\n"
     ]
    },
    {
     "name": "stdout",
     "output_type": "stream",
     "text": [
      "25/25 [==============================] - 8s 337ms/step\n",
      "sample numbet 18\n"
     ]
    },
    {
     "name": "stderr",
     "output_type": "stream",
     "text": [
      "100%|██████████| 793/793 [03:53<00:00,  3.40it/s]\n"
     ]
    },
    {
     "name": "stdout",
     "output_type": "stream",
     "text": [
      "25/25 [==============================] - 8s 338ms/step\n",
      "sample numbet 19\n"
     ]
    },
    {
     "name": "stderr",
     "output_type": "stream",
     "text": [
      "100%|██████████| 793/793 [03:53<00:00,  3.39it/s]\n"
     ]
    },
    {
     "name": "stdout",
     "output_type": "stream",
     "text": [
      "25/25 [==============================] - 8s 337ms/step\n",
      "sample numbet 20\n"
     ]
    },
    {
     "name": "stderr",
     "output_type": "stream",
     "text": [
      "100%|██████████| 793/793 [03:55<00:00,  3.37it/s]\n"
     ]
    },
    {
     "name": "stdout",
     "output_type": "stream",
     "text": [
      "25/25 [==============================] - 8s 337ms/step\n",
      "sample numbet 21\n"
     ]
    },
    {
     "name": "stderr",
     "output_type": "stream",
     "text": [
      "100%|██████████| 793/793 [03:56<00:00,  3.36it/s]\n"
     ]
    },
    {
     "name": "stdout",
     "output_type": "stream",
     "text": [
      "25/25 [==============================] - 8s 337ms/step\n",
      "sample numbet 22\n"
     ]
    },
    {
     "name": "stderr",
     "output_type": "stream",
     "text": [
      "100%|██████████| 793/793 [03:55<00:00,  3.36it/s]\n"
     ]
    },
    {
     "name": "stdout",
     "output_type": "stream",
     "text": [
      "25/25 [==============================] - 8s 337ms/step\n",
      "sample numbet 23\n"
     ]
    },
    {
     "name": "stderr",
     "output_type": "stream",
     "text": [
      "100%|██████████| 793/793 [03:53<00:00,  3.39it/s]\n"
     ]
    },
    {
     "name": "stdout",
     "output_type": "stream",
     "text": [
      "25/25 [==============================] - 8s 337ms/step\n",
      "sample numbet 24\n"
     ]
    },
    {
     "name": "stderr",
     "output_type": "stream",
     "text": [
      "100%|██████████| 793/793 [03:53<00:00,  3.40it/s]\n"
     ]
    },
    {
     "name": "stdout",
     "output_type": "stream",
     "text": [
      "25/25 [==============================] - 8s 337ms/step\n",
      "sample numbet 25\n"
     ]
    },
    {
     "name": "stderr",
     "output_type": "stream",
     "text": [
      "100%|██████████| 793/793 [03:53<00:00,  3.39it/s]\n"
     ]
    },
    {
     "name": "stdout",
     "output_type": "stream",
     "text": [
      "25/25 [==============================] - 8s 337ms/step\n",
      "sample numbet 26\n"
     ]
    },
    {
     "name": "stderr",
     "output_type": "stream",
     "text": [
      "100%|██████████| 793/793 [03:53<00:00,  3.39it/s]\n"
     ]
    },
    {
     "name": "stdout",
     "output_type": "stream",
     "text": [
      "25/25 [==============================] - 8s 337ms/step\n",
      "sample numbet 27\n"
     ]
    },
    {
     "name": "stderr",
     "output_type": "stream",
     "text": [
      "100%|██████████| 793/793 [03:53<00:00,  3.39it/s]\n"
     ]
    },
    {
     "name": "stdout",
     "output_type": "stream",
     "text": [
      "25/25 [==============================] - 8s 337ms/step\n",
      "sample numbet 28\n"
     ]
    },
    {
     "name": "stderr",
     "output_type": "stream",
     "text": [
      "100%|██████████| 793/793 [03:53<00:00,  3.39it/s]\n"
     ]
    },
    {
     "name": "stdout",
     "output_type": "stream",
     "text": [
      "25/25 [==============================] - 8s 337ms/step\n",
      "sample numbet 29\n"
     ]
    },
    {
     "name": "stderr",
     "output_type": "stream",
     "text": [
      "100%|██████████| 793/793 [03:55<00:00,  3.37it/s]\n"
     ]
    },
    {
     "name": "stdout",
     "output_type": "stream",
     "text": [
      "25/25 [==============================] - 8s 337ms/step\n",
      "sample numbet 30\n"
     ]
    },
    {
     "name": "stderr",
     "output_type": "stream",
     "text": [
      "100%|██████████| 793/793 [03:53<00:00,  3.39it/s]\n"
     ]
    },
    {
     "name": "stdout",
     "output_type": "stream",
     "text": [
      "25/25 [==============================] - 8s 337ms/step\n",
      "sample numbet 31\n"
     ]
    },
    {
     "name": "stderr",
     "output_type": "stream",
     "text": [
      "100%|██████████| 793/793 [03:53<00:00,  3.39it/s]\n"
     ]
    },
    {
     "name": "stdout",
     "output_type": "stream",
     "text": [
      "25/25 [==============================] - 8s 338ms/step\n",
      "sample numbet 32\n"
     ]
    },
    {
     "name": "stderr",
     "output_type": "stream",
     "text": [
      "100%|██████████| 793/793 [03:54<00:00,  3.39it/s]\n"
     ]
    },
    {
     "name": "stdout",
     "output_type": "stream",
     "text": [
      "25/25 [==============================] - 8s 337ms/step\n",
      "sample numbet 33\n"
     ]
    },
    {
     "name": "stderr",
     "output_type": "stream",
     "text": [
      "100%|██████████| 793/793 [03:54<00:00,  3.38it/s]\n"
     ]
    },
    {
     "name": "stdout",
     "output_type": "stream",
     "text": [
      "25/25 [==============================] - 8s 337ms/step\n",
      "sample numbet 34\n"
     ]
    },
    {
     "name": "stderr",
     "output_type": "stream",
     "text": [
      "100%|██████████| 793/793 [03:53<00:00,  3.39it/s]\n"
     ]
    },
    {
     "name": "stdout",
     "output_type": "stream",
     "text": [
      "25/25 [==============================] - 8s 337ms/step\n",
      "sample numbet 35\n"
     ]
    },
    {
     "name": "stderr",
     "output_type": "stream",
     "text": [
      "100%|██████████| 793/793 [03:53<00:00,  3.39it/s]\n"
     ]
    },
    {
     "name": "stdout",
     "output_type": "stream",
     "text": [
      "25/25 [==============================] - 8s 337ms/step\n",
      "sample numbet 36\n"
     ]
    },
    {
     "name": "stderr",
     "output_type": "stream",
     "text": [
      "100%|██████████| 793/793 [03:53<00:00,  3.39it/s]\n"
     ]
    },
    {
     "name": "stdout",
     "output_type": "stream",
     "text": [
      "25/25 [==============================] - 8s 337ms/step\n",
      "sample numbet 37\n"
     ]
    },
    {
     "name": "stderr",
     "output_type": "stream",
     "text": [
      "100%|██████████| 793/793 [03:53<00:00,  3.40it/s]\n"
     ]
    },
    {
     "name": "stdout",
     "output_type": "stream",
     "text": [
      "25/25 [==============================] - 8s 338ms/step\n",
      "sample numbet 38\n"
     ]
    },
    {
     "name": "stderr",
     "output_type": "stream",
     "text": [
      "100%|██████████| 793/793 [03:53<00:00,  3.39it/s]\n"
     ]
    },
    {
     "name": "stdout",
     "output_type": "stream",
     "text": [
      "25/25 [==============================] - 8s 337ms/step\n",
      "sample numbet 39\n"
     ]
    },
    {
     "name": "stderr",
     "output_type": "stream",
     "text": [
      "100%|██████████| 793/793 [03:53<00:00,  3.39it/s]\n"
     ]
    },
    {
     "name": "stdout",
     "output_type": "stream",
     "text": [
      "25/25 [==============================] - 8s 337ms/step\n",
      "sample numbet 40\n"
     ]
    },
    {
     "name": "stderr",
     "output_type": "stream",
     "text": [
      "100%|██████████| 793/793 [03:57<00:00,  3.34it/s]\n"
     ]
    },
    {
     "name": "stdout",
     "output_type": "stream",
     "text": [
      "25/25 [==============================] - 8s 337ms/step\n",
      "sample numbet 41\n"
     ]
    },
    {
     "name": "stderr",
     "output_type": "stream",
     "text": [
      "100%|██████████| 793/793 [03:53<00:00,  3.39it/s]\n"
     ]
    },
    {
     "name": "stdout",
     "output_type": "stream",
     "text": [
      "25/25 [==============================] - 8s 337ms/step\n",
      "sample numbet 42\n"
     ]
    },
    {
     "name": "stderr",
     "output_type": "stream",
     "text": [
      "100%|██████████| 793/793 [03:54<00:00,  3.38it/s]\n"
     ]
    },
    {
     "name": "stdout",
     "output_type": "stream",
     "text": [
      "25/25 [==============================] - 8s 338ms/step\n",
      "sample numbet 43\n"
     ]
    },
    {
     "name": "stderr",
     "output_type": "stream",
     "text": [
      "100%|██████████| 793/793 [03:54<00:00,  3.39it/s]\n"
     ]
    },
    {
     "name": "stdout",
     "output_type": "stream",
     "text": [
      "25/25 [==============================] - 8s 337ms/step\n",
      "sample numbet 44\n"
     ]
    },
    {
     "name": "stderr",
     "output_type": "stream",
     "text": [
      "100%|██████████| 793/793 [03:53<00:00,  3.39it/s]\n"
     ]
    },
    {
     "name": "stdout",
     "output_type": "stream",
     "text": [
      "25/25 [==============================] - 8s 337ms/step\n",
      "sample numbet 45\n"
     ]
    },
    {
     "name": "stderr",
     "output_type": "stream",
     "text": [
      "100%|██████████| 793/793 [03:53<00:00,  3.39it/s]\n"
     ]
    },
    {
     "name": "stdout",
     "output_type": "stream",
     "text": [
      "25/25 [==============================] - 8s 337ms/step\n",
      "sample numbet 46\n"
     ]
    },
    {
     "name": "stderr",
     "output_type": "stream",
     "text": [
      "100%|██████████| 793/793 [03:53<00:00,  3.39it/s]\n"
     ]
    },
    {
     "name": "stdout",
     "output_type": "stream",
     "text": [
      "25/25 [==============================] - 8s 337ms/step\n",
      "sample numbet 47\n"
     ]
    },
    {
     "name": "stderr",
     "output_type": "stream",
     "text": [
      "100%|██████████| 793/793 [03:54<00:00,  3.39it/s]\n"
     ]
    },
    {
     "name": "stdout",
     "output_type": "stream",
     "text": [
      "25/25 [==============================] - 8s 337ms/step\n"
     ]
    }
   ],
   "source": [
    "from sklearn.linear_model import LogisticRegression\n",
    "cof = []\n",
    "counter = 1\n",
    "\n",
    "for i in tp_samples:\n",
    "    print('sample numbet', counter)\n",
    "    counter = counter + 1\n",
    "    neighbors = []\n",
    "    for j in neigh_mx:\n",
    "        neighbors.append(j * x_test[i])\n",
    "    neighbor_tr = RP_final_data(neighbors)\n",
    "    p = model.predict(neighbor_tr)\n",
    "    pp = np.zeros(np.shape(p))\n",
    "    pp[p > 0.5] = 1\n",
    "    wei = []\n",
    "    for k in np.squeeze(neigh_mx):\n",
    "        wei.append(sum(k)/12)\n",
    "    lr = LogisticRegression()\n",
    "    \n",
    "    # !!!!!!Change arrhythmia\n",
    "    lr.fit(np.squeeze(neigh_mx), pp[:,4], sample_weight = wei)\n",
    "    \n",
    "    cof.append(lr.coef_)"
   ]
  },
  {
   "cell_type": "code",
   "execution_count": 10,
   "id": "d1bcfa67",
   "metadata": {
    "execution": {
     "iopub.execute_input": "2024-01-08T20:20:53.558791Z",
     "iopub.status.busy": "2024-01-08T20:20:53.557925Z",
     "iopub.status.idle": "2024-01-08T20:20:53.562728Z",
     "shell.execute_reply": "2024-01-08T20:20:53.561850Z"
    },
    "papermill": {
     "duration": 3.215485,
     "end_time": "2024-01-08T20:20:53.564617",
     "exception": false,
     "start_time": "2024-01-08T20:20:50.349132",
     "status": "completed"
    },
    "tags": []
   },
   "outputs": [],
   "source": [
    "cf2 = np.squeeze(cof)"
   ]
  },
  {
   "cell_type": "code",
   "execution_count": 11,
   "id": "54627a3c",
   "metadata": {
    "execution": {
     "iopub.execute_input": "2024-01-08T20:21:00.108355Z",
     "iopub.status.busy": "2024-01-08T20:21:00.107492Z",
     "iopub.status.idle": "2024-01-08T20:21:00.113670Z",
     "shell.execute_reply": "2024-01-08T20:21:00.112864Z"
    },
    "papermill": {
     "duration": 3.143515,
     "end_time": "2024-01-08T20:21:00.115430",
     "exception": false,
     "start_time": "2024-01-08T20:20:56.971915",
     "status": "completed"
    },
    "tags": []
   },
   "outputs": [],
   "source": [
    "my_dict = {\n",
    "    'Lead I':cf2[:,0],\n",
    "    'Lead II':cf2[:,1],\n",
    "    'Lead III':cf2[:,2],\n",
    "    'Lead avF':cf2[:,3],\n",
    "    'Lead avR':cf2[:,4],\n",
    "    'Lead avL':cf2[:,5],\n",
    "    'Lead V1':cf2[:,6],\n",
    "    'Lead V2':cf2[:,7],\n",
    "    'Lead V3':cf2[:,8],\n",
    "    'Lead V4':cf2[:,9],\n",
    "    'Lead V5':cf2[:,10],\n",
    "    'Lead V6':cf2[:,11]\n",
    "}"
   ]
  },
  {
   "cell_type": "code",
   "execution_count": 12,
   "id": "8e1fda52",
   "metadata": {
    "execution": {
     "iopub.execute_input": "2024-01-08T20:21:06.785958Z",
     "iopub.status.busy": "2024-01-08T20:21:06.785107Z",
     "iopub.status.idle": "2024-01-08T20:21:07.088722Z",
     "shell.execute_reply": "2024-01-08T20:21:07.087805Z"
    },
    "papermill": {
     "duration": 3.719231,
     "end_time": "2024-01-08T20:21:07.090775",
     "exception": false,
     "start_time": "2024-01-08T20:21:03.371544",
     "status": "completed"
    },
    "tags": []
   },
   "outputs": [
    {
     "data": {
      "image/png": "[encoded data removed]",
      "text/plain": [
       "<Figure size 640x480 with 1 Axes>"
      ]
     },
     "metadata": {},
     "output_type": "display_data"
    }
   ],
   "source": [
    "import matplotlib.pyplot as plt\n",
    "fig, ax = plt.subplots()\n",
    "ax.boxplot(my_dict.values())\n",
    "plt.axline((0,0),(11,0),color='black')\n",
    "ax.set_xticklabels(my_dict.keys())\n",
    "plt.xticks(rotation=90)\n",
    "plt.show()"
   ]
  },
  {
   "cell_type": "code",
   "execution_count": 13,
   "id": "5e1ef54b",
   "metadata": {
    "execution": {
     "iopub.execute_input": "2024-01-08T20:21:13.579670Z",
     "iopub.status.busy": "2024-01-08T20:21:13.578835Z",
     "iopub.status.idle": "2024-01-08T20:21:13.583868Z",
     "shell.execute_reply": "2024-01-08T20:21:13.583032Z"
    },
    "papermill": {
     "duration": 3.234816,
     "end_time": "2024-01-08T20:21:13.585763",
     "exception": false,
     "start_time": "2024-01-08T20:21:10.350947",
     "status": "completed"
    },
    "tags": []
   },
   "outputs": [],
   "source": [
    "np.savez('/kaggle/working/LBBBweights' , cf2)"
   ]
  }
 ],
 "metadata": {
  "kaggle": {
   "accelerator": "gpu",
   "dataSources": [
    {
     "sourceId": 149744515,
     "sourceType": "kernelVersion"
    },
    {
     "sourceId": 158059432,
     "sourceType": "kernelVersion"
    }
   ],
   "dockerImageVersionId": 30627,
   "isGpuEnabled": true,
   "isInternetEnabled": true,
   "language": "python",
   "sourceType": "notebook"
  },
  "kernelspec": {
   "display_name": "Python 3",
   "language": "python",
   "name": "python3"
  },
  "language_info": {
   "codemirror_mode": {
    "name": "ipython",
    "version": 3
   },
   "file_extension": ".py",
   "mimetype": "text/x-python",
   "name": "python",
   "nbconvert_exporter": "python",
   "pygments_lexer": "ipython3",
   "version": "3.10.12"
  },
  "papermill": {
   "default_parameters": {},
   "duration": 11995.818149,
   "end_time": "2024-01-08T20:21:19.826996",
   "environment_variables": {},
   "exception": null,
   "input_path": "__notebook__.ipynb",
   "output_path": "__notebook__.ipynb",
   "parameters": {},
   "start_time": "2024-01-08T17:01:24.008847",
   "version": "2.4.0"
  }
 },
 "nbformat": 4,
 "nbformat_minor": 5
}
