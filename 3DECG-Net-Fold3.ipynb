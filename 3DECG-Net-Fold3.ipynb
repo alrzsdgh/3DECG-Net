{
 "cells": [
  {
   "cell_type": "code",
   "execution_count": 1,
   "id": "ac473ff4",
   "metadata": {
    "_cell_guid": "b1076dfc-b9ad-4769-8c92-a6c4dae69d19",
    "_uuid": "8f2839f25d086af736a60e9eeb907d3b93b6e0e5",
    "execution": {
     "iopub.execute_input": "2023-11-06T17:50:24.877312Z",
     "iopub.status.busy": "2023-11-06T17:50:24.876466Z",
     "iopub.status.idle": "2023-11-06T17:50:48.776560Z",
     "shell.execute_reply": "2023-11-06T17:50:48.775603Z"
    },
    "papermill": {
     "duration": 23.906541,
     "end_time": "2023-11-06T17:50:48.778757",
     "exception": false,
     "start_time": "2023-11-06T17:50:24.872216",
     "status": "completed"
    },
    "tags": []
   },
   "outputs": [
    {
     "name": "stdout",
     "output_type": "stream",
     "text": [
      "Collecting gdown\r\n",
      "  Downloading gdown-4.7.1-py3-none-any.whl (15 kB)\r\n",
      "Requirement already satisfied: filelock in /opt/conda/lib/python3.10/site-packages (from gdown) (3.12.2)\r\n",
      "Requirement already satisfied: requests[socks] in /opt/conda/lib/python3.10/site-packages (from gdown) (2.31.0)\r\n",
      "Requirement already satisfied: six in /opt/conda/lib/python3.10/site-packages (from gdown) (1.16.0)\r\n",
      "Requirement already satisfied: tqdm in /opt/conda/lib/python3.10/site-packages (from gdown) (4.66.1)\r\n",
      "Requirement already satisfied: beautifulsoup4 in /opt/conda/lib/python3.10/site-packages (from gdown) (4.12.2)\r\n",
      "Requirement already satisfied: soupsieve>1.2 in /opt/conda/lib/python3.10/site-packages (from beautifulsoup4->gdown) (2.3.2.post1)\r\n",
      "Requirement already satisfied: charset-normalizer<4,>=2 in /opt/conda/lib/python3.10/site-packages (from requests[socks]->gdown) (3.1.0)\r\n",
      "Requirement already satisfied: idna<4,>=2.5 in /opt/conda/lib/python3.10/site-packages (from requests[socks]->gdown) (3.4)\r\n",
      "Requirement already satisfied: urllib3<3,>=1.21.1 in /opt/conda/lib/python3.10/site-packages (from requests[socks]->gdown) (1.26.15)\r\n",
      "Requirement already satisfied: certifi>=2017.4.17 in /opt/conda/lib/python3.10/site-packages (from requests[socks]->gdown) (2023.7.22)\r\n",
      "Requirement already satisfied: PySocks!=1.5.7,>=1.5.6 in /opt/conda/lib/python3.10/site-packages (from requests[socks]->gdown) (1.7.1)\r\n",
      "Installing collected packages: gdown\r\n",
      "Successfully installed gdown-4.7.1\r\n",
      "/opt/conda/lib/python3.10/site-packages/gdown/cli.py:126: FutureWarning: Option `--id` was deprecated in version 4.3.1 and will be removed in 5.0. You don't need to pass it anymore to use a file ID.\r\n",
      "  warnings.warn(\r\n",
      "Downloading...\r\n",
      "From (uriginal): https://drive.google.com/uc?id=1-1EjRHAq-4nhXIJ9-OobWmMXavl1B4zn\r\n",
      "From (redirected): https://drive.google.com/uc?id=1-1EjRHAq-4nhXIJ9-OobWmMXavl1B4zn&confirm=t&uuid=1f1d2578-5a44-4093-98b4-dc831c76992a\r\n",
      "To: /kaggle/working/data.pkl\r\n",
      "100%|███████████████████████████████████████| 1.24G/1.24G [00:09<00:00, 138MB/s]\r\n"
     ]
    }
   ],
   "source": [
    "!pip install gdown\n",
    "!gdown --id 1-1EjRHAq-4nhXIJ9-OobWmMXavl1B4zn"
   ]
  },
  {
   "cell_type": "code",
   "execution_count": 2,
   "id": "e4eb4b33",
   "metadata": {
    "execution": {
     "iopub.execute_input": "2023-11-06T17:50:48.798011Z",
     "iopub.status.busy": "2023-11-06T17:50:48.797336Z",
     "iopub.status.idle": "2023-11-06T17:50:59.086076Z",
     "shell.execute_reply": "2023-11-06T17:50:59.085250Z"
    },
    "papermill": {
     "duration": 10.300778,
     "end_time": "2023-11-06T17:50:59.088269",
     "exception": false,
     "start_time": "2023-11-06T17:50:48.787491",
     "status": "completed"
    },
    "tags": []
   },
   "outputs": [
    {
     "name": "stderr",
     "output_type": "stream",
     "text": [
      "/opt/conda/lib/python3.10/site-packages/scipy/__init__.py:146: UserWarning: A NumPy version >=1.16.5 and <1.23.0 is required for this version of SciPy (detected version 1.23.5\n",
      "  warnings.warn(f\"A NumPy version >={np_minversion} and <{np_maxversion}\"\n"
     ]
    }
   ],
   "source": [
    "import pickle\n",
    "from tqdm import tqdm\n",
    "import tensorflow as tf\n",
    "import numpy as np\n",
    "\n",
    "from preprocess import data_preparation\n",
    "from preprocess import signal_cutter\n",
    "from preprocess import data_filtering\n",
    "from preprocess import resampling\n",
    "from preprocess import RP_3D\n",
    "from preprocess import resize_volume\n",
    "from preprocess import RP_final_data\n",
    "from preprocess import label_creator\n",
    "from preprocess import including_data\n",
    "from models import model_arch\n",
    "from models import CompModel"
   ]
  },
  {
   "cell_type": "code",
   "execution_count": 3,
   "id": "dcfd57c8",
   "metadata": {
    "execution": {
     "iopub.execute_input": "2023-11-06T17:50:59.106947Z",
     "iopub.status.busy": "2023-11-06T17:50:59.106383Z",
     "iopub.status.idle": "2023-11-06T17:50:59.932859Z",
     "shell.execute_reply": "2023-11-06T17:50:59.931992Z"
    },
    "papermill": {
     "duration": 0.838327,
     "end_time": "2023-11-06T17:50:59.935283",
     "exception": false,
     "start_time": "2023-11-06T17:50:59.096956",
     "status": "completed"
    },
    "tags": []
   },
   "outputs": [],
   "source": [
    "# Read dictionary pkl file\n",
    "with open('/kaggle/working/data.pkl', 'rb') as fp:\n",
    "    dataset = pickle.load(fp)"
   ]
  },
  {
   "cell_type": "code",
   "execution_count": 4,
   "id": "f63de03a",
   "metadata": {
    "execution": {
     "iopub.execute_input": "2023-11-06T17:50:59.953922Z",
     "iopub.status.busy": "2023-11-06T17:50:59.953631Z",
     "iopub.status.idle": "2023-11-06T17:52:18.944240Z",
     "shell.execute_reply": "2023-11-06T17:52:18.943217Z"
    },
    "papermill": {
     "duration": 79.002367,
     "end_time": "2023-11-06T17:52:18.946528",
     "exception": false,
     "start_time": "2023-11-06T17:50:59.944161",
     "status": "completed"
    },
    "tags": []
   },
   "outputs": [
    {
     "name": "stderr",
     "output_type": "stream",
     "text": [
      "100%|██████████| 10344/10344 [00:00<00:00, 1031400.94it/s]\n",
      "100%|██████████| 10344/10344 [00:00<00:00, 593027.35it/s]\n",
      "100%|██████████| 10344/10344 [01:17<00:00, 134.08it/s]\n",
      "100%|██████████| 10344/10344 [00:01<00:00, 7688.03it/s]\n"
     ]
    }
   ],
   "source": [
    "ds = data_preparation(dataset)\n",
    "\n",
    "# shortening\n",
    "ds = signal_cutter(ds, d_length=1000)\n",
    "\n",
    "# denoising\n",
    "ds = data_filtering(ds)\n",
    "\n",
    "# resampling\n",
    "ds = resampling(ds, desired_points = 100)"
   ]
  },
  {
   "cell_type": "code",
   "execution_count": 5,
   "id": "59f95e54",
   "metadata": {
    "execution": {
     "iopub.execute_input": "2023-11-06T17:52:19.077489Z",
     "iopub.status.busy": "2023-11-06T17:52:19.077167Z",
     "iopub.status.idle": "2023-11-06T18:17:06.470569Z",
     "shell.execute_reply": "2023-11-06T18:17:06.469716Z"
    },
    "papermill": {
     "duration": 1487.46141,
     "end_time": "2023-11-06T18:17:06.473090",
     "exception": false,
     "start_time": "2023-11-06T17:52:19.011680",
     "status": "completed"
    },
    "tags": []
   },
   "outputs": [
    {
     "name": "stderr",
     "output_type": "stream",
     "text": [
      "100%|██████████| 10344/10344 [00:00<00:00, 867596.15it/s]\n",
      "10344it [00:08, 1239.09it/s]\n",
      "10344it [00:04, 2152.89it/s]\n",
      "100%|██████████| 5000/5000 [24:32<00:00,  3.39it/s]\n"
     ]
    }
   ],
   "source": [
    "arr = {'NSR':'426783006', 'AF':'164889003', 'IAVB':'270492004', 'LBBB':'164909002', 'RBBB':'59118001', 'SB':'426177001', 'STach':'427084000'}\n",
    "labels = label_creator(data_preparation(dataset), arr)\n",
    "x_train, y_train, x_test, y_test = including_data(labels, ds)\n",
    "# transformation and resizing\n",
    "x_train = RP_final_data(x_train)"
   ]
  },
  {
   "cell_type": "code",
   "execution_count": 6,
   "id": "35e4177c",
   "metadata": {
    "execution": {
     "iopub.execute_input": "2023-11-06T18:17:07.361407Z",
     "iopub.status.busy": "2023-11-06T18:17:07.360675Z",
     "iopub.status.idle": "2023-11-06T18:17:07.367672Z",
     "shell.execute_reply": "2023-11-06T18:17:07.366707Z"
    },
    "papermill": {
     "duration": 0.452813,
     "end_time": "2023-11-06T18:17:07.369629",
     "exception": false,
     "start_time": "2023-11-06T18:17:06.916816",
     "status": "completed"
    },
    "tags": []
   },
   "outputs": [],
   "source": [
    "# five-folds preparation\n",
    "\n",
    "idx_lst = list(range(len(x_train)))\n",
    "\n",
    "v1 = idx_lst[:1000]\n",
    "t1 = idx_lst[1000:]\n",
    "\n",
    "v2 = idx_lst[1000:2000]\n",
    "t2 = idx_lst[:1000] + idx_lst[2000:]\n",
    "\n",
    "v3 = idx_lst[2000:3000]\n",
    "t3 = idx_lst[:2000] + idx_lst[3000:]\n",
    "\n",
    "v4 = idx_lst[3000:4000]\n",
    "t4 = idx_lst[:3000] + idx_lst[4000:]\n",
    "\n",
    "v5 = idx_lst[4000:]\n",
    "t5 = idx_lst[:4000]"
   ]
  },
  {
   "cell_type": "code",
   "execution_count": 7,
   "id": "d2c930f7",
   "metadata": {
    "execution": {
     "iopub.execute_input": "2023-11-06T18:17:08.310907Z",
     "iopub.status.busy": "2023-11-06T18:17:08.310174Z",
     "iopub.status.idle": "2023-11-06T23:20:46.863211Z",
     "shell.execute_reply": "2023-11-06T23:20:46.862225Z"
    },
    "papermill": {
     "duration": 18220.454728,
     "end_time": "2023-11-06T23:20:48.266877",
     "exception": false,
     "start_time": "2023-11-06T18:17:07.812149",
     "status": "completed"
    },
    "tags": []
   },
   "outputs": [
    {
     "name": "stdout",
     "output_type": "stream",
     "text": [
      "Epoch 1/100\n"
     ]
    },
    {
     "name": "stderr",
     "output_type": "stream",
     "text": [
      "2023-11-06 18:17:23.165259: E tensorflow/core/grappler/optimizers/meta_optimizer.cc:954] layout failed: INVALID_ARGUMENT: MutableGraphView::SortTopologically error: detected edge(s) creating cycle(s) {'Func/gradient_tape/model_3/conv_lstm2d_1/while/model_3/conv_lstm2d_1/while_grad/body/_367/input/_1025' -> 'gradient_tape/model_3/conv_lstm2d_1/while/model_3/conv_lstm2d_1/while_grad/body/_367/gradient_tape/model_3/conv_lstm2d_1/while/gradients/AddN', 'Func/gradient_tape/model_3/conv_lstm2d/while/model_3/conv_lstm2d/while_grad/body/_562/input/_1141' -> 'gradient_tape/model_3/conv_lstm2d/while/model_3/conv_lstm2d/while_grad/body/_562/gradient_tape/model_3/conv_lstm2d/while/gradients/AddN', 'model_3/conv_lstm2d_1/while/body/_179/model_3/conv_lstm2d_1/while/clip_by_value' -> 'model_3/conv_lstm2d_1/while/body/_179/model_3/conv_lstm2d_1/while/mul_3', 'model_3/conv_lstm2d_1/while/body/_179/model_3/conv_lstm2d_1/while/mul_2' -> 'model_3/conv_lstm2d_1/while/body/_179/model_3/conv_lstm2d_1/while/add_5', 'model_3/conv_lstm2d_1/while/body/_179/model_3/conv_lstm2d_1/while/convolution_6' -> 'model_3/conv_lstm2d_1/while/body/_179/model_3/conv_lstm2d_1/while/add_4', 'model_3/conv_lstm2d_1/while/body/_179/model_3/conv_lstm2d_1/while/clip_by_value_2' -> 'model_3/conv_lstm2d_1/while/body/_179/model_3/conv_lstm2d_1/while/mul_5'}.\n"
     ]
    },
    {
     "name": "stdout",
     "output_type": "stream",
     "text": [
      "125/125 [==============================] - 209s 1s/step - loss: 0.4532 - acc: 0.3565 - val_loss: 0.7251 - val_acc: 0.1710 - lr: 0.0010\n",
      "Epoch 2/100\n",
      "125/125 [==============================] - 182s 1s/step - loss: 0.3031 - acc: 0.5890 - val_loss: 0.4858 - val_acc: 0.3260 - lr: 9.7724e-04\n",
      "Epoch 3/100\n",
      "125/125 [==============================] - 182s 1s/step - loss: 0.2605 - acc: 0.6480 - val_loss: 0.2448 - val_acc: 0.6750 - lr: 9.5499e-04\n",
      "Epoch 4/100\n",
      "125/125 [==============================] - 182s 1s/step - loss: 0.2374 - acc: 0.6645 - val_loss: 0.2119 - val_acc: 0.6890 - lr: 9.3325e-04\n",
      "Epoch 5/100\n",
      "125/125 [==============================] - 182s 1s/step - loss: 0.2177 - acc: 0.6820 - val_loss: 0.1932 - val_acc: 0.7100 - lr: 9.1201e-04\n",
      "Epoch 6/100\n",
      "125/125 [==============================] - 182s 1s/step - loss: 0.2041 - acc: 0.7092 - val_loss: 0.1974 - val_acc: 0.6970 - lr: 8.9125e-04\n",
      "Epoch 7/100\n",
      "125/125 [==============================] - 182s 1s/step - loss: 0.1936 - acc: 0.7147 - val_loss: 0.1825 - val_acc: 0.7230 - lr: 8.7096e-04\n",
      "Epoch 8/100\n",
      "125/125 [==============================] - 182s 1s/step - loss: 0.1814 - acc: 0.7272 - val_loss: 0.1814 - val_acc: 0.7500 - lr: 8.5114e-04\n",
      "Epoch 9/100\n",
      "125/125 [==============================] - 182s 1s/step - loss: 0.1616 - acc: 0.7535 - val_loss: 0.1995 - val_acc: 0.7280 - lr: 8.3176e-04\n",
      "Epoch 10/100\n",
      "125/125 [==============================] - 182s 1s/step - loss: 0.1563 - acc: 0.7660 - val_loss: 0.1766 - val_acc: 0.7460 - lr: 8.1283e-04\n",
      "Epoch 11/100\n",
      "125/125 [==============================] - 182s 1s/step - loss: 0.1458 - acc: 0.7807 - val_loss: 0.1675 - val_acc: 0.7400 - lr: 7.9433e-04\n",
      "Epoch 12/100\n",
      "125/125 [==============================] - 182s 1s/step - loss: 0.1430 - acc: 0.7885 - val_loss: 0.1744 - val_acc: 0.7470 - lr: 7.7625e-04\n",
      "Epoch 13/100\n",
      "125/125 [==============================] - 182s 1s/step - loss: 0.1278 - acc: 0.8050 - val_loss: 0.1897 - val_acc: 0.7640 - lr: 7.5858e-04\n",
      "Epoch 14/100\n",
      "125/125 [==============================] - 182s 1s/step - loss: 0.1251 - acc: 0.8012 - val_loss: 0.2267 - val_acc: 0.7440 - lr: 7.4131e-04\n",
      "Epoch 15/100\n",
      "125/125 [==============================] - 182s 1s/step - loss: 0.1130 - acc: 0.8185 - val_loss: 0.1829 - val_acc: 0.7640 - lr: 7.2444e-04\n",
      "Epoch 16/100\n",
      "125/125 [==============================] - 182s 1s/step - loss: 0.1053 - acc: 0.8338 - val_loss: 0.1658 - val_acc: 0.7650 - lr: 7.0795e-04\n",
      "Epoch 17/100\n",
      "125/125 [==============================] - 182s 1s/step - loss: 0.0970 - acc: 0.8410 - val_loss: 0.1739 - val_acc: 0.7490 - lr: 6.9183e-04\n",
      "Epoch 18/100\n",
      "125/125 [==============================] - 182s 1s/step - loss: 0.0866 - acc: 0.8555 - val_loss: 0.2126 - val_acc: 0.7550 - lr: 6.7608e-04\n",
      "Epoch 19/100\n",
      "125/125 [==============================] - 182s 1s/step - loss: 0.0901 - acc: 0.8482 - val_loss: 0.1879 - val_acc: 0.7570 - lr: 6.6069e-04\n",
      "Epoch 20/100\n",
      "125/125 [==============================] - 182s 1s/step - loss: 0.0779 - acc: 0.8630 - val_loss: 0.2229 - val_acc: 0.7510 - lr: 6.4565e-04\n",
      "Epoch 21/100\n",
      "125/125 [==============================] - 182s 1s/step - loss: 0.0718 - acc: 0.8715 - val_loss: 0.2138 - val_acc: 0.7640 - lr: 6.3096e-04\n",
      "Epoch 22/100\n",
      "125/125 [==============================] - 182s 1s/step - loss: 0.0708 - acc: 0.8737 - val_loss: 0.2389 - val_acc: 0.7780 - lr: 6.1659e-04\n",
      "Epoch 23/100\n",
      "125/125 [==============================] - 182s 1s/step - loss: 0.0680 - acc: 0.8752 - val_loss: 0.2155 - val_acc: 0.7800 - lr: 6.0256e-04\n",
      "Epoch 24/100\n",
      "125/125 [==============================] - 182s 1s/step - loss: 0.0614 - acc: 0.8888 - val_loss: 0.2662 - val_acc: 0.7650 - lr: 5.8884e-04\n",
      "Epoch 25/100\n",
      "125/125 [==============================] - 182s 1s/step - loss: 0.0546 - acc: 0.8892 - val_loss: 0.2451 - val_acc: 0.7800 - lr: 5.7544e-04\n",
      "Epoch 26/100\n",
      "125/125 [==============================] - 182s 1s/step - loss: 0.0567 - acc: 0.8920 - val_loss: 0.2455 - val_acc: 0.7800 - lr: 5.6234e-04\n",
      "Epoch 27/100\n",
      "125/125 [==============================] - 182s 1s/step - loss: 0.0476 - acc: 0.9013 - val_loss: 0.2716 - val_acc: 0.7700 - lr: 5.4954e-04\n",
      "Epoch 28/100\n",
      "125/125 [==============================] - 182s 1s/step - loss: 0.0503 - acc: 0.8913 - val_loss: 0.3125 - val_acc: 0.7440 - lr: 5.3703e-04\n",
      "Epoch 29/100\n",
      "125/125 [==============================] - 182s 1s/step - loss: 0.0550 - acc: 0.8945 - val_loss: 0.2706 - val_acc: 0.7690 - lr: 5.2481e-04\n",
      "Epoch 30/100\n",
      "125/125 [==============================] - 182s 1s/step - loss: 0.0473 - acc: 0.9003 - val_loss: 0.2672 - val_acc: 0.7630 - lr: 5.1286e-04\n",
      "Epoch 31/100\n",
      "125/125 [==============================] - 182s 1s/step - loss: 0.0428 - acc: 0.8990 - val_loss: 0.2793 - val_acc: 0.7790 - lr: 5.0119e-04\n",
      "Epoch 32/100\n",
      "125/125 [==============================] - 182s 1s/step - loss: 0.0441 - acc: 0.9072 - val_loss: 0.3030 - val_acc: 0.7670 - lr: 4.8978e-04\n",
      "Epoch 33/100\n",
      "125/125 [==============================] - 182s 1s/step - loss: 0.0378 - acc: 0.9025 - val_loss: 0.3335 - val_acc: 0.7670 - lr: 4.7863e-04\n",
      "Epoch 34/100\n",
      "125/125 [==============================] - 182s 1s/step - loss: 0.0380 - acc: 0.9147 - val_loss: 0.2811 - val_acc: 0.7660 - lr: 4.6774e-04\n",
      "Epoch 35/100\n",
      "125/125 [==============================] - 182s 1s/step - loss: 0.0358 - acc: 0.9100 - val_loss: 0.3008 - val_acc: 0.7740 - lr: 4.5709e-04\n",
      "Epoch 36/100\n",
      "125/125 [==============================] - 182s 1s/step - loss: 0.0348 - acc: 0.9128 - val_loss: 0.3468 - val_acc: 0.7790 - lr: 4.4668e-04\n",
      "Epoch 37/100\n",
      "125/125 [==============================] - 182s 1s/step - loss: 0.0362 - acc: 0.9060 - val_loss: 0.3569 - val_acc: 0.7740 - lr: 4.3652e-04\n",
      "Epoch 38/100\n",
      "125/125 [==============================] - 182s 1s/step - loss: 0.0344 - acc: 0.9155 - val_loss: 0.3385 - val_acc: 0.7740 - lr: 4.2658e-04\n",
      "Epoch 39/100\n",
      "125/125 [==============================] - 182s 1s/step - loss: 0.0299 - acc: 0.9145 - val_loss: 0.3909 - val_acc: 0.7700 - lr: 4.1687e-04\n",
      "Epoch 40/100\n",
      "125/125 [==============================] - 182s 1s/step - loss: 0.0281 - acc: 0.9172 - val_loss: 0.3845 - val_acc: 0.7810 - lr: 4.0738e-04\n",
      "Epoch 41/100\n",
      "125/125 [==============================] - 182s 1s/step - loss: 0.0302 - acc: 0.9100 - val_loss: 0.3907 - val_acc: 0.7650 - lr: 3.9811e-04\n",
      "Epoch 42/100\n",
      "125/125 [==============================] - 182s 1s/step - loss: 0.0307 - acc: 0.9143 - val_loss: 0.3509 - val_acc: 0.7600 - lr: 3.8905e-04\n",
      "Epoch 43/100\n",
      "125/125 [==============================] - 182s 1s/step - loss: 0.0290 - acc: 0.9140 - val_loss: 0.3457 - val_acc: 0.7830 - lr: 3.8019e-04\n",
      "Epoch 44/100\n",
      "125/125 [==============================] - 182s 1s/step - loss: 0.0277 - acc: 0.9133 - val_loss: 0.3625 - val_acc: 0.7870 - lr: 3.7154e-04\n",
      "Epoch 45/100\n",
      "125/125 [==============================] - 182s 1s/step - loss: 0.0288 - acc: 0.9137 - val_loss: 0.3685 - val_acc: 0.7750 - lr: 3.6308e-04\n",
      "Epoch 46/100\n",
      "125/125 [==============================] - 182s 1s/step - loss: 0.0264 - acc: 0.9183 - val_loss: 0.4006 - val_acc: 0.7750 - lr: 3.5481e-04\n",
      "Epoch 47/100\n",
      "125/125 [==============================] - 182s 1s/step - loss: 0.0249 - acc: 0.9147 - val_loss: 0.3595 - val_acc: 0.7920 - lr: 3.4674e-04\n",
      "Epoch 48/100\n",
      "125/125 [==============================] - 182s 1s/step - loss: 0.0242 - acc: 0.9185 - val_loss: 0.3494 - val_acc: 0.7960 - lr: 3.3884e-04\n",
      "Epoch 49/100\n",
      "125/125 [==============================] - 182s 1s/step - loss: 0.0258 - acc: 0.9162 - val_loss: 0.4151 - val_acc: 0.7790 - lr: 3.3113e-04\n",
      "Epoch 50/100\n",
      "125/125 [==============================] - 182s 1s/step - loss: 0.0235 - acc: 0.9227 - val_loss: 0.3832 - val_acc: 0.7760 - lr: 3.2359e-04\n",
      "Epoch 51/100\n",
      "125/125 [==============================] - 182s 1s/step - loss: 0.0289 - acc: 0.9190 - val_loss: 0.3669 - val_acc: 0.7760 - lr: 3.1623e-04\n",
      "Epoch 52/100\n",
      "125/125 [==============================] - 182s 1s/step - loss: 0.0250 - acc: 0.9168 - val_loss: 0.3914 - val_acc: 0.7880 - lr: 3.0903e-04\n",
      "Epoch 53/100\n",
      "125/125 [==============================] - 182s 1s/step - loss: 0.0222 - acc: 0.9218 - val_loss: 0.3975 - val_acc: 0.7880 - lr: 3.0200e-04\n",
      "Epoch 54/100\n",
      "125/125 [==============================] - 182s 1s/step - loss: 0.0253 - acc: 0.9195 - val_loss: 0.4443 - val_acc: 0.7820 - lr: 2.9512e-04\n",
      "Epoch 55/100\n",
      "125/125 [==============================] - 182s 1s/step - loss: 0.0243 - acc: 0.9137 - val_loss: 0.4068 - val_acc: 0.7690 - lr: 2.8840e-04\n",
      "Epoch 56/100\n",
      "125/125 [==============================] - 182s 1s/step - loss: 0.0239 - acc: 0.9202 - val_loss: 0.4855 - val_acc: 0.7660 - lr: 2.8184e-04\n",
      "Epoch 57/100\n",
      "125/125 [==============================] - 182s 1s/step - loss: 0.0231 - acc: 0.9183 - val_loss: 0.4080 - val_acc: 0.7740 - lr: 2.7542e-04\n",
      "Epoch 58/100\n",
      "125/125 [==============================] - 182s 1s/step - loss: 0.0211 - acc: 0.9197 - val_loss: 0.4691 - val_acc: 0.7760 - lr: 2.6915e-04\n",
      "Epoch 59/100\n",
      "125/125 [==============================] - 182s 1s/step - loss: 0.0185 - acc: 0.9200 - val_loss: 0.4548 - val_acc: 0.7820 - lr: 2.6303e-04\n",
      "Epoch 60/100\n",
      "125/125 [==============================] - 182s 1s/step - loss: 0.0190 - acc: 0.9222 - val_loss: 0.4419 - val_acc: 0.7820 - lr: 2.5704e-04\n",
      "Epoch 61/100\n",
      "125/125 [==============================] - 182s 1s/step - loss: 0.0207 - acc: 0.9195 - val_loss: 0.4865 - val_acc: 0.7800 - lr: 2.5119e-04\n",
      "Epoch 62/100\n",
      "125/125 [==============================] - 182s 1s/step - loss: 0.0188 - acc: 0.9208 - val_loss: 0.4475 - val_acc: 0.7790 - lr: 2.4547e-04\n",
      "Epoch 63/100\n",
      "125/125 [==============================] - 182s 1s/step - loss: 0.0184 - acc: 0.9200 - val_loss: 0.5029 - val_acc: 0.7680 - lr: 2.3988e-04\n",
      "Epoch 64/100\n",
      "125/125 [==============================] - 182s 1s/step - loss: 0.0170 - acc: 0.9193 - val_loss: 0.4771 - val_acc: 0.7850 - lr: 2.3442e-04\n",
      "Epoch 65/100\n",
      "125/125 [==============================] - 182s 1s/step - loss: 0.0187 - acc: 0.9222 - val_loss: 0.5164 - val_acc: 0.7710 - lr: 2.2909e-04\n",
      "Epoch 66/100\n",
      "125/125 [==============================] - 182s 1s/step - loss: 0.0183 - acc: 0.9195 - val_loss: 0.5006 - val_acc: 0.7680 - lr: 2.2387e-04\n",
      "Epoch 67/100\n",
      "125/125 [==============================] - 182s 1s/step - loss: 0.0198 - acc: 0.9220 - val_loss: 0.5057 - val_acc: 0.7710 - lr: 2.1878e-04\n",
      "Epoch 68/100\n",
      "125/125 [==============================] - 182s 1s/step - loss: 0.0217 - acc: 0.9170 - val_loss: 0.4267 - val_acc: 0.7780 - lr: 2.1380e-04\n",
      "Epoch 69/100\n",
      "125/125 [==============================] - 182s 1s/step - loss: 0.0194 - acc: 0.9197 - val_loss: 0.4271 - val_acc: 0.7900 - lr: 2.0893e-04\n",
      "Epoch 70/100\n",
      "125/125 [==============================] - 182s 1s/step - loss: 0.0167 - acc: 0.9190 - val_loss: 0.4983 - val_acc: 0.7810 - lr: 2.0417e-04\n",
      "Epoch 71/100\n",
      "125/125 [==============================] - 182s 1s/step - loss: 0.0187 - acc: 0.9227 - val_loss: 0.5209 - val_acc: 0.7830 - lr: 1.9953e-04\n",
      "Epoch 72/100\n",
      "125/125 [==============================] - 182s 1s/step - loss: 0.0172 - acc: 0.9205 - val_loss: 0.5541 - val_acc: 0.7770 - lr: 1.9498e-04\n",
      "Epoch 73/100\n",
      "125/125 [==============================] - 182s 1s/step - loss: 0.0201 - acc: 0.9250 - val_loss: 0.4981 - val_acc: 0.7780 - lr: 1.9055e-04\n",
      "Epoch 74/100\n",
      "125/125 [==============================] - 182s 1s/step - loss: 0.0191 - acc: 0.9237 - val_loss: 0.5024 - val_acc: 0.7880 - lr: 1.8621e-04\n",
      "Epoch 75/100\n",
      "125/125 [==============================] - 182s 1s/step - loss: 0.0194 - acc: 0.9208 - val_loss: 0.4904 - val_acc: 0.7770 - lr: 1.8197e-04\n",
      "Epoch 76/100\n",
      "125/125 [==============================] - 182s 1s/step - loss: 0.0174 - acc: 0.9227 - val_loss: 0.4892 - val_acc: 0.7740 - lr: 1.7783e-04\n",
      "Epoch 77/100\n",
      "125/125 [==============================] - 182s 1s/step - loss: 0.0188 - acc: 0.9212 - val_loss: 0.4657 - val_acc: 0.7780 - lr: 1.7378e-04\n",
      "Epoch 78/100\n",
      "125/125 [==============================] - 182s 1s/step - loss: 0.0175 - acc: 0.9202 - val_loss: 0.5035 - val_acc: 0.7790 - lr: 1.6982e-04\n",
      "Epoch 79/100\n",
      "125/125 [==============================] - 182s 1s/step - loss: 0.0162 - acc: 0.9280 - val_loss: 0.5281 - val_acc: 0.7750 - lr: 1.6596e-04\n",
      "Epoch 80/100\n",
      "125/125 [==============================] - 182s 1s/step - loss: 0.0167 - acc: 0.9258 - val_loss: 0.4895 - val_acc: 0.7870 - lr: 1.6218e-04\n",
      "Epoch 81/100\n",
      "125/125 [==============================] - 182s 1s/step - loss: 0.0172 - acc: 0.9183 - val_loss: 0.5317 - val_acc: 0.7830 - lr: 1.5849e-04\n",
      "Epoch 82/100\n",
      "125/125 [==============================] - 182s 1s/step - loss: 0.0186 - acc: 0.9185 - val_loss: 0.4995 - val_acc: 0.7760 - lr: 1.5488e-04\n",
      "Epoch 83/100\n",
      "125/125 [==============================] - 182s 1s/step - loss: 0.0164 - acc: 0.9225 - val_loss: 0.4999 - val_acc: 0.7950 - lr: 1.5136e-04\n",
      "Epoch 84/100\n",
      "125/125 [==============================] - 182s 1s/step - loss: 0.0158 - acc: 0.9202 - val_loss: 0.5267 - val_acc: 0.7890 - lr: 1.4791e-04\n",
      "Epoch 85/100\n",
      "125/125 [==============================] - 182s 1s/step - loss: 0.0169 - acc: 0.9195 - val_loss: 0.5385 - val_acc: 0.7800 - lr: 1.4454e-04\n",
      "Epoch 86/100\n",
      "125/125 [==============================] - 182s 1s/step - loss: 0.0166 - acc: 0.9222 - val_loss: 0.5666 - val_acc: 0.7720 - lr: 1.4125e-04\n",
      "Epoch 87/100\n",
      "125/125 [==============================] - 182s 1s/step - loss: 0.0156 - acc: 0.9227 - val_loss: 0.5292 - val_acc: 0.7940 - lr: 1.3804e-04\n",
      "Epoch 88/100\n",
      "125/125 [==============================] - 182s 1s/step - loss: 0.0176 - acc: 0.9187 - val_loss: 0.5094 - val_acc: 0.7760 - lr: 1.3490e-04\n",
      "Epoch 89/100\n",
      "125/125 [==============================] - 182s 1s/step - loss: 0.0154 - acc: 0.9202 - val_loss: 0.5663 - val_acc: 0.7830 - lr: 1.3183e-04\n",
      "Epoch 90/100\n",
      "125/125 [==============================] - 182s 1s/step - loss: 0.0182 - acc: 0.9170 - val_loss: 0.5417 - val_acc: 0.7770 - lr: 1.2882e-04\n",
      "Epoch 91/100\n",
      "125/125 [==============================] - 182s 1s/step - loss: 0.0154 - acc: 0.9230 - val_loss: 0.5855 - val_acc: 0.7770 - lr: 1.2589e-04\n",
      "Epoch 92/100\n",
      "125/125 [==============================] - 182s 1s/step - loss: 0.0187 - acc: 0.9165 - val_loss: 0.5405 - val_acc: 0.7860 - lr: 1.2303e-04\n",
      "Epoch 93/100\n",
      "125/125 [==============================] - 182s 1s/step - loss: 0.0152 - acc: 0.9172 - val_loss: 0.5813 - val_acc: 0.7720 - lr: 1.2023e-04\n",
      "Epoch 94/100\n",
      "125/125 [==============================] - 182s 1s/step - loss: 0.0168 - acc: 0.9193 - val_loss: 0.6115 - val_acc: 0.7740 - lr: 1.1749e-04\n",
      "Epoch 95/100\n",
      "125/125 [==============================] - 182s 1s/step - loss: 0.0168 - acc: 0.9175 - val_loss: 0.5677 - val_acc: 0.7780 - lr: 1.1482e-04\n",
      "Epoch 96/100\n",
      "125/125 [==============================] - 182s 1s/step - loss: 0.0147 - acc: 0.9187 - val_loss: 0.5605 - val_acc: 0.7790 - lr: 1.1220e-04\n",
      "Epoch 97/100\n",
      "125/125 [==============================] - 182s 1s/step - loss: 0.0153 - acc: 0.9233 - val_loss: 0.5985 - val_acc: 0.7800 - lr: 1.0965e-04\n",
      "Epoch 98/100\n",
      "125/125 [==============================] - 182s 1s/step - loss: 0.0162 - acc: 0.9222 - val_loss: 0.5723 - val_acc: 0.7810 - lr: 1.0715e-04\n",
      "Epoch 99/100\n",
      "125/125 [==============================] - 182s 1s/step - loss: 0.0150 - acc: 0.9202 - val_loss: 0.6183 - val_acc: 0.7770 - lr: 1.0471e-04\n",
      "Epoch 100/100\n",
      "125/125 [==============================] - 182s 1s/step - loss: 0.0164 - acc: 0.9185 - val_loss: 0.5699 - val_acc: 0.7860 - lr: 1.0233e-04\n"
     ]
    }
   ],
   "source": [
    "model = model_arch()\n",
    "model, lr_sch = CompModel(model)\n",
    "\n",
    "history = model.fit(x_train[t3], y_train.values[t3],\n",
    "            epochs=100,\n",
    "            validation_data = (x_train[v3], y_train.values[v3]),\n",
    "            callbacks = [lr_sch],\n",
    "            verbose = 1)"
   ]
  },
  {
   "cell_type": "code",
   "execution_count": 8,
   "id": "ac3b3bee",
   "metadata": {
    "execution": {
     "iopub.execute_input": "2023-11-06T23:20:51.232252Z",
     "iopub.status.busy": "2023-11-06T23:20:51.226534Z",
     "iopub.status.idle": "2023-11-06T23:20:51.434302Z",
     "shell.execute_reply": "2023-11-06T23:20:51.433452Z"
    },
    "papermill": {
     "duration": 1.72937,
     "end_time": "2023-11-06T23:20:51.436530",
     "exception": false,
     "start_time": "2023-11-06T23:20:49.707160",
     "status": "completed"
    },
    "tags": []
   },
   "outputs": [],
   "source": [
    "model.save('/kaggle/working/RP_ECGNet_Fold3.h5')"
   ]
  }
 ],
 "metadata": {
  "kernelspec": {
   "display_name": "Python 3",
   "language": "python",
   "name": "python3"
  },
  "language_info": {
   "codemirror_mode": {
    "name": "ipython",
    "version": 3
   },
   "file_extension": ".py",
   "mimetype": "text/x-python",
   "name": "python",
   "nbconvert_exporter": "python",
   "pygments_lexer": "ipython3",
   "version": "3.10.12"
  },
  "papermill": {
   "default_parameters": {},
   "duration": 19835.222287,
   "end_time": "2023-11-06T23:20:56.742165",
   "environment_variables": {},
   "exception": null,
   "input_path": "__notebook__.ipynb",
   "output_path": "__notebook__.ipynb",
   "parameters": {},
   "start_time": "2023-11-06T17:50:21.519878",
   "version": "2.4.0"
  }
 },
 "nbformat": 4,
 "nbformat_minor": 5
}
