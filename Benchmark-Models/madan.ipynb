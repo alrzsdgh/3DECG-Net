{
 "cells": [
  {
   "cell_type": "code",
   "execution_count": 1,
   "id": "cf147f44",
   "metadata": {
    "_cell_guid": "b1076dfc-b9ad-4769-8c92-a6c4dae69d19",
    "_uuid": "8f2839f25d086af736a60e9eeb907d3b93b6e0e5",
    "execution": {
     "iopub.execute_input": "2024-07-06T08:16:51.260610Z",
     "iopub.status.busy": "2024-07-06T08:16:51.260226Z",
     "iopub.status.idle": "2024-07-06T08:17:54.729044Z",
     "shell.execute_reply": "2024-07-06T08:17:54.727864Z"
    },
    "papermill": {
     "duration": 63.476878,
     "end_time": "2024-07-06T08:17:54.731440",
     "exception": false,
     "start_time": "2024-07-06T08:16:51.254562",
     "status": "completed"
    },
    "tags": []
   },
   "outputs": [
    {
     "name": "stdout",
     "output_type": "stream",
     "text": [
      "Collecting gdown\r\n",
      "  Downloading gdown-5.2.0-py3-none-any.whl.metadata (5.8 kB)\r\n",
      "Requirement already satisfied: beautifulsoup4 in /opt/conda/lib/python3.10/site-packages (from gdown) (4.12.2)\r\n",
      "Requirement already satisfied: filelock in /opt/conda/lib/python3.10/site-packages (from gdown) (3.13.1)\r\n",
      "Requirement already satisfied: requests[socks] in /opt/conda/lib/python3.10/site-packages (from gdown) (2.32.3)\r\n",
      "Requirement already satisfied: tqdm in /opt/conda/lib/python3.10/site-packages (from gdown) (4.66.4)\r\n",
      "Requirement already satisfied: soupsieve>1.2 in /opt/conda/lib/python3.10/site-packages (from beautifulsoup4->gdown) (2.5)\r\n",
      "Requirement already satisfied: charset-normalizer<4,>=2 in /opt/conda/lib/python3.10/site-packages (from requests[socks]->gdown) (3.3.2)\r\n",
      "Requirement already satisfied: idna<4,>=2.5 in /opt/conda/lib/python3.10/site-packages (from requests[socks]->gdown) (3.6)\r\n",
      "Requirement already satisfied: urllib3<3,>=1.21.1 in /opt/conda/lib/python3.10/site-packages (from requests[socks]->gdown) (1.26.18)\r\n",
      "Requirement already satisfied: certifi>=2017.4.17 in /opt/conda/lib/python3.10/site-packages (from requests[socks]->gdown) (2024.2.2)\r\n",
      "Requirement already satisfied: PySocks!=1.5.7,>=1.5.6 in /opt/conda/lib/python3.10/site-packages (from requests[socks]->gdown) (1.7.1)\r\n",
      "Downloading gdown-5.2.0-py3-none-any.whl (18 kB)\r\n",
      "Installing collected packages: gdown\r\n",
      "Successfully installed gdown-5.2.0\r\n",
      "/opt/conda/lib/python3.10/site-packages/gdown/__main__.py:140: FutureWarning: Option `--id` was deprecated in version 4.3.1 and will be removed in 5.0. You don't need to pass it anymore to use a file ID.\r\n",
      "  warnings.warn(\r\n",
      "Downloading...\r\n",
      "From (original): https://drive.google.com/uc?id=1-1EjRHAq-4nhXIJ9-OobWmMXavl1B4zn\r\n",
      "From (redirected): https://drive.google.com/uc?id=1-1EjRHAq-4nhXIJ9-OobWmMXavl1B4zn&confirm=t&uuid=c1a85693-dec2-4a47-ad23-8df81853d269\r\n",
      "To: /kaggle/working/data.pkl\r\n",
      "100%|██████████████████████████████████████| 1.24G/1.24G [00:46<00:00, 26.9MB/s]\r\n"
     ]
    }
   ],
   "source": [
    "!pip install gdown\n",
    "!gdown --id 1-1EjRHAq-4nhXIJ9-OobWmMXavl1B4zn"
   ]
  },
  {
   "cell_type": "code",
   "execution_count": 2,
   "id": "f2826f56",
   "metadata": {
    "execution": {
     "iopub.execute_input": "2024-07-06T08:17:54.768953Z",
     "iopub.status.busy": "2024-07-06T08:17:54.768426Z",
     "iopub.status.idle": "2024-07-06T08:18:08.449612Z",
     "shell.execute_reply": "2024-07-06T08:18:08.448565Z"
    },
    "papermill": {
     "duration": 13.702796,
     "end_time": "2024-07-06T08:18:08.452134",
     "exception": false,
     "start_time": "2024-07-06T08:17:54.749338",
     "status": "completed"
    },
    "tags": []
   },
   "outputs": [
    {
     "name": "stderr",
     "output_type": "stream",
     "text": [
      "2024-07-06 08:17:56.513858: E external/local_xla/xla/stream_executor/cuda/cuda_dnn.cc:9261] Unable to register cuDNN factory: Attempting to register factory for plugin cuDNN when one has already been registered\n",
      "2024-07-06 08:17:56.513971: E external/local_xla/xla/stream_executor/cuda/cuda_fft.cc:607] Unable to register cuFFT factory: Attempting to register factory for plugin cuFFT when one has already been registered\n",
      "2024-07-06 08:17:56.638826: E external/local_xla/xla/stream_executor/cuda/cuda_blas.cc:1515] Unable to register cuBLAS factory: Attempting to register factory for plugin cuBLAS when one has already been registered\n"
     ]
    }
   ],
   "source": [
    "import pickle\n",
    "from tqdm import tqdm\n",
    "import tensorflow as tf\n",
    "import numpy as np\n",
    "\n",
    "from preprocess import data_preparation\n",
    "from preprocess import signal_cutter\n",
    "from preprocess import data_filtering\n",
    "from preprocess import resampling\n",
    "from preprocess import RP_3D\n",
    "from preprocess import resize_volume\n",
    "from preprocess import RP_final_data\n",
    "from preprocess import label_creator\n",
    "from preprocess import including_data\n",
    "from metrics import result"
   ]
  },
  {
   "cell_type": "code",
   "execution_count": 3,
   "id": "a7488fdb",
   "metadata": {
    "execution": {
     "iopub.execute_input": "2024-07-06T08:18:08.490142Z",
     "iopub.status.busy": "2024-07-06T08:18:08.489445Z",
     "iopub.status.idle": "2024-07-06T08:18:09.559858Z",
     "shell.execute_reply": "2024-07-06T08:18:09.558844Z"
    },
    "papermill": {
     "duration": 1.091737,
     "end_time": "2024-07-06T08:18:09.562232",
     "exception": false,
     "start_time": "2024-07-06T08:18:08.470495",
     "status": "completed"
    },
    "tags": []
   },
   "outputs": [],
   "source": [
    "# Read dictionary pkl file\n",
    "with open('/kaggle/working/data.pkl', 'rb') as fp:\n",
    "    dataset = pickle.load(fp)"
   ]
  },
  {
   "cell_type": "code",
   "execution_count": 4,
   "id": "7454912a",
   "metadata": {
    "execution": {
     "iopub.execute_input": "2024-07-06T08:18:09.601182Z",
     "iopub.status.busy": "2024-07-06T08:18:09.600800Z",
     "iopub.status.idle": "2024-07-06T08:19:16.577636Z",
     "shell.execute_reply": "2024-07-06T08:19:16.576601Z"
    },
    "papermill": {
     "duration": 66.997934,
     "end_time": "2024-07-06T08:19:16.579936",
     "exception": false,
     "start_time": "2024-07-06T08:18:09.582002",
     "status": "completed"
    },
    "tags": []
   },
   "outputs": [
    {
     "name": "stderr",
     "output_type": "stream",
     "text": [
      "100%|██████████| 10344/10344 [00:00<00:00, 1022914.15it/s]\n",
      "100%|██████████| 10344/10344 [00:00<00:00, 588969.93it/s]\n",
      "100%|██████████| 10344/10344 [01:05<00:00, 158.38it/s]\n",
      "100%|██████████| 10344/10344 [00:01<00:00, 8923.74it/s]\n"
     ]
    }
   ],
   "source": [
    "ds = data_preparation(dataset)\n",
    "\n",
    "# shortening\n",
    "ds = signal_cutter(ds, d_length=1000)\n",
    "\n",
    "# denoising\n",
    "ds = data_filtering(ds)\n",
    "\n",
    "# resampling\n",
    "ds = resampling(ds, desired_points = 100)"
   ]
  },
  {
   "cell_type": "code",
   "execution_count": 5,
   "id": "3dd2f402",
   "metadata": {
    "execution": {
     "iopub.execute_input": "2024-07-06T08:19:16.717495Z",
     "iopub.status.busy": "2024-07-06T08:19:16.716656Z",
     "iopub.status.idle": "2024-07-06T08:19:29.499929Z",
     "shell.execute_reply": "2024-07-06T08:19:29.498919Z"
    },
    "papermill": {
     "duration": 12.853889,
     "end_time": "2024-07-06T08:19:29.502231",
     "exception": false,
     "start_time": "2024-07-06T08:19:16.648342",
     "status": "completed"
    },
    "tags": []
   },
   "outputs": [
    {
     "name": "stderr",
     "output_type": "stream",
     "text": [
      "100%|██████████| 10344/10344 [00:00<00:00, 930468.40it/s]\n",
      "10344it [00:08, 1289.24it/s]\n",
      "10344it [00:04, 2198.39it/s]\n"
     ]
    }
   ],
   "source": [
    "arr = {'NSR':'426783006', 'AF':'164889003', 'IAVB':'270492004', 'LBBB':'164909002', 'RBBB':'59118001', 'SB':'426177001', 'STach':'427084000'}\n",
    "labels = label_creator(data_preparation(dataset), arr)\n",
    "x_train, y_train, x_test, y_test = including_data(labels, ds)"
   ]
  },
  {
   "cell_type": "code",
   "execution_count": 6,
   "id": "3acde1f6",
   "metadata": {
    "execution": {
     "iopub.execute_input": "2024-07-06T08:19:29.661397Z",
     "iopub.status.busy": "2024-07-06T08:19:29.660492Z",
     "iopub.status.idle": "2024-07-06T08:20:05.657474Z",
     "shell.execute_reply": "2024-07-06T08:20:05.656594Z"
    },
    "papermill": {
     "duration": 36.07791,
     "end_time": "2024-07-06T08:20:05.659864",
     "exception": false,
     "start_time": "2024-07-06T08:19:29.581954",
     "status": "completed"
    },
    "tags": []
   },
   "outputs": [
    {
     "name": "stderr",
     "output_type": "stream",
     "text": [
      "100%|██████████| 5000/5000 [00:27<00:00, 179.53it/s]\n",
      "100%|██████████| 1126/1126 [00:06<00:00, 175.06it/s]\n"
     ]
    }
   ],
   "source": [
    "data_2D = []\n",
    "for i in tqdm(x_train):\n",
    "    tmp_2D = RP_3D(i)\n",
    "    data_2D.append(np.reshape(tmp_2D, (99,99,12)))\n",
    "x_train_2d = np.array(data_2D)\n",
    "\n",
    "data_2D = []\n",
    "for i in tqdm(x_test):\n",
    "    tmp_2D = RP_3D(i)\n",
    "    data_2D.append(np.reshape(tmp_2D, (99,99,12)))\n",
    "x_test_2d = np.array(data_2D)"
   ]
  },
  {
   "cell_type": "code",
   "execution_count": 7,
   "id": "1c657599",
   "metadata": {
    "execution": {
     "iopub.execute_input": "2024-07-06T08:20:05.929872Z",
     "iopub.status.busy": "2024-07-06T08:20:05.929494Z",
     "iopub.status.idle": "2024-07-06T08:20:05.934669Z",
     "shell.execute_reply": "2024-07-06T08:20:05.933692Z"
    },
    "papermill": {
     "duration": 0.111831,
     "end_time": "2024-07-06T08:20:05.936905",
     "exception": false,
     "start_time": "2024-07-06T08:20:05.825074",
     "status": "completed"
    },
    "tags": []
   },
   "outputs": [
    {
     "name": "stdout",
     "output_type": "stream",
     "text": [
      "(5000, 99, 99, 12)\n",
      "(1126, 99, 99, 12)\n"
     ]
    }
   ],
   "source": [
    "print(np.shape(x_train_2d))\n",
    "print(np.shape(x_test_2d))"
   ]
  },
  {
   "cell_type": "code",
   "execution_count": 8,
   "id": "8aab3860",
   "metadata": {
    "execution": {
     "iopub.execute_input": "2024-07-06T08:20:06.147957Z",
     "iopub.status.busy": "2024-07-06T08:20:06.147103Z",
     "iopub.status.idle": "2024-07-06T08:20:06.158336Z",
     "shell.execute_reply": "2024-07-06T08:20:06.157325Z"
    },
    "papermill": {
     "duration": 0.118775,
     "end_time": "2024-07-06T08:20:06.160504",
     "exception": false,
     "start_time": "2024-07-06T08:20:06.041729",
     "status": "completed"
    },
    "tags": []
   },
   "outputs": [],
   "source": [
    "# Model\n",
    "\n",
    "import tensorflow as tf\n",
    "\n",
    "\n",
    "def madan_model():\n",
    "    input_layer = tf.keras.layers.Input(shape=(99,99,12))\n",
    "    x = tf.keras.layers.Conv2D(64, kernel_size=(3,3), padding='same')(input_layer)\n",
    "    x = tf.keras.layers.ReLU()(x)\n",
    "    x = tf.keras.layers.BatchNormalization()(x)\n",
    "    x = tf.keras.layers.MaxPooling2D((2,2))(x)\n",
    "    x = tf.keras.layers.Conv2D(128, kernel_size=(1,1), padding='same')(x)\n",
    "    x = tf.keras.layers.ReLU()(x)\n",
    "    x = tf.keras.layers.BatchNormalization()(x)\n",
    "    x = tf.keras.layers.MaxPooling2D((2,2))(x)\n",
    "    x = tf.keras.layers.Conv2D(256, kernel_size=(1,1), padding='same')(x)\n",
    "    x = tf.keras.layers.MaxPooling2D((2,2))(x)\n",
    "    x = tf.keras.layers.Reshape((12*12, 256))(x)\n",
    "    x = tf.keras.layers.LSTM(4096)(x)\n",
    "    x = tf.keras.layers.ReLU()(x)\n",
    "    x = tf.keras.layers.Dropout(0.5)(x)\n",
    "    x = tf.keras.layers.Dense(1000)(x)\n",
    "    x = tf.keras.layers.ReLU()(x)\n",
    "    x = tf.keras.layers.Dropout(0.5)(x)\n",
    "    x = tf.keras.layers.Dense(7, activation='sigmoid')(x)\n",
    "    return tf.keras.models.Model(input_layer, x)"
   ]
  },
  {
   "cell_type": "code",
   "execution_count": 9,
   "id": "641162d9",
   "metadata": {
    "execution": {
     "iopub.execute_input": "2024-07-06T08:20:06.376955Z",
     "iopub.status.busy": "2024-07-06T08:20:06.376198Z",
     "iopub.status.idle": "2024-07-06T10:16:12.779550Z",
     "shell.execute_reply": "2024-07-06T10:16:12.778130Z"
    },
    "papermill": {
     "duration": 6966.51496,
     "end_time": "2024-07-06T10:16:12.782172",
     "exception": false,
     "start_time": "2024-07-06T08:20:06.267212",
     "status": "completed"
    },
    "tags": []
   },
   "outputs": [
    {
     "name": "stdout",
     "output_type": "stream",
     "text": [
      "Epoch 1/100\n",
      "\u001b[1m157/157\u001b[0m \u001b[32m━━━━━━━━━━━━━━━━━━━━\u001b[0m\u001b[37m\u001b[0m \u001b[1m75s\u001b[0m 431ms/step - acc: 0.2661 - loss: 0.4713 - learning_rate: 0.0010\n",
      "Epoch 2/100\n",
      "\u001b[1m157/157\u001b[0m \u001b[32m━━━━━━━━━━━━━━━━━━━━\u001b[0m\u001b[37m\u001b[0m \u001b[1m68s\u001b[0m 433ms/step - acc: 0.4652 - loss: 0.3520 - learning_rate: 9.7724e-04\n",
      "Epoch 3/100\n",
      "\u001b[1m157/157\u001b[0m \u001b[32m━━━━━━━━━━━━━━━━━━━━\u001b[0m\u001b[37m\u001b[0m \u001b[1m68s\u001b[0m 433ms/step - acc: 0.5249 - loss: 0.3254 - learning_rate: 9.5499e-04\n",
      "Epoch 4/100\n",
      "\u001b[1m157/157\u001b[0m \u001b[32m━━━━━━━━━━━━━━━━━━━━\u001b[0m\u001b[37m\u001b[0m \u001b[1m68s\u001b[0m 434ms/step - acc: 0.5668 - loss: 0.3047 - learning_rate: 9.3325e-04\n",
      "Epoch 5/100\n",
      "\u001b[1m157/157\u001b[0m \u001b[32m━━━━━━━━━━━━━━━━━━━━\u001b[0m\u001b[37m\u001b[0m \u001b[1m68s\u001b[0m 433ms/step - acc: 0.5848 - loss: 0.2973 - learning_rate: 9.1201e-04\n",
      "Epoch 6/100\n",
      "\u001b[1m157/157\u001b[0m \u001b[32m━━━━━━━━━━━━━━━━━━━━\u001b[0m\u001b[37m\u001b[0m \u001b[1m68s\u001b[0m 433ms/step - acc: 0.6427 - loss: 0.2632 - learning_rate: 8.9125e-04\n",
      "Epoch 7/100\n",
      "\u001b[1m157/157\u001b[0m \u001b[32m━━━━━━━━━━━━━━━━━━━━\u001b[0m\u001b[37m\u001b[0m \u001b[1m68s\u001b[0m 434ms/step - acc: 0.6435 - loss: 0.2489 - learning_rate: 8.7096e-04\n",
      "Epoch 8/100\n",
      "\u001b[1m157/157\u001b[0m \u001b[32m━━━━━━━━━━━━━━━━━━━━\u001b[0m\u001b[37m\u001b[0m \u001b[1m68s\u001b[0m 433ms/step - acc: 0.6637 - loss: 0.2378 - learning_rate: 8.5114e-04\n",
      "Epoch 9/100\n",
      "\u001b[1m157/157\u001b[0m \u001b[32m━━━━━━━━━━━━━━━━━━━━\u001b[0m\u001b[37m\u001b[0m \u001b[1m68s\u001b[0m 433ms/step - acc: 0.6649 - loss: 0.2304 - learning_rate: 8.3176e-04\n",
      "Epoch 10/100\n",
      "\u001b[1m157/157\u001b[0m \u001b[32m━━━━━━━━━━━━━━━━━━━━\u001b[0m\u001b[37m\u001b[0m \u001b[1m68s\u001b[0m 433ms/step - acc: 0.6829 - loss: 0.2150 - learning_rate: 8.1283e-04\n",
      "Epoch 11/100\n",
      "\u001b[1m157/157\u001b[0m \u001b[32m━━━━━━━━━━━━━━━━━━━━\u001b[0m\u001b[37m\u001b[0m \u001b[1m68s\u001b[0m 434ms/step - acc: 0.6837 - loss: 0.2122 - learning_rate: 7.9433e-04\n",
      "Epoch 12/100\n",
      "\u001b[1m157/157\u001b[0m \u001b[32m━━━━━━━━━━━━━━━━━━━━\u001b[0m\u001b[37m\u001b[0m \u001b[1m68s\u001b[0m 433ms/step - acc: 0.6927 - loss: 0.2027 - learning_rate: 7.7625e-04\n",
      "Epoch 13/100\n",
      "\u001b[1m157/157\u001b[0m \u001b[32m━━━━━━━━━━━━━━━━━━━━\u001b[0m\u001b[37m\u001b[0m \u001b[1m68s\u001b[0m 434ms/step - acc: 0.7092 - loss: 0.1904 - learning_rate: 7.5858e-04\n",
      "Epoch 14/100\n",
      "\u001b[1m157/157\u001b[0m \u001b[32m━━━━━━━━━━━━━━━━━━━━\u001b[0m\u001b[37m\u001b[0m \u001b[1m68s\u001b[0m 434ms/step - acc: 0.7219 - loss: 0.1776 - learning_rate: 7.4131e-04\n",
      "Epoch 15/100\n",
      "\u001b[1m157/157\u001b[0m \u001b[32m━━━━━━━━━━━━━━━━━━━━\u001b[0m\u001b[37m\u001b[0m \u001b[1m82s\u001b[0m 434ms/step - acc: 0.7431 - loss: 0.1621 - learning_rate: 7.2444e-04\n",
      "Epoch 16/100\n",
      "\u001b[1m157/157\u001b[0m \u001b[32m━━━━━━━━━━━━━━━━━━━━\u001b[0m\u001b[37m\u001b[0m \u001b[1m68s\u001b[0m 434ms/step - acc: 0.7216 - loss: 0.1769 - learning_rate: 7.0795e-04\n",
      "Epoch 17/100\n",
      "\u001b[1m157/157\u001b[0m \u001b[32m━━━━━━━━━━━━━━━━━━━━\u001b[0m\u001b[37m\u001b[0m \u001b[1m68s\u001b[0m 434ms/step - acc: 0.7590 - loss: 0.1532 - learning_rate: 6.9183e-04\n",
      "Epoch 18/100\n",
      "\u001b[1m157/157\u001b[0m \u001b[32m━━━━━━━━━━━━━━━━━━━━\u001b[0m\u001b[37m\u001b[0m \u001b[1m68s\u001b[0m 433ms/step - acc: 0.7610 - loss: 0.1460 - learning_rate: 6.7608e-04\n",
      "Epoch 19/100\n",
      "\u001b[1m157/157\u001b[0m \u001b[32m━━━━━━━━━━━━━━━━━━━━\u001b[0m\u001b[37m\u001b[0m \u001b[1m68s\u001b[0m 434ms/step - acc: 0.7804 - loss: 0.1313 - learning_rate: 6.6069e-04\n",
      "Epoch 20/100\n",
      "\u001b[1m157/157\u001b[0m \u001b[32m━━━━━━━━━━━━━━━━━━━━\u001b[0m\u001b[37m\u001b[0m \u001b[1m68s\u001b[0m 433ms/step - acc: 0.7907 - loss: 0.1250 - learning_rate: 6.4565e-04\n",
      "Epoch 21/100\n",
      "\u001b[1m157/157\u001b[0m \u001b[32m━━━━━━━━━━━━━━━━━━━━\u001b[0m\u001b[37m\u001b[0m \u001b[1m68s\u001b[0m 433ms/step - acc: 0.7932 - loss: 0.1146 - learning_rate: 6.3096e-04\n",
      "Epoch 22/100\n",
      "\u001b[1m157/157\u001b[0m \u001b[32m━━━━━━━━━━━━━━━━━━━━\u001b[0m\u001b[37m\u001b[0m \u001b[1m68s\u001b[0m 433ms/step - acc: 0.8013 - loss: 0.1127 - learning_rate: 6.1659e-04\n",
      "Epoch 23/100\n",
      "\u001b[1m157/157\u001b[0m \u001b[32m━━━━━━━━━━━━━━━━━━━━\u001b[0m\u001b[37m\u001b[0m \u001b[1m68s\u001b[0m 433ms/step - acc: 0.8155 - loss: 0.1001 - learning_rate: 6.0256e-04\n",
      "Epoch 24/100\n",
      "\u001b[1m157/157\u001b[0m \u001b[32m━━━━━━━━━━━━━━━━━━━━\u001b[0m\u001b[37m\u001b[0m \u001b[1m82s\u001b[0m 434ms/step - acc: 0.8307 - loss: 0.0895 - learning_rate: 5.8884e-04\n",
      "Epoch 25/100\n",
      "\u001b[1m157/157\u001b[0m \u001b[32m━━━━━━━━━━━━━━━━━━━━\u001b[0m\u001b[37m\u001b[0m \u001b[1m68s\u001b[0m 434ms/step - acc: 0.8295 - loss: 0.0885 - learning_rate: 5.7544e-04\n",
      "Epoch 26/100\n",
      "\u001b[1m157/157\u001b[0m \u001b[32m━━━━━━━━━━━━━━━━━━━━\u001b[0m\u001b[37m\u001b[0m \u001b[1m68s\u001b[0m 434ms/step - acc: 0.8480 - loss: 0.0796 - learning_rate: 5.6234e-04\n",
      "Epoch 27/100\n",
      "\u001b[1m157/157\u001b[0m \u001b[32m━━━━━━━━━━━━━━━━━━━━\u001b[0m\u001b[37m\u001b[0m \u001b[1m82s\u001b[0m 434ms/step - acc: 0.8568 - loss: 0.0719 - learning_rate: 5.4954e-04\n",
      "Epoch 28/100\n",
      "\u001b[1m157/157\u001b[0m \u001b[32m━━━━━━━━━━━━━━━━━━━━\u001b[0m\u001b[37m\u001b[0m \u001b[1m68s\u001b[0m 433ms/step - acc: 0.8699 - loss: 0.0614 - learning_rate: 5.3703e-04\n",
      "Epoch 29/100\n",
      "\u001b[1m157/157\u001b[0m \u001b[32m━━━━━━━━━━━━━━━━━━━━\u001b[0m\u001b[37m\u001b[0m \u001b[1m68s\u001b[0m 434ms/step - acc: 0.8858 - loss: 0.0559 - learning_rate: 5.2481e-04\n",
      "Epoch 30/100\n",
      "\u001b[1m157/157\u001b[0m \u001b[32m━━━━━━━━━━━━━━━━━━━━\u001b[0m\u001b[37m\u001b[0m \u001b[1m68s\u001b[0m 434ms/step - acc: 0.8834 - loss: 0.0457 - learning_rate: 5.1286e-04\n",
      "Epoch 31/100\n",
      "\u001b[1m157/157\u001b[0m \u001b[32m━━━━━━━━━━━━━━━━━━━━\u001b[0m\u001b[37m\u001b[0m \u001b[1m82s\u001b[0m 434ms/step - acc: 0.8818 - loss: 0.0542 - learning_rate: 5.0119e-04\n",
      "Epoch 32/100\n",
      "\u001b[1m157/157\u001b[0m \u001b[32m━━━━━━━━━━━━━━━━━━━━\u001b[0m\u001b[37m\u001b[0m \u001b[1m68s\u001b[0m 434ms/step - acc: 0.8935 - loss: 0.0486 - learning_rate: 4.8978e-04\n",
      "Epoch 33/100\n",
      "\u001b[1m157/157\u001b[0m \u001b[32m━━━━━━━━━━━━━━━━━━━━\u001b[0m\u001b[37m\u001b[0m \u001b[1m68s\u001b[0m 434ms/step - acc: 0.9098 - loss: 0.0287 - learning_rate: 4.7863e-04\n",
      "Epoch 34/100\n",
      "\u001b[1m157/157\u001b[0m \u001b[32m━━━━━━━━━━━━━━━━━━━━\u001b[0m\u001b[37m\u001b[0m \u001b[1m68s\u001b[0m 434ms/step - acc: 0.9007 - loss: 0.0326 - learning_rate: 4.6774e-04\n",
      "Epoch 35/100\n",
      "\u001b[1m157/157\u001b[0m \u001b[32m━━━━━━━━━━━━━━━━━━━━\u001b[0m\u001b[37m\u001b[0m \u001b[1m68s\u001b[0m 433ms/step - acc: 0.8921 - loss: 0.0411 - learning_rate: 4.5709e-04\n",
      "Epoch 36/100\n",
      "\u001b[1m157/157\u001b[0m \u001b[32m━━━━━━━━━━━━━━━━━━━━\u001b[0m\u001b[37m\u001b[0m \u001b[1m68s\u001b[0m 434ms/step - acc: 0.9200 - loss: 0.0218 - learning_rate: 4.4668e-04\n",
      "Epoch 37/100\n",
      "\u001b[1m157/157\u001b[0m \u001b[32m━━━━━━━━━━━━━━━━━━━━\u001b[0m\u001b[37m\u001b[0m \u001b[1m68s\u001b[0m 433ms/step - acc: 0.9203 - loss: 0.0180 - learning_rate: 4.3652e-04\n",
      "Epoch 38/100\n",
      "\u001b[1m157/157\u001b[0m \u001b[32m━━━━━━━━━━━━━━━━━━━━\u001b[0m\u001b[37m\u001b[0m \u001b[1m68s\u001b[0m 433ms/step - acc: 0.9200 - loss: 0.0196 - learning_rate: 4.2658e-04\n",
      "Epoch 39/100\n",
      "\u001b[1m157/157\u001b[0m \u001b[32m━━━━━━━━━━━━━━━━━━━━\u001b[0m\u001b[37m\u001b[0m \u001b[1m68s\u001b[0m 433ms/step - acc: 0.9164 - loss: 0.0173 - learning_rate: 4.1687e-04\n",
      "Epoch 40/100\n",
      "\u001b[1m157/157\u001b[0m \u001b[32m━━━━━━━━━━━━━━━━━━━━\u001b[0m\u001b[37m\u001b[0m \u001b[1m68s\u001b[0m 434ms/step - acc: 0.9159 - loss: 0.0178 - learning_rate: 4.0738e-04\n",
      "Epoch 41/100\n",
      "\u001b[1m157/157\u001b[0m \u001b[32m━━━━━━━━━━━━━━━━━━━━\u001b[0m\u001b[37m\u001b[0m \u001b[1m68s\u001b[0m 434ms/step - acc: 0.9247 - loss: 0.0168 - learning_rate: 3.9811e-04\n",
      "Epoch 42/100\n",
      "\u001b[1m157/157\u001b[0m \u001b[32m━━━━━━━━━━━━━━━━━━━━\u001b[0m\u001b[37m\u001b[0m \u001b[1m68s\u001b[0m 433ms/step - acc: 0.9186 - loss: 0.0192 - learning_rate: 3.8905e-04\n",
      "Epoch 43/100\n",
      "\u001b[1m157/157\u001b[0m \u001b[32m━━━━━━━━━━━━━━━━━━━━\u001b[0m\u001b[37m\u001b[0m \u001b[1m68s\u001b[0m 434ms/step - acc: 0.9259 - loss: 0.0116 - learning_rate: 3.8019e-04\n",
      "Epoch 44/100\n",
      "\u001b[1m157/157\u001b[0m \u001b[32m━━━━━━━━━━━━━━━━━━━━\u001b[0m\u001b[37m\u001b[0m \u001b[1m68s\u001b[0m 433ms/step - acc: 0.9257 - loss: 0.0159 - learning_rate: 3.7154e-04\n",
      "Epoch 45/100\n",
      "\u001b[1m157/157\u001b[0m \u001b[32m━━━━━━━━━━━━━━━━━━━━\u001b[0m\u001b[37m\u001b[0m \u001b[1m68s\u001b[0m 433ms/step - acc: 0.9273 - loss: 0.0110 - learning_rate: 3.6308e-04\n",
      "Epoch 46/100\n",
      "\u001b[1m157/157\u001b[0m \u001b[32m━━━━━━━━━━━━━━━━━━━━\u001b[0m\u001b[37m\u001b[0m \u001b[1m68s\u001b[0m 433ms/step - acc: 0.9245 - loss: 0.0101 - learning_rate: 3.5481e-04\n",
      "Epoch 47/100\n",
      "\u001b[1m157/157\u001b[0m \u001b[32m━━━━━━━━━━━━━━━━━━━━\u001b[0m\u001b[37m\u001b[0m \u001b[1m68s\u001b[0m 434ms/step - acc: 0.9287 - loss: 0.0112 - learning_rate: 3.4674e-04\n",
      "Epoch 48/100\n",
      "\u001b[1m157/157\u001b[0m \u001b[32m━━━━━━━━━━━━━━━━━━━━\u001b[0m\u001b[37m\u001b[0m \u001b[1m68s\u001b[0m 433ms/step - acc: 0.9306 - loss: 0.0101 - learning_rate: 3.3884e-04\n",
      "Epoch 49/100\n",
      "\u001b[1m157/157\u001b[0m \u001b[32m━━━━━━━━━━━━━━━━━━━━\u001b[0m\u001b[37m\u001b[0m \u001b[1m68s\u001b[0m 433ms/step - acc: 0.9351 - loss: 0.0079 - learning_rate: 3.3113e-04\n",
      "Epoch 50/100\n",
      "\u001b[1m157/157\u001b[0m \u001b[32m━━━━━━━━━━━━━━━━━━━━\u001b[0m\u001b[37m\u001b[0m \u001b[1m68s\u001b[0m 434ms/step - acc: 0.9357 - loss: 0.0051 - learning_rate: 3.2359e-04\n",
      "Epoch 51/100\n",
      "\u001b[1m157/157\u001b[0m \u001b[32m━━━━━━━━━━━━━━━━━━━━\u001b[0m\u001b[37m\u001b[0m \u001b[1m68s\u001b[0m 434ms/step - acc: 0.9380 - loss: 0.0072 - learning_rate: 3.1623e-04\n",
      "Epoch 52/100\n",
      "\u001b[1m157/157\u001b[0m \u001b[32m━━━━━━━━━━━━━━━━━━━━\u001b[0m\u001b[37m\u001b[0m \u001b[1m68s\u001b[0m 433ms/step - acc: 0.9259 - loss: 0.0059 - learning_rate: 3.0903e-04\n",
      "Epoch 53/100\n",
      "\u001b[1m157/157\u001b[0m \u001b[32m━━━━━━━━━━━━━━━━━━━━\u001b[0m\u001b[37m\u001b[0m \u001b[1m68s\u001b[0m 434ms/step - acc: 0.9368 - loss: 0.0055 - learning_rate: 3.0200e-04\n",
      "Epoch 54/100\n",
      "\u001b[1m157/157\u001b[0m \u001b[32m━━━━━━━━━━━━━━━━━━━━\u001b[0m\u001b[37m\u001b[0m \u001b[1m68s\u001b[0m 434ms/step - acc: 0.9338 - loss: 0.0035 - learning_rate: 2.9512e-04\n",
      "Epoch 55/100\n",
      "\u001b[1m157/157\u001b[0m \u001b[32m━━━━━━━━━━━━━━━━━━━━\u001b[0m\u001b[37m\u001b[0m \u001b[1m68s\u001b[0m 433ms/step - acc: 0.9339 - loss: 0.0066 - learning_rate: 2.8840e-04\n",
      "Epoch 56/100\n",
      "\u001b[1m157/157\u001b[0m \u001b[32m━━━━━━━━━━━━━━━━━━━━\u001b[0m\u001b[37m\u001b[0m \u001b[1m82s\u001b[0m 433ms/step - acc: 0.9354 - loss: 0.0052 - learning_rate: 2.8184e-04\n",
      "Epoch 57/100\n",
      "\u001b[1m157/157\u001b[0m \u001b[32m━━━━━━━━━━━━━━━━━━━━\u001b[0m\u001b[37m\u001b[0m \u001b[1m68s\u001b[0m 434ms/step - acc: 0.9209 - loss: 0.0123 - learning_rate: 2.7542e-04\n",
      "Epoch 58/100\n",
      "\u001b[1m157/157\u001b[0m \u001b[32m━━━━━━━━━━━━━━━━━━━━\u001b[0m\u001b[37m\u001b[0m \u001b[1m68s\u001b[0m 434ms/step - acc: 0.9196 - loss: 0.0085 - learning_rate: 2.6915e-04\n",
      "Epoch 59/100\n",
      "\u001b[1m157/157\u001b[0m \u001b[32m━━━━━━━━━━━━━━━━━━━━\u001b[0m\u001b[37m\u001b[0m \u001b[1m68s\u001b[0m 434ms/step - acc: 0.9304 - loss: 0.0078 - learning_rate: 2.6303e-04\n",
      "Epoch 60/100\n",
      "\u001b[1m157/157\u001b[0m \u001b[32m━━━━━━━━━━━━━━━━━━━━\u001b[0m\u001b[37m\u001b[0m \u001b[1m68s\u001b[0m 434ms/step - acc: 0.9353 - loss: 0.0041 - learning_rate: 2.5704e-04\n",
      "Epoch 61/100\n",
      "\u001b[1m157/157\u001b[0m \u001b[32m━━━━━━━━━━━━━━━━━━━━\u001b[0m\u001b[37m\u001b[0m \u001b[1m68s\u001b[0m 433ms/step - acc: 0.9351 - loss: 0.0038 - learning_rate: 2.5119e-04\n",
      "Epoch 62/100\n",
      "\u001b[1m157/157\u001b[0m \u001b[32m━━━━━━━━━━━━━━━━━━━━\u001b[0m\u001b[37m\u001b[0m \u001b[1m68s\u001b[0m 434ms/step - acc: 0.9432 - loss: 0.0037 - learning_rate: 2.4547e-04\n",
      "Epoch 63/100\n",
      "\u001b[1m157/157\u001b[0m \u001b[32m━━━━━━━━━━━━━━━━━━━━\u001b[0m\u001b[37m\u001b[0m \u001b[1m68s\u001b[0m 433ms/step - acc: 0.9432 - loss: 0.0027 - learning_rate: 2.3988e-04\n",
      "Epoch 64/100\n",
      "\u001b[1m157/157\u001b[0m \u001b[32m━━━━━━━━━━━━━━━━━━━━\u001b[0m\u001b[37m\u001b[0m \u001b[1m68s\u001b[0m 433ms/step - acc: 0.9395 - loss: 0.0030 - learning_rate: 2.3442e-04\n",
      "Epoch 65/100\n",
      "\u001b[1m157/157\u001b[0m \u001b[32m━━━━━━━━━━━━━━━━━━━━\u001b[0m\u001b[37m\u001b[0m \u001b[1m68s\u001b[0m 433ms/step - acc: 0.9392 - loss: 0.0027 - learning_rate: 2.2909e-04\n",
      "Epoch 66/100\n",
      "\u001b[1m157/157\u001b[0m \u001b[32m━━━━━━━━━━━━━━━━━━━━\u001b[0m\u001b[37m\u001b[0m \u001b[1m68s\u001b[0m 433ms/step - acc: 0.9352 - loss: 0.0023 - learning_rate: 2.2387e-04\n",
      "Epoch 67/100\n",
      "\u001b[1m157/157\u001b[0m \u001b[32m━━━━━━━━━━━━━━━━━━━━\u001b[0m\u001b[37m\u001b[0m \u001b[1m68s\u001b[0m 434ms/step - acc: 0.9414 - loss: 0.0042 - learning_rate: 2.1878e-04\n",
      "Epoch 68/100\n",
      "\u001b[1m157/157\u001b[0m \u001b[32m━━━━━━━━━━━━━━━━━━━━\u001b[0m\u001b[37m\u001b[0m \u001b[1m68s\u001b[0m 434ms/step - acc: 0.9355 - loss: 0.0018 - learning_rate: 2.1380e-04\n",
      "Epoch 69/100\n",
      "\u001b[1m157/157\u001b[0m \u001b[32m━━━━━━━━━━━━━━━━━━━━\u001b[0m\u001b[37m\u001b[0m \u001b[1m68s\u001b[0m 434ms/step - acc: 0.9318 - loss: 0.0066 - learning_rate: 2.0893e-04\n",
      "Epoch 70/100\n",
      "\u001b[1m157/157\u001b[0m \u001b[32m━━━━━━━━━━━━━━━━━━━━\u001b[0m\u001b[37m\u001b[0m \u001b[1m68s\u001b[0m 434ms/step - acc: 0.9385 - loss: 0.0036 - learning_rate: 2.0417e-04\n",
      "Epoch 71/100\n",
      "\u001b[1m157/157\u001b[0m \u001b[32m━━━━━━━━━━━━━━━━━━━━\u001b[0m\u001b[37m\u001b[0m \u001b[1m68s\u001b[0m 434ms/step - acc: 0.9391 - loss: 0.0016 - learning_rate: 1.9953e-04\n",
      "Epoch 72/100\n",
      "\u001b[1m157/157\u001b[0m \u001b[32m━━━━━━━━━━━━━━━━━━━━\u001b[0m\u001b[37m\u001b[0m \u001b[1m68s\u001b[0m 434ms/step - acc: 0.9365 - loss: 0.0025 - learning_rate: 1.9498e-04\n",
      "Epoch 73/100\n",
      "\u001b[1m157/157\u001b[0m \u001b[32m━━━━━━━━━━━━━━━━━━━━\u001b[0m\u001b[37m\u001b[0m \u001b[1m68s\u001b[0m 434ms/step - acc: 0.9347 - loss: 0.0029 - learning_rate: 1.9055e-04\n",
      "Epoch 74/100\n",
      "\u001b[1m157/157\u001b[0m \u001b[32m━━━━━━━━━━━━━━━━━━━━\u001b[0m\u001b[37m\u001b[0m \u001b[1m68s\u001b[0m 434ms/step - acc: 0.9358 - loss: 0.0022 - learning_rate: 1.8621e-04\n",
      "Epoch 75/100\n",
      "\u001b[1m157/157\u001b[0m \u001b[32m━━━━━━━━━━━━━━━━━━━━\u001b[0m\u001b[37m\u001b[0m \u001b[1m68s\u001b[0m 433ms/step - acc: 0.9276 - loss: 0.0024 - learning_rate: 1.8197e-04\n",
      "Epoch 76/100\n",
      "\u001b[1m157/157\u001b[0m \u001b[32m━━━━━━━━━━━━━━━━━━━━\u001b[0m\u001b[37m\u001b[0m \u001b[1m68s\u001b[0m 434ms/step - acc: 0.9351 - loss: 0.0022 - learning_rate: 1.7783e-04\n",
      "Epoch 77/100\n",
      "\u001b[1m157/157\u001b[0m \u001b[32m━━━━━━━━━━━━━━━━━━━━\u001b[0m\u001b[37m\u001b[0m \u001b[1m68s\u001b[0m 434ms/step - acc: 0.9331 - loss: 0.0023 - learning_rate: 1.7378e-04\n",
      "Epoch 78/100\n",
      "\u001b[1m157/157\u001b[0m \u001b[32m━━━━━━━━━━━━━━━━━━━━\u001b[0m\u001b[37m\u001b[0m \u001b[1m68s\u001b[0m 434ms/step - acc: 0.9387 - loss: 0.0036 - learning_rate: 1.6982e-04\n",
      "Epoch 79/100\n",
      "\u001b[1m157/157\u001b[0m \u001b[32m━━━━━━━━━━━━━━━━━━━━\u001b[0m\u001b[37m\u001b[0m \u001b[1m68s\u001b[0m 434ms/step - acc: 0.9343 - loss: 0.0011 - learning_rate: 1.6596e-04\n",
      "Epoch 80/100\n",
      "\u001b[1m157/157\u001b[0m \u001b[32m━━━━━━━━━━━━━━━━━━━━\u001b[0m\u001b[37m\u001b[0m \u001b[1m68s\u001b[0m 434ms/step - acc: 0.9401 - loss: 0.0016 - learning_rate: 1.6218e-04\n",
      "Epoch 81/100\n",
      "\u001b[1m157/157\u001b[0m \u001b[32m━━━━━━━━━━━━━━━━━━━━\u001b[0m\u001b[37m\u001b[0m \u001b[1m68s\u001b[0m 434ms/step - acc: 0.9437 - loss: 0.0011 - learning_rate: 1.5849e-04\n",
      "Epoch 82/100\n",
      "\u001b[1m157/157\u001b[0m \u001b[32m━━━━━━━━━━━━━━━━━━━━\u001b[0m\u001b[37m\u001b[0m \u001b[1m68s\u001b[0m 433ms/step - acc: 0.9434 - loss: 0.0012 - learning_rate: 1.5488e-04\n",
      "Epoch 83/100\n",
      "\u001b[1m157/157\u001b[0m \u001b[32m━━━━━━━━━━━━━━━━━━━━\u001b[0m\u001b[37m\u001b[0m \u001b[1m68s\u001b[0m 434ms/step - acc: 0.9364 - loss: 0.0024 - learning_rate: 1.5136e-04\n",
      "Epoch 84/100\n",
      "\u001b[1m157/157\u001b[0m \u001b[32m━━━━━━━━━━━━━━━━━━━━\u001b[0m\u001b[37m\u001b[0m \u001b[1m68s\u001b[0m 433ms/step - acc: 0.9340 - loss: 0.0017 - learning_rate: 1.4791e-04\n",
      "Epoch 85/100\n",
      "\u001b[1m157/157\u001b[0m \u001b[32m━━━━━━━━━━━━━━━━━━━━\u001b[0m\u001b[37m\u001b[0m \u001b[1m68s\u001b[0m 434ms/step - acc: 0.9448 - loss: 8.6641e-04 - learning_rate: 1.4454e-04\n",
      "Epoch 86/100\n",
      "\u001b[1m157/157\u001b[0m \u001b[32m━━━━━━━━━━━━━━━━━━━━\u001b[0m\u001b[37m\u001b[0m \u001b[1m82s\u001b[0m 434ms/step - acc: 0.9350 - loss: 0.0025 - learning_rate: 1.4125e-04\n",
      "Epoch 87/100\n",
      "\u001b[1m157/157\u001b[0m \u001b[32m━━━━━━━━━━━━━━━━━━━━\u001b[0m\u001b[37m\u001b[0m \u001b[1m68s\u001b[0m 434ms/step - acc: 0.9397 - loss: 0.0022 - learning_rate: 1.3804e-04\n",
      "Epoch 88/100\n",
      "\u001b[1m157/157\u001b[0m \u001b[32m━━━━━━━━━━━━━━━━━━━━\u001b[0m\u001b[37m\u001b[0m \u001b[1m68s\u001b[0m 433ms/step - acc: 0.9414 - loss: 8.1484e-04 - learning_rate: 1.3490e-04\n",
      "Epoch 89/100\n",
      "\u001b[1m157/157\u001b[0m \u001b[32m━━━━━━━━━━━━━━━━━━━━\u001b[0m\u001b[37m\u001b[0m \u001b[1m68s\u001b[0m 434ms/step - acc: 0.9371 - loss: 0.0016 - learning_rate: 1.3183e-04\n",
      "Epoch 90/100\n",
      "\u001b[1m157/157\u001b[0m \u001b[32m━━━━━━━━━━━━━━━━━━━━\u001b[0m\u001b[37m\u001b[0m \u001b[1m68s\u001b[0m 434ms/step - acc: 0.9420 - loss: 4.6027e-04 - learning_rate: 1.2882e-04\n",
      "Epoch 91/100\n",
      "\u001b[1m157/157\u001b[0m \u001b[32m━━━━━━━━━━━━━━━━━━━━\u001b[0m\u001b[37m\u001b[0m \u001b[1m68s\u001b[0m 434ms/step - acc: 0.9357 - loss: 0.0010 - learning_rate: 1.2589e-04\n",
      "Epoch 92/100\n",
      "\u001b[1m157/157\u001b[0m \u001b[32m━━━━━━━━━━━━━━━━━━━━\u001b[0m\u001b[37m\u001b[0m \u001b[1m68s\u001b[0m 433ms/step - acc: 0.9431 - loss: 7.3676e-04 - learning_rate: 1.2303e-04\n",
      "Epoch 93/100\n",
      "\u001b[1m157/157\u001b[0m \u001b[32m━━━━━━━━━━━━━━━━━━━━\u001b[0m\u001b[37m\u001b[0m \u001b[1m68s\u001b[0m 434ms/step - acc: 0.9487 - loss: 7.6465e-04 - learning_rate: 1.2023e-04\n",
      "Epoch 94/100\n",
      "\u001b[1m157/157\u001b[0m \u001b[32m━━━━━━━━━━━━━━━━━━━━\u001b[0m\u001b[37m\u001b[0m \u001b[1m68s\u001b[0m 434ms/step - acc: 0.9376 - loss: 9.5488e-04 - learning_rate: 1.1749e-04\n",
      "Epoch 95/100\n",
      "\u001b[1m157/157\u001b[0m \u001b[32m━━━━━━━━━━━━━━━━━━━━\u001b[0m\u001b[37m\u001b[0m \u001b[1m68s\u001b[0m 434ms/step - acc: 0.9325 - loss: 8.0677e-04 - learning_rate: 1.1482e-04\n",
      "Epoch 96/100\n",
      "\u001b[1m157/157\u001b[0m \u001b[32m━━━━━━━━━━━━━━━━━━━━\u001b[0m\u001b[37m\u001b[0m \u001b[1m68s\u001b[0m 434ms/step - acc: 0.9292 - loss: 0.0011 - learning_rate: 1.1220e-04\n",
      "Epoch 97/100\n",
      "\u001b[1m157/157\u001b[0m \u001b[32m━━━━━━━━━━━━━━━━━━━━\u001b[0m\u001b[37m\u001b[0m \u001b[1m68s\u001b[0m 434ms/step - acc: 0.9482 - loss: 9.0099e-04 - learning_rate: 1.0965e-04\n",
      "Epoch 98/100\n",
      "\u001b[1m157/157\u001b[0m \u001b[32m━━━━━━━━━━━━━━━━━━━━\u001b[0m\u001b[37m\u001b[0m \u001b[1m68s\u001b[0m 433ms/step - acc: 0.9389 - loss: 6.5420e-04 - learning_rate: 1.0715e-04\n",
      "Epoch 99/100\n",
      "\u001b[1m157/157\u001b[0m \u001b[32m━━━━━━━━━━━━━━━━━━━━\u001b[0m\u001b[37m\u001b[0m \u001b[1m68s\u001b[0m 433ms/step - acc: 0.9396 - loss: 3.5547e-04 - learning_rate: 1.0471e-04\n",
      "Epoch 100/100\n",
      "\u001b[1m157/157\u001b[0m \u001b[32m━━━━━━━━━━━━━━━━━━━━\u001b[0m\u001b[37m\u001b[0m \u001b[1m68s\u001b[0m 434ms/step - acc: 0.9394 - loss: 6.5387e-04 - learning_rate: 1.0233e-04\n"
     ]
    }
   ],
   "source": [
    "# Training\n",
    "\n",
    "## Compiling\n",
    "def CompModel(model):\n",
    "    model.compile(optimizer=tf.keras.optimizers.Adam() , \n",
    "                loss=tf.keras.losses.BinaryCrossentropy() , metrics=['acc'])\n",
    "    lr_sch = tf.keras.callbacks.LearningRateScheduler(\n",
    "        lambda epochs: 1e-3 * 10 ** (-epochs/100.0))\n",
    "    return model, lr_sch\n",
    "\n",
    "model = madan_model()\n",
    "model, lr_sch = CompModel(model)\n",
    "\n",
    "history = model.fit(x_train_2d, y_train.values,\n",
    "            epochs=100,\n",
    "            callbacks = [lr_sch],\n",
    "            verbose = 1)"
   ]
  },
  {
   "cell_type": "code",
   "execution_count": 10,
   "id": "53599af8",
   "metadata": {
    "execution": {
     "iopub.execute_input": "2024-07-06T10:16:15.706974Z",
     "iopub.status.busy": "2024-07-06T10:16:15.702922Z",
     "iopub.status.idle": "2024-07-06T10:16:24.462647Z",
     "shell.execute_reply": "2024-07-06T10:16:24.461594Z"
    },
    "papermill": {
     "duration": 10.201386,
     "end_time": "2024-07-06T10:16:24.464787",
     "exception": false,
     "start_time": "2024-07-06T10:16:14.263401",
     "status": "completed"
    },
    "tags": []
   },
   "outputs": [
    {
     "name": "stdout",
     "output_type": "stream",
     "text": [
      "\u001b[1m36/36\u001b[0m \u001b[32m━━━━━━━━━━━━━━━━━━━━\u001b[0m\u001b[37m\u001b[0m \u001b[1m7s\u001b[0m 191ms/step\n",
      "SNR\n",
      "accuracy: 91.39 precision: 81.57 sensitivity: 93.08 specificity: 90.63 f1_score: 86.95\n",
      "_______\n",
      "AF\n",
      "accuracy: 90.14 precision: 45.57 sensitivity: 34.62 specificity: 95.79 f1_score: 39.35\n",
      "_______\n",
      "IAVB\n",
      "accuracy: 90.05 precision: 61.96 sensitivity: 42.54 specificity: 96.47 f1_score: 50.45\n",
      "_______\n",
      "LBBB\n",
      "accuracy: 97.69 precision: 85.29 sensitivity: 58.0 specificity: 99.54 f1_score: 69.05\n",
      "_______\n",
      "RBBB\n",
      "accuracy: 92.1 precision: 65.43 sensitivity: 46.49 specificity: 97.23 f1_score: 54.36\n",
      "_______\n",
      "SB\n",
      "accuracy: 93.87 precision: 88.64 sensitivity: 86.43 specificity: 96.34 f1_score: 87.52\n",
      "_______\n",
      "STach\n",
      "accuracy: 95.83 precision: 87.14 sensitivity: 92.92 specificity: 96.56 f1_score: 89.94\n",
      "_______\n",
      "accuracy: 70.69 %\n",
      "AUC: 80.47 %\n",
      "f1-weighted: 76.1 %\n",
      "f1-micro: 77.52 %\n",
      "f1-macro: 68.23 %\n"
     ]
    }
   ],
   "source": [
    "# Evaluating\n",
    "\n",
    "pred = model.predict(x_test_2d)\n",
    "prediction = np.zeros(np.shape(pred))\n",
    "prediction[pred > 0.5] = 1\n",
    "result(y_test, prediction)"
   ]
  }
 ],
 "metadata": {
  "kaggle": {
   "accelerator": "gpu",
   "dataSources": [
    {
     "sourceId": 149319756,
     "sourceType": "kernelVersion"
    },
    {
     "sourceId": 149841127,
     "sourceType": "kernelVersion"
    }
   ],
   "dockerImageVersionId": 30733,
   "isGpuEnabled": true,
   "isInternetEnabled": true,
   "language": "python",
   "sourceType": "notebook"
  },
  "kernelspec": {
   "display_name": "Python 3",
   "language": "python",
   "name": "python3"
  },
  "language_info": {
   "codemirror_mode": {
    "name": "ipython",
    "version": 3
   },
   "file_extension": ".py",
   "mimetype": "text/x-python",
   "name": "python",
   "nbconvert_exporter": "python",
   "pygments_lexer": "ipython3",
   "version": "3.10.13"
  },
  "papermill": {
   "default_parameters": {},
   "duration": 7181.370591,
   "end_time": "2024-07-06T10:16:29.691528",
   "environment_variables": {},
   "exception": null,
   "input_path": "__notebook__.ipynb",
   "output_path": "__notebook__.ipynb",
   "parameters": {},
   "start_time": "2024-07-06T08:16:48.320937",
   "version": "2.5.0"
  }
 },
 "nbformat": 4,
 "nbformat_minor": 5
}
