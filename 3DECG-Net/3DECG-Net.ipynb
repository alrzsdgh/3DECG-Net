{
 "cells": [
  {
   "cell_type": "code",
   "execution_count": 1,
   "id": "56033e2f",
   "metadata": {
    "_cell_guid": "b1076dfc-b9ad-4769-8c92-a6c4dae69d19",
    "_uuid": "8f2839f25d086af736a60e9eeb907d3b93b6e0e5",
    "execution": {
     "iopub.execute_input": "2023-11-04T20:26:15.174187Z",
     "iopub.status.busy": "2023-11-04T20:26:15.173278Z",
     "iopub.status.idle": "2023-11-04T20:26:37.970179Z",
     "shell.execute_reply": "2023-11-04T20:26:37.968899Z"
    },
    "papermill": {
     "duration": 22.804143,
     "end_time": "2023-11-04T20:26:37.972683",
     "exception": false,
     "start_time": "2023-11-04T20:26:15.168540",
     "status": "completed"
    },
    "tags": []
   },
   "outputs": [
    {
     "name": "stdout",
     "output_type": "stream",
     "text": [
      "Collecting gdown\r\n",
      "  Downloading gdown-4.7.1-py3-none-any.whl (15 kB)\r\n",
      "Requirement already satisfied: filelock in /opt/conda/lib/python3.10/site-packages (from gdown) (3.12.2)\r\n",
      "Requirement already satisfied: requests[socks] in /opt/conda/lib/python3.10/site-packages (from gdown) (2.31.0)\r\n",
      "Requirement already satisfied: six in /opt/conda/lib/python3.10/site-packages (from gdown) (1.16.0)\r\n",
      "Requirement already satisfied: tqdm in /opt/conda/lib/python3.10/site-packages (from gdown) (4.66.1)\r\n",
      "Requirement already satisfied: beautifulsoup4 in /opt/conda/lib/python3.10/site-packages (from gdown) (4.12.2)\r\n",
      "Requirement already satisfied: soupsieve>1.2 in /opt/conda/lib/python3.10/site-packages (from beautifulsoup4->gdown) (2.3.2.post1)\r\n",
      "Requirement already satisfied: charset-normalizer<4,>=2 in /opt/conda/lib/python3.10/site-packages (from requests[socks]->gdown) (3.1.0)\r\n",
      "Requirement already satisfied: idna<4,>=2.5 in /opt/conda/lib/python3.10/site-packages (from requests[socks]->gdown) (3.4)\r\n",
      "Requirement already satisfied: urllib3<3,>=1.21.1 in /opt/conda/lib/python3.10/site-packages (from requests[socks]->gdown) (1.26.15)\r\n",
      "Requirement already satisfied: certifi>=2017.4.17 in /opt/conda/lib/python3.10/site-packages (from requests[socks]->gdown) (2023.7.22)\r\n",
      "Requirement already satisfied: PySocks!=1.5.7,>=1.5.6 in /opt/conda/lib/python3.10/site-packages (from requests[socks]->gdown) (1.7.1)\r\n",
      "Installing collected packages: gdown\r\n",
      "Successfully installed gdown-4.7.1\r\n",
      "/opt/conda/lib/python3.10/site-packages/gdown/cli.py:126: FutureWarning: Option `--id` was deprecated in version 4.3.1 and will be removed in 5.0. You don't need to pass it anymore to use a file ID.\r\n",
      "  warnings.warn(\r\n",
      "Downloading...\r\n",
      "From (uriginal): https://drive.google.com/uc?id=1-1EjRHAq-4nhXIJ9-OobWmMXavl1B4zn\r\n",
      "From (redirected): https://drive.google.com/uc?id=1-1EjRHAq-4nhXIJ9-OobWmMXavl1B4zn&confirm=t&uuid=cb49d8e7-e428-4af7-82d9-ab44fa67076d\r\n",
      "To: /kaggle/working/data.pkl\r\n",
      "100%|███████████████████████████████████████| 1.24G/1.24G [00:07<00:00, 167MB/s]\r\n"
     ]
    }
   ],
   "source": [
    "!pip install gdown\n",
    "!gdown --id 1-1EjRHAq-4nhXIJ9-OobWmMXavl1B4zn"
   ]
  },
  {
   "cell_type": "code",
   "execution_count": 2,
   "id": "9ddda7db",
   "metadata": {
    "execution": {
     "iopub.execute_input": "2023-11-04T20:26:37.990522Z",
     "iopub.status.busy": "2023-11-04T20:26:37.990183Z",
     "iopub.status.idle": "2023-11-04T20:26:48.927115Z",
     "shell.execute_reply": "2023-11-04T20:26:48.926251Z"
    },
    "papermill": {
     "duration": 10.948499,
     "end_time": "2023-11-04T20:26:48.929582",
     "exception": false,
     "start_time": "2023-11-04T20:26:37.981083",
     "status": "completed"
    },
    "tags": []
   },
   "outputs": [
    {
     "name": "stderr",
     "output_type": "stream",
     "text": [
      "/opt/conda/lib/python3.10/site-packages/scipy/__init__.py:146: UserWarning: A NumPy version >=1.16.5 and <1.23.0 is required for this version of SciPy (detected version 1.23.5\n",
      "  warnings.warn(f\"A NumPy version >={np_minversion} and <{np_maxversion}\"\n"
     ]
    }
   ],
   "source": [
    "import pickle\n",
    "from tqdm import tqdm\n",
    "import tensorflow as tf\n",
    "import numpy as np\n",
    "\n",
    "from preprocess import data_preparation\n",
    "from preprocess import signal_cutter\n",
    "from preprocess import data_filtering\n",
    "from preprocess import resampling\n",
    "from preprocess import RP_3D\n",
    "from preprocess import resize_volume\n",
    "from preprocess import RP_final_data\n",
    "from preprocess import label_creator\n",
    "from preprocess import including_data\n",
    "from models import model_arch\n",
    "from models import CompModel"
   ]
  },
  {
   "cell_type": "code",
   "execution_count": 3,
   "id": "79c6c92f",
   "metadata": {
    "execution": {
     "iopub.execute_input": "2023-11-04T20:26:48.948120Z",
     "iopub.status.busy": "2023-11-04T20:26:48.947515Z",
     "iopub.status.idle": "2023-11-04T20:26:49.779769Z",
     "shell.execute_reply": "2023-11-04T20:26:49.778747Z"
    },
    "papermill": {
     "duration": 0.84393,
     "end_time": "2023-11-04T20:26:49.782214",
     "exception": false,
     "start_time": "2023-11-04T20:26:48.938284",
     "status": "completed"
    },
    "tags": []
   },
   "outputs": [],
   "source": [
    "# Read dictionary pkl file\n",
    "with open('/kaggle/working/data.pkl', 'rb') as fp:\n",
    "    dataset = pickle.load(fp)"
   ]
  },
  {
   "cell_type": "code",
   "execution_count": 4,
   "id": "574d6a99",
   "metadata": {
    "execution": {
     "iopub.execute_input": "2023-11-04T20:26:49.800619Z",
     "iopub.status.busy": "2023-11-04T20:26:49.800244Z",
     "iopub.status.idle": "2023-11-04T20:28:14.293670Z",
     "shell.execute_reply": "2023-11-04T20:28:14.292693Z"
    },
    "papermill": {
     "duration": 84.50554,
     "end_time": "2023-11-04T20:28:14.296442",
     "exception": false,
     "start_time": "2023-11-04T20:26:49.790902",
     "status": "completed"
    },
    "tags": []
   },
   "outputs": [
    {
     "name": "stderr",
     "output_type": "stream",
     "text": [
      "100%|██████████| 10344/10344 [00:00<00:00, 940166.87it/s]\n",
      "100%|██████████| 10344/10344 [00:00<00:00, 606829.48it/s]\n",
      "100%|██████████| 10344/10344 [01:22<00:00, 125.33it/s]\n",
      "100%|██████████| 10344/10344 [00:01<00:00, 7080.68it/s]\n"
     ]
    }
   ],
   "source": [
    "ds = data_preparation(dataset)\n",
    "\n",
    "# shortening\n",
    "ds = signal_cutter(ds, d_length=1000)\n",
    "\n",
    "# denoising\n",
    "ds = data_filtering(ds)\n",
    "\n",
    "# resampling\n",
    "ds = resampling(ds, desired_points = 100)"
   ]
  },
  {
   "cell_type": "code",
   "execution_count": 5,
   "id": "0203b954",
   "metadata": {
    "execution": {
     "iopub.execute_input": "2023-11-04T20:28:14.442447Z",
     "iopub.status.busy": "2023-11-04T20:28:14.441689Z",
     "iopub.status.idle": "2023-11-04T20:53:23.092423Z",
     "shell.execute_reply": "2023-11-04T20:53:23.091351Z"
    },
    "papermill": {
     "duration": 1508.723811,
     "end_time": "2023-11-04T20:53:23.094946",
     "exception": false,
     "start_time": "2023-11-04T20:28:14.371135",
     "status": "completed"
    },
    "tags": []
   },
   "outputs": [
    {
     "name": "stderr",
     "output_type": "stream",
     "text": [
      "100%|██████████| 10344/10344 [00:00<00:00, 987119.60it/s]\n",
      "10344it [00:08, 1202.45it/s]\n",
      "10344it [00:04, 2088.06it/s]\n",
      "100%|██████████| 5000/5000 [24:53<00:00,  3.35it/s]\n"
     ]
    }
   ],
   "source": [
    "arr = {'NSR':'426783006', 'AF':'164889003', 'IAVB':'270492004', 'LBBB':'164909002', 'RBBB':'59118001', 'SB':'426177001', 'STach':'427084000'}\n",
    "labels = label_creator(data_preparation(dataset), arr)\n",
    "x_train, y_train, x_test, y_test = including_data(labels, ds)\n",
    "# transformation and resizing\n",
    "x_train = RP_final_data(x_train)"
   ]
  },
  {
   "cell_type": "code",
   "execution_count": 6,
   "id": "b07d578c",
   "metadata": {
    "execution": {
     "iopub.execute_input": "2023-11-04T20:53:24.051145Z",
     "iopub.status.busy": "2023-11-04T20:53:24.050381Z",
     "iopub.status.idle": "2023-11-05T02:24:03.756071Z",
     "shell.execute_reply": "2023-11-05T02:24:03.755142Z"
    },
    "papermill": {
     "duration": 19840.209178,
     "end_time": "2023-11-05T02:24:03.758526",
     "exception": false,
     "start_time": "2023-11-04T20:53:23.549348",
     "status": "completed"
    },
    "tags": []
   },
   "outputs": [
    {
     "name": "stdout",
     "output_type": "stream",
     "text": [
      "Epoch 1/100\n",
      "157/157 [==============================] - 229s 1s/step - loss: 0.4433 - acc: 0.3844 - lr: 0.0010\n",
      "Epoch 2/100\n",
      "157/157 [==============================] - 199s 1s/step - loss: 0.3125 - acc: 0.5802 - lr: 9.7724e-04\n",
      "Epoch 3/100\n",
      "157/157 [==============================] - 199s 1s/step - loss: 0.2607 - acc: 0.6408 - lr: 9.5499e-04\n",
      "Epoch 4/100\n",
      "157/157 [==============================] - 199s 1s/step - loss: 0.2365 - acc: 0.6624 - lr: 9.3325e-04\n",
      "Epoch 5/100\n",
      "157/157 [==============================] - 199s 1s/step - loss: 0.2196 - acc: 0.6840 - lr: 9.1201e-04\n",
      "Epoch 6/100\n",
      "157/157 [==============================] - 199s 1s/step - loss: 0.2036 - acc: 0.7122 - lr: 8.9125e-04\n",
      "Epoch 7/100\n",
      "157/157 [==============================] - 199s 1s/step - loss: 0.1944 - acc: 0.7232 - lr: 8.7096e-04\n",
      "Epoch 8/100\n",
      "157/157 [==============================] - 199s 1s/step - loss: 0.1826 - acc: 0.7372 - lr: 8.5114e-04\n",
      "Epoch 9/100\n",
      "157/157 [==============================] - 199s 1s/step - loss: 0.1696 - acc: 0.7542 - lr: 8.3176e-04\n",
      "Epoch 10/100\n",
      "157/157 [==============================] - 199s 1s/step - loss: 0.1593 - acc: 0.7684 - lr: 8.1283e-04\n",
      "Epoch 11/100\n",
      "157/157 [==============================] - 199s 1s/step - loss: 0.1556 - acc: 0.7768 - lr: 7.9433e-04\n",
      "Epoch 12/100\n",
      "157/157 [==============================] - 199s 1s/step - loss: 0.1464 - acc: 0.7898 - lr: 7.7625e-04\n",
      "Epoch 13/100\n",
      "157/157 [==============================] - 199s 1s/step - loss: 0.1390 - acc: 0.7974 - lr: 7.5858e-04\n",
      "Epoch 14/100\n",
      "157/157 [==============================] - 199s 1s/step - loss: 0.1345 - acc: 0.8028 - lr: 7.4131e-04\n",
      "Epoch 15/100\n",
      "157/157 [==============================] - 199s 1s/step - loss: 0.1260 - acc: 0.8184 - lr: 7.2444e-04\n",
      "Epoch 16/100\n",
      "157/157 [==============================] - 199s 1s/step - loss: 0.1158 - acc: 0.8212 - lr: 7.0795e-04\n",
      "Epoch 17/100\n",
      "157/157 [==============================] - 198s 1s/step - loss: 0.1062 - acc: 0.8412 - lr: 6.9183e-04\n",
      "Epoch 18/100\n",
      "157/157 [==============================] - 198s 1s/step - loss: 0.1057 - acc: 0.8444 - lr: 6.7608e-04\n",
      "Epoch 19/100\n",
      "157/157 [==============================] - 198s 1s/step - loss: 0.0967 - acc: 0.8476 - lr: 6.6069e-04\n",
      "Epoch 20/100\n",
      "157/157 [==============================] - 198s 1s/step - loss: 0.0966 - acc: 0.8486 - lr: 6.4565e-04\n",
      "Epoch 21/100\n",
      "157/157 [==============================] - 198s 1s/step - loss: 0.0847 - acc: 0.8662 - lr: 6.3096e-04\n",
      "Epoch 22/100\n",
      "157/157 [==============================] - 199s 1s/step - loss: 0.0859 - acc: 0.8646 - lr: 6.1659e-04\n",
      "Epoch 23/100\n",
      "157/157 [==============================] - 198s 1s/step - loss: 0.0761 - acc: 0.8690 - lr: 6.0256e-04\n",
      "Epoch 24/100\n",
      "157/157 [==============================] - 198s 1s/step - loss: 0.0712 - acc: 0.8796 - lr: 5.8884e-04\n",
      "Epoch 25/100\n",
      "157/157 [==============================] - 198s 1s/step - loss: 0.0685 - acc: 0.8770 - lr: 5.7544e-04\n",
      "Epoch 26/100\n",
      "157/157 [==============================] - 198s 1s/step - loss: 0.0634 - acc: 0.8816 - lr: 5.6234e-04\n",
      "Epoch 27/100\n",
      "157/157 [==============================] - 198s 1s/step - loss: 0.0609 - acc: 0.8858 - lr: 5.4954e-04\n",
      "Epoch 28/100\n",
      "157/157 [==============================] - 197s 1s/step - loss: 0.0673 - acc: 0.8824 - lr: 5.3703e-04\n",
      "Epoch 29/100\n",
      "157/157 [==============================] - 198s 1s/step - loss: 0.0623 - acc: 0.8882 - lr: 5.2481e-04\n",
      "Epoch 30/100\n",
      "157/157 [==============================] - 198s 1s/step - loss: 0.0553 - acc: 0.8934 - lr: 5.1286e-04\n",
      "Epoch 31/100\n",
      "157/157 [==============================] - 198s 1s/step - loss: 0.0510 - acc: 0.8982 - lr: 5.0119e-04\n",
      "Epoch 32/100\n",
      "157/157 [==============================] - 198s 1s/step - loss: 0.0536 - acc: 0.8960 - lr: 4.8978e-04\n",
      "Epoch 33/100\n",
      "157/157 [==============================] - 197s 1s/step - loss: 0.0509 - acc: 0.8996 - lr: 4.7863e-04\n",
      "Epoch 34/100\n",
      "157/157 [==============================] - 197s 1s/step - loss: 0.0485 - acc: 0.9060 - lr: 4.6774e-04\n",
      "Epoch 35/100\n",
      "157/157 [==============================] - 197s 1s/step - loss: 0.0450 - acc: 0.9008 - lr: 4.5709e-04\n",
      "Epoch 36/100\n",
      "157/157 [==============================] - 198s 1s/step - loss: 0.0426 - acc: 0.9032 - lr: 4.4668e-04\n",
      "Epoch 37/100\n",
      "157/157 [==============================] - 197s 1s/step - loss: 0.0424 - acc: 0.9048 - lr: 4.3652e-04\n",
      "Epoch 38/100\n",
      "157/157 [==============================] - 197s 1s/step - loss: 0.0406 - acc: 0.9060 - lr: 4.2658e-04\n",
      "Epoch 39/100\n",
      "157/157 [==============================] - 198s 1s/step - loss: 0.0423 - acc: 0.9066 - lr: 4.1687e-04\n",
      "Epoch 40/100\n",
      "157/157 [==============================] - 197s 1s/step - loss: 0.0423 - acc: 0.9050 - lr: 4.0738e-04\n",
      "Epoch 41/100\n",
      "157/157 [==============================] - 197s 1s/step - loss: 0.0385 - acc: 0.9094 - lr: 3.9811e-04\n",
      "Epoch 42/100\n",
      "157/157 [==============================] - 197s 1s/step - loss: 0.0365 - acc: 0.9130 - lr: 3.8905e-04\n",
      "Epoch 43/100\n",
      "157/157 [==============================] - 197s 1s/step - loss: 0.0344 - acc: 0.9144 - lr: 3.8019e-04\n",
      "Epoch 44/100\n",
      "157/157 [==============================] - 197s 1s/step - loss: 0.0335 - acc: 0.9100 - lr: 3.7154e-04\n",
      "Epoch 45/100\n",
      "157/157 [==============================] - 197s 1s/step - loss: 0.0329 - acc: 0.9132 - lr: 3.6308e-04\n",
      "Epoch 46/100\n",
      "157/157 [==============================] - 198s 1s/step - loss: 0.0300 - acc: 0.9138 - lr: 3.5481e-04\n",
      "Epoch 47/100\n",
      "157/157 [==============================] - 197s 1s/step - loss: 0.0322 - acc: 0.9170 - lr: 3.4674e-04\n",
      "Epoch 48/100\n",
      "157/157 [==============================] - 198s 1s/step - loss: 0.0325 - acc: 0.9106 - lr: 3.3884e-04\n",
      "Epoch 49/100\n",
      "157/157 [==============================] - 198s 1s/step - loss: 0.0303 - acc: 0.9204 - lr: 3.3113e-04\n",
      "Epoch 50/100\n",
      "157/157 [==============================] - 198s 1s/step - loss: 0.0306 - acc: 0.9138 - lr: 3.2359e-04\n",
      "Epoch 51/100\n",
      "157/157 [==============================] - 197s 1s/step - loss: 0.0324 - acc: 0.9180 - lr: 3.1623e-04\n",
      "Epoch 52/100\n",
      "157/157 [==============================] - 198s 1s/step - loss: 0.0334 - acc: 0.9100 - lr: 3.0903e-04\n",
      "Epoch 53/100\n",
      "157/157 [==============================] - 198s 1s/step - loss: 0.0277 - acc: 0.9186 - lr: 3.0200e-04\n",
      "Epoch 54/100\n",
      "157/157 [==============================] - 198s 1s/step - loss: 0.0267 - acc: 0.9188 - lr: 2.9512e-04\n",
      "Epoch 55/100\n",
      "157/157 [==============================] - 198s 1s/step - loss: 0.0324 - acc: 0.9142 - lr: 2.8840e-04\n",
      "Epoch 56/100\n",
      "157/157 [==============================] - 198s 1s/step - loss: 0.0325 - acc: 0.9154 - lr: 2.8184e-04\n",
      "Epoch 57/100\n",
      "157/157 [==============================] - 198s 1s/step - loss: 0.0281 - acc: 0.9166 - lr: 2.7542e-04\n",
      "Epoch 58/100\n",
      "157/157 [==============================] - 197s 1s/step - loss: 0.0267 - acc: 0.9150 - lr: 2.6915e-04\n",
      "Epoch 59/100\n",
      "157/157 [==============================] - 198s 1s/step - loss: 0.0245 - acc: 0.9156 - lr: 2.6303e-04\n",
      "Epoch 60/100\n",
      "157/157 [==============================] - 197s 1s/step - loss: 0.0268 - acc: 0.9166 - lr: 2.5704e-04\n",
      "Epoch 61/100\n",
      "157/157 [==============================] - 198s 1s/step - loss: 0.0280 - acc: 0.9186 - lr: 2.5119e-04\n",
      "Epoch 62/100\n",
      "157/157 [==============================] - 198s 1s/step - loss: 0.0259 - acc: 0.9178 - lr: 2.4547e-04\n",
      "Epoch 63/100\n",
      "157/157 [==============================] - 199s 1s/step - loss: 0.0282 - acc: 0.9160 - lr: 2.3988e-04\n",
      "Epoch 64/100\n",
      "157/157 [==============================] - 198s 1s/step - loss: 0.0250 - acc: 0.9200 - lr: 2.3442e-04\n",
      "Epoch 65/100\n",
      "157/157 [==============================] - 198s 1s/step - loss: 0.0237 - acc: 0.9134 - lr: 2.2909e-04\n",
      "Epoch 66/100\n",
      "157/157 [==============================] - 198s 1s/step - loss: 0.0239 - acc: 0.9216 - lr: 2.2387e-04\n",
      "Epoch 67/100\n",
      "157/157 [==============================] - 198s 1s/step - loss: 0.0233 - acc: 0.9226 - lr: 2.1878e-04\n",
      "Epoch 68/100\n",
      "157/157 [==============================] - 198s 1s/step - loss: 0.0227 - acc: 0.9238 - lr: 2.1380e-04\n",
      "Epoch 69/100\n",
      "157/157 [==============================] - 198s 1s/step - loss: 0.0265 - acc: 0.9166 - lr: 2.0893e-04\n",
      "Epoch 70/100\n",
      "157/157 [==============================] - 198s 1s/step - loss: 0.0270 - acc: 0.9182 - lr: 2.0417e-04\n",
      "Epoch 71/100\n",
      "157/157 [==============================] - 198s 1s/step - loss: 0.0238 - acc: 0.9168 - lr: 1.9953e-04\n",
      "Epoch 72/100\n",
      "157/157 [==============================] - 198s 1s/step - loss: 0.0265 - acc: 0.9166 - lr: 1.9498e-04\n",
      "Epoch 73/100\n",
      "157/157 [==============================] - 198s 1s/step - loss: 0.0236 - acc: 0.9182 - lr: 1.9055e-04\n",
      "Epoch 74/100\n",
      "157/157 [==============================] - 198s 1s/step - loss: 0.0221 - acc: 0.9196 - lr: 1.8621e-04\n",
      "Epoch 75/100\n",
      "157/157 [==============================] - 198s 1s/step - loss: 0.0230 - acc: 0.9174 - lr: 1.8197e-04\n",
      "Epoch 76/100\n",
      "157/157 [==============================] - 198s 1s/step - loss: 0.0234 - acc: 0.9184 - lr: 1.7783e-04\n",
      "Epoch 77/100\n",
      "157/157 [==============================] - 198s 1s/step - loss: 0.0242 - acc: 0.9182 - lr: 1.7378e-04\n",
      "Epoch 78/100\n",
      "157/157 [==============================] - 198s 1s/step - loss: 0.0235 - acc: 0.9238 - lr: 1.6982e-04\n",
      "Epoch 79/100\n",
      "157/157 [==============================] - 198s 1s/step - loss: 0.0221 - acc: 0.9250 - lr: 1.6596e-04\n",
      "Epoch 80/100\n",
      "157/157 [==============================] - 198s 1s/step - loss: 0.0210 - acc: 0.9260 - lr: 1.6218e-04\n",
      "Epoch 81/100\n",
      "157/157 [==============================] - 198s 1s/step - loss: 0.0195 - acc: 0.9192 - lr: 1.5849e-04\n",
      "Epoch 82/100\n",
      "157/157 [==============================] - 198s 1s/step - loss: 0.0208 - acc: 0.9212 - lr: 1.5488e-04\n",
      "Epoch 83/100\n",
      "157/157 [==============================] - 198s 1s/step - loss: 0.0243 - acc: 0.9178 - lr: 1.5136e-04\n",
      "Epoch 84/100\n",
      "157/157 [==============================] - 198s 1s/step - loss: 0.0199 - acc: 0.9204 - lr: 1.4791e-04\n",
      "Epoch 85/100\n",
      "157/157 [==============================] - 198s 1s/step - loss: 0.0236 - acc: 0.9222 - lr: 1.4454e-04\n",
      "Epoch 86/100\n",
      "157/157 [==============================] - 198s 1s/step - loss: 0.0213 - acc: 0.9232 - lr: 1.4125e-04\n",
      "Epoch 87/100\n",
      "157/157 [==============================] - 198s 1s/step - loss: 0.0222 - acc: 0.9176 - lr: 1.3804e-04\n",
      "Epoch 88/100\n",
      "157/157 [==============================] - 198s 1s/step - loss: 0.0194 - acc: 0.9212 - lr: 1.3490e-04\n",
      "Epoch 89/100\n",
      "157/157 [==============================] - 198s 1s/step - loss: 0.0207 - acc: 0.9246 - lr: 1.3183e-04\n",
      "Epoch 90/100\n",
      "157/157 [==============================] - 198s 1s/step - loss: 0.0215 - acc: 0.9158 - lr: 1.2882e-04\n",
      "Epoch 91/100\n",
      "157/157 [==============================] - 198s 1s/step - loss: 0.0215 - acc: 0.9180 - lr: 1.2589e-04\n",
      "Epoch 92/100\n",
      "157/157 [==============================] - 198s 1s/step - loss: 0.0208 - acc: 0.9246 - lr: 1.2303e-04\n",
      "Epoch 93/100\n",
      "157/157 [==============================] - 198s 1s/step - loss: 0.0215 - acc: 0.9212 - lr: 1.2023e-04\n",
      "Epoch 94/100\n",
      "157/157 [==============================] - 198s 1s/step - loss: 0.0203 - acc: 0.9222 - lr: 1.1749e-04\n",
      "Epoch 95/100\n",
      "157/157 [==============================] - 198s 1s/step - loss: 0.0185 - acc: 0.9214 - lr: 1.1482e-04\n",
      "Epoch 96/100\n",
      "157/157 [==============================] - 198s 1s/step - loss: 0.0212 - acc: 0.9196 - lr: 1.1220e-04\n",
      "Epoch 97/100\n",
      "157/157 [==============================] - 198s 1s/step - loss: 0.0192 - acc: 0.9218 - lr: 1.0965e-04\n",
      "Epoch 98/100\n",
      "157/157 [==============================] - 198s 1s/step - loss: 0.0196 - acc: 0.9184 - lr: 1.0715e-04\n",
      "Epoch 99/100\n",
      "157/157 [==============================] - 198s 1s/step - loss: 0.0217 - acc: 0.9222 - lr: 1.0471e-04\n",
      "Epoch 100/100\n",
      "157/157 [==============================] - 198s 1s/step - loss: 0.0223 - acc: 0.9210 - lr: 1.0233e-04\n"
     ]
    }
   ],
   "source": [
    "model = model_arch()\n",
    "model, lr_sch = CompModel(model)\n",
    "\n",
    "history = model.fit(x_train, y_train.values,\n",
    "            epochs=100,\n",
    "            callbacks = [lr_sch],\n",
    "            verbose = 1)"
   ]
  },
  {
   "cell_type": "code",
   "execution_count": 7,
   "id": "a8fc8366",
   "metadata": {
    "execution": {
     "iopub.execute_input": "2023-11-05T02:24:07.220584Z",
     "iopub.status.busy": "2023-11-05T02:24:07.219810Z",
     "iopub.status.idle": "2023-11-05T02:24:07.431664Z",
     "shell.execute_reply": "2023-11-05T02:24:07.430844Z"
    },
    "papermill": {
     "duration": 1.89204,
     "end_time": "2023-11-05T02:24:07.433843",
     "exception": false,
     "start_time": "2023-11-05T02:24:05.541803",
     "status": "completed"
    },
    "tags": []
   },
   "outputs": [],
   "source": [
    "model.save('/kaggle/working/our_model.h5')"
   ]
  }
 ],
 "metadata": {
  "kernelspec": {
   "display_name": "Python 3",
   "language": "python",
   "name": "python3"
  },
  "language_info": {
   "codemirror_mode": {
    "name": "ipython",
    "version": 3
   },
   "file_extension": ".py",
   "mimetype": "text/x-python",
   "name": "python",
   "nbconvert_exporter": "python",
   "pygments_lexer": "ipython3",
   "version": "3.10.12"
  },
  "papermill": {
   "default_parameters": {},
   "duration": 21481.341416,
   "end_time": "2023-11-05T02:24:12.988717",
   "environment_variables": {},
   "exception": null,
   "input_path": "__notebook__.ipynb",
   "output_path": "__notebook__.ipynb",
   "parameters": {},
   "start_time": "2023-11-04T20:26:11.647301",
   "version": "2.4.0"
  }
 },
 "nbformat": 4,
 "nbformat_minor": 5
}
