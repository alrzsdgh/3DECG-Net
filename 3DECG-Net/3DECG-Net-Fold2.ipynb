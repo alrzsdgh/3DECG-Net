{
 "cells": [
  {
   "cell_type": "code",
   "execution_count": 1,
   "id": "974f8a7d",
   "metadata": {
    "_cell_guid": "b1076dfc-b9ad-4769-8c92-a6c4dae69d19",
    "_uuid": "8f2839f25d086af736a60e9eeb907d3b93b6e0e5",
    "execution": {
     "iopub.execute_input": "2023-11-06T10:41:49.915104Z",
     "iopub.status.busy": "2023-11-06T10:41:49.914383Z",
     "iopub.status.idle": "2023-11-06T10:42:10.503456Z",
     "shell.execute_reply": "2023-11-06T10:42:10.502528Z"
    },
    "papermill": {
     "duration": 20.595471,
     "end_time": "2023-11-06T10:42:10.505672",
     "exception": false,
     "start_time": "2023-11-06T10:41:49.910201",
     "status": "completed"
    },
    "tags": []
   },
   "outputs": [
    {
     "name": "stdout",
     "output_type": "stream",
     "text": [
      "Collecting gdown\r\n",
      "  Downloading gdown-4.7.1-py3-none-any.whl (15 kB)\r\n",
      "Requirement already satisfied: filelock in /opt/conda/lib/python3.10/site-packages (from gdown) (3.12.2)\r\n",
      "Requirement already satisfied: requests[socks] in /opt/conda/lib/python3.10/site-packages (from gdown) (2.31.0)\r\n",
      "Requirement already satisfied: six in /opt/conda/lib/python3.10/site-packages (from gdown) (1.16.0)\r\n",
      "Requirement already satisfied: tqdm in /opt/conda/lib/python3.10/site-packages (from gdown) (4.66.1)\r\n",
      "Requirement already satisfied: beautifulsoup4 in /opt/conda/lib/python3.10/site-packages (from gdown) (4.12.2)\r\n",
      "Requirement already satisfied: soupsieve>1.2 in /opt/conda/lib/python3.10/site-packages (from beautifulsoup4->gdown) (2.3.2.post1)\r\n",
      "Requirement already satisfied: charset-normalizer<4,>=2 in /opt/conda/lib/python3.10/site-packages (from requests[socks]->gdown) (3.1.0)\r\n",
      "Requirement already satisfied: idna<4,>=2.5 in /opt/conda/lib/python3.10/site-packages (from requests[socks]->gdown) (3.4)\r\n",
      "Requirement already satisfied: urllib3<3,>=1.21.1 in /opt/conda/lib/python3.10/site-packages (from requests[socks]->gdown) (1.26.15)\r\n",
      "Requirement already satisfied: certifi>=2017.4.17 in /opt/conda/lib/python3.10/site-packages (from requests[socks]->gdown) (2023.7.22)\r\n",
      "Requirement already satisfied: PySocks!=1.5.7,>=1.5.6 in /opt/conda/lib/python3.10/site-packages (from requests[socks]->gdown) (1.7.1)\r\n",
      "Installing collected packages: gdown\r\n",
      "Successfully installed gdown-4.7.1\r\n",
      "/opt/conda/lib/python3.10/site-packages/gdown/cli.py:126: FutureWarning: Option `--id` was deprecated in version 4.3.1 and will be removed in 5.0. You don't need to pass it anymore to use a file ID.\r\n",
      "  warnings.warn(\r\n",
      "Downloading...\r\n",
      "From (uriginal): https://drive.google.com/uc?id=1-1EjRHAq-4nhXIJ9-OobWmMXavl1B4zn\r\n",
      "From (redirected): https://drive.google.com/uc?id=1-1EjRHAq-4nhXIJ9-OobWmMXavl1B4zn&confirm=t&uuid=5c3a04e2-d709-4fa6-8e3d-ccb85c8014cd\r\n",
      "To: /kaggle/working/data.pkl\r\n",
      "100%|███████████████████████████████████████| 1.24G/1.24G [00:05<00:00, 224MB/s]\r\n"
     ]
    }
   ],
   "source": [
    "!pip install gdown\n",
    "!gdown --id 1-1EjRHAq-4nhXIJ9-OobWmMXavl1B4zn"
   ]
  },
  {
   "cell_type": "code",
   "execution_count": 2,
   "id": "edc39950",
   "metadata": {
    "execution": {
     "iopub.execute_input": "2023-11-06T10:42:10.521682Z",
     "iopub.status.busy": "2023-11-06T10:42:10.520769Z",
     "iopub.status.idle": "2023-11-06T10:42:20.672263Z",
     "shell.execute_reply": "2023-11-06T10:42:20.671264Z"
    },
    "papermill": {
     "duration": 10.161802,
     "end_time": "2023-11-06T10:42:20.674680",
     "exception": false,
     "start_time": "2023-11-06T10:42:10.512878",
     "status": "completed"
    },
    "tags": []
   },
   "outputs": [
    {
     "name": "stderr",
     "output_type": "stream",
     "text": [
      "/opt/conda/lib/python3.10/site-packages/scipy/__init__.py:146: UserWarning: A NumPy version >=1.16.5 and <1.23.0 is required for this version of SciPy (detected version 1.23.5\n",
      "  warnings.warn(f\"A NumPy version >={np_minversion} and <{np_maxversion}\"\n"
     ]
    }
   ],
   "source": [
    "import pickle\n",
    "from tqdm import tqdm\n",
    "import tensorflow as tf\n",
    "import numpy as np\n",
    "\n",
    "from preprocess import data_preparation\n",
    "from preprocess import signal_cutter\n",
    "from preprocess import data_filtering\n",
    "from preprocess import resampling\n",
    "from preprocess import RP_3D\n",
    "from preprocess import resize_volume\n",
    "from preprocess import RP_final_data\n",
    "from preprocess import label_creator\n",
    "from preprocess import including_data\n",
    "from models import model_arch\n",
    "from models import CompModel"
   ]
  },
  {
   "cell_type": "code",
   "execution_count": 3,
   "id": "d77e818b",
   "metadata": {
    "execution": {
     "iopub.execute_input": "2023-11-06T10:42:20.691797Z",
     "iopub.status.busy": "2023-11-06T10:42:20.690860Z",
     "iopub.status.idle": "2023-11-06T10:42:21.516264Z",
     "shell.execute_reply": "2023-11-06T10:42:21.515350Z"
    },
    "papermill": {
     "duration": 0.835876,
     "end_time": "2023-11-06T10:42:21.518731",
     "exception": false,
     "start_time": "2023-11-06T10:42:20.682855",
     "status": "completed"
    },
    "tags": []
   },
   "outputs": [],
   "source": [
    "# Read dictionary pkl file\n",
    "with open('/kaggle/working/data.pkl', 'rb') as fp:\n",
    "    dataset = pickle.load(fp)"
   ]
  },
  {
   "cell_type": "code",
   "execution_count": 4,
   "id": "f0193ed9",
   "metadata": {
    "execution": {
     "iopub.execute_input": "2023-11-06T10:42:21.534104Z",
     "iopub.status.busy": "2023-11-06T10:42:21.533796Z",
     "iopub.status.idle": "2023-11-06T10:43:41.099501Z",
     "shell.execute_reply": "2023-11-06T10:43:41.098533Z"
    },
    "papermill": {
     "duration": 79.575867,
     "end_time": "2023-11-06T10:43:41.101762",
     "exception": false,
     "start_time": "2023-11-06T10:42:21.525895",
     "status": "completed"
    },
    "tags": []
   },
   "outputs": [
    {
     "name": "stderr",
     "output_type": "stream",
     "text": [
      "100%|██████████| 10344/10344 [00:00<00:00, 1056800.33it/s]\n",
      "100%|██████████| 10344/10344 [00:00<00:00, 607152.18it/s]\n",
      "100%|██████████| 10344/10344 [01:17<00:00, 133.11it/s]\n",
      "100%|██████████| 10344/10344 [00:01<00:00, 7582.85it/s]\n"
     ]
    }
   ],
   "source": [
    "ds = data_preparation(dataset)\n",
    "\n",
    "# shortening\n",
    "ds = signal_cutter(ds, d_length=1000)\n",
    "\n",
    "# denoising\n",
    "ds = data_filtering(ds)\n",
    "\n",
    "# resampling\n",
    "ds = resampling(ds, desired_points = 100)"
   ]
  },
  {
   "cell_type": "code",
   "execution_count": 5,
   "id": "cac499a6",
   "metadata": {
    "execution": {
     "iopub.execute_input": "2023-11-06T10:43:41.228512Z",
     "iopub.status.busy": "2023-11-06T10:43:41.228180Z",
     "iopub.status.idle": "2023-11-06T11:08:32.258551Z",
     "shell.execute_reply": "2023-11-06T11:08:32.257648Z"
    },
    "papermill": {
     "duration": 1491.096416,
     "end_time": "2023-11-06T11:08:32.261164",
     "exception": false,
     "start_time": "2023-11-06T10:43:41.164748",
     "status": "completed"
    },
    "tags": []
   },
   "outputs": [
    {
     "name": "stderr",
     "output_type": "stream",
     "text": [
      "100%|██████████| 10344/10344 [00:00<00:00, 1010831.08it/s]\n",
      "10344it [00:08, 1222.88it/s]\n",
      "10344it [00:04, 2137.86it/s]\n",
      "100%|██████████| 5000/5000 [24:36<00:00,  3.39it/s]\n"
     ]
    }
   ],
   "source": [
    "arr = {'NSR':'426783006', 'AF':'164889003', 'IAVB':'270492004', 'LBBB':'164909002', 'RBBB':'59118001', 'SB':'426177001', 'STach':'427084000'}\n",
    "labels = label_creator(data_preparation(dataset), arr)\n",
    "x_train, y_train, x_test, y_test = including_data(labels, ds)\n",
    "# transformation and resizing\n",
    "x_train = RP_final_data(x_train)"
   ]
  },
  {
   "cell_type": "code",
   "execution_count": 6,
   "id": "c7472455",
   "metadata": {
    "execution": {
     "iopub.execute_input": "2023-11-06T11:08:33.213553Z",
     "iopub.status.busy": "2023-11-06T11:08:33.213168Z",
     "iopub.status.idle": "2023-11-06T11:08:33.220225Z",
     "shell.execute_reply": "2023-11-06T11:08:33.219301Z"
    },
    "papermill": {
     "duration": 0.46448,
     "end_time": "2023-11-06T11:08:33.222182",
     "exception": false,
     "start_time": "2023-11-06T11:08:32.757702",
     "status": "completed"
    },
    "tags": []
   },
   "outputs": [],
   "source": [
    "# five-folds preparation\n",
    "\n",
    "idx_lst = list(range(len(x_train)))\n",
    "\n",
    "v1 = idx_lst[:1000]\n",
    "t1 = idx_lst[1000:]\n",
    "\n",
    "v2 = idx_lst[1000:2000]\n",
    "t2 = idx_lst[:1000] + idx_lst[2000:]\n",
    "\n",
    "v3 = idx_lst[2000:3000]\n",
    "t3 = idx_lst[:2000] + idx_lst[3000:]\n",
    "\n",
    "v4 = idx_lst[3000:4000]\n",
    "t4 = idx_lst[:3000] + idx_lst[4000:]\n",
    "\n",
    "v5 = idx_lst[4000:]\n",
    "t5 = idx_lst[:4000]"
   ]
  },
  {
   "cell_type": "code",
   "execution_count": 7,
   "id": "2a906904",
   "metadata": {
    "execution": {
     "iopub.execute_input": "2023-11-06T11:08:34.141716Z",
     "iopub.status.busy": "2023-11-06T11:08:34.141356Z",
     "iopub.status.idle": "2023-11-06T16:10:11.686201Z",
     "shell.execute_reply": "2023-11-06T16:10:11.685308Z"
    },
    "papermill": {
     "duration": 18098.013919,
     "end_time": "2023-11-06T16:10:11.688467",
     "exception": false,
     "start_time": "2023-11-06T11:08:33.674548",
     "status": "completed"
    },
    "tags": []
   },
   "outputs": [
    {
     "name": "stdout",
     "output_type": "stream",
     "text": [
      "Epoch 1/100\n"
     ]
    },
    {
     "name": "stderr",
     "output_type": "stream",
     "text": [
      "2023-11-06 11:08:48.841618: E tensorflow/core/grappler/optimizers/meta_optimizer.cc:954] layout failed: INVALID_ARGUMENT: MutableGraphView::SortTopologically error: detected edge(s) creating cycle(s) {'Func/gradient_tape/model_3/conv_lstm2d_1/while/model_3/conv_lstm2d_1/while_grad/body/_367/input/_1025' -> 'gradient_tape/model_3/conv_lstm2d_1/while/model_3/conv_lstm2d_1/while_grad/body/_367/gradient_tape/model_3/conv_lstm2d_1/while/gradients/AddN', 'Func/gradient_tape/model_3/conv_lstm2d/while/model_3/conv_lstm2d/while_grad/body/_562/input/_1141' -> 'gradient_tape/model_3/conv_lstm2d/while/model_3/conv_lstm2d/while_grad/body/_562/gradient_tape/model_3/conv_lstm2d/while/gradients/AddN', 'model_3/conv_lstm2d_1/while/body/_179/model_3/conv_lstm2d_1/while/mul_2' -> 'model_3/conv_lstm2d_1/while/body/_179/model_3/conv_lstm2d_1/while/add_5', 'model_3/conv_lstm2d_1/while/body/_179/model_3/conv_lstm2d_1/while/convolution_6' -> 'model_3/conv_lstm2d_1/while/body/_179/model_3/conv_lstm2d_1/while/add_4', 'model_3/conv_lstm2d_1/while/body/_179/model_3/conv_lstm2d_1/while/clip_by_value' -> 'model_3/conv_lstm2d_1/while/body/_179/model_3/conv_lstm2d_1/while/mul_3', 'model_3/conv_lstm2d_1/while/body/_179/model_3/conv_lstm2d_1/while/clip_by_value_2' -> 'model_3/conv_lstm2d_1/while/body/_179/model_3/conv_lstm2d_1/while/mul_5'}.\n"
     ]
    },
    {
     "name": "stdout",
     "output_type": "stream",
     "text": [
      "125/125 [==============================] - 208s 1s/step - loss: 0.4451 - acc: 0.3812 - val_loss: 0.9593 - val_acc: 0.0250 - lr: 0.0010\n",
      "Epoch 2/100\n",
      "125/125 [==============================] - 181s 1s/step - loss: 0.3051 - acc: 0.5925 - val_loss: 0.9329 - val_acc: 0.0630 - lr: 9.7724e-04\n",
      "Epoch 3/100\n",
      "125/125 [==============================] - 181s 1s/step - loss: 0.2688 - acc: 0.6348 - val_loss: 0.3082 - val_acc: 0.5480 - lr: 9.5499e-04\n",
      "Epoch 4/100\n",
      "125/125 [==============================] - 181s 1s/step - loss: 0.2460 - acc: 0.6557 - val_loss: 0.3505 - val_acc: 0.6240 - lr: 9.3325e-04\n",
      "Epoch 5/100\n",
      "125/125 [==============================] - 181s 1s/step - loss: 0.2262 - acc: 0.6815 - val_loss: 0.1990 - val_acc: 0.7060 - lr: 9.1201e-04\n",
      "Epoch 6/100\n",
      "125/125 [==============================] - 181s 1s/step - loss: 0.2153 - acc: 0.6817 - val_loss: 0.1851 - val_acc: 0.7270 - lr: 8.9125e-04\n",
      "Epoch 7/100\n",
      "125/125 [==============================] - 181s 1s/step - loss: 0.1934 - acc: 0.7078 - val_loss: 0.2028 - val_acc: 0.6990 - lr: 8.7096e-04\n",
      "Epoch 8/100\n",
      "125/125 [==============================] - 181s 1s/step - loss: 0.1904 - acc: 0.7160 - val_loss: 0.1850 - val_acc: 0.7280 - lr: 8.5114e-04\n",
      "Epoch 9/100\n",
      "125/125 [==============================] - 181s 1s/step - loss: 0.1763 - acc: 0.7370 - val_loss: 0.1933 - val_acc: 0.7270 - lr: 8.3176e-04\n",
      "Epoch 10/100\n",
      "125/125 [==============================] - 181s 1s/step - loss: 0.1763 - acc: 0.7458 - val_loss: 0.2093 - val_acc: 0.6950 - lr: 8.1283e-04\n",
      "Epoch 11/100\n",
      "125/125 [==============================] - 181s 1s/step - loss: 0.1593 - acc: 0.7690 - val_loss: 0.1862 - val_acc: 0.7400 - lr: 7.9433e-04\n",
      "Epoch 12/100\n",
      "125/125 [==============================] - 181s 1s/step - loss: 0.1601 - acc: 0.7595 - val_loss: 0.1821 - val_acc: 0.7610 - lr: 7.7625e-04\n",
      "Epoch 13/100\n",
      "125/125 [==============================] - 181s 1s/step - loss: 0.1419 - acc: 0.7835 - val_loss: 0.1983 - val_acc: 0.7510 - lr: 7.5858e-04\n",
      "Epoch 14/100\n",
      "125/125 [==============================] - 181s 1s/step - loss: 0.1280 - acc: 0.8052 - val_loss: 0.1920 - val_acc: 0.7600 - lr: 7.4131e-04\n",
      "Epoch 15/100\n",
      "125/125 [==============================] - 181s 1s/step - loss: 0.1289 - acc: 0.8085 - val_loss: 0.2332 - val_acc: 0.7370 - lr: 7.2444e-04\n",
      "Epoch 16/100\n",
      "125/125 [==============================] - 181s 1s/step - loss: 0.1197 - acc: 0.8127 - val_loss: 0.1813 - val_acc: 0.7770 - lr: 7.0795e-04\n",
      "Epoch 17/100\n",
      "125/125 [==============================] - 181s 1s/step - loss: 0.1116 - acc: 0.8195 - val_loss: 0.1865 - val_acc: 0.7620 - lr: 6.9183e-04\n",
      "Epoch 18/100\n",
      "125/125 [==============================] - 181s 1s/step - loss: 0.0975 - acc: 0.8450 - val_loss: 0.2310 - val_acc: 0.7410 - lr: 6.7608e-04\n",
      "Epoch 19/100\n",
      "125/125 [==============================] - 181s 1s/step - loss: 0.0895 - acc: 0.8528 - val_loss: 0.2254 - val_acc: 0.7780 - lr: 6.6069e-04\n",
      "Epoch 20/100\n",
      "125/125 [==============================] - 181s 1s/step - loss: 0.0861 - acc: 0.8575 - val_loss: 0.1877 - val_acc: 0.7800 - lr: 6.4565e-04\n",
      "Epoch 21/100\n",
      "125/125 [==============================] - 181s 1s/step - loss: 0.0938 - acc: 0.8465 - val_loss: 0.2078 - val_acc: 0.7660 - lr: 6.3096e-04\n",
      "Epoch 22/100\n",
      "125/125 [==============================] - 181s 1s/step - loss: 0.0834 - acc: 0.8558 - val_loss: 0.2054 - val_acc: 0.7830 - lr: 6.1659e-04\n",
      "Epoch 23/100\n",
      "125/125 [==============================] - 181s 1s/step - loss: 0.0751 - acc: 0.8658 - val_loss: 0.2133 - val_acc: 0.7860 - lr: 6.0256e-04\n",
      "Epoch 24/100\n",
      "125/125 [==============================] - 180s 1s/step - loss: 0.0755 - acc: 0.8673 - val_loss: 0.2459 - val_acc: 0.7780 - lr: 5.8884e-04\n",
      "Epoch 25/100\n",
      "125/125 [==============================] - 180s 1s/step - loss: 0.0621 - acc: 0.8798 - val_loss: 0.2080 - val_acc: 0.7970 - lr: 5.7544e-04\n",
      "Epoch 26/100\n",
      "125/125 [==============================] - 180s 1s/step - loss: 0.0620 - acc: 0.8865 - val_loss: 0.2928 - val_acc: 0.7720 - lr: 5.6234e-04\n",
      "Epoch 27/100\n",
      "125/125 [==============================] - 181s 1s/step - loss: 0.0570 - acc: 0.8850 - val_loss: 0.2477 - val_acc: 0.7850 - lr: 5.4954e-04\n",
      "Epoch 28/100\n",
      "125/125 [==============================] - 181s 1s/step - loss: 0.0557 - acc: 0.8892 - val_loss: 0.2608 - val_acc: 0.7880 - lr: 5.3703e-04\n",
      "Epoch 29/100\n",
      "125/125 [==============================] - 181s 1s/step - loss: 0.0550 - acc: 0.8935 - val_loss: 0.2653 - val_acc: 0.7920 - lr: 5.2481e-04\n",
      "Epoch 30/100\n",
      "125/125 [==============================] - 181s 1s/step - loss: 0.0478 - acc: 0.8995 - val_loss: 0.2901 - val_acc: 0.7660 - lr: 5.1286e-04\n",
      "Epoch 31/100\n",
      "125/125 [==============================] - 181s 1s/step - loss: 0.0489 - acc: 0.8955 - val_loss: 0.2856 - val_acc: 0.7940 - lr: 5.0119e-04\n",
      "Epoch 32/100\n",
      "125/125 [==============================] - 181s 1s/step - loss: 0.0446 - acc: 0.8975 - val_loss: 0.3192 - val_acc: 0.7820 - lr: 4.8978e-04\n",
      "Epoch 33/100\n",
      "125/125 [==============================] - 181s 1s/step - loss: 0.0455 - acc: 0.9010 - val_loss: 0.2890 - val_acc: 0.7820 - lr: 4.7863e-04\n",
      "Epoch 34/100\n",
      "125/125 [==============================] - 181s 1s/step - loss: 0.0433 - acc: 0.9030 - val_loss: 0.2955 - val_acc: 0.7980 - lr: 4.6774e-04\n",
      "Epoch 35/100\n",
      "125/125 [==============================] - 181s 1s/step - loss: 0.0417 - acc: 0.9000 - val_loss: 0.3257 - val_acc: 0.7850 - lr: 4.5709e-04\n",
      "Epoch 36/100\n",
      "125/125 [==============================] - 180s 1s/step - loss: 0.0409 - acc: 0.9013 - val_loss: 0.3107 - val_acc: 0.7900 - lr: 4.4668e-04\n",
      "Epoch 37/100\n",
      "125/125 [==============================] - 180s 1s/step - loss: 0.0384 - acc: 0.9022 - val_loss: 0.3634 - val_acc: 0.7710 - lr: 4.3652e-04\n",
      "Epoch 38/100\n",
      "125/125 [==============================] - 181s 1s/step - loss: 0.0439 - acc: 0.9007 - val_loss: 0.2910 - val_acc: 0.7920 - lr: 4.2658e-04\n",
      "Epoch 39/100\n",
      "125/125 [==============================] - 181s 1s/step - loss: 0.0446 - acc: 0.8995 - val_loss: 0.3347 - val_acc: 0.7850 - lr: 4.1687e-04\n",
      "Epoch 40/100\n",
      "125/125 [==============================] - 181s 1s/step - loss: 0.0394 - acc: 0.9003 - val_loss: 0.3548 - val_acc: 0.7910 - lr: 4.0738e-04\n",
      "Epoch 41/100\n",
      "125/125 [==============================] - 181s 1s/step - loss: 0.0336 - acc: 0.9075 - val_loss: 0.2964 - val_acc: 0.7990 - lr: 3.9811e-04\n",
      "Epoch 42/100\n",
      "125/125 [==============================] - 181s 1s/step - loss: 0.0378 - acc: 0.8992 - val_loss: 0.3576 - val_acc: 0.7900 - lr: 3.8905e-04\n",
      "Epoch 43/100\n",
      "125/125 [==============================] - 181s 1s/step - loss: 0.0324 - acc: 0.9025 - val_loss: 0.3611 - val_acc: 0.7860 - lr: 3.8019e-04\n",
      "Epoch 44/100\n",
      "125/125 [==============================] - 181s 1s/step - loss: 0.0337 - acc: 0.9030 - val_loss: 0.3616 - val_acc: 0.7890 - lr: 3.7154e-04\n",
      "Epoch 45/100\n",
      "125/125 [==============================] - 181s 1s/step - loss: 0.0335 - acc: 0.9053 - val_loss: 0.3666 - val_acc: 0.7920 - lr: 3.6308e-04\n",
      "Epoch 46/100\n",
      "125/125 [==============================] - 181s 1s/step - loss: 0.0320 - acc: 0.9032 - val_loss: 0.3349 - val_acc: 0.7900 - lr: 3.5481e-04\n",
      "Epoch 47/100\n",
      "125/125 [==============================] - 181s 1s/step - loss: 0.0318 - acc: 0.9007 - val_loss: 0.3654 - val_acc: 0.7920 - lr: 3.4674e-04\n",
      "Epoch 48/100\n",
      "125/125 [==============================] - 181s 1s/step - loss: 0.0290 - acc: 0.9055 - val_loss: 0.3900 - val_acc: 0.7870 - lr: 3.3884e-04\n",
      "Epoch 49/100\n",
      "125/125 [==============================] - 181s 1s/step - loss: 0.0291 - acc: 0.8997 - val_loss: 0.3590 - val_acc: 0.7940 - lr: 3.3113e-04\n",
      "Epoch 50/100\n",
      "125/125 [==============================] - 180s 1s/step - loss: 0.0351 - acc: 0.8982 - val_loss: 0.3695 - val_acc: 0.7770 - lr: 3.2359e-04\n",
      "Epoch 51/100\n",
      "125/125 [==============================] - 181s 1s/step - loss: 0.0315 - acc: 0.9062 - val_loss: 0.3610 - val_acc: 0.7940 - lr: 3.1623e-04\n",
      "Epoch 52/100\n",
      "125/125 [==============================] - 181s 1s/step - loss: 0.0283 - acc: 0.9053 - val_loss: 0.3874 - val_acc: 0.7840 - lr: 3.0903e-04\n",
      "Epoch 53/100\n",
      "125/125 [==============================] - 181s 1s/step - loss: 0.0262 - acc: 0.9035 - val_loss: 0.3447 - val_acc: 0.8030 - lr: 3.0200e-04\n",
      "Epoch 54/100\n",
      "125/125 [==============================] - 181s 1s/step - loss: 0.0273 - acc: 0.9030 - val_loss: 0.3950 - val_acc: 0.7890 - lr: 2.9512e-04\n",
      "Epoch 55/100\n",
      "125/125 [==============================] - 181s 1s/step - loss: 0.0250 - acc: 0.9038 - val_loss: 0.4636 - val_acc: 0.7890 - lr: 2.8840e-04\n",
      "Epoch 56/100\n",
      "125/125 [==============================] - 181s 1s/step - loss: 0.0237 - acc: 0.9040 - val_loss: 0.4476 - val_acc: 0.7840 - lr: 2.8184e-04\n",
      "Epoch 57/100\n",
      "125/125 [==============================] - 181s 1s/step - loss: 0.0263 - acc: 0.9043 - val_loss: 0.4284 - val_acc: 0.7850 - lr: 2.7542e-04\n",
      "Epoch 58/100\n",
      "125/125 [==============================] - 180s 1s/step - loss: 0.0222 - acc: 0.9060 - val_loss: 0.4197 - val_acc: 0.7900 - lr: 2.6915e-04\n",
      "Epoch 59/100\n",
      "125/125 [==============================] - 181s 1s/step - loss: 0.0213 - acc: 0.9078 - val_loss: 0.4967 - val_acc: 0.7840 - lr: 2.6303e-04\n",
      "Epoch 60/100\n",
      "125/125 [==============================] - 181s 1s/step - loss: 0.0244 - acc: 0.9035 - val_loss: 0.4253 - val_acc: 0.7970 - lr: 2.5704e-04\n",
      "Epoch 61/100\n",
      "125/125 [==============================] - 181s 1s/step - loss: 0.0235 - acc: 0.9057 - val_loss: 0.4360 - val_acc: 0.7830 - lr: 2.5119e-04\n",
      "Epoch 62/100\n",
      "125/125 [==============================] - 181s 1s/step - loss: 0.0253 - acc: 0.9043 - val_loss: 0.4842 - val_acc: 0.7830 - lr: 2.4547e-04\n",
      "Epoch 63/100\n",
      "125/125 [==============================] - 181s 1s/step - loss: 0.0237 - acc: 0.9100 - val_loss: 0.4479 - val_acc: 0.7970 - lr: 2.3988e-04\n",
      "Epoch 64/100\n",
      "125/125 [==============================] - 180s 1s/step - loss: 0.0204 - acc: 0.9093 - val_loss: 0.4690 - val_acc: 0.7960 - lr: 2.3442e-04\n",
      "Epoch 65/100\n",
      "125/125 [==============================] - 180s 1s/step - loss: 0.0224 - acc: 0.9045 - val_loss: 0.4743 - val_acc: 0.7960 - lr: 2.2909e-04\n",
      "Epoch 66/100\n",
      "125/125 [==============================] - 181s 1s/step - loss: 0.0213 - acc: 0.9093 - val_loss: 0.4520 - val_acc: 0.7990 - lr: 2.2387e-04\n",
      "Epoch 67/100\n",
      "125/125 [==============================] - 181s 1s/step - loss: 0.0247 - acc: 0.9110 - val_loss: 0.4301 - val_acc: 0.7950 - lr: 2.1878e-04\n",
      "Epoch 68/100\n",
      "125/125 [==============================] - 181s 1s/step - loss: 0.0246 - acc: 0.9072 - val_loss: 0.4657 - val_acc: 0.7950 - lr: 2.1380e-04\n",
      "Epoch 69/100\n",
      "125/125 [==============================] - 180s 1s/step - loss: 0.0214 - acc: 0.9095 - val_loss: 0.4528 - val_acc: 0.7810 - lr: 2.0893e-04\n",
      "Epoch 70/100\n",
      "125/125 [==============================] - 181s 1s/step - loss: 0.0200 - acc: 0.9090 - val_loss: 0.4582 - val_acc: 0.7930 - lr: 2.0417e-04\n",
      "Epoch 71/100\n",
      "125/125 [==============================] - 181s 1s/step - loss: 0.0224 - acc: 0.9068 - val_loss: 0.5332 - val_acc: 0.7800 - lr: 1.9953e-04\n",
      "Epoch 72/100\n",
      "125/125 [==============================] - 181s 1s/step - loss: 0.0195 - acc: 0.9038 - val_loss: 0.4850 - val_acc: 0.7910 - lr: 1.9498e-04\n",
      "Epoch 73/100\n",
      "125/125 [==============================] - 181s 1s/step - loss: 0.0226 - acc: 0.9090 - val_loss: 0.5482 - val_acc: 0.7920 - lr: 1.9055e-04\n",
      "Epoch 74/100\n",
      "125/125 [==============================] - 181s 1s/step - loss: 0.0207 - acc: 0.9045 - val_loss: 0.5193 - val_acc: 0.7860 - lr: 1.8621e-04\n",
      "Epoch 75/100\n",
      "125/125 [==============================] - 181s 1s/step - loss: 0.0207 - acc: 0.9005 - val_loss: 0.4728 - val_acc: 0.7850 - lr: 1.8197e-04\n",
      "Epoch 76/100\n",
      "125/125 [==============================] - 181s 1s/step - loss: 0.0209 - acc: 0.9075 - val_loss: 0.5100 - val_acc: 0.7910 - lr: 1.7783e-04\n",
      "Epoch 77/100\n",
      "125/125 [==============================] - 181s 1s/step - loss: 0.0220 - acc: 0.9013 - val_loss: 0.5002 - val_acc: 0.7940 - lr: 1.7378e-04\n",
      "Epoch 78/100\n",
      "125/125 [==============================] - 181s 1s/step - loss: 0.0216 - acc: 0.9028 - val_loss: 0.4949 - val_acc: 0.7920 - lr: 1.6982e-04\n",
      "Epoch 79/100\n",
      "125/125 [==============================] - 181s 1s/step - loss: 0.0197 - acc: 0.9028 - val_loss: 0.5021 - val_acc: 0.7890 - lr: 1.6596e-04\n",
      "Epoch 80/100\n",
      "125/125 [==============================] - 181s 1s/step - loss: 0.0217 - acc: 0.9093 - val_loss: 0.5284 - val_acc: 0.7920 - lr: 1.6218e-04\n",
      "Epoch 81/100\n",
      "125/125 [==============================] - 181s 1s/step - loss: 0.0203 - acc: 0.9085 - val_loss: 0.4733 - val_acc: 0.7950 - lr: 1.5849e-04\n",
      "Epoch 82/100\n",
      "125/125 [==============================] - 181s 1s/step - loss: 0.0211 - acc: 0.9107 - val_loss: 0.5375 - val_acc: 0.8030 - lr: 1.5488e-04\n",
      "Epoch 83/100\n",
      "125/125 [==============================] - 181s 1s/step - loss: 0.0207 - acc: 0.9055 - val_loss: 0.5103 - val_acc: 0.7900 - lr: 1.5136e-04\n",
      "Epoch 84/100\n",
      "125/125 [==============================] - 181s 1s/step - loss: 0.0192 - acc: 0.9062 - val_loss: 0.5240 - val_acc: 0.7930 - lr: 1.4791e-04\n",
      "Epoch 85/100\n",
      "125/125 [==============================] - 181s 1s/step - loss: 0.0180 - acc: 0.9072 - val_loss: 0.5206 - val_acc: 0.7970 - lr: 1.4454e-04\n",
      "Epoch 86/100\n",
      "125/125 [==============================] - 181s 1s/step - loss: 0.0202 - acc: 0.9047 - val_loss: 0.5454 - val_acc: 0.7990 - lr: 1.4125e-04\n",
      "Epoch 87/100\n",
      "125/125 [==============================] - 181s 1s/step - loss: 0.0167 - acc: 0.9050 - val_loss: 0.5964 - val_acc: 0.7980 - lr: 1.3804e-04\n",
      "Epoch 88/100\n",
      "125/125 [==============================] - 181s 1s/step - loss: 0.0195 - acc: 0.9082 - val_loss: 0.5538 - val_acc: 0.7970 - lr: 1.3490e-04\n",
      "Epoch 89/100\n",
      "125/125 [==============================] - 181s 1s/step - loss: 0.0179 - acc: 0.9085 - val_loss: 0.5553 - val_acc: 0.7970 - lr: 1.3183e-04\n",
      "Epoch 90/100\n",
      "125/125 [==============================] - 181s 1s/step - loss: 0.0166 - acc: 0.9087 - val_loss: 0.5867 - val_acc: 0.7850 - lr: 1.2882e-04\n",
      "Epoch 91/100\n",
      "125/125 [==============================] - 181s 1s/step - loss: 0.0192 - acc: 0.9087 - val_loss: 0.5624 - val_acc: 0.7990 - lr: 1.2589e-04\n",
      "Epoch 92/100\n",
      "125/125 [==============================] - 181s 1s/step - loss: 0.0194 - acc: 0.9072 - val_loss: 0.5694 - val_acc: 0.7990 - lr: 1.2303e-04\n",
      "Epoch 93/100\n",
      "125/125 [==============================] - 181s 1s/step - loss: 0.0192 - acc: 0.9072 - val_loss: 0.5507 - val_acc: 0.7940 - lr: 1.2023e-04\n",
      "Epoch 94/100\n",
      "125/125 [==============================] - 181s 1s/step - loss: 0.0200 - acc: 0.9070 - val_loss: 0.5312 - val_acc: 0.7940 - lr: 1.1749e-04\n",
      "Epoch 95/100\n",
      "125/125 [==============================] - 181s 1s/step - loss: 0.0194 - acc: 0.9045 - val_loss: 0.5217 - val_acc: 0.8010 - lr: 1.1482e-04\n",
      "Epoch 96/100\n",
      "125/125 [==============================] - 181s 1s/step - loss: 0.0201 - acc: 0.9082 - val_loss: 0.5256 - val_acc: 0.7900 - lr: 1.1220e-04\n",
      "Epoch 97/100\n",
      "125/125 [==============================] - 181s 1s/step - loss: 0.0191 - acc: 0.9065 - val_loss: 0.5442 - val_acc: 0.7880 - lr: 1.0965e-04\n",
      "Epoch 98/100\n",
      "125/125 [==============================] - 181s 1s/step - loss: 0.0192 - acc: 0.9118 - val_loss: 0.5166 - val_acc: 0.7940 - lr: 1.0715e-04\n",
      "Epoch 99/100\n",
      "125/125 [==============================] - 180s 1s/step - loss: 0.0173 - acc: 0.9085 - val_loss: 0.5655 - val_acc: 0.7850 - lr: 1.0471e-04\n",
      "Epoch 100/100\n",
      "125/125 [==============================] - 180s 1s/step - loss: 0.0176 - acc: 0.9082 - val_loss: 0.6388 - val_acc: 0.7850 - lr: 1.0233e-04\n"
     ]
    }
   ],
   "source": [
    "model = model_arch()\n",
    "model, lr_sch = CompModel(model)\n",
    "\n",
    "history = model.fit(x_train[t2], y_train.values[t2],\n",
    "            epochs=100,\n",
    "            validation_data = (x_train[v2], y_train.values[v2]),\n",
    "            callbacks = [lr_sch],\n",
    "            verbose = 1)"
   ]
  },
  {
   "cell_type": "code",
   "execution_count": 8,
   "id": "5f01c983",
   "metadata": {
    "execution": {
     "iopub.execute_input": "2023-11-06T16:10:14.688028Z",
     "iopub.status.busy": "2023-11-06T16:10:14.687599Z",
     "iopub.status.idle": "2023-11-06T16:10:14.905125Z",
     "shell.execute_reply": "2023-11-06T16:10:14.904322Z"
    },
    "papermill": {
     "duration": 1.780077,
     "end_time": "2023-11-06T16:10:14.907468",
     "exception": false,
     "start_time": "2023-11-06T16:10:13.127391",
     "status": "completed"
    },
    "tags": []
   },
   "outputs": [],
   "source": [
    "model.save('/kaggle/working/RP_ECGNet_Fold2.h5')"
   ]
  }
 ],
 "metadata": {
  "kernelspec": {
   "display_name": "Python 3",
   "language": "python",
   "name": "python3"
  },
  "language_info": {
   "codemirror_mode": {
    "name": "ipython",
    "version": 3
   },
   "file_extension": ".py",
   "mimetype": "text/x-python",
   "name": "python",
   "nbconvert_exporter": "python",
   "pygments_lexer": "ipython3",
   "version": "3.10.12"
  },
  "papermill": {
   "default_parameters": {},
   "duration": 19713.058025,
   "end_time": "2023-11-06T16:10:19.574763",
   "environment_variables": {},
   "exception": null,
   "input_path": "__notebook__.ipynb",
   "output_path": "__notebook__.ipynb",
   "parameters": {},
   "start_time": "2023-11-06T10:41:46.516738",
   "version": "2.4.0"
  }
 },
 "nbformat": 4,
 "nbformat_minor": 5
}
