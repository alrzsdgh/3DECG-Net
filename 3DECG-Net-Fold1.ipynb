{
 "cells": [
  {
   "cell_type": "code",
   "execution_count": 1,
   "id": "e35fb591",
   "metadata": {
    "_cell_guid": "b1076dfc-b9ad-4769-8c92-a6c4dae69d19",
    "_uuid": "8f2839f25d086af736a60e9eeb907d3b93b6e0e5",
    "execution": {
     "iopub.execute_input": "2023-11-05T15:59:57.373647Z",
     "iopub.status.busy": "2023-11-05T15:59:57.373328Z",
     "iopub.status.idle": "2023-11-05T16:00:45.858977Z",
     "shell.execute_reply": "2023-11-05T16:00:45.857846Z"
    },
    "papermill": {
     "duration": 48.492377,
     "end_time": "2023-11-05T16:00:45.861551",
     "exception": false,
     "start_time": "2023-11-05T15:59:57.369174",
     "status": "completed"
    },
    "tags": []
   },
   "outputs": [
    {
     "name": "stdout",
     "output_type": "stream",
     "text": [
      "Collecting gdown\r\n",
      "  Downloading gdown-4.7.1-py3-none-any.whl (15 kB)\r\n",
      "Requirement already satisfied: filelock in /opt/conda/lib/python3.10/site-packages (from gdown) (3.12.2)\r\n",
      "Requirement already satisfied: requests[socks] in /opt/conda/lib/python3.10/site-packages (from gdown) (2.31.0)\r\n",
      "Requirement already satisfied: six in /opt/conda/lib/python3.10/site-packages (from gdown) (1.16.0)\r\n",
      "Requirement already satisfied: tqdm in /opt/conda/lib/python3.10/site-packages (from gdown) (4.66.1)\r\n",
      "Requirement already satisfied: beautifulsoup4 in /opt/conda/lib/python3.10/site-packages (from gdown) (4.12.2)\r\n",
      "Requirement already satisfied: soupsieve>1.2 in /opt/conda/lib/python3.10/site-packages (from beautifulsoup4->gdown) (2.3.2.post1)\r\n",
      "Requirement already satisfied: charset-normalizer<4,>=2 in /opt/conda/lib/python3.10/site-packages (from requests[socks]->gdown) (3.1.0)\r\n",
      "Requirement already satisfied: idna<4,>=2.5 in /opt/conda/lib/python3.10/site-packages (from requests[socks]->gdown) (3.4)\r\n",
      "Requirement already satisfied: urllib3<3,>=1.21.1 in /opt/conda/lib/python3.10/site-packages (from requests[socks]->gdown) (1.26.15)\r\n",
      "Requirement already satisfied: certifi>=2017.4.17 in /opt/conda/lib/python3.10/site-packages (from requests[socks]->gdown) (2023.7.22)\r\n",
      "Requirement already satisfied: PySocks!=1.5.7,>=1.5.6 in /opt/conda/lib/python3.10/site-packages (from requests[socks]->gdown) (1.7.1)\r\n",
      "Installing collected packages: gdown\r\n",
      "Successfully installed gdown-4.7.1\r\n",
      "/opt/conda/lib/python3.10/site-packages/gdown/cli.py:126: FutureWarning: Option `--id` was deprecated in version 4.3.1 and will be removed in 5.0. You don't need to pass it anymore to use a file ID.\r\n",
      "  warnings.warn(\r\n",
      "Downloading...\r\n",
      "From (uriginal): https://drive.google.com/uc?id=1-1EjRHAq-4nhXIJ9-OobWmMXavl1B4zn\r\n",
      "From (redirected): https://drive.google.com/uc?id=1-1EjRHAq-4nhXIJ9-OobWmMXavl1B4zn&confirm=t&uuid=a4324046-705f-48be-89e1-a6a1f08abbb0\r\n",
      "To: /kaggle/working/data.pkl\r\n",
      "100%|██████████████████████████████████████| 1.24G/1.24G [00:31<00:00, 39.2MB/s]\r\n"
     ]
    }
   ],
   "source": [
    "!pip install gdown\n",
    "!gdown --id 1-1EjRHAq-4nhXIJ9-OobWmMXavl1B4zn"
   ]
  },
  {
   "cell_type": "code",
   "execution_count": 2,
   "id": "308d2884",
   "metadata": {
    "execution": {
     "iopub.execute_input": "2023-11-05T16:00:45.910141Z",
     "iopub.status.busy": "2023-11-05T16:00:45.909370Z",
     "iopub.status.idle": "2023-11-05T16:00:53.912443Z",
     "shell.execute_reply": "2023-11-05T16:00:53.911419Z"
    },
    "papermill": {
     "duration": 8.030361,
     "end_time": "2023-11-05T16:00:53.915984",
     "exception": false,
     "start_time": "2023-11-05T16:00:45.885623",
     "status": "completed"
    },
    "tags": []
   },
   "outputs": [
    {
     "name": "stderr",
     "output_type": "stream",
     "text": [
      "/opt/conda/lib/python3.10/site-packages/scipy/__init__.py:146: UserWarning: A NumPy version >=1.16.5 and <1.23.0 is required for this version of SciPy (detected version 1.23.5\n",
      "  warnings.warn(f\"A NumPy version >={np_minversion} and <{np_maxversion}\"\n"
     ]
    }
   ],
   "source": [
    "import pickle\n",
    "from tqdm import tqdm\n",
    "import tensorflow as tf\n",
    "import numpy as np\n",
    "\n",
    "from preprocess import data_preparation\n",
    "from preprocess import signal_cutter\n",
    "from preprocess import data_filtering\n",
    "from preprocess import resampling\n",
    "from preprocess import RP_3D\n",
    "from preprocess import resize_volume\n",
    "from preprocess import RP_final_data\n",
    "from preprocess import label_creator\n",
    "from preprocess import including_data\n",
    "from models import model_arch\n",
    "from models import CompModel"
   ]
  },
  {
   "cell_type": "code",
   "execution_count": 3,
   "id": "d3d17008",
   "metadata": {
    "execution": {
     "iopub.execute_input": "2023-11-05T16:00:54.004830Z",
     "iopub.status.busy": "2023-11-05T16:00:54.004018Z",
     "iopub.status.idle": "2023-11-05T16:00:54.830963Z",
     "shell.execute_reply": "2023-11-05T16:00:54.829946Z"
    },
    "papermill": {
     "duration": 0.871634,
     "end_time": "2023-11-05T16:00:54.833384",
     "exception": false,
     "start_time": "2023-11-05T16:00:53.961750",
     "status": "completed"
    },
    "tags": []
   },
   "outputs": [],
   "source": [
    "# Read dictionary pkl file\n",
    "with open('/kaggle/working/data.pkl', 'rb') as fp:\n",
    "    dataset = pickle.load(fp)"
   ]
  },
  {
   "cell_type": "code",
   "execution_count": 4,
   "id": "ca5e3daf",
   "metadata": {
    "execution": {
     "iopub.execute_input": "2023-11-05T16:00:54.879526Z",
     "iopub.status.busy": "2023-11-05T16:00:54.879162Z",
     "iopub.status.idle": "2023-11-05T16:02:16.610170Z",
     "shell.execute_reply": "2023-11-05T16:02:16.609113Z"
    },
    "papermill": {
     "duration": 81.756256,
     "end_time": "2023-11-05T16:02:16.612336",
     "exception": false,
     "start_time": "2023-11-05T16:00:54.856080",
     "status": "completed"
    },
    "tags": []
   },
   "outputs": [
    {
     "name": "stderr",
     "output_type": "stream",
     "text": [
      "100%|██████████| 10344/10344 [00:00<00:00, 1007544.66it/s]\n",
      "100%|██████████| 10344/10344 [00:00<00:00, 631857.75it/s]\n",
      "100%|██████████| 10344/10344 [01:19<00:00, 129.53it/s]\n",
      "100%|██████████| 10344/10344 [00:01<00:00, 7519.03it/s]\n"
     ]
    }
   ],
   "source": [
    "ds = data_preparation(dataset)\n",
    "\n",
    "# shortening\n",
    "ds = signal_cutter(ds, d_length=1000)\n",
    "\n",
    "# denoising\n",
    "ds = data_filtering(ds)\n",
    "\n",
    "# resampling\n",
    "ds = resampling(ds, desired_points = 100)"
   ]
  },
  {
   "cell_type": "code",
   "execution_count": 5,
   "id": "9557e588",
   "metadata": {
    "execution": {
     "iopub.execute_input": "2023-11-05T16:02:16.842067Z",
     "iopub.status.busy": "2023-11-05T16:02:16.841636Z",
     "iopub.status.idle": "2023-11-05T16:27:19.901129Z",
     "shell.execute_reply": "2023-11-05T16:27:19.900280Z"
    },
    "papermill": {
     "duration": 1503.211807,
     "end_time": "2023-11-05T16:27:19.903562",
     "exception": false,
     "start_time": "2023-11-05T16:02:16.691755",
     "status": "completed"
    },
    "tags": []
   },
   "outputs": [
    {
     "name": "stderr",
     "output_type": "stream",
     "text": [
      "100%|██████████| 10344/10344 [00:00<00:00, 807299.33it/s]\n",
      "10344it [00:08, 1203.99it/s]\n",
      "10344it [00:04, 2143.46it/s]\n",
      "100%|██████████| 5000/5000 [24:48<00:00,  3.36it/s]\n"
     ]
    }
   ],
   "source": [
    "arr = {'NSR':'426783006', 'AF':'164889003', 'IAVB':'270492004', 'LBBB':'164909002', 'RBBB':'59118001', 'SB':'426177001', 'STach':'427084000'}\n",
    "labels = label_creator(data_preparation(dataset), arr)\n",
    "x_train, y_train, x_test, y_test = including_data(labels, ds)\n",
    "# transformation and resizing\n",
    "x_train = RP_final_data(x_train)"
   ]
  },
  {
   "cell_type": "code",
   "execution_count": 6,
   "id": "6d565a65",
   "metadata": {
    "execution": {
     "iopub.execute_input": "2023-11-05T16:27:20.880083Z",
     "iopub.status.busy": "2023-11-05T16:27:20.879187Z",
     "iopub.status.idle": "2023-11-05T16:27:20.886260Z",
     "shell.execute_reply": "2023-11-05T16:27:20.885377Z"
    },
    "papermill": {
     "duration": 0.467297,
     "end_time": "2023-11-05T16:27:20.888125",
     "exception": false,
     "start_time": "2023-11-05T16:27:20.420828",
     "status": "completed"
    },
    "tags": []
   },
   "outputs": [],
   "source": [
    "# five-folds preparation\n",
    "\n",
    "idx_lst = list(range(len(x_train)))\n",
    "\n",
    "v1 = idx_lst[:1000]\n",
    "t1 = idx_lst[1000:]\n",
    "\n",
    "v2 = idx_lst[1000:2000]\n",
    "t2 = idx_lst[:1000] + idx_lst[2000:]\n",
    "\n",
    "v3 = idx_lst[2000:3000]\n",
    "t3 = idx_lst[:2000] + idx_lst[3000:]\n",
    "\n",
    "v4 = idx_lst[3000:4000]\n",
    "t4 = idx_lst[:3000] + idx_lst[4000:]\n",
    "\n",
    "v5 = idx_lst[4000:]\n",
    "t5 = idx_lst[:4000]"
   ]
  },
  {
   "cell_type": "code",
   "execution_count": 7,
   "id": "a143b5be",
   "metadata": {
    "execution": {
     "iopub.execute_input": "2023-11-05T16:27:21.821546Z",
     "iopub.status.busy": "2023-11-05T16:27:21.821153Z",
     "iopub.status.idle": "2023-11-05T21:23:59.040284Z",
     "shell.execute_reply": "2023-11-05T21:23:59.039305Z"
    },
    "papermill": {
     "duration": 17797.683969,
     "end_time": "2023-11-05T21:23:59.042825",
     "exception": false,
     "start_time": "2023-11-05T16:27:21.358856",
     "status": "completed"
    },
    "tags": []
   },
   "outputs": [
    {
     "name": "stdout",
     "output_type": "stream",
     "text": [
      "Epoch 1/100\n"
     ]
    },
    {
     "name": "stderr",
     "output_type": "stream",
     "text": [
      "2023-11-05 16:27:36.173488: E tensorflow/core/grappler/optimizers/meta_optimizer.cc:954] layout failed: INVALID_ARGUMENT: MutableGraphView::SortTopologically error: detected edge(s) creating cycle(s) {'Func/gradient_tape/model_3/conv_lstm2d_1/while/model_3/conv_lstm2d_1/while_grad/body/_367/input/_1025' -> 'gradient_tape/model_3/conv_lstm2d_1/while/model_3/conv_lstm2d_1/while_grad/body/_367/gradient_tape/model_3/conv_lstm2d_1/while/gradients/AddN', 'Func/gradient_tape/model_3/conv_lstm2d/while/model_3/conv_lstm2d/while_grad/body/_562/input/_1141' -> 'gradient_tape/model_3/conv_lstm2d/while/model_3/conv_lstm2d/while_grad/body/_562/gradient_tape/model_3/conv_lstm2d/while/gradients/AddN', 'model_3/conv_lstm2d_1/while/body/_179/model_3/conv_lstm2d_1/while/mul_2' -> 'model_3/conv_lstm2d_1/while/body/_179/model_3/conv_lstm2d_1/while/add_5', 'model_3/conv_lstm2d_1/while/body/_179/model_3/conv_lstm2d_1/while/clip_by_value_2' -> 'model_3/conv_lstm2d_1/while/body/_179/model_3/conv_lstm2d_1/while/mul_5', 'model_3/conv_lstm2d_1/while/body/_179/model_3/conv_lstm2d_1/while/convolution_6' -> 'model_3/conv_lstm2d_1/while/body/_179/model_3/conv_lstm2d_1/while/add_4', 'model_3/conv_lstm2d_1/while/body/_179/model_3/conv_lstm2d_1/while/clip_by_value' -> 'model_3/conv_lstm2d_1/while/body/_179/model_3/conv_lstm2d_1/while/mul_3'}.\n"
     ]
    },
    {
     "name": "stdout",
     "output_type": "stream",
     "text": [
      "125/125 [==============================] - 204s 1s/step - loss: 0.4345 - acc: 0.4015 - val_loss: 0.5319 - val_acc: 0.1910 - lr: 0.0010\n",
      "Epoch 2/100\n",
      "125/125 [==============================] - 177s 1s/step - loss: 0.3104 - acc: 0.5893 - val_loss: 0.4727 - val_acc: 0.3530 - lr: 9.7724e-04\n",
      "Epoch 3/100\n",
      "125/125 [==============================] - 177s 1s/step - loss: 0.2572 - acc: 0.6440 - val_loss: 0.3405 - val_acc: 0.4940 - lr: 9.5499e-04\n",
      "Epoch 4/100\n",
      "125/125 [==============================] - 177s 1s/step - loss: 0.2380 - acc: 0.6683 - val_loss: 0.2641 - val_acc: 0.6480 - lr: 9.3325e-04\n",
      "Epoch 5/100\n",
      "125/125 [==============================] - 177s 1s/step - loss: 0.2173 - acc: 0.6875 - val_loss: 0.1885 - val_acc: 0.7040 - lr: 9.1201e-04\n",
      "Epoch 6/100\n",
      "125/125 [==============================] - 177s 1s/step - loss: 0.2044 - acc: 0.7035 - val_loss: 0.1821 - val_acc: 0.7040 - lr: 8.9125e-04\n",
      "Epoch 7/100\n",
      "125/125 [==============================] - 177s 1s/step - loss: 0.1858 - acc: 0.7237 - val_loss: 0.1927 - val_acc: 0.7140 - lr: 8.7096e-04\n",
      "Epoch 8/100\n",
      "125/125 [==============================] - 177s 1s/step - loss: 0.1870 - acc: 0.7222 - val_loss: 0.1939 - val_acc: 0.7150 - lr: 8.5114e-04\n",
      "Epoch 9/100\n",
      "125/125 [==============================] - 177s 1s/step - loss: 0.1754 - acc: 0.7387 - val_loss: 0.1752 - val_acc: 0.7320 - lr: 8.3176e-04\n",
      "Epoch 10/100\n",
      "125/125 [==============================] - 177s 1s/step - loss: 0.1582 - acc: 0.7515 - val_loss: 0.1967 - val_acc: 0.7260 - lr: 8.1283e-04\n",
      "Epoch 11/100\n",
      "125/125 [==============================] - 177s 1s/step - loss: 0.1489 - acc: 0.7747 - val_loss: 0.1954 - val_acc: 0.7220 - lr: 7.9433e-04\n",
      "Epoch 12/100\n",
      "125/125 [==============================] - 177s 1s/step - loss: 0.1394 - acc: 0.7835 - val_loss: 0.2048 - val_acc: 0.7260 - lr: 7.7625e-04\n",
      "Epoch 13/100\n",
      "125/125 [==============================] - 177s 1s/step - loss: 0.1327 - acc: 0.7915 - val_loss: 0.1800 - val_acc: 0.7410 - lr: 7.5858e-04\n",
      "Epoch 14/100\n",
      "125/125 [==============================] - 177s 1s/step - loss: 0.1232 - acc: 0.8033 - val_loss: 0.1694 - val_acc: 0.7610 - lr: 7.4131e-04\n",
      "Epoch 15/100\n",
      "125/125 [==============================] - 177s 1s/step - loss: 0.1160 - acc: 0.8148 - val_loss: 0.1854 - val_acc: 0.7590 - lr: 7.2444e-04\n",
      "Epoch 16/100\n",
      "125/125 [==============================] - 177s 1s/step - loss: 0.1044 - acc: 0.8292 - val_loss: 0.1995 - val_acc: 0.7530 - lr: 7.0795e-04\n",
      "Epoch 17/100\n",
      "125/125 [==============================] - 177s 1s/step - loss: 0.1025 - acc: 0.8328 - val_loss: 0.1902 - val_acc: 0.7550 - lr: 6.9183e-04\n",
      "Epoch 18/100\n",
      "125/125 [==============================] - 177s 1s/step - loss: 0.0881 - acc: 0.8505 - val_loss: 0.2198 - val_acc: 0.7420 - lr: 6.7608e-04\n",
      "Epoch 19/100\n",
      "125/125 [==============================] - 178s 1s/step - loss: 0.0831 - acc: 0.8560 - val_loss: 0.1955 - val_acc: 0.7650 - lr: 6.6069e-04\n",
      "Epoch 20/100\n",
      "125/125 [==============================] - 177s 1s/step - loss: 0.0732 - acc: 0.8627 - val_loss: 0.2085 - val_acc: 0.7660 - lr: 6.4565e-04\n",
      "Epoch 21/100\n",
      "125/125 [==============================] - 177s 1s/step - loss: 0.0685 - acc: 0.8708 - val_loss: 0.2593 - val_acc: 0.7440 - lr: 6.3096e-04\n",
      "Epoch 22/100\n",
      "125/125 [==============================] - 177s 1s/step - loss: 0.0628 - acc: 0.8765 - val_loss: 0.2380 - val_acc: 0.7550 - lr: 6.1659e-04\n",
      "Epoch 23/100\n",
      "125/125 [==============================] - 177s 1s/step - loss: 0.0584 - acc: 0.8835 - val_loss: 0.2578 - val_acc: 0.7340 - lr: 6.0256e-04\n",
      "Epoch 24/100\n",
      "125/125 [==============================] - 177s 1s/step - loss: 0.0534 - acc: 0.8903 - val_loss: 0.2545 - val_acc: 0.7740 - lr: 5.8884e-04\n",
      "Epoch 25/100\n",
      "125/125 [==============================] - 177s 1s/step - loss: 0.0516 - acc: 0.8928 - val_loss: 0.2228 - val_acc: 0.7730 - lr: 5.7544e-04\n",
      "Epoch 26/100\n",
      "125/125 [==============================] - 177s 1s/step - loss: 0.0518 - acc: 0.8907 - val_loss: 0.2183 - val_acc: 0.7770 - lr: 5.6234e-04\n",
      "Epoch 27/100\n",
      "125/125 [==============================] - 177s 1s/step - loss: 0.0446 - acc: 0.8975 - val_loss: 0.2534 - val_acc: 0.7720 - lr: 5.4954e-04\n",
      "Epoch 28/100\n",
      "125/125 [==============================] - 177s 1s/step - loss: 0.0409 - acc: 0.9062 - val_loss: 0.2434 - val_acc: 0.7710 - lr: 5.3703e-04\n",
      "Epoch 29/100\n",
      "125/125 [==============================] - 177s 1s/step - loss: 0.0433 - acc: 0.8953 - val_loss: 0.2641 - val_acc: 0.7660 - lr: 5.2481e-04\n",
      "Epoch 30/100\n",
      "125/125 [==============================] - 177s 1s/step - loss: 0.0425 - acc: 0.8988 - val_loss: 0.2652 - val_acc: 0.7720 - lr: 5.1286e-04\n",
      "Epoch 31/100\n",
      "125/125 [==============================] - 177s 1s/step - loss: 0.0389 - acc: 0.9043 - val_loss: 0.2616 - val_acc: 0.7630 - lr: 5.0119e-04\n",
      "Epoch 32/100\n",
      "125/125 [==============================] - 177s 1s/step - loss: 0.0442 - acc: 0.8970 - val_loss: 0.3147 - val_acc: 0.7470 - lr: 4.8978e-04\n",
      "Epoch 33/100\n",
      "125/125 [==============================] - 177s 1s/step - loss: 0.0482 - acc: 0.8965 - val_loss: 0.2494 - val_acc: 0.7670 - lr: 4.7863e-04\n",
      "Epoch 34/100\n",
      "125/125 [==============================] - 177s 1s/step - loss: 0.0391 - acc: 0.9050 - val_loss: 0.2838 - val_acc: 0.7660 - lr: 4.6774e-04\n",
      "Epoch 35/100\n",
      "125/125 [==============================] - 177s 1s/step - loss: 0.0357 - acc: 0.9055 - val_loss: 0.2867 - val_acc: 0.7610 - lr: 4.5709e-04\n",
      "Epoch 36/100\n",
      "125/125 [==============================] - 177s 1s/step - loss: 0.0301 - acc: 0.9078 - val_loss: 0.3490 - val_acc: 0.7680 - lr: 4.4668e-04\n",
      "Epoch 37/100\n",
      "125/125 [==============================] - 177s 1s/step - loss: 0.0318 - acc: 0.9103 - val_loss: 0.2927 - val_acc: 0.7590 - lr: 4.3652e-04\n",
      "Epoch 38/100\n",
      "125/125 [==============================] - 177s 1s/step - loss: 0.0289 - acc: 0.9115 - val_loss: 0.2975 - val_acc: 0.7750 - lr: 4.2658e-04\n",
      "Epoch 39/100\n",
      "125/125 [==============================] - 177s 1s/step - loss: 0.0297 - acc: 0.9120 - val_loss: 0.3055 - val_acc: 0.7770 - lr: 4.1687e-04\n",
      "Epoch 40/100\n",
      "125/125 [==============================] - 177s 1s/step - loss: 0.0288 - acc: 0.9128 - val_loss: 0.3288 - val_acc: 0.7700 - lr: 4.0738e-04\n",
      "Epoch 41/100\n",
      "125/125 [==============================] - 177s 1s/step - loss: 0.0268 - acc: 0.9185 - val_loss: 0.3366 - val_acc: 0.7690 - lr: 3.9811e-04\n",
      "Epoch 42/100\n",
      "125/125 [==============================] - 177s 1s/step - loss: 0.0284 - acc: 0.9107 - val_loss: 0.3251 - val_acc: 0.7730 - lr: 3.8905e-04\n",
      "Epoch 43/100\n",
      "125/125 [==============================] - 177s 1s/step - loss: 0.0296 - acc: 0.9035 - val_loss: 0.3664 - val_acc: 0.7630 - lr: 3.8019e-04\n",
      "Epoch 44/100\n",
      "125/125 [==============================] - 177s 1s/step - loss: 0.0296 - acc: 0.9097 - val_loss: 0.3641 - val_acc: 0.7510 - lr: 3.7154e-04\n",
      "Epoch 45/100\n",
      "125/125 [==============================] - 177s 1s/step - loss: 0.0273 - acc: 0.9175 - val_loss: 0.3508 - val_acc: 0.7560 - lr: 3.6308e-04\n",
      "Epoch 46/100\n",
      "125/125 [==============================] - 177s 1s/step - loss: 0.0262 - acc: 0.9120 - val_loss: 0.3967 - val_acc: 0.7600 - lr: 3.5481e-04\n",
      "Epoch 47/100\n",
      "125/125 [==============================] - 177s 1s/step - loss: 0.0269 - acc: 0.9135 - val_loss: 0.3217 - val_acc: 0.7600 - lr: 3.4674e-04\n",
      "Epoch 48/100\n",
      "125/125 [==============================] - 177s 1s/step - loss: 0.0258 - acc: 0.9147 - val_loss: 0.3448 - val_acc: 0.7630 - lr: 3.3884e-04\n",
      "Epoch 49/100\n",
      "125/125 [==============================] - 177s 1s/step - loss: 0.0258 - acc: 0.9100 - val_loss: 0.3806 - val_acc: 0.7680 - lr: 3.3113e-04\n",
      "Epoch 50/100\n",
      "125/125 [==============================] - 177s 1s/step - loss: 0.0248 - acc: 0.9187 - val_loss: 0.4105 - val_acc: 0.7640 - lr: 3.2359e-04\n",
      "Epoch 51/100\n",
      "125/125 [==============================] - 177s 1s/step - loss: 0.0221 - acc: 0.9168 - val_loss: 0.3899 - val_acc: 0.7710 - lr: 3.1623e-04\n",
      "Epoch 52/100\n",
      "125/125 [==============================] - 177s 1s/step - loss: 0.0233 - acc: 0.9137 - val_loss: 0.3926 - val_acc: 0.7820 - lr: 3.0903e-04\n",
      "Epoch 53/100\n",
      "125/125 [==============================] - 177s 1s/step - loss: 0.0243 - acc: 0.9135 - val_loss: 0.3617 - val_acc: 0.7640 - lr: 3.0200e-04\n",
      "Epoch 54/100\n",
      "125/125 [==============================] - 177s 1s/step - loss: 0.0261 - acc: 0.9172 - val_loss: 0.3940 - val_acc: 0.7530 - lr: 2.9512e-04\n",
      "Epoch 55/100\n",
      "125/125 [==============================] - 177s 1s/step - loss: 0.0255 - acc: 0.9158 - val_loss: 0.4140 - val_acc: 0.7630 - lr: 2.8840e-04\n",
      "Epoch 56/100\n",
      "125/125 [==============================] - 177s 1s/step - loss: 0.0266 - acc: 0.9158 - val_loss: 0.3787 - val_acc: 0.7760 - lr: 2.8184e-04\n",
      "Epoch 57/100\n",
      "125/125 [==============================] - 177s 1s/step - loss: 0.0228 - acc: 0.9140 - val_loss: 0.3654 - val_acc: 0.7770 - lr: 2.7542e-04\n",
      "Epoch 58/100\n",
      "125/125 [==============================] - 177s 1s/step - loss: 0.0226 - acc: 0.9140 - val_loss: 0.3976 - val_acc: 0.7580 - lr: 2.6915e-04\n",
      "Epoch 59/100\n",
      "125/125 [==============================] - 177s 1s/step - loss: 0.0221 - acc: 0.9178 - val_loss: 0.3932 - val_acc: 0.7730 - lr: 2.6303e-04\n",
      "Epoch 60/100\n",
      "125/125 [==============================] - 177s 1s/step - loss: 0.0218 - acc: 0.9183 - val_loss: 0.3931 - val_acc: 0.7760 - lr: 2.5704e-04\n",
      "Epoch 61/100\n",
      "125/125 [==============================] - 177s 1s/step - loss: 0.0228 - acc: 0.9160 - val_loss: 0.3916 - val_acc: 0.7660 - lr: 2.5119e-04\n",
      "Epoch 62/100\n",
      "125/125 [==============================] - 177s 1s/step - loss: 0.0207 - acc: 0.9170 - val_loss: 0.4390 - val_acc: 0.7580 - lr: 2.4547e-04\n",
      "Epoch 63/100\n",
      "125/125 [==============================] - 177s 1s/step - loss: 0.0208 - acc: 0.9133 - val_loss: 0.4239 - val_acc: 0.7660 - lr: 2.3988e-04\n",
      "Epoch 64/100\n",
      "125/125 [==============================] - 177s 1s/step - loss: 0.0188 - acc: 0.9247 - val_loss: 0.4173 - val_acc: 0.7760 - lr: 2.3442e-04\n",
      "Epoch 65/100\n",
      "125/125 [==============================] - 177s 1s/step - loss: 0.0195 - acc: 0.9197 - val_loss: 0.4294 - val_acc: 0.7750 - lr: 2.2909e-04\n",
      "Epoch 66/100\n",
      "125/125 [==============================] - 177s 1s/step - loss: 0.0217 - acc: 0.9208 - val_loss: 0.4406 - val_acc: 0.7660 - lr: 2.2387e-04\n",
      "Epoch 67/100\n",
      "125/125 [==============================] - 177s 1s/step - loss: 0.0220 - acc: 0.9200 - val_loss: 0.4020 - val_acc: 0.7740 - lr: 2.1878e-04\n",
      "Epoch 68/100\n",
      "125/125 [==============================] - 177s 1s/step - loss: 0.0160 - acc: 0.9195 - val_loss: 0.4490 - val_acc: 0.7700 - lr: 2.1380e-04\n",
      "Epoch 69/100\n",
      "125/125 [==============================] - 177s 1s/step - loss: 0.0210 - acc: 0.9215 - val_loss: 0.4623 - val_acc: 0.7720 - lr: 2.0893e-04\n",
      "Epoch 70/100\n",
      "125/125 [==============================] - 177s 1s/step - loss: 0.0211 - acc: 0.9175 - val_loss: 0.4649 - val_acc: 0.7770 - lr: 2.0417e-04\n",
      "Epoch 71/100\n",
      "125/125 [==============================] - 177s 1s/step - loss: 0.0223 - acc: 0.9170 - val_loss: 0.4252 - val_acc: 0.7670 - lr: 1.9953e-04\n",
      "Epoch 72/100\n",
      "125/125 [==============================] - 177s 1s/step - loss: 0.0203 - acc: 0.9212 - val_loss: 0.4273 - val_acc: 0.7690 - lr: 1.9498e-04\n",
      "Epoch 73/100\n",
      "125/125 [==============================] - 177s 1s/step - loss: 0.0200 - acc: 0.9193 - val_loss: 0.4658 - val_acc: 0.7790 - lr: 1.9055e-04\n",
      "Epoch 74/100\n",
      "125/125 [==============================] - 177s 1s/step - loss: 0.0199 - acc: 0.9168 - val_loss: 0.4722 - val_acc: 0.7770 - lr: 1.8621e-04\n",
      "Epoch 75/100\n",
      "125/125 [==============================] - 177s 1s/step - loss: 0.0175 - acc: 0.9195 - val_loss: 0.4558 - val_acc: 0.7700 - lr: 1.8197e-04\n",
      "Epoch 76/100\n",
      "125/125 [==============================] - 177s 1s/step - loss: 0.0193 - acc: 0.9180 - val_loss: 0.4496 - val_acc: 0.7690 - lr: 1.7783e-04\n",
      "Epoch 77/100\n",
      "125/125 [==============================] - 177s 1s/step - loss: 0.0185 - acc: 0.9225 - val_loss: 0.4736 - val_acc: 0.7680 - lr: 1.7378e-04\n",
      "Epoch 78/100\n",
      "125/125 [==============================] - 177s 1s/step - loss: 0.0185 - acc: 0.9222 - val_loss: 0.4763 - val_acc: 0.7700 - lr: 1.6982e-04\n",
      "Epoch 79/100\n",
      "125/125 [==============================] - 177s 1s/step - loss: 0.0185 - acc: 0.9202 - val_loss: 0.4799 - val_acc: 0.7710 - lr: 1.6596e-04\n",
      "Epoch 80/100\n",
      "125/125 [==============================] - 177s 1s/step - loss: 0.0183 - acc: 0.9215 - val_loss: 0.4408 - val_acc: 0.7740 - lr: 1.6218e-04\n",
      "Epoch 81/100\n",
      "125/125 [==============================] - 177s 1s/step - loss: 0.0173 - acc: 0.9193 - val_loss: 0.4661 - val_acc: 0.7780 - lr: 1.5849e-04\n",
      "Epoch 82/100\n",
      "125/125 [==============================] - 177s 1s/step - loss: 0.0188 - acc: 0.9250 - val_loss: 0.5495 - val_acc: 0.7680 - lr: 1.5488e-04\n",
      "Epoch 83/100\n",
      "125/125 [==============================] - 177s 1s/step - loss: 0.0186 - acc: 0.9210 - val_loss: 0.4642 - val_acc: 0.7710 - lr: 1.5136e-04\n",
      "Epoch 84/100\n",
      "125/125 [==============================] - 177s 1s/step - loss: 0.0173 - acc: 0.9193 - val_loss: 0.4771 - val_acc: 0.7650 - lr: 1.4791e-04\n",
      "Epoch 85/100\n",
      "125/125 [==============================] - 177s 1s/step - loss: 0.0188 - acc: 0.9235 - val_loss: 0.4612 - val_acc: 0.7600 - lr: 1.4454e-04\n",
      "Epoch 86/100\n",
      "125/125 [==============================] - 177s 1s/step - loss: 0.0190 - acc: 0.9237 - val_loss: 0.4736 - val_acc: 0.7680 - lr: 1.4125e-04\n",
      "Epoch 87/100\n",
      "125/125 [==============================] - 177s 1s/step - loss: 0.0153 - acc: 0.9240 - val_loss: 0.5065 - val_acc: 0.7690 - lr: 1.3804e-04\n",
      "Epoch 88/100\n",
      "125/125 [==============================] - 177s 1s/step - loss: 0.0172 - acc: 0.9225 - val_loss: 0.4736 - val_acc: 0.7710 - lr: 1.3490e-04\n",
      "Epoch 89/100\n",
      "125/125 [==============================] - 177s 1s/step - loss: 0.0168 - acc: 0.9208 - val_loss: 0.5046 - val_acc: 0.7740 - lr: 1.3183e-04\n",
      "Epoch 90/100\n",
      "125/125 [==============================] - 177s 1s/step - loss: 0.0167 - acc: 0.9190 - val_loss: 0.4711 - val_acc: 0.7760 - lr: 1.2882e-04\n",
      "Epoch 91/100\n",
      "125/125 [==============================] - 177s 1s/step - loss: 0.0169 - acc: 0.9187 - val_loss: 0.5421 - val_acc: 0.7750 - lr: 1.2589e-04\n",
      "Epoch 92/100\n",
      "125/125 [==============================] - 177s 1s/step - loss: 0.0162 - acc: 0.9250 - val_loss: 0.5017 - val_acc: 0.7690 - lr: 1.2303e-04\n",
      "Epoch 93/100\n",
      "125/125 [==============================] - 177s 1s/step - loss: 0.0166 - acc: 0.9222 - val_loss: 0.4869 - val_acc: 0.7760 - lr: 1.2023e-04\n",
      "Epoch 94/100\n",
      "125/125 [==============================] - 177s 1s/step - loss: 0.0170 - acc: 0.9233 - val_loss: 0.5116 - val_acc: 0.7700 - lr: 1.1749e-04\n",
      "Epoch 95/100\n",
      "125/125 [==============================] - 177s 1s/step - loss: 0.0173 - acc: 0.9212 - val_loss: 0.5094 - val_acc: 0.7680 - lr: 1.1482e-04\n",
      "Epoch 96/100\n",
      "125/125 [==============================] - 177s 1s/step - loss: 0.0161 - acc: 0.9172 - val_loss: 0.4992 - val_acc: 0.7730 - lr: 1.1220e-04\n",
      "Epoch 97/100\n",
      "125/125 [==============================] - 177s 1s/step - loss: 0.0154 - acc: 0.9225 - val_loss: 0.5242 - val_acc: 0.7770 - lr: 1.0965e-04\n",
      "Epoch 98/100\n",
      "125/125 [==============================] - 177s 1s/step - loss: 0.0159 - acc: 0.9220 - val_loss: 0.5057 - val_acc: 0.7810 - lr: 1.0715e-04\n",
      "Epoch 99/100\n",
      "125/125 [==============================] - 177s 1s/step - loss: 0.0169 - acc: 0.9165 - val_loss: 0.5398 - val_acc: 0.7660 - lr: 1.0471e-04\n",
      "Epoch 100/100\n",
      "125/125 [==============================] - 177s 1s/step - loss: 0.0152 - acc: 0.9178 - val_loss: 0.5330 - val_acc: 0.7770 - lr: 1.0233e-04\n"
     ]
    }
   ],
   "source": [
    "model = model_arch()\n",
    "model, lr_sch = CompModel(model)\n",
    "\n",
    "history = model.fit(x_train[t1], y_train.values[t1],\n",
    "            epochs=100,\n",
    "            validation_data = (x_train[v1], y_train.values[v1]),\n",
    "            callbacks = [lr_sch],\n",
    "            verbose = 1)"
   ]
  },
  {
   "cell_type": "code",
   "execution_count": 8,
   "id": "a703ae25",
   "metadata": {
    "execution": {
     "iopub.execute_input": "2023-11-05T21:24:02.042379Z",
     "iopub.status.busy": "2023-11-05T21:24:02.042002Z",
     "iopub.status.idle": "2023-11-05T21:24:02.255642Z",
     "shell.execute_reply": "2023-11-05T21:24:02.254824Z"
    },
    "papermill": {
     "duration": 1.772507,
     "end_time": "2023-11-05T21:24:02.258148",
     "exception": false,
     "start_time": "2023-11-05T21:24:00.485641",
     "status": "completed"
    },
    "tags": []
   },
   "outputs": [],
   "source": [
    "model.save('/kaggle/working/RP_ECGNet_Fold1.h5')"
   ]
  }
 ],
 "metadata": {
  "kernelspec": {
   "display_name": "Python 3",
   "language": "python",
   "name": "python3"
  },
  "language_info": {
   "codemirror_mode": {
    "name": "ipython",
    "version": 3
   },
   "file_extension": ".py",
   "mimetype": "text/x-python",
   "name": "python",
   "nbconvert_exporter": "python",
   "pygments_lexer": "ipython3",
   "version": "3.10.12"
  },
  "papermill": {
   "default_parameters": {},
   "duration": 19452.605636,
   "end_time": "2023-11-05T21:24:06.764056",
   "environment_variables": {},
   "exception": null,
   "input_path": "__notebook__.ipynb",
   "output_path": "__notebook__.ipynb",
   "parameters": {},
   "start_time": "2023-11-05T15:59:54.158420",
   "version": "2.4.0"
  }
 },
 "nbformat": 4,
 "nbformat_minor": 5
}
