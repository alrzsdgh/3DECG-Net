{
 "cells": [
  {
   "cell_type": "code",
   "execution_count": 1,
   "id": "3be2027e",
   "metadata": {
    "_cell_guid": "b1076dfc-b9ad-4769-8c92-a6c4dae69d19",
    "_uuid": "8f2839f25d086af736a60e9eeb907d3b93b6e0e5",
    "execution": {
     "iopub.execute_input": "2023-11-07T16:01:43.678866Z",
     "iopub.status.busy": "2023-11-07T16:01:43.677862Z",
     "iopub.status.idle": "2023-11-07T16:02:10.933791Z",
     "shell.execute_reply": "2023-11-07T16:02:10.932365Z"
    },
    "papermill": {
     "duration": 27.263727,
     "end_time": "2023-11-07T16:02:10.936589",
     "exception": false,
     "start_time": "2023-11-07T16:01:43.672862",
     "status": "completed"
    },
    "tags": []
   },
   "outputs": [
    {
     "name": "stdout",
     "output_type": "stream",
     "text": [
      "Collecting gdown\r\n",
      "  Downloading gdown-4.7.1-py3-none-any.whl (15 kB)\r\n",
      "Requirement already satisfied: filelock in /opt/conda/lib/python3.10/site-packages (from gdown) (3.12.2)\r\n",
      "Requirement already satisfied: requests[socks] in /opt/conda/lib/python3.10/site-packages (from gdown) (2.31.0)\r\n",
      "Requirement already satisfied: six in /opt/conda/lib/python3.10/site-packages (from gdown) (1.16.0)\r\n",
      "Requirement already satisfied: tqdm in /opt/conda/lib/python3.10/site-packages (from gdown) (4.66.1)\r\n",
      "Requirement already satisfied: beautifulsoup4 in /opt/conda/lib/python3.10/site-packages (from gdown) (4.12.2)\r\n",
      "Requirement already satisfied: soupsieve>1.2 in /opt/conda/lib/python3.10/site-packages (from beautifulsoup4->gdown) (2.3.2.post1)\r\n",
      "Requirement already satisfied: charset-normalizer<4,>=2 in /opt/conda/lib/python3.10/site-packages (from requests[socks]->gdown) (3.1.0)\r\n",
      "Requirement already satisfied: idna<4,>=2.5 in /opt/conda/lib/python3.10/site-packages (from requests[socks]->gdown) (3.4)\r\n",
      "Requirement already satisfied: urllib3<3,>=1.21.1 in /opt/conda/lib/python3.10/site-packages (from requests[socks]->gdown) (1.26.15)\r\n",
      "Requirement already satisfied: certifi>=2017.4.17 in /opt/conda/lib/python3.10/site-packages (from requests[socks]->gdown) (2023.7.22)\r\n",
      "Requirement already satisfied: PySocks!=1.5.7,>=1.5.6 in /opt/conda/lib/python3.10/site-packages (from requests[socks]->gdown) (1.7.1)\r\n",
      "Installing collected packages: gdown\r\n",
      "Successfully installed gdown-4.7.1\r\n",
      "/opt/conda/lib/python3.10/site-packages/gdown/cli.py:126: FutureWarning: Option `--id` was deprecated in version 4.3.1 and will be removed in 5.0. You don't need to pass it anymore to use a file ID.\r\n",
      "  warnings.warn(\r\n",
      "Downloading...\r\n",
      "From (uriginal): https://drive.google.com/uc?id=1-1EjRHAq-4nhXIJ9-OobWmMXavl1B4zn\r\n",
      "From (redirected): https://drive.google.com/uc?id=1-1EjRHAq-4nhXIJ9-OobWmMXavl1B4zn&confirm=t&uuid=16208cb4-fee4-4787-a1e4-7f4db583b9dd\r\n",
      "To: /kaggle/working/data.pkl\r\n",
      "100%|███████████████████████████████████████| 1.24G/1.24G [00:09<00:00, 129MB/s]\r\n"
     ]
    }
   ],
   "source": [
    "!pip install gdown\n",
    "!gdown --id 1-1EjRHAq-4nhXIJ9-OobWmMXavl1B4zn"
   ]
  },
  {
   "cell_type": "code",
   "execution_count": 2,
   "id": "8af924c8",
   "metadata": {
    "execution": {
     "iopub.execute_input": "2023-11-07T16:02:10.960771Z",
     "iopub.status.busy": "2023-11-07T16:02:10.959708Z",
     "iopub.status.idle": "2023-11-07T16:02:21.655133Z",
     "shell.execute_reply": "2023-11-07T16:02:21.654156Z"
    },
    "papermill": {
     "duration": 10.710388,
     "end_time": "2023-11-07T16:02:21.657891",
     "exception": false,
     "start_time": "2023-11-07T16:02:10.947503",
     "status": "completed"
    },
    "tags": []
   },
   "outputs": [
    {
     "name": "stderr",
     "output_type": "stream",
     "text": [
      "/opt/conda/lib/python3.10/site-packages/scipy/__init__.py:146: UserWarning: A NumPy version >=1.16.5 and <1.23.0 is required for this version of SciPy (detected version 1.23.5\n",
      "  warnings.warn(f\"A NumPy version >={np_minversion} and <{np_maxversion}\"\n"
     ]
    }
   ],
   "source": [
    "import pickle\n",
    "from tqdm import tqdm\n",
    "import tensorflow as tf\n",
    "import numpy as np\n",
    "\n",
    "from preprocess import data_preparation\n",
    "from preprocess import signal_cutter\n",
    "from preprocess import data_filtering\n",
    "from preprocess import resampling\n",
    "from preprocess import RP_3D\n",
    "from preprocess import resize_volume\n",
    "from preprocess import RP_final_data\n",
    "from preprocess import label_creator\n",
    "from preprocess import including_data\n",
    "from models import model_arch\n",
    "from models import CompModel"
   ]
  },
  {
   "cell_type": "code",
   "execution_count": 3,
   "id": "6b99baac",
   "metadata": {
    "execution": {
     "iopub.execute_input": "2023-11-07T16:02:21.681935Z",
     "iopub.status.busy": "2023-11-07T16:02:21.680702Z",
     "iopub.status.idle": "2023-11-07T16:02:22.604675Z",
     "shell.execute_reply": "2023-11-07T16:02:22.603693Z"
    },
    "papermill": {
     "duration": 0.938432,
     "end_time": "2023-11-07T16:02:22.607277",
     "exception": false,
     "start_time": "2023-11-07T16:02:21.668845",
     "status": "completed"
    },
    "tags": []
   },
   "outputs": [],
   "source": [
    "# Read dictionary pkl file\n",
    "with open('/kaggle/working/data.pkl', 'rb') as fp:\n",
    "    dataset = pickle.load(fp)"
   ]
  },
  {
   "cell_type": "code",
   "execution_count": 4,
   "id": "aa173676",
   "metadata": {
    "execution": {
     "iopub.execute_input": "2023-11-07T16:02:22.630839Z",
     "iopub.status.busy": "2023-11-07T16:02:22.630351Z",
     "iopub.status.idle": "2023-11-07T16:04:01.082874Z",
     "shell.execute_reply": "2023-11-07T16:04:01.081813Z"
    },
    "papermill": {
     "duration": 98.467208,
     "end_time": "2023-11-07T16:04:01.085450",
     "exception": false,
     "start_time": "2023-11-07T16:02:22.618242",
     "status": "completed"
    },
    "tags": []
   },
   "outputs": [
    {
     "name": "stderr",
     "output_type": "stream",
     "text": [
      "100%|██████████| 10344/10344 [00:00<00:00, 869230.07it/s]\n",
      "100%|██████████| 10344/10344 [00:00<00:00, 547083.13it/s]\n",
      "100%|██████████| 10344/10344 [01:36<00:00, 107.44it/s]\n",
      "100%|██████████| 10344/10344 [00:01<00:00, 6307.70it/s]\n"
     ]
    }
   ],
   "source": [
    "ds = data_preparation(dataset)\n",
    "\n",
    "# shortening\n",
    "ds = signal_cutter(ds, d_length=1000)\n",
    "\n",
    "# denoising\n",
    "ds = data_filtering(ds)\n",
    "\n",
    "# resampling\n",
    "ds = resampling(ds, desired_points = 100)"
   ]
  },
  {
   "cell_type": "code",
   "execution_count": 5,
   "id": "4a581634",
   "metadata": {
    "execution": {
     "iopub.execute_input": "2023-11-07T16:04:01.335689Z",
     "iopub.status.busy": "2023-11-07T16:04:01.334523Z",
     "iopub.status.idle": "2023-11-07T16:33:01.485527Z",
     "shell.execute_reply": "2023-11-07T16:33:01.484436Z"
    },
    "papermill": {
     "duration": 1740.312173,
     "end_time": "2023-11-07T16:33:01.488345",
     "exception": false,
     "start_time": "2023-11-07T16:04:01.176172",
     "status": "completed"
    },
    "tags": []
   },
   "outputs": [
    {
     "name": "stderr",
     "output_type": "stream",
     "text": [
      "100%|██████████| 10344/10344 [00:00<00:00, 836789.86it/s]\n",
      "10344it [00:09, 1042.24it/s]\n",
      "10344it [00:05, 1866.08it/s]\n",
      "100%|██████████| 5000/5000 [28:43<00:00,  2.90it/s]\n"
     ]
    }
   ],
   "source": [
    "arr = {'NSR':'426783006', 'AF':'164889003', 'IAVB':'270492004', 'LBBB':'164909002', 'RBBB':'59118001', 'SB':'426177001', 'STach':'427084000'}\n",
    "labels = label_creator(data_preparation(dataset), arr)\n",
    "x_train, y_train, x_test, y_test = including_data(labels, ds)\n",
    "# transformation and resizing\n",
    "x_train = RP_final_data(x_train)"
   ]
  },
  {
   "cell_type": "code",
   "execution_count": 6,
   "id": "71049bc1",
   "metadata": {
    "execution": {
     "iopub.execute_input": "2023-11-07T16:33:02.645731Z",
     "iopub.status.busy": "2023-11-07T16:33:02.645338Z",
     "iopub.status.idle": "2023-11-07T16:33:02.653312Z",
     "shell.execute_reply": "2023-11-07T16:33:02.652246Z"
    },
    "papermill": {
     "duration": 0.554865,
     "end_time": "2023-11-07T16:33:02.655720",
     "exception": false,
     "start_time": "2023-11-07T16:33:02.100855",
     "status": "completed"
    },
    "tags": []
   },
   "outputs": [],
   "source": [
    "# five-folds preparation\n",
    "\n",
    "idx_lst = list(range(len(x_train)))\n",
    "\n",
    "v1 = idx_lst[:1000]\n",
    "t1 = idx_lst[1000:]\n",
    "\n",
    "v2 = idx_lst[1000:2000]\n",
    "t2 = idx_lst[:1000] + idx_lst[2000:]\n",
    "\n",
    "v3 = idx_lst[2000:3000]\n",
    "t3 = idx_lst[:2000] + idx_lst[3000:]\n",
    "\n",
    "v4 = idx_lst[3000:4000]\n",
    "t4 = idx_lst[:3000] + idx_lst[4000:]\n",
    "\n",
    "v5 = idx_lst[4000:]\n",
    "t5 = idx_lst[:4000]"
   ]
  },
  {
   "cell_type": "code",
   "execution_count": 7,
   "id": "d8d1d807",
   "metadata": {
    "execution": {
     "iopub.execute_input": "2023-11-07T16:33:03.745097Z",
     "iopub.status.busy": "2023-11-07T16:33:03.744645Z",
     "iopub.status.idle": "2023-11-07T21:34:22.644027Z",
     "shell.execute_reply": "2023-11-07T21:34:22.642873Z"
    },
    "papermill": {
     "duration": 18079.451537,
     "end_time": "2023-11-07T21:34:22.646785",
     "exception": false,
     "start_time": "2023-11-07T16:33:03.195248",
     "status": "completed"
    },
    "tags": []
   },
   "outputs": [
    {
     "name": "stdout",
     "output_type": "stream",
     "text": [
      "Epoch 1/100\n"
     ]
    },
    {
     "name": "stderr",
     "output_type": "stream",
     "text": [
      "2023-11-07 16:33:20.843445: E tensorflow/core/grappler/optimizers/meta_optimizer.cc:954] layout failed: INVALID_ARGUMENT: MutableGraphView::SortTopologically error: detected edge(s) creating cycle(s) {'Func/gradient_tape/model_3/conv_lstm2d_1/while/model_3/conv_lstm2d_1/while_grad/body/_367/input/_1025' -> 'gradient_tape/model_3/conv_lstm2d_1/while/model_3/conv_lstm2d_1/while_grad/body/_367/gradient_tape/model_3/conv_lstm2d_1/while/gradients/AddN', 'Func/gradient_tape/model_3/conv_lstm2d/while/model_3/conv_lstm2d/while_grad/body/_562/input/_1141' -> 'gradient_tape/model_3/conv_lstm2d/while/model_3/conv_lstm2d/while_grad/body/_562/gradient_tape/model_3/conv_lstm2d/while/gradients/AddN', 'model_3/conv_lstm2d_1/while/body/_179/model_3/conv_lstm2d_1/while/clip_by_value_2' -> 'model_3/conv_lstm2d_1/while/body/_179/model_3/conv_lstm2d_1/while/mul_5', 'model_3/conv_lstm2d_1/while/body/_179/model_3/conv_lstm2d_1/while/mul_2' -> 'model_3/conv_lstm2d_1/while/body/_179/model_3/conv_lstm2d_1/while/add_5', 'model_3/conv_lstm2d_1/while/body/_179/model_3/conv_lstm2d_1/while/convolution_6' -> 'model_3/conv_lstm2d_1/while/body/_179/model_3/conv_lstm2d_1/while/add_4', 'model_3/conv_lstm2d_1/while/body/_179/model_3/conv_lstm2d_1/while/clip_by_value' -> 'model_3/conv_lstm2d_1/while/body/_179/model_3/conv_lstm2d_1/while/mul_3'}.\n"
     ]
    },
    {
     "name": "stdout",
     "output_type": "stream",
     "text": [
      "125/125 [==============================] - 212s 1s/step - loss: 0.4534 - acc: 0.3808 - val_loss: 0.7932 - val_acc: 0.2210 - lr: 0.0010\n",
      "Epoch 2/100\n",
      "125/125 [==============================] - 180s 1s/step - loss: 0.3070 - acc: 0.5880 - val_loss: 0.3918 - val_acc: 0.4090 - lr: 9.7724e-04\n",
      "Epoch 3/100\n",
      "125/125 [==============================] - 180s 1s/step - loss: 0.2675 - acc: 0.6395 - val_loss: 0.7453 - val_acc: 0.2610 - lr: 9.5499e-04\n",
      "Epoch 4/100\n",
      "125/125 [==============================] - 180s 1s/step - loss: 0.2410 - acc: 0.6570 - val_loss: 0.2248 - val_acc: 0.6730 - lr: 9.3325e-04\n",
      "Epoch 5/100\n",
      "125/125 [==============================] - 180s 1s/step - loss: 0.2173 - acc: 0.6917 - val_loss: 0.2123 - val_acc: 0.6890 - lr: 9.1201e-04\n",
      "Epoch 6/100\n",
      "125/125 [==============================] - 180s 1s/step - loss: 0.2035 - acc: 0.7143 - val_loss: 0.2437 - val_acc: 0.6320 - lr: 8.9125e-04\n",
      "Epoch 7/100\n",
      "125/125 [==============================] - 180s 1s/step - loss: 0.1952 - acc: 0.7228 - val_loss: 0.2065 - val_acc: 0.7050 - lr: 8.7096e-04\n",
      "Epoch 8/100\n",
      "125/125 [==============================] - 180s 1s/step - loss: 0.1896 - acc: 0.7285 - val_loss: 0.1962 - val_acc: 0.6990 - lr: 8.5114e-04\n",
      "Epoch 9/100\n",
      "125/125 [==============================] - 180s 1s/step - loss: 0.1724 - acc: 0.7485 - val_loss: 0.1869 - val_acc: 0.7280 - lr: 8.3176e-04\n",
      "Epoch 10/100\n",
      "125/125 [==============================] - 180s 1s/step - loss: 0.1584 - acc: 0.7720 - val_loss: 0.1828 - val_acc: 0.7340 - lr: 8.1283e-04\n",
      "Epoch 11/100\n",
      "125/125 [==============================] - 180s 1s/step - loss: 0.1482 - acc: 0.7745 - val_loss: 0.2147 - val_acc: 0.7020 - lr: 7.9433e-04\n",
      "Epoch 12/100\n",
      "125/125 [==============================] - 180s 1s/step - loss: 0.1445 - acc: 0.7820 - val_loss: 0.2499 - val_acc: 0.7030 - lr: 7.7625e-04\n",
      "Epoch 13/100\n",
      "125/125 [==============================] - 180s 1s/step - loss: 0.1360 - acc: 0.7945 - val_loss: 0.1948 - val_acc: 0.7450 - lr: 7.5858e-04\n",
      "Epoch 14/100\n",
      "125/125 [==============================] - 180s 1s/step - loss: 0.1166 - acc: 0.8140 - val_loss: 0.2878 - val_acc: 0.6950 - lr: 7.4131e-04\n",
      "Epoch 15/100\n",
      "125/125 [==============================] - 180s 1s/step - loss: 0.1232 - acc: 0.8115 - val_loss: 0.1949 - val_acc: 0.7440 - lr: 7.2444e-04\n",
      "Epoch 16/100\n",
      "125/125 [==============================] - 180s 1s/step - loss: 0.1077 - acc: 0.8315 - val_loss: 0.1964 - val_acc: 0.7640 - lr: 7.0795e-04\n",
      "Epoch 17/100\n",
      "125/125 [==============================] - 180s 1s/step - loss: 0.1049 - acc: 0.8292 - val_loss: 0.2045 - val_acc: 0.7480 - lr: 6.9183e-04\n",
      "Epoch 18/100\n",
      "125/125 [==============================] - 180s 1s/step - loss: 0.0946 - acc: 0.8445 - val_loss: 0.2637 - val_acc: 0.7360 - lr: 6.7608e-04\n",
      "Epoch 19/100\n",
      "125/125 [==============================] - 180s 1s/step - loss: 0.0864 - acc: 0.8525 - val_loss: 0.2553 - val_acc: 0.7370 - lr: 6.6069e-04\n",
      "Epoch 20/100\n",
      "125/125 [==============================] - 180s 1s/step - loss: 0.0887 - acc: 0.8522 - val_loss: 0.2569 - val_acc: 0.7440 - lr: 6.4565e-04\n",
      "Epoch 21/100\n",
      "125/125 [==============================] - 180s 1s/step - loss: 0.0861 - acc: 0.8555 - val_loss: 0.2102 - val_acc: 0.7380 - lr: 6.3096e-04\n",
      "Epoch 22/100\n",
      "125/125 [==============================] - 180s 1s/step - loss: 0.0735 - acc: 0.8660 - val_loss: 0.2223 - val_acc: 0.7420 - lr: 6.1659e-04\n",
      "Epoch 23/100\n",
      "125/125 [==============================] - 180s 1s/step - loss: 0.0677 - acc: 0.8733 - val_loss: 0.2944 - val_acc: 0.7480 - lr: 6.0256e-04\n",
      "Epoch 24/100\n",
      "125/125 [==============================] - 180s 1s/step - loss: 0.0661 - acc: 0.8765 - val_loss: 0.2468 - val_acc: 0.7620 - lr: 5.8884e-04\n",
      "Epoch 25/100\n",
      "125/125 [==============================] - 180s 1s/step - loss: 0.0645 - acc: 0.8875 - val_loss: 0.2479 - val_acc: 0.7260 - lr: 5.7544e-04\n",
      "Epoch 26/100\n",
      "125/125 [==============================] - 180s 1s/step - loss: 0.0557 - acc: 0.8910 - val_loss: 0.2676 - val_acc: 0.7750 - lr: 5.6234e-04\n",
      "Epoch 27/100\n",
      "125/125 [==============================] - 180s 1s/step - loss: 0.0532 - acc: 0.8953 - val_loss: 0.2604 - val_acc: 0.7710 - lr: 5.4954e-04\n",
      "Epoch 28/100\n",
      "125/125 [==============================] - 180s 1s/step - loss: 0.0561 - acc: 0.8920 - val_loss: 0.2433 - val_acc: 0.7510 - lr: 5.3703e-04\n",
      "Epoch 29/100\n",
      "125/125 [==============================] - 180s 1s/step - loss: 0.0527 - acc: 0.8950 - val_loss: 0.2763 - val_acc: 0.7610 - lr: 5.2481e-04\n",
      "Epoch 30/100\n",
      "125/125 [==============================] - 180s 1s/step - loss: 0.0522 - acc: 0.8938 - val_loss: 0.2898 - val_acc: 0.7690 - lr: 5.1286e-04\n",
      "Epoch 31/100\n",
      "125/125 [==============================] - 180s 1s/step - loss: 0.0469 - acc: 0.9013 - val_loss: 0.3571 - val_acc: 0.7640 - lr: 5.0119e-04\n",
      "Epoch 32/100\n",
      "125/125 [==============================] - 180s 1s/step - loss: 0.0428 - acc: 0.9038 - val_loss: 0.3311 - val_acc: 0.7660 - lr: 4.8978e-04\n",
      "Epoch 33/100\n",
      "125/125 [==============================] - 180s 1s/step - loss: 0.0392 - acc: 0.9038 - val_loss: 0.3105 - val_acc: 0.7710 - lr: 4.7863e-04\n",
      "Epoch 34/100\n",
      "125/125 [==============================] - 180s 1s/step - loss: 0.0375 - acc: 0.9032 - val_loss: 0.3103 - val_acc: 0.7780 - lr: 4.6774e-04\n",
      "Epoch 35/100\n",
      "125/125 [==============================] - 180s 1s/step - loss: 0.0375 - acc: 0.9060 - val_loss: 0.3283 - val_acc: 0.7660 - lr: 4.5709e-04\n",
      "Epoch 36/100\n",
      "125/125 [==============================] - 180s 1s/step - loss: 0.0348 - acc: 0.9075 - val_loss: 0.3869 - val_acc: 0.7670 - lr: 4.4668e-04\n",
      "Epoch 37/100\n",
      "125/125 [==============================] - 180s 1s/step - loss: 0.0498 - acc: 0.8970 - val_loss: 0.2972 - val_acc: 0.7640 - lr: 4.3652e-04\n",
      "Epoch 38/100\n",
      "125/125 [==============================] - 180s 1s/step - loss: 0.0428 - acc: 0.9055 - val_loss: 0.3982 - val_acc: 0.7630 - lr: 4.2658e-04\n",
      "Epoch 39/100\n",
      "125/125 [==============================] - 180s 1s/step - loss: 0.0366 - acc: 0.9053 - val_loss: 0.3560 - val_acc: 0.7660 - lr: 4.1687e-04\n",
      "Epoch 40/100\n",
      "125/125 [==============================] - 180s 1s/step - loss: 0.0340 - acc: 0.9128 - val_loss: 0.3339 - val_acc: 0.7670 - lr: 4.0738e-04\n",
      "Epoch 41/100\n",
      "125/125 [==============================] - 180s 1s/step - loss: 0.0310 - acc: 0.9095 - val_loss: 0.3500 - val_acc: 0.7730 - lr: 3.9811e-04\n",
      "Epoch 42/100\n",
      "125/125 [==============================] - 180s 1s/step - loss: 0.0319 - acc: 0.9120 - val_loss: 0.3349 - val_acc: 0.7850 - lr: 3.8905e-04\n",
      "Epoch 43/100\n",
      "125/125 [==============================] - 180s 1s/step - loss: 0.0298 - acc: 0.9145 - val_loss: 0.3752 - val_acc: 0.7800 - lr: 3.8019e-04\n",
      "Epoch 44/100\n",
      "125/125 [==============================] - 180s 1s/step - loss: 0.0331 - acc: 0.9103 - val_loss: 0.3526 - val_acc: 0.7630 - lr: 3.7154e-04\n",
      "Epoch 45/100\n",
      "125/125 [==============================] - 180s 1s/step - loss: 0.0325 - acc: 0.9147 - val_loss: 0.3696 - val_acc: 0.7720 - lr: 3.6308e-04\n",
      "Epoch 46/100\n",
      "125/125 [==============================] - 180s 1s/step - loss: 0.0292 - acc: 0.9130 - val_loss: 0.3302 - val_acc: 0.7660 - lr: 3.5481e-04\n",
      "Epoch 47/100\n",
      "125/125 [==============================] - 180s 1s/step - loss: 0.0299 - acc: 0.9170 - val_loss: 0.4095 - val_acc: 0.7700 - lr: 3.4674e-04\n",
      "Epoch 48/100\n",
      "125/125 [==============================] - 180s 1s/step - loss: 0.0318 - acc: 0.9110 - val_loss: 0.4177 - val_acc: 0.7680 - lr: 3.3884e-04\n",
      "Epoch 49/100\n",
      "125/125 [==============================] - 180s 1s/step - loss: 0.0281 - acc: 0.9158 - val_loss: 0.3577 - val_acc: 0.7570 - lr: 3.3113e-04\n",
      "Epoch 50/100\n",
      "125/125 [==============================] - 180s 1s/step - loss: 0.0269 - acc: 0.9175 - val_loss: 0.4028 - val_acc: 0.7720 - lr: 3.2359e-04\n",
      "Epoch 51/100\n",
      "125/125 [==============================] - 190s 2s/step - loss: 0.0262 - acc: 0.9153 - val_loss: 0.4027 - val_acc: 0.7700 - lr: 3.1623e-04\n",
      "Epoch 52/100\n",
      "125/125 [==============================] - 180s 1s/step - loss: 0.0242 - acc: 0.9183 - val_loss: 0.4170 - val_acc: 0.7770 - lr: 3.0903e-04\n",
      "Epoch 53/100\n",
      "125/125 [==============================] - 180s 1s/step - loss: 0.0255 - acc: 0.9197 - val_loss: 0.3531 - val_acc: 0.7600 - lr: 3.0200e-04\n",
      "Epoch 54/100\n",
      "125/125 [==============================] - 190s 2s/step - loss: 0.0271 - acc: 0.9158 - val_loss: 0.4124 - val_acc: 0.7700 - lr: 2.9512e-04\n",
      "Epoch 55/100\n",
      "125/125 [==============================] - 180s 1s/step - loss: 0.0268 - acc: 0.9143 - val_loss: 0.4115 - val_acc: 0.7570 - lr: 2.8840e-04\n",
      "Epoch 56/100\n",
      "125/125 [==============================] - 180s 1s/step - loss: 0.0243 - acc: 0.9162 - val_loss: 0.3820 - val_acc: 0.7580 - lr: 2.8184e-04\n",
      "Epoch 57/100\n",
      "125/125 [==============================] - 180s 1s/step - loss: 0.0241 - acc: 0.9170 - val_loss: 0.4145 - val_acc: 0.7700 - lr: 2.7542e-04\n",
      "Epoch 58/100\n",
      "125/125 [==============================] - 180s 1s/step - loss: 0.0230 - acc: 0.9178 - val_loss: 0.4083 - val_acc: 0.7760 - lr: 2.6915e-04\n",
      "Epoch 59/100\n",
      "125/125 [==============================] - 180s 1s/step - loss: 0.0208 - acc: 0.9165 - val_loss: 0.4802 - val_acc: 0.7730 - lr: 2.6303e-04\n",
      "Epoch 60/100\n",
      "125/125 [==============================] - 180s 1s/step - loss: 0.0218 - acc: 0.9200 - val_loss: 0.4688 - val_acc: 0.7650 - lr: 2.5704e-04\n",
      "Epoch 61/100\n",
      "125/125 [==============================] - 180s 1s/step - loss: 0.0219 - acc: 0.9235 - val_loss: 0.4168 - val_acc: 0.7770 - lr: 2.5119e-04\n",
      "Epoch 62/100\n",
      "125/125 [==============================] - 180s 1s/step - loss: 0.0229 - acc: 0.9160 - val_loss: 0.4470 - val_acc: 0.7650 - lr: 2.4547e-04\n",
      "Epoch 63/100\n",
      "125/125 [==============================] - 180s 1s/step - loss: 0.0256 - acc: 0.9093 - val_loss: 0.4315 - val_acc: 0.7620 - lr: 2.3988e-04\n",
      "Epoch 64/100\n",
      "125/125 [==============================] - 180s 1s/step - loss: 0.0239 - acc: 0.9120 - val_loss: 0.4543 - val_acc: 0.7660 - lr: 2.3442e-04\n",
      "Epoch 65/100\n",
      "125/125 [==============================] - 180s 1s/step - loss: 0.0229 - acc: 0.9220 - val_loss: 0.4237 - val_acc: 0.7510 - lr: 2.2909e-04\n",
      "Epoch 66/100\n",
      "125/125 [==============================] - 180s 1s/step - loss: 0.0214 - acc: 0.9190 - val_loss: 0.4561 - val_acc: 0.7620 - lr: 2.2387e-04\n",
      "Epoch 67/100\n",
      "125/125 [==============================] - 180s 1s/step - loss: 0.0232 - acc: 0.9155 - val_loss: 0.4516 - val_acc: 0.7690 - lr: 2.1878e-04\n",
      "Epoch 68/100\n",
      "125/125 [==============================] - 180s 1s/step - loss: 0.0205 - acc: 0.9183 - val_loss: 0.3972 - val_acc: 0.7710 - lr: 2.1380e-04\n",
      "Epoch 69/100\n",
      "125/125 [==============================] - 180s 1s/step - loss: 0.0220 - acc: 0.9170 - val_loss: 0.4486 - val_acc: 0.7720 - lr: 2.0893e-04\n",
      "Epoch 70/100\n",
      "125/125 [==============================] - 180s 1s/step - loss: 0.0197 - acc: 0.9185 - val_loss: 0.4568 - val_acc: 0.7730 - lr: 2.0417e-04\n",
      "Epoch 71/100\n",
      "125/125 [==============================] - 180s 1s/step - loss: 0.0190 - acc: 0.9170 - val_loss: 0.4643 - val_acc: 0.7750 - lr: 1.9953e-04\n",
      "Epoch 72/100\n",
      "125/125 [==============================] - 180s 1s/step - loss: 0.0192 - acc: 0.9218 - val_loss: 0.5498 - val_acc: 0.7730 - lr: 1.9498e-04\n",
      "Epoch 73/100\n",
      "125/125 [==============================] - 180s 1s/step - loss: 0.0231 - acc: 0.9212 - val_loss: 0.4960 - val_acc: 0.7680 - lr: 1.9055e-04\n",
      "Epoch 74/100\n",
      "125/125 [==============================] - 180s 1s/step - loss: 0.0214 - acc: 0.9178 - val_loss: 0.4534 - val_acc: 0.7660 - lr: 1.8621e-04\n",
      "Epoch 75/100\n",
      "125/125 [==============================] - 180s 1s/step - loss: 0.0261 - acc: 0.9160 - val_loss: 0.4966 - val_acc: 0.7690 - lr: 1.8197e-04\n",
      "Epoch 76/100\n",
      "125/125 [==============================] - 180s 1s/step - loss: 0.0224 - acc: 0.9145 - val_loss: 0.4770 - val_acc: 0.7740 - lr: 1.7783e-04\n",
      "Epoch 77/100\n",
      "125/125 [==============================] - 180s 1s/step - loss: 0.0184 - acc: 0.9222 - val_loss: 0.4866 - val_acc: 0.7660 - lr: 1.7378e-04\n",
      "Epoch 78/100\n",
      "125/125 [==============================] - 180s 1s/step - loss: 0.0215 - acc: 0.9227 - val_loss: 0.5269 - val_acc: 0.7760 - lr: 1.6982e-04\n",
      "Epoch 79/100\n",
      "125/125 [==============================] - 180s 1s/step - loss: 0.0208 - acc: 0.9280 - val_loss: 0.4998 - val_acc: 0.7670 - lr: 1.6596e-04\n",
      "Epoch 80/100\n",
      "125/125 [==============================] - 180s 1s/step - loss: 0.0193 - acc: 0.9183 - val_loss: 0.5252 - val_acc: 0.7730 - lr: 1.6218e-04\n",
      "Epoch 81/100\n",
      "125/125 [==============================] - 180s 1s/step - loss: 0.0211 - acc: 0.9183 - val_loss: 0.5102 - val_acc: 0.7760 - lr: 1.5849e-04\n",
      "Epoch 82/100\n",
      "125/125 [==============================] - 180s 1s/step - loss: 0.0200 - acc: 0.9215 - val_loss: 0.4865 - val_acc: 0.7810 - lr: 1.5488e-04\n",
      "Epoch 83/100\n",
      "125/125 [==============================] - 180s 1s/step - loss: 0.0221 - acc: 0.9165 - val_loss: 0.4678 - val_acc: 0.7660 - lr: 1.5136e-04\n",
      "Epoch 84/100\n",
      "125/125 [==============================] - 180s 1s/step - loss: 0.0182 - acc: 0.9233 - val_loss: 0.4711 - val_acc: 0.7720 - lr: 1.4791e-04\n",
      "Epoch 85/100\n",
      "125/125 [==============================] - 180s 1s/step - loss: 0.0193 - acc: 0.9175 - val_loss: 0.4726 - val_acc: 0.7680 - lr: 1.4454e-04\n",
      "Epoch 86/100\n",
      "125/125 [==============================] - 180s 1s/step - loss: 0.0194 - acc: 0.9227 - val_loss: 0.4640 - val_acc: 0.7720 - lr: 1.4125e-04\n",
      "Epoch 87/100\n",
      "125/125 [==============================] - 180s 1s/step - loss: 0.0183 - acc: 0.9168 - val_loss: 0.5549 - val_acc: 0.7620 - lr: 1.3804e-04\n",
      "Epoch 88/100\n",
      "125/125 [==============================] - 180s 1s/step - loss: 0.0188 - acc: 0.9183 - val_loss: 0.4906 - val_acc: 0.7660 - lr: 1.3490e-04\n",
      "Epoch 89/100\n",
      "125/125 [==============================] - 180s 1s/step - loss: 0.0206 - acc: 0.9185 - val_loss: 0.5507 - val_acc: 0.7660 - lr: 1.3183e-04\n",
      "Epoch 90/100\n",
      "125/125 [==============================] - 180s 1s/step - loss: 0.0206 - acc: 0.9135 - val_loss: 0.4954 - val_acc: 0.7740 - lr: 1.2882e-04\n",
      "Epoch 91/100\n",
      "125/125 [==============================] - 180s 1s/step - loss: 0.0188 - acc: 0.9185 - val_loss: 0.5135 - val_acc: 0.7720 - lr: 1.2589e-04\n",
      "Epoch 92/100\n",
      "125/125 [==============================] - 180s 1s/step - loss: 0.0185 - acc: 0.9205 - val_loss: 0.4715 - val_acc: 0.7770 - lr: 1.2303e-04\n",
      "Epoch 93/100\n",
      "125/125 [==============================] - 180s 1s/step - loss: 0.0168 - acc: 0.9165 - val_loss: 0.4761 - val_acc: 0.7770 - lr: 1.2023e-04\n",
      "Epoch 94/100\n",
      "125/125 [==============================] - 180s 1s/step - loss: 0.0176 - acc: 0.9158 - val_loss: 0.4850 - val_acc: 0.7680 - lr: 1.1749e-04\n",
      "Epoch 95/100\n",
      "125/125 [==============================] - 180s 1s/step - loss: 0.0175 - acc: 0.9220 - val_loss: 0.5712 - val_acc: 0.7740 - lr: 1.1482e-04\n",
      "Epoch 96/100\n",
      "125/125 [==============================] - 180s 1s/step - loss: 0.0167 - acc: 0.9158 - val_loss: 0.5060 - val_acc: 0.7790 - lr: 1.1220e-04\n",
      "Epoch 97/100\n",
      "125/125 [==============================] - 180s 1s/step - loss: 0.0166 - acc: 0.9195 - val_loss: 0.4837 - val_acc: 0.7660 - lr: 1.0965e-04\n",
      "Epoch 98/100\n",
      "125/125 [==============================] - 180s 1s/step - loss: 0.0188 - acc: 0.9118 - val_loss: 0.5059 - val_acc: 0.7750 - lr: 1.0715e-04\n",
      "Epoch 99/100\n",
      "125/125 [==============================] - 180s 1s/step - loss: 0.0161 - acc: 0.9202 - val_loss: 0.5457 - val_acc: 0.7760 - lr: 1.0471e-04\n",
      "Epoch 100/100\n",
      "125/125 [==============================] - 180s 1s/step - loss: 0.0191 - acc: 0.9180 - val_loss: 0.5321 - val_acc: 0.7780 - lr: 1.0233e-04\n"
     ]
    }
   ],
   "source": [
    "model = model_arch()\n",
    "model, lr_sch = CompModel(model)\n",
    "\n",
    "history = model.fit(x_train[t5], y_train.values[t5],\n",
    "            epochs=100,\n",
    "            validation_data = (x_train[v5], y_train.values[v5]),\n",
    "            callbacks = [lr_sch],\n",
    "            verbose = 1)"
   ]
  },
  {
   "cell_type": "code",
   "execution_count": 8,
   "id": "c509b2dd",
   "metadata": {
    "execution": {
     "iopub.execute_input": "2023-11-07T21:34:26.156925Z",
     "iopub.status.busy": "2023-11-07T21:34:26.156489Z",
     "iopub.status.idle": "2023-11-07T21:34:26.433992Z",
     "shell.execute_reply": "2023-11-07T21:34:26.432971Z"
    },
    "papermill": {
     "duration": 1.974305,
     "end_time": "2023-11-07T21:34:26.436549",
     "exception": false,
     "start_time": "2023-11-07T21:34:24.462244",
     "status": "completed"
    },
    "tags": []
   },
   "outputs": [],
   "source": [
    "model.save('/kaggle/working/RP_ECGNet_Fold5.h5')"
   ]
  }
 ],
 "metadata": {
  "kernelspec": {
   "display_name": "Python 3",
   "language": "python",
   "name": "python3"
  },
  "language_info": {
   "codemirror_mode": {
    "name": "ipython",
    "version": 3
   },
   "file_extension": ".py",
   "mimetype": "text/x-python",
   "name": "python",
   "nbconvert_exporter": "python",
   "pygments_lexer": "ipython3",
   "version": "3.10.12"
  },
  "papermill": {
   "default_parameters": {},
   "duration": 19971.893004,
   "end_time": "2023-11-07T21:34:31.416375",
   "environment_variables": {},
   "exception": null,
   "input_path": "__notebook__.ipynb",
   "output_path": "__notebook__.ipynb",
   "parameters": {},
   "start_time": "2023-11-07T16:01:39.523371",
   "version": "2.4.0"
  }
 },
 "nbformat": 4,
 "nbformat_minor": 5
}
